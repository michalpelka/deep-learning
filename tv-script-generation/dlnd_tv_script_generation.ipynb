{
 "cells": [
  {
   "cell_type": "markdown",
   "metadata": {
    "deletable": true,
    "editable": true
   },
   "source": [
    "# TV Script Generation\n",
    "In this project, you'll generate your own [Simpsons](https://en.wikipedia.org/wiki/The_Simpsons) TV scripts using RNNs.  You'll be using part of the [Simpsons dataset](https://www.kaggle.com/wcukierski/the-simpsons-by-the-data) of scripts from 27 seasons.  The Neural Network you'll build will generate a new TV script for a scene at [Moe's Tavern](https://simpsonswiki.com/wiki/Moe's_Tavern).\n",
    "## Get the Data\n",
    "The data is already provided for you.  You'll be using a subset of the original dataset.  It consists of only the scenes in Moe's Tavern.  This doesn't include other versions of the tavern, like \"Moe's Cavern\", \"Flaming Moe's\", \"Uncle Moe's Family Feed-Bag\", etc.."
   ]
  },
  {
   "cell_type": "code",
   "execution_count": 1,
   "metadata": {
    "collapsed": false,
    "deletable": true,
    "editable": true
   },
   "outputs": [],
   "source": [
    "\"\"\"\n",
    "DON'T MODIFY ANYTHING IN THIS CELL\n",
    "\"\"\"\n",
    "import helper\n",
    "\n",
    "data_dir = './data/simpsons/moes_tavern_lines.txt'\n",
    "text = helper.load_data(data_dir)\n",
    "# Ignore notice, since we don't use it for analysing the data\n",
    "text = text[81:]"
   ]
  },
  {
   "cell_type": "markdown",
   "metadata": {
    "deletable": true,
    "editable": true
   },
   "source": [
    "## Explore the Data\n",
    "Play around with `view_sentence_range` to view different parts of the data."
   ]
  },
  {
   "cell_type": "code",
   "execution_count": 2,
   "metadata": {
    "collapsed": false,
    "deletable": true,
    "editable": true
   },
   "outputs": [
    {
     "name": "stdout",
     "output_type": "stream",
     "text": [
      "Dataset Stats\n",
      "Roughly the number of unique words: 11492\n",
      "Number of scenes: 262\n",
      "Average number of sentences in each scene: 15.248091603053435\n",
      "Number of lines: 4257\n",
      "Average number of words in each line: 11.50434578341555\n",
      "\n",
      "The sentences 0 to 10:\n",
      "Moe_Szyslak: (INTO PHONE) Moe's Tavern. Where the elite meet to drink.\n",
      "Bart_Simpson: Eh, yeah, hello, is Mike there? Last name, Rotch.\n",
      "Moe_Szyslak: (INTO PHONE) Hold on, I'll check. (TO BARFLIES) Mike Rotch. Mike Rotch. Hey, has anybody seen Mike Rotch, lately?\n",
      "Moe_Szyslak: (INTO PHONE) Listen you little puke. One of these days I'm gonna catch you, and I'm gonna carve my name on your back with an ice pick.\n",
      "Moe_Szyslak: What's the matter Homer? You're not your normal effervescent self.\n",
      "Homer_Simpson: I got my problems, Moe. Give me another one.\n",
      "Moe_Szyslak: Homer, hey, you should not drink to forget your problems.\n",
      "Barney_Gumble: Yeah, you should only drink to enhance your social skills.\n",
      "\n",
      "\n"
     ]
    }
   ],
   "source": [
    "view_sentence_range = (0, 10)\n",
    "\n",
    "\"\"\"\n",
    "DON'T MODIFY ANYTHING IN THIS CELL\n",
    "\"\"\"\n",
    "import numpy as np\n",
    "\n",
    "print('Dataset Stats')\n",
    "print('Roughly the number of unique words: {}'.format(len({word: None for word in text.split()})))\n",
    "scenes = text.split('\\n\\n')\n",
    "print('Number of scenes: {}'.format(len(scenes)))\n",
    "sentence_count_scene = [scene.count('\\n') for scene in scenes]\n",
    "print('Average number of sentences in each scene: {}'.format(np.average(sentence_count_scene)))\n",
    "\n",
    "sentences = [sentence for scene in scenes for sentence in scene.split('\\n')]\n",
    "print('Number of lines: {}'.format(len(sentences)))\n",
    "word_count_sentence = [len(sentence.split()) for sentence in sentences]\n",
    "print('Average number of words in each line: {}'.format(np.average(word_count_sentence)))\n",
    "\n",
    "print()\n",
    "print('The sentences {} to {}:'.format(*view_sentence_range))\n",
    "print('\\n'.join(text.split('\\n')[view_sentence_range[0]:view_sentence_range[1]]))"
   ]
  },
  {
   "cell_type": "markdown",
   "metadata": {
    "deletable": true,
    "editable": true
   },
   "source": [
    "## Implement Preprocessing Functions\n",
    "The first thing to do to any dataset is preprocessing.  Implement the following preprocessing functions below:\n",
    "- Lookup Table\n",
    "- Tokenize Punctuation\n",
    "\n",
    "### Lookup Table\n",
    "To create a word embedding, you first need to transform the words to ids.  In this function, create two dictionaries:\n",
    "- Dictionary to go from the words to an id, we'll call `vocab_to_int`\n",
    "- Dictionary to go from the id to word, we'll call `int_to_vocab`\n",
    "\n",
    "Return these dictionaries in the following tuple `(vocab_to_int, int_to_vocab)`"
   ]
  },
  {
   "cell_type": "code",
   "execution_count": 3,
   "metadata": {
    "collapsed": false,
    "deletable": true,
    "editable": true
   },
   "outputs": [
    {
     "name": "stdout",
     "output_type": "stream",
     "text": [
      "Counter({'moe_szyslak': 5, 'rotch': 4, 'mike': 4, 'you': 4, 'your': 4, 'to': 3, 'drink': 3, 'yeah': 2, 'homer': 2, 'name': 2, 'hey': 2, 'one': 2, 'not': 2, 'the': 2, 'gonna': 2, 'my': 2, 'should': 2, 'problems': 2, 'on': 2, \"i'm\": 2, 'an': 1, 'moe': 1, 'effervescent': 1, 'barney_gumble': 1, 'last': 1, 'normal': 1, 'back': 1, \"moe's\": 1, 'meet': 1, 'only': 1, 'homer_simpson': 1, 'i': 1, 'hold': 1, 'bart_simpson': 1, 'me': 1, 'these': 1, 'whats': 1, 'self': 1, 'days': 1, 'is': 1, 'forget': 1, 'and': 1, 'eh': 1, \"you're\": 1, 'has': 1, 'pick': 1, 'elite': 1, 'anybody': 1, 'another': 1, 'there': 1, 'seen': 1, 'got': 1, 'carve': 1, 'listen': 1, 'puke': 1, 'hello': 1, \"i'll\": 1, 'ice': 1, 'of': 1, 'matter': 1, 'where': 1, 'skills': 1, 'lately': 1, 'little': 1, 'check': 1, 'enhance': 1, 'give': 1, 'with': 1, 'catch': 1, 'social': 1, 'tavern': 1})\n",
      "Tests Passed\n"
     ]
    }
   ],
   "source": [
    "import numpy as np\n",
    "from collections import Counter\n",
    "import problem_unittests as tests\n",
    "\n",
    "def create_lookup_tables(text):\n",
    "    \"\"\"\n",
    "    Create lookup tables for vocabulary\n",
    "    :param text: The text of tv scripts split into words\n",
    "    :return: A tuple of dicts (vocab_to_int, int_to_vocab)  \n",
    "    \"\"\"\n",
    "    c = Counter (text)\n",
    "    print (c)\n",
    "    vocab_to_int = {}\n",
    "    int_to_vocab = {}\n",
    "    for i, w in enumerate(c):\n",
    "        vocab_to_int[w] = i\n",
    "        int_to_vocab[i] = w\n",
    "    # TODO: Implement Function\n",
    "    return (vocab_to_int, int_to_vocab)\n",
    "\n",
    "\n",
    "\"\"\"\n",
    "DON'T MODIFY ANYTHING IN THIS CELL THAT IS BELOW THIS LINE\n",
    "\"\"\"\n",
    "tests.test_create_lookup_tables(create_lookup_tables)"
   ]
  },
  {
   "cell_type": "markdown",
   "metadata": {
    "deletable": true,
    "editable": true
   },
   "source": [
    "### Tokenize Punctuation\n",
    "We'll be splitting the script into a word array using spaces as delimiters.  However, punctuations like periods and exclamation marks make it hard for the neural network to distinguish between the word \"bye\" and \"bye!\".\n",
    "\n",
    "Implement the function `token_lookup` to return a dict that will be used to tokenize symbols like \"!\" into \"||Exclamation_Mark||\".  Create a dictionary for the following symbols where the symbol is the key and value is the token:\n",
    "- Period ( . )\n",
    "- Comma ( , )\n",
    "- Quotation Mark ( \" )\n",
    "- Semicolon ( ; )\n",
    "- Exclamation mark ( ! )\n",
    "- Question mark ( ? )\n",
    "- Left Parentheses ( ( )\n",
    "- Right Parentheses ( ) )\n",
    "- Dash ( -- )\n",
    "- Return ( \\n )\n",
    "\n",
    "This dictionary will be used to token the symbols and add the delimiter (space) around it.  This separates the symbols as it's own word, making it easier for the neural network to predict on the next word. Make sure you don't use a token that could be confused as a word. Instead of using the token \"dash\", try using something like \"||dash||\"."
   ]
  },
  {
   "cell_type": "code",
   "execution_count": 4,
   "metadata": {
    "collapsed": false,
    "deletable": true,
    "editable": true
   },
   "outputs": [
    {
     "name": "stdout",
     "output_type": "stream",
     "text": [
      "Tests Passed\n"
     ]
    }
   ],
   "source": [
    "def token_lookup():\n",
    "    \"\"\"\n",
    "    Generate a dict to turn punctuation into a token.\n",
    "    :return: Tokenize dictionary where the key is the punctuation and the value is the token\n",
    "    \"\"\"\n",
    "    d = {}\n",
    "    d['.']=\"||Period||\"\n",
    "    d[',']=\"||Comma||\"\n",
    "    d['\"']=\"||QuotationMark||\"\n",
    "    d[';']=\"||Semicolon||\"\n",
    "    d['!']=\"||ExclamationMark||\"\n",
    "    d['(']=\"||LeftParentheses||\"\n",
    "    d[')']=\"||RightParentheses||\"\n",
    "    d['--']=\"||Dash||\"\n",
    "    d['\\n']=\"||Return||\"\n",
    "    d['?']=\"||Questionmark||\"\n",
    "    \n",
    "    \n",
    "    \n",
    "    # TODO: Implement Function\n",
    "    return d\n",
    "\n",
    "\"\"\"\n",
    "DON'T MODIFY ANYTHING IN THIS CELL THAT IS BELOW THIS LINE\n",
    "\"\"\"\n",
    "tests.test_tokenize(token_lookup)"
   ]
  },
  {
   "cell_type": "markdown",
   "metadata": {
    "deletable": true,
    "editable": true
   },
   "source": [
    "## Preprocess all the data and save it\n",
    "Running the code cell below will preprocess all the data and save it to file."
   ]
  },
  {
   "cell_type": "code",
   "execution_count": 5,
   "metadata": {
    "collapsed": false,
    "deletable": true,
    "editable": true
   },
   "outputs": [
    {
     "name": "stdout",
     "output_type": "stream",
     "text": [
      "Counter({'||period||': 6024, '||return||': 4517, '||comma||': 3574, '||leftparentheses||': 1550, '||rightparentheses||': 1549, 'the': 1302, 'i': 1275, 'you': 1251, '||exclamationmark||': 1242, 'moe_szyslak:': 1180, '||questionmark||': 1100, 'a': 1059, 'homer_simpson:': 975, 'to': 938, 'and': 631, 'of': 488, 'my': 474, 'it': 465, 'that': 441, 'in': 432, '||quotationmark||': 418, 'me': 412, 'is': 376, 'this': 373, \"i'm\": 334, 'for': 327, 'your': 324, 'homer': 307, 'on': 289, 'hey': 289, 'moe': 273, 'oh': 272, 'no': 261, 'lenny_leonard:': 247, 'what': 246, 'with': 235, 'yeah': 233, 'all': 231, 'just': 218, 'like': 214, 'but': 213, 'barney_gumble:': 207, 'so': 205, 'be': 204, 'here': 196, 'carl_carlson:': 194, \"don't\": 193, 'have': 192, 'up': 188, \"it's\": 188, 'well': 186, 'out': 185, 'do': 180, 'was': 179, 'got': 176, 'are': 175, 'get': 175, 'we': 172, 'uh': 168, \"that's\": 168, 'one': 164, \"you're\": 158, 'not': 156, 'now': 156, 'can': 155, 'know': 155, '||dash||': 151, 'at': 145, 'right': 144, '/': 135, 'how': 132, 'if': 125, 'back': 119, 'marge_simpson:': 117, 'about': 115, 'from': 112, 'he': 112, 'go': 110, 'gonna': 107, 'they': 105, 'there': 105, 'beer': 100, 'good': 98, 'who': 97, 'an': 94, 'man': 93, 'okay': 91, 'his': 90, 'little': 90, 'as': 89, 'some': 88, \"can't\": 87, 'then': 87, 'never': 85, 'come': 84, 'think': 84, \"i'll\": 84, 'could': 83, 'him': 81, \"i've\": 81, 'see': 80, 'really': 80, 'look': 80, 'want': 80, 'too': 79, 'guys': 78, 'been': 78, 'when': 77, 'make': 77, 'why': 76, 'ya': 75, 'bar': 75, 'her': 74, 'did': 73, 'say': 72, 'time': 72, 'ah': 71, 'marge': 71, 'gotta': 71, 'or': 71, 'take': 70, 'love': 68, 'down': 68, 'into': 68, 'more': 67, 'our': 65, 'off': 64, 'am': 64, 'guy': 63, 'sure': 62, 'two': 60, 'barney': 60, \"there's\": 59, 'thing': 58, 'would': 57, 'lisa_simpson:': 57, \"we're\": 56, 'tell': 55, 'big': 55, 'let': 55, \"he's\": 55, 'had': 55, 'where': 55, 'need': 55, 'money': 54, 'drink': 53, \"what's\": 53, 'over': 53, 'sorry': 53, 'bart_simpson:': 53, 'something': 53, 'us': 53, 'by': 51, 'ever': 51, 'only': 51, 'day': 50, 'way': 50, 'will': 50, 'wait': 49, 'chief_wiggum:': 48, 'she': 48, 'give': 47, 'even': 47, 'new': 46, 'god': 46, 'huh': 46, \"i'd\": 46, 'those': 45, \"didn't\": 45, \"ain't\": 45, 'great': 44, 'people': 44, 'life': 42, 'has': 42, 'phone': 42, 'lenny': 42, 'were': 42, 'maybe': 42, \"moe's\": 42, 'much': 42, 'eh': 42, 'than': 41, 'going': 41, 'mean': 41, 'place': 40, 'still': 39, \"you've\": 39, 'better': 39, 'wanna': 39, 'mr': 39, 'around': 39, 'should': 39, 'these': 39, 'old': 38, 'help': 38, 'friend': 38, \"'em\": 38, 'home': 38, 'name': 37, 'night': 37, 'noise': 37, 'before': 37, 'please': 37, 'whoa': 36, 'seymour_skinner:': 36, 'tv': 36, 'last': 36, 'aw': 36, 'made': 35, 'any': 35, 'boy': 35, 'face': 35, 'hello': 34, \"'cause\": 34, 'three': 34, 'thanks': 34, 'duff': 34, 'call': 34, 'put': 34, 'drunk': 34, 'listen': 33, 'looking': 33, 'their': 33, 'again': 33, 'bad': 33, 'car': 33, \"let's\": 32, 'first': 32, 'very': 32, 'best': 32, 'wow': 31, 'does': 31, 'yes': 31, 'them': 30, 'every': 30, 'while': 30, 'another': 30, 'said': 30, 'ooh': 30, 'kent_brockman:': 30, 'looks': 30, 'apu_nahasapeemapetilon:': 29, 'work': 29, 'wife': 29, 'other': 29, 'guess': 29, 'sweet': 28, 'feel': 28, \"won't\": 28, 'singing': 28, 'dad': 28, 'springfield': 28, 'play': 28, 'tonight': 28, 'years': 28, 'after': 27, 'sobs': 27, 'everybody': 27, 'dr': 27, 'voice': 27, \"they're\": 27, 'find': 27, 'thought': 27, 'things': 26, 'kids': 26, 'might': 26, 'buy': 26, 'keep': 25, 'head': 25, 'world': 25, 'show': 25, 'minute': 25, 'nice': 25, 'happy': 25, 'shut': 25, 'because': 25, 'check': 25, 'since': 25, 'girl': 25, 'beat': 25, 'lisa': 24, 'bart': 24, 'always': 24, \"who's\": 24, 'sighs': 24, 'chuckle': 24, 'friends': 24, 'sings': 24, 'use': 24, 'ow': 23, 'c': 23, 'carl': 23, 'someone': 23, 'stupid': 23, \"isn't\": 23, \"you'll\": 23, 'kid': 23, 'krusty_the_clown:': 23, 'which': 23, 'lot': 22, 'laugh': 22, 'anything': 22, 'remember': 22, 'hundred': 22, \"here's\": 22, 'seen': 22, 'talk': 22, 'hell': 21, 'chuckles': 21, 'next': 21, 'through': 21, 'simpson': 21, 'job': 21, 'laughs': 21, 'thank': 21, 'glass': 21, 'hear': 20, 'says': 20, 'lost': 20, 'away': 20, 'hope': 20, 'house': 20, 'happened': 20, 'matter': 20, 'outta': 20, 'kind': 20, 'believe': 20, 'long': 20, \"nothin'\": 20, 'pretty': 20, 'woman': 20, 'five': 20, \"c'mon\": 19, 'tavern': 19, 'fat': 19, 'comes': 19, 'turn': 19, 'four': 19, 'stop': 19, 'once': 19, 'wish': 19, 'nervous': 19, 'family': 19, \"homer's\": 19, 'real': 19, 'waylon_smithers:': 19, 'ned_flanders:': 19, '_montgomery_burns:': 19, 'book': 19, 'actually': 18, \"goin'\": 18, 'game': 18, 'wants': 18, 'ask': 18, 'idea': 18, 'grampa_simpson:': 18, 'business': 18, 'myself': 18, 'wrong': 18, \"doin'\": 18, 'party': 17, 'town': 17, 'used': 17, 'getting': 17, 'loud': 17, \"comin'\": 17, \"wouldn't\": 17, 'today': 17, 'nobody': 17, 'must': 17, 'done': 17, 'burns': 17, 'everything': 17, 'problem': 17, \"we've\": 17, 'enough': 17, 'duffman:': 17, \"she's\": 17, 'many': 17, 'watch': 16, 'sound': 16, 'hold': 16, 'took': 16, 'nah': 16, 'maggie': 16, 'free': 16, 'gee': 16, 'true': 16, 'um': 16, 'bucks': 16, 'doing': 16, 'sounds': 16, 'dollars': 16, 'reading': 16, 'woo': 16, 'try': 16, 'na': 16, 'thinking': 16, 'under': 15, \"where's\": 15, 'being': 15, 'canyonero': 15, 'care': 15, 'kemi:': 15, 'daughter': 15, 'baby': 15, 'gimme': 15, 'pay': 15, 'makes': 15, 'stuff': 15, 'kill': 15, 'edna': 15, 'sell': 15, 'everyone': 15, 'chief': 15, 'excuse': 15, 'wanted': 15, 'secret': 15, 'most': 15, 'leave': 15, 'pants': 15, 'yourself': 15, 'beautiful': 15, 'tough': 14, 'dead': 14, 'mouth': 14, 'points': 14, 'knew': 14, \"you'd\": 14, 'tipsy': 14, 'pick': 14, 'dinner': 14, 'left': 14, 'worry': 14, 'quickly': 14, 'went': 14, 'save': 14, 'sad': 14, 'pal': 14, 'hurt': 14, 'smithers': 14, 'own': 14, 'told': 13, 'hate': 13, 'dog': 13, 'quit': 13, 'win': 13, 'till': 13, 'school': 13, 'camera': 13, 'saw': 13, 'funny': 13, 'hi': 13, 'heard': 13, 'skinner': 13, 'break': 13, 'booze': 13, 'drinking': 13, 'came': 13, 'ladies': 13, 'tomorrow': 13, 'sign': 13, 'feeling': 13, 'excited': 13, 'hoo': 13, 'die': 13, 'gave': 13, 'fine': 13, 'eyes': 13, 'gets': 13, 'flaming': 12, 'sir': 12, 'eat': 12, 'anyone': 12, 'forget': 12, 'mad': 12, 'kinda': 12, 'loves': 12, 'noises': 12, 'drive': 12, 'million': 12, 'room': 12, 'burn': 12, 'read': 12, 'without': 12, 'nuts': 12, 'cash': 12, 'barflies:': 12, 'gone': 12, 'hands': 12, \"couldn't\": 12, 'mom': 12, 'surprised': 12, 'seven': 12, 'alcohol': 12, 'loser': 12, 'jacques:': 12, 'gasp': 12, 'kirk_van_houten:': 12, 'easy': 12, 'date': 12, 'krusty': 12, \"aren't\": 12, 'fight': 12, 'clean': 12, 'hand': 12, 'twenty': 12, 'super': 12, 'small': 12, 'fire': 12, 'bring': 12, 'calling': 12, 'artie_ziff:': 12, \"talkin'\": 11, 'called': 11, 'meet': 11, 'high': 11, 'bartender': 11, \"we'll\": 11, \"y'know\": 11, 'low': 11, 'problems': 11, 'trouble': 11, 'behind': 11, 'already': 11, \"somethin'\": 11, 'geez': 11, 'upset': 11, 'course': 11, 'gentlemen': 11, \"haven't\": 11, \"doesn't\": 11, \"drinkin'\": 11, 'door': 11, 'dear': 11, 'chance': 11, 'tape': 11, \"wasn't\": 11, 'cut': 11, 'six': 11, 'seymour': 11, \"lookin'\": 11, 'happen': 11, 'sadly': 11, 'professor_jonathan_frink:': 11, 'each': 11, 'coming': 11, 'anyway': 11, 'turns': 11, 'learn': 10, 'machine': 10, 'quiet': 10, 'throat': 10, 'steal': 10, 'whatever': 10, 'snake_jailbird:': 10, 'watching': 10, 'song': 10, 'bottle': 10, 'fun': 10, 'moan': 10, 'stand': 10, 'live': 10, 'self': 10, 'lady': 10, 'crazy': 10, 'hot': 10, 'wiggum': 10, 'worried': 10, 'worse': 10, 'keys': 10, 'whole': 10, 'straight': 10, 'dump': 10, 'realizing': 10, 'disgusted': 10, 'works': 10, 'sigh': 10, 'larry:': 10, 'bar_rag:': 10, ':': 10, 'outside': 10, 'war': 10, 'blame': 10, 'hours': 10, 'stay': 10, 'start': 10, 'least': 10, 'talking': 10, \"gettin'\": 10, 'change': 10, 'sing': 10, 'heart': 10, 'trying': 10, 'end': 10, 'mmmm': 10, 'close': 10, 'm': 10, \"it'll\": 10, 'spend': 10, 'eye': 10, 'ugly': 10, 'the_rich_texan:': 10, 'uh-oh': 10, 'stick': 9, 'delete': 9, 'butt': 9, \"'bout\": 9, 'girls': 9, 'tsk': 9, 'police': 9, 'barflies': 9, 'perfect': 9, 'apu': 9, 'thinks': 9, 'private': 9, 'crowd:': 9, 'person': 9, 'pull': 9, 'times': 9, 'morning': 9, 'soon': 9, 'may': 9, 'whip': 9, 'late': 9, 'front': 9, 'bowl': 9, 'special': 9, 'marriage': 9, 'alive': 9, 'either': 9, 'far': 9, 'gasps': 9, 'joe': 9, 'bit': 9, 'greatest': 9, 'ma': 9, 'heh': 9, 'poor': 9, 'else': 9, \"shouldn't\": 9, 'second': 9, 'playing': 9, 'blue': 9, 'lousy': 9, 'light': 9, 'ten': 9, 'less': 9, 'air': 9, 'drinks': 9, 'goodbye': 9, 'such': 9, 'point': 9, 'anymore': 9, 'learned': 9, 'mother': 9, 'probably': 9, 'shocked': 9, 'thousand': 9, 'turned': 9, 'annoyed': 9, 'married': 9, 'young': 9, 'year': 9, 'beers': 8, 'couple': 8, 'mayor_joe_quimby:': 8, 'instead': 8, 'join': 8, 'uh-huh': 8, 'cool': 8, 'boxing': 8, 'throw': 8, 'boys': 8, 'duffman': 8, 'shotgun': 8, 'minutes': 8, 'exactly': 8, 'walk': 8, 'knows': 8, 'barn': 8, 'serious': 8, 'angry': 8, 'found': 8, 'fifty': 8, 'agnes_skinner:': 8, 'king': 8, 'anybody': 8, 'box': 8, 'alone': 8, 'patty_bouvier:': 8, 'goes': 8, 'arm': 8, 'blood': 8, 'rev': 8, 'jacques': 8, 'later': 8, 'lucky': 8, 'ticket': 8, 'yet': 8, 'tab': 8, 'feet': 8, 'president': 8, 'lemme': 8, 'american': 8, 'card': 8, 'shot': 8, 'ass': 8, 'nothing': 8, 'open': 8, 'goodnight': 8, 'nods': 8, 'smell': 8, 'mind': 8, 'both': 8, 'buddy': 8, 'miss': 8, 'kick': 8, 'picture': 8, 'store': 8, 'taking': 8, \"how'd\": 8, 'christmas': 8, 'pig': 8, 'eight': 8, 'moron': 8, 'turning': 8, 'letter': 8, 'youse': 8, 'top': 7, 'warm_female_voice:': 7, 'tap': 7, 'pour': 7, 'renee:': 7, 'moans': 7, 'kiss': 7, 'lucius:': 7, 'hmm': 7, 'amazed': 7, 'himself': 7, 'deal': 7, 'horrible': 7, 'proudly': 7, 'welcome': 7, 'hide': 7, 'glad': 7, 'nine': 7, 'making': 7, 'broke': 7, 'dry': 7, 'friendly': 7, 'full': 7, 'cold': 7, 'street': 7, 'paint': 7, 'finally': 7, 'peanuts': 7, 'ned': 7, 'sitting': 7, 'alright': 7, 'seat': 7, 'eggs': 7, 'saying': 7, 'comic_book_guy:': 7, 'fellas': 7, 'somebody': 7, 'mrs': 7, 'dance': 7, 'city': 7, 'huge': 7, 'inside': 7, \"ol'\": 7, 'ready': 7, 'wire': 7, 'table': 7, 'walking': 7, 'collette:': 7, 'number': 7, 'move': 7, 'telling': 7, 'losers': 7, 'butts': 7, 'news': 7, 'la': 7, 'weird': 7, 'rummy': 7, 'screw': 7, 'return': 7, 'japanese': 7, 'words': 7, 'advice': 7, 'using': 7, 'forever': 7, 'black': 7, 'grampa': 7, 'days': 7, 'warmly': 7, 'etc': 7, 'channel': 7, 'glove': 7, 'accident': 7, 'smile': 7, 'intrigued': 7, 'round': 7, 'send': 7, 'sotto': 7, 'homie': 7, \"makin'\": 7, 'happier': 7, 'plant': 7, 'though': 7, 'plus': 7, 'human': 7, 'run': 7, 'favorite': 7, 'fast': 7, 'damn': 7, 'son': 7, \"kiddin'\": 7, 's': 7, '||semicolon||': 7, 'seems': 7, 'ball': 7, 'narrator:': 7, 'scared': 7, 'o': 7, 'food': 7, 'crap': 7, 'terrible': 7, 'together': 7, 'means': 7, 'ha': 7, 'story': 7, 'afraid': 7, 'word': 7, 'young_marge:': 7, 'hang': 7, 'ahh': 7, 'english': 7, 'selma_bouvier:': 7, \"he'll\": 7, 'romantic': 6, \"we'd\": 6, 'tip': 6, 'water': 6, 'rat': 6, 'baseball': 6, 'class': 6, 'supposed': 6, 'nigel_bakerbutcher:': 6, 'lowers': 6, 'company': 6, 'sips': 6, 'tinkle': 6, 'power': 6, 'pass': 6, 'touched': 6, 'desperate': 6, 'bag': 6, 'smells': 6, 'across': 6, 'state': 6, 'denver': 6, 'jukebox': 6, 'takes': 6, 'holds': 6, 'loved': 6, 'health_inspector:': 6, 'ones': 6, 'omigod': 6, 'milk': 6, 'worst': 6, 'music': 6, \"that'll\": 6, 'truth': 6, 'plan': 6, 'mister': 6, 'gumbel': 6, 'walther_hotenhoffer:': 6, 'safe': 6, 'eating': 6, 'laughing': 6, 'principal': 6, 'early': 6, 'strong': 6, 'brought': 6, 'joey': 6, 'birthday': 6, 'plastic': 6, 'flanders': 6, 'admit': 6, 'gives': 6, \"sayin'\": 6, 'treasure': 6, 'fat_tony:': 6, 'seconds': 6, 'health': 6, 'stool': 6, 'dumb': 6, 'gold': 6, 'szyslak': 6, 'normal': 6, 'slow': 6, 'except': 6, 'star': 6, 'set': 6, 'became': 6, 'charge': 6, 'al': 6, 'crack': 6, 'kent': 6, 'bow': 6, 'group': 6, 'impressed': 6, 'dunno': 6, 'men': 6, 'lying': 6, 'lives': 6, 'dangerous': 6, 'harv:': 6, 'shall': 6, 'sent': 6, 'lou:': 6, 'holding': 6, 'numbers': 6, 'along': 6, 'week': 6, 'ice': 6, 'tune': 6, 'uncle': 6, '_julius_hibbert:': 6, 'forgot': 6, 'honest': 6, 'honey': 6, 'bitter': 6, 'sex': 6, 'hard': 6, 'same': 6, 'fill': 6, 'young_homer:': 6, 'manjula_nahasapeemapetilon:': 6, 'fall': 6, 'write': 6, 'maya:': 6, 'won': 6, 'football_announcer:': 6, 'hank_williams_jr': 6, 'hit': 6, 'thirty': 6, 'heaven': 6, 'sick': 6, 'slap': 6, 'belch': 6, 'half': 6, 'giving': 6, 'tony': 6, 'quick': 6, 'invented': 6, 'hair': 6, 'bet': 6, 'princess': 6, 'window': 5, 'cost': 5, 'puzzled': 5, 'wine': 5, 'hopeful': 5, 'nineteen': 5, 'ad': 5, 'wha': 5, '_zander:': 5, 'survive': 5, 'cow': 5, 'jerks': 5, 'tongue': 5, 'sober': 5, 'wrote': 5, 'totally': 5, 'children': 5, 'pipe': 5, 'sharps': 5, 'strap': 5, 'suicide': 5, 'brockman': 5, 'until': 5, 'lessons': 5, 'lord': 5, 'offended': 5, 'artie': 5, \"he'd\": 5, 'surgery': 5, 'women': 5, 'cleaned': 5, \"world's\": 5, 'dank': 5, 'cutting': 5, 'third': 5, 'duh': 5, 'ashamed': 5, 'none': 5, 'jar': 5, 'filthy': 5, 'confused': 5, 'clear': 5, 'luck': 5, 'favor': 5, 'man:': 5, 'joint': 5, 'bed': 5, 'hated': 5, 'movie': 5, 'bee': 5, 'fish': 5, 'billy_the_kid:': 5, 'ago': 5, 'owe': 5, 'suddenly': 5, 'america': 5, 'african': 5, 'felt': 5, 'boring': 5, 'broad': 5, 'mike': 5, 'mayor': 5, 'beach': 5, 'local': 5, 'french': 5, 'chug': 5, 'deer': 5, 'hanging': 5, 'grand': 5, 'rest': 5, 'cop': 5, 'exasperated': 5, 'wheel': 5, 'beloved': 5, 'running': 5, 'i-i': 5, \"tellin'\": 5, 'calm': 5, 'closed': 5, 'sunday': 5, 'government': 5, 'truck': 5, 'driving': 5, 'shirt': 5, 'fingers': 5, 'p': 5, 'fellow': 5, 'testing': 5, 'wall': 5, 'tired': 5, 'dallas': 5, \"i'm-so-stupid\": 5, 'x': 5, 'swear': 5, 'horrified': 5, 'service': 5, 'wallet': 5, 'part': 5, 'evening': 5, '_hooper:': 5, 'against': 5, 'isotopes': 5, 'red': 5, 'coaster': 5, 'jeez': 5, 'longer': 5, 'nein': 5, 'glasses': 5, 'empty': 5, 'act': 5, 'needs': 5, 'represent': 5, 'cheer': 5, 'pool': 5, \"smokin'_joe_frazier:\": 5, 'club': 5, \"drivin'\": 5, \"sittin'\": 5, 'wonderful': 5, 'doubt': 5, 'dude': 5, 'all:': 5, 'yea': 5, 'saved': 5, 'unless': 5, 'short': 5, 'little_man:': 5, 'stunned': 5, 'clown': 5, 'park': 5, 'tv_wife:': 5, 'biggest': 5, 'piece': 5, 'gay': 5, 'speak': 5, 'games': 5, 'customers': 5, 'treat': 5, 'stories': 5, 'pity': 5, 'given': 5, 'thumb': 5, 'nuclear': 5, 'side': 5, 'names': 5, \"how's\": 5, 'mouse': 5, 'mine': 5, 'rope': 5, 'center': 5, 'writing': 5, 'edna_krabappel-flanders:': 5, 'bank': 5, 'yep': 5, \"callin'\": 5, 'proud': 5, 'daddy': 5, 'disappointed': 5, 'catch': 5, 'troll': 5, 'accent': 5, 'hospital': 5, 'punch': 5, 'speech': 5, 'college': 5, 'pop': 5, 'glen:': 5, 'lose': 5, \"lisa's\": 5, \"one's\": 5, 'dame': 5, 'handsome': 5, 'asked': 5, 'jack': 5, 'suit': 5, 'sauce': 5, 'lloyd:': 5, 'bender:': 5, 'soul': 5, 'designated': 5, \"tryin'\": 5, 'absolutely': 5, 'clears': 5, 'dying': 5, 'having': 5, 'adult_bart:': 5, 'drederick': 5, 'few': 5, 'counting': 5, 'wonder': 5, 'chanting': 5, \"workin'\": 5, 'shaking': 5, 'sob': 5, 'named': 5, 'caught': 5, 'announcer:': 5, 'during': 5, 'also': 5, 'tv_husband:': 5, 'changing': 5, 'selma': 5, 'tree': 5, 'brilliant': 5, 'speaking': 5, 'invited': 5, 'quietly': 5, \"guy's\": 5, 'detective_homer_simpson:': 5, 'clearly': 4, 'stock': 4, 'babies': 4, 'foibles': 4, 'yesterday': 4, 'snake': 4, 'respect': 4, 'embarrassed': 4, 'test': 4, 'couch': 4, 'pickle': 4, 'knock': 4, 'quite': 4, 'sold': 4, 'france': 4, 'tatum': 4, 'professional': 4, 'chick': 4, 'flips': 4, 'career': 4, 'books': 4, 'arrest': 4, 'breath': 4, 'teenage_barney:': 4, 'dan_gillick:': 4, 'yard': 4, 'whisper': 4, 'selling': 4, 'bye': 4, 'tom': 4, 'video': 4, 'woman:': 4, 'billboard': 4, 'follow': 4, 'stirring': 4, 'meaningful': 4, 'belches': 4, 'coat': 4, 'train': 4, 'rather': 4, 'fifteen': 4, 'started': 4, 'band': 4, 'ourselves': 4, \"carl's\": 4, 'egg': 4, 'lotta': 4, 'pain': 4, \"livin'\": 4, 'dang': 4, 'situation': 4, 'explaining': 4, 'blow': 4, 'market': 4, 'declan_desmond:': 4, 'kidding': 4, 'bald': 4, 'understand': 4, 'smiling': 4, \"buyin'\": 4, 'sees': 4, 'stillwater:': 4, 'grim': 4, 'yap': 4, 'senators': 4, 'address': 4, 'ahead': 4, 'adeleine': 4, 'distraught': 4, 'original': 4, 'sobbing': 4, 'ride': 4, 'awkward': 4, 'polite': 4, 'mug': 4, 'burt': 4, 'dennis_conroy:': 4, 'bottom': 4, 'upbeat': 4, 'vance': 4, 'castle': 4, 'drug': 4, 'bill': 4, 'gas': 4, 'pulls': 4, \"watchin'\": 4, 'case': 4, 'enjoy': 4, 'character': 4, 'whaddaya': 4, 'calls': 4, 'chocolate': 4, 'frustrated': 4, 'championship': 4, 'body': 4, 'sense': 4, 'sports': 4, 'sit': 4, 'field': 4, 'liver': 4, 'garbage': 4, 'eddie:': 4, 'pipes': 4, 'able': 4, 'flowers': 4, 'moment': 4, 'jerk': 4, 'different': 4, 'buttons': 4, 'nose': 4, 'correct': 4, 'pulled': 4, 'dollar': 4, 'hans:': 4, 'pickled': 4, \"valentine's\": 4, 'cable': 4, 'scream': 4, 'finger': 4, 'ooo': 4, 'hugh:': 4, 'restaurant': 4, \"what'll\": 4, 'sits': 4, 'question': 4, 'plow': 4, 'usually': 4, 'hm': 4, 'illegal': 4, 'furious': 4, 'radishes': 4, \"o'problem\": 4, 'yellow': 4, 'fbi': 4, 'hoping': 4, 'hungry': 4, 'sheepish': 4, 'trip': 4, 'father': 4, 'therapy': 4, 'months': 4, 'weekly': 4, 'meeting': 4, \"everyone's\": 4, 'needed': 4, 'hurry': 4, 'loaded': 4, 'line': 4, 'hits': 4, 'secrets': 4, 'south': 4, 'opportunity': 4, 'milhouse_van_houten:': 4, 'twelve': 4, 'sarcastic': 4, 'pub': 4, 'bars': 4, 'island': 4, 'drivers': 4, 'david_byrne:': 4, 'renee': 4, \"bein'\": 4, 'teenage_bart:': 4, 'deep': 4, 'amid': 4, 'almost': 4, 'clothes': 4, 'threw': 4, 'especially': 4, 'died': 4, 'teach': 4, 'precious': 4, 'minimum': 4, 'senator': 4, 'à': 4, 'new_health_inspector:': 4, 'wally:': 4, 'legs': 4, 'rotch': 4, 'beauty': 4, 'whee': 4, 'whiny': 4, 'smooth': 4, 'wear': 4, 'boat': 4, 'choice': 4, 'spot': 4, 'lips': 4, 'gin': 4, \"today's\": 4, 'cares': 4, 'sincere': 4, 'seem': 4, 'cover': 4, 'pitcher': 4, 'finding': 4, 'agent': 4, \"dad's\": 4, \"they've\": 4, 'answer': 4, 'bees': 4, 'guns': 4, 'buffalo': 4, 'procedure': 4, 'lie': 4, 'monster': 4, 'domestic': 4, 're:': 4, 'cries': 4, 'magic': 4, 'closing': 4, 'fix': 4, 'working': 4, 'pit': 4, 'fridge': 4, 'flower': 4, 'heavyweight': 4, 'stagy': 4, 'pointed': 4, 'movies': 4, 'girlfriend': 4, 'huggenkiss': 4, 'sexy': 4, 'sly': 4, 'hero': 4, 'husband': 4, \"moe's_thoughts:\": 4, 'busy': 4, 'thoughtful': 4, 'ingredient': 4, 'twins': 4, 'ominous': 4, \"o'clock\": 4, 'ivana': 4, 'starts': 4, 'offer': 4, 'forty': 4, 'amazing': 4, 'raises': 4, 'sister': 4, 'computer': 4, 'match': 4, 'neck': 4, 'folks': 4, 'tail': 4, 'ruined': 4, 'fan': 4, 'u': 4, 'road': 4, 'figured': 4, 'rob': 4, 'rag': 4, 'eleven': 4, 'shows': 4, 'brain': 4, 'rich': 4, 'amanda': 4, 'pleased': 4, 'forget-me-shot': 4, 'dramatic': 4, 'partner': 4, \"who'll\": 4, 'keeps': 4, 'feels': 4, 'burp': 4, 'betty:': 4, 'arms': 4, 'gotten': 4, 'ken:': 4, 'burps': 4, 'darts': 3, 'moved': 3, 'saturday': 3, 'diet': 3, 'mel': 3, 'literature': 3, 'crawl': 3, 'kwik-e-mart': 3, 'rough': 3, 'chest': 3, 'andy': 3, \"wife's\": 3, 'walks': 3, \"men's\": 3, 'snaps': 3, 'despite': 3, 'spit': 3, 'mechanical': 3, 'pause': 3, 'grow': 3, \"bart's\": 3, 'image': 3, 'seeing': 3, 'idiot': 3, 'subject': 3, 'understanding': 3, 'register': 3, 'list': 3, 'bought': 3, 'tastes': 3, 'nards': 3, 'frink': 3, 'reason': 3, 'drunks': 3, 'leg': 3, 'bret:': 3, 'terrified': 3, 'british': 3, 'paying': 3, 'fritz:': 3, 'spanish': 3, 'double': 3, 'troy:': 3, 'wooooo': 3, 'scene': 3, 'theater': 3, 'lottery': 3, 'kermit': 3, 'rid': 3, 'history': 3, \"kids'\": 3, '_babcock:': 3, 'driver': 3, 'fair': 3, 'indignant': 3, 'wipe': 3, 'trust': 3, 'stools': 3, 'hole': 3, 'stole': 3, 'vegas': 3, 'hour': 3, 'religion': 3, 'sadistic_barfly:': 3, 'switch': 3, 'extra': 3, 'odd': 3, 'customer': 3, 'looked': 3, 'fact': 3, 'sec_agent_#1:': 3, 'powerful': 3, 'weak': 3, 'afford': 3, 'chinese': 3, 'directions': 3, 'slip': 3, 'oil': 3, 'shove': 3, 'sec': 3, 'singers:': 3, 'tells': 3, 'burning': 3, 'born': 3, 'attention': 3, 'brother': 3, 'age': 3, 'crowd': 3, 'knowing': 3, 'order': 3, 'aww': 3, 'checks': 3, \"stinkin'\": 3, 'roll': 3, 'endorse': 3, 'entire': 3, 'crank': 3, 'turkey': 3, 'natural': 3, 'enemies': 3, 'checking': 3, 'ring': 3, 'church': 3, 'comfortable': 3, 'pats': 3, 'bunch': 3, 'touchdown': 3, 'film': 3, 'beginning': 3, 'boo': 3, 'program': 3, 'al_gore:': 3, 'lindsay_naegle:': 3, 'grunt': 3, 'gift': 3, 'uncomfortable': 3, 'helicopter': 3, 'bright': 3, 'rub': 3, 'popular': 3, 'letters': 3, 'workers': 3, 'midge': 3, 'delicious': 3, 'bless': 3, 'lonely': 3, 'crime': 3, 'dive': 3, 'accept': 3, 'puke': 3, 'gently': 3, \"they'd\": 3, 'clone': 3, \"where'd\": 3, 'form': 3, 'yee-haw': 3, 'thankful': 3, 'shares': 3, 'expect': 3, \"robbin'\": 3, 'cheers': 3, 'ridiculous': 3, 'jump': 3, 'meant': 3, 'wayne:': 3, 'uneasy': 3, 'pointing': 3, 'embarrassing': 3, 'rats': 3, 'reads': 3, 'international': 3, 'paris': 3, 'push': 3, 'celebrities': 3, 'invite': 3, 'hug': 3, 'license': 3, 'peach': 3, 'fever': 3, 'weeks': 3, 'finest': 3, 'ruin': 3, 'cigarette': 3, 'concerned': 3, 'cannot': 3, 'played': 3, 'cheap': 3, 'moments': 3, 'afternoon': 3, \"ridin'\": 3, 'panicky': 3, 'showing': 3, 'talk-sings': 3, 'puff': 3, 'taken': 3, 'text': 3, 'scam': 3, 'perhaps': 3, 'bitterly': 3, 'who-o-oa': 3, 'following': 3, 'l': 3, 'searching': 3, 'grabs': 3, 'floor': 3, 'glum': 3, 'corpses': 3, 'cute': 3, \"'til\": 3, \"barney's\": 3, 'dirt': 3, 'ancient': 3, 'ho': 3, 'marvin': 3, 'killed': 3, 'election': 3, 'jolly': 3, 'public': 3, 'pfft': 3, 'harv': 3, 'kissing': 3, 'twenty-five': 3, 'tears': 3, 'threatening': 3, 'ran': 3, 'sniffs': 3, 'greystash': 3, 'peter': 3, 'kept': 3, 'worked': 3, 'coney': 3, 'summer': 3, 'then:': 3, 'edison': 3, 'closer': 3, 'cards': 3, 'inspection': 3, 'lots': 3, 'twenty-two': 3, 'men:': 3, 'source': 3, 'opening': 3, 'inspector': 3, 'finished': 3, 'sadder': 3, 'corner': 3, 'drop': 3, 'stopped': 3, 'cough': 3, 'fireball': 3, 'happily': 3, 'middle': 3, 'hunter': 3, 'consider': 3, 'ordered': 3, 'gary_chalmers:': 3, 'pained': 3, 'fraud': 3, 'ground': 3, 'miserable': 3, 'anniversary': 3, 'grunts': 3, 'texas': 3, 'dressed': 3, 'midnight': 3, 'pays': 3, 'breaking': 3, 'unlucky': 3, 'hilarious': 3, 'gag': 3, 'prime': 3, 'spinning': 3, 'unlike': 3, 'careful': 3, 'upon': 3, \"c'mere\": 3, 'belly': 3, 'holiday': 3, 'stayed': 3, 'fans': 3, 'covering': 3, 'military': 3, 'thoughts': 3, 'screams': 3, 'share': 3, 'elder': 3, 'hates': 3, 'operation': 3, 'season': 3, 'mafia': 3, 'jesus': 3, 'doors': 3, 'whatcha': 3, 'alley': 3, 'system': 3, 'nobel': 3, 'har': 3, 'salad': 3, 'shape': 3, 'enemy': 3, 'changed': 3, 'team': 3, 'book_club_member:': 3, 'tried': 3, 'sucked': 3, 'woo-hoo': 3, 'mudflap': 3, 'toward': 3, 'compliment': 3, 'hmmm': 3, 'knocked': 3, 'cents': 3, 'its': 3, 'complete': 3, 'awful': 3, '&': 3, 'grabbing': 3, 'fork': 3, 'james': 3, 'pardon': 3, 'general': 3, 'covers': 3, 'step': 3, \"they'll\": 3, \"gentleman's\": 3, 'wiener': 3, 'toss': 3, 'somewhere': 3, 'feed': 3, 'above': 3, 'heads': 3, 'bike': 3, 'child': 3, 'focus': 3, 'der': 3, 'loan': 3, 'banks': 3, 'unison': 3, 'incredulous': 3, 'r': 3, \"seein'\": 3, 'casual': 3, 'past': 3, 'snort': 3, 'bob': 3, 'fumes': 3, \"could've\": 3, \"year's\": 3, 'whose': 3, 'noticing': 3, 'buying': 3, 'mock': 3, 'size': 3, 'teeth': 3, 'gary:': 3, 'law': 3, 'tips': 3, 'bar-boy': 3, 'hiya': 3, 'anguished': 3, 'cocktail': 3, 'feelings': 3, 'vomit': 3, 'toasting': 3, 'likes': 3, 'bowling': 3, 'recommend': 3, 'prank': 3, 'bus': 3, 'barney-shaped_form:': 3, 'jamaican': 3, 'met': 3, 'backwards': 3, 'campaign': 3, \"lenny's\": 3, 'coffee': 3, 'defensive': 3, 'dancing': 3, 'sweetly': 3, 'glen': 3, 'lately': 3, \"havin'\": 3, 'leans': 3, 'coach:': 3, 'motel': 3, 'ohmygod': 3, 'relax': 3, 'flatly': 3, 'label': 3, 'wearing': 3, 'losing': 3, 'scotch': 3, 'button': 3, 'peace': 3, 'ziffcorp': 3, 'fault': 3, 'german': 3, 'evil': 3, 'starting': 3, 'traffic': 3, 'army': 3, \"i-i'm\": 3, 'yo': 3, 'staying': 3, 'jail': 3, 'fourth': 3, 'fancy': 3, 'fly': 3, 'innocent': 3, 'sixty-nine': 3, 'imagine': 3, 'stadium': 3, 'modern': 3, 'pathetic': 3, 'guest': 3, 'hall': 3, 'single': 3, 'parking': 3, 'crummy': 3, 'pissed': 3, 'wide': 3, 'pocket': 3, 'future': 3, 'fool': 3, 'hurts': 3, 'keeping': 3, 'k': 3, '_kissingher:': 3, 'pageant': 3, 'sleep': 3, 'aside': 3, 'root': 3, 'palmerston': 3, 'suck': 3, 'suppose': 3, 'milhouse': 3, 'sexual': 3, 'spoken': 3, 'struggling': 3, 'nation': 3, 'frankly': 3, 'spending': 3, 'brains': 3, 'toys': 3, 'higher': 3, 'pockets': 3, 'clientele': 3, 'reminds': 3, 'bite': 3, 'challenge': 3, 'toilet': 3, 'serve': 3, 'mistake': 3, 'accurate': 3, 'foot': 3, 'kang:': 3, 'shoot': 3, 'tv_father:': 3, 'raising': 3, 'teenage': 3, 'exit': 3, '_timothy_lovejoy:': 3, 'sniffles': 3, 'gal': 3, 'dynamite': 3, 'tradition': 3, 'f': 3, 'delighted': 3, 'scum': 3, 'become': 3, 'death': 3, 'severe': 3, 'wasting': 3, 'exhaust': 3, 'sometime': 3, 'jack_larson:': 3, 'cameras': 3, 'junior': 3, 'per': 3, 'sisters': 3, 'dreams': 2, 'fuss': 2, 'muttering': 2, 'paid': 2, 'stevie': 2, 'so-called': 2, 'crying': 2, 'needy': 2, 'formico:': 2, 'ohh': 2, 'curds': 2, 'yup': 2, 'snake-handler': 2, \"cat's\": 2, 'seriously': 2, 'doug:': 2, 'assistant': 2, 'torn': 2, 'large': 2, 'relieved': 2, 'wave': 2, 'fondly': 2, 'shrugging': 2, 'juice': 2, 'dungeon': 2, 'manage': 2, 'difficult': 2, 'bears': 2, 'mona_simpson:': 2, 'academy': 2, 'latin': 2, 'authorized': 2, 'raccoons': 2, 'tick': 2, 'ragtime': 2, 'dennis_kucinich:': 2, 'fighting': 2, 'known': 2, 'yours': 2, 'onions': 2, 'waylon': 2, 'matter-of-fact': 2, 'riding': 2, 'blew': 2, 'caused': 2, 'businessman_#1:': 2, 'although': 2, 'bathroom': 2, 'pirate': 2, 'nerve': 2, 'insightful': 2, 'appointment': 2, 'vodka': 2, 'grave': 2, 'suspicious': 2, 'wedding': 2, 'bags': 2, 'boxer': 2, 'male_inspector:': 2, 't-shirt': 2, 'barkeep': 2, 'beam': 2, 'wade_boggs:': 2, 'seas': 2, 'dismissive': 2, \"readin'\": 2, 'photo': 2, 'nigerian': 2, 'flag': 2, 'linda': 2, 'solid': 2, 'yogurt': 2, 'yawns': 2, 'cowardly': 2, 'sometimes': 2, 'self-esteem': 2, 'winnings': 2, \"chewin'\": 2, 'bubbles': 2, 'joined': 2, 'held': 2, 'emotional': 2, 'crossed': 2, 'teenage_homer:': 2, 'frosty': 2, 'fausto': 2, 'solo': 2, 'obvious': 2, 'churchill': 2, 'reasons': 2, 'worth': 2, 'relationship': 2, 'ugliest': 2, 'combine': 2, 'answering': 2, 'ginger': 2, 'beneath': 2, 'love-matic': 2, 'raise': 2, 'inspire': 2, 'violations': 2, 'grumpy': 2, 'bugging': 2, 'fox': 2, 'peanut': 2, 'justice': 2, 'shakespeare': 2, 'chilly': 2, 'choking': 2, 'distributor': 2, 'failed': 2, 'poet': 2, 'suing': 2, 'boyfriend': 2, 'grade': 2, 'carlson': 2, 'pleasure': 2, 'helllp': 2, 'morlocks': 2, 'regulars': 2, 'attempting': 2, 'considering': 2, 'homers': 2, 'duel': 2, 'pian-ee': 2, 'meal': 2, 'fritz': 2, 'smug': 2, 'christopher': 2, 'passed': 2, 'department': 2, 'jockey': 2, 'hop': 2, 'begins': 2, 'scary': 2, 'unfortunately': 2, 'energy': 2, 'twice': 2, 'cops': 2, 'giggles': 2, 'queer': 2, 'denser': 2, 'isle': 2, 'awed': 2, 'kicked': 2, 'electronic': 2, 'smart': 2, 'stands': 2, 'hotline': 2, 'increasingly': 2, 'generous': 2, 'trench': 2, 'awesome': 2, 'devastated': 2, 'results': 2, \"pope's\": 2, 'defeated': 2, 'civilization': 2, 'jeff': 2, 'skeptical': 2, 'ambrosia': 2, 'balls': 2, 'chase': 2, \"'topes\": 2, 'disapproving': 2, 'quotes': 2, 'champ': 2, 'klingon': 2, 'manjula': 2, 'lowering': 2, 'steak': 2, 'spy': 2, 'shrugs': 2, '_powers:': 2, 'effects': 2, 'wordloaf': 2, 'quality': 2, 'brightening': 2, 'w': 2, 'sneaky': 2, 'karaoke': 2, 'broom': 2, 'gargoyle': 2, \"marge's\": 2, 'pond': 2, 'dames': 2, 'thirteen': 2, 'rage': 2, 'andalay': 2, 'positive': 2, 'lucius': 2, 'satisfied': 2, 'promised': 2, 'tester': 2, 'mumbling': 2, 'century': 2, 'shaken': 2, 'koholic': 2, 'zero': 2, 'agreement': 2, 'sector': 2, 'successful': 2, 'slyly': 2, 'cars': 2, 'patient': 2, 'conference': 2, 'aerosmith': 2, 'insulted': 2, 'roof': 2, 'murmurs': 2, 'plenty': 2, 'sec_agent_#2:': 2, 'pressure': 2, 'advantage': 2, 'disco': 2, 'extremely': 2, 'patterns': 2, 'ocean': 2, 'planet': 2, 'prison': 2, \"weren't\": 2, 'i-i-i': 2, 'craphole': 2, 'prove': 2, 'vacation': 2, 'wins': 2, 'comic': 2, 'bathing': 2, 'flying': 2, \"dyin'\": 2, 'confidence': 2, 'hobo': 2, 'dress': 2, 'rhyme': 2, 'talked': 2, 'labels': 2, 'thought_bubble_homer:': 2, 'mob': 2, \"team's\": 2, 'eventually': 2, 'memories': 2, 'teddy': 2, 'cooler': 2, 'camp': 2, 'darkest': 2, \"fallin'\": 2, 'scare': 2, 'organ': 2, 'plum': 2, '1895': 2, 'judge': 2, 'throwing': 2, 'bums': 2, 'eighty-one': 2, 'angel': 2, 'jubilant': 2, 'brassiest': 2, 'underpants': 2, 'dials': 2, 'percent': 2, 'mcstagger': 2, 'correcting': 2, 'woozy': 2, \"buffalo's\": 2, 'costume': 2, \"wonderin'\": 2, 'draw': 2, 'boneheaded': 2, 'catching': 2, 'yoo': 2, 'easier': 2, 'bubble': 2, 'curious': 2, \"takin'\": 2, 'sandwich': 2, 'lenny:': 2, 'jets': 2, '7-year-old_brockman:': 2, \"springfield's\": 2, 'foil': 2, 'alphabet': 2, 'minister': 2, 'shooting': 2, 'bump': 2, 'thighs': 2, 'shower': 2, 'superior': 2, 'awww': 2, 'smoothly': 2, 'plywood': 2, 'nope': 2, 'conspiratorial': 2, 'bottles': 2, 'laramie': 2, 'sport': 2, 'hired': 2, 'reliable': 2, 'troy_mcclure:': 2, 'familiar': 2, 'mall': 2, \"what're\": 2, 'warn': 2, 'monkey': 2, 'sugar': 2, 'patty': 2, 'smallest': 2, 'deeply': 2, 'express': 2, 'informant': 2, 'david': 2, 'expert': 2, 'boxing_announcer:': 2, 'superhero': 2, 'judge_snyder:': 2, 'lap': 2, 'forward': 2, 'busted': 2, 'kramer': 2, 'stinks': 2, 'ye': 2, \"'im\": 2, 'yelling': 2, 'listening': 2, 'befouled': 2, 'mount': 2, 'yell': 2, 'umm': 2, 'koi': 2, 'weirded-out': 2, 'filled': 2, 'wa': 2, 'bedroom': 2, 'alcoholic': 2, 'changes': 2, 'admiring': 2, 'sympathetic': 2, 'tiny': 2, 'wash': 2, 'wolfe': 2, 'hawking:': 2, \"monroe's\": 2, \"hasn't\": 2, 'soup': 2, 'involved': 2, 'ways': 2, 'restaurants': 2, 'festival': 2, 'release': 2, 'potato': 2, 'forbidden': 2, 'hangs': 2, 'naturally': 2, 'airport': 2, 'blown': 2, 'thoughtfully': 2, 'force': 2, 'intense': 2, 'hibbert': 2, 'pope': 2, 'woman_bystander:': 2, 'finishing': 2, 'prize': 2, 'drown': 2, 'shoo': 2, 'thesaurus': 2, \"patrick's\": 2, 'un-sults': 2, 'fox_mulder:': 2, 'bedbugs': 2, 'rolled': 2, 'dee-fense': 2, \"homer's_brain:\": 2, 'jailbird': 2, 'warily': 2, 'allowed': 2, 'medical': 2, 'anarchy': 2, 'gorgeous': 2, 'deadly': 2, 'roses': 2, 'scully': 2, 'payments': 2, 'attitude': 2, 'delivery': 2, 'shutting': 2, 'owner': 2, 'admiration': 2, 'page': 2, 'website': 2, 'jerry': 2, 'lush': 2, 'inspiring': 2, 'hunting': 2, 'ringing': 2, 'brewed': 2, 'scooter': 2, 'sodas': 2, 'shaggy': 2, 'hitler': 2, 'slice': 2, 'fresh': 2, 'bride': 2, 'ech': 2, 'yards': 2, 'diamond': 2, 'therapist': 2, 'drawing': 2, 'dropped': 2, 'painting': 2, 'gator:': 2, 'agent_johnson:': 2, 'memory': 2, 'possibly': 2, 'attack': 2, 'proposing': 2, 'involving': 2, 'rumaki': 2, 'barf': 2, 'bigger': 2, 'sweeter': 2, 'reporter:': 2, 'space': 2, 'therefore': 2, 'poking': 2, 'kidney': 2, 'self-made': 2, 'copy': 2, 'utility': 2, 'forgive': 2, \"drawin'\": 2, 'babe': 2, 'nigeria': 2, 'stir': 2, 'standing': 2, 'regret': 2, 'waltz': 2, 'cheat': 2, 'joey_kramer:': 2, 'reached': 2, 'inflated': 2, 'gals': 2, 'beating': 2, 'began': 2, 'granted': 2, 'africa': 2, 'wing': 2, 'jebediah': 2, 'terrific': 2, 'funds': 2, 'shoulder': 2, 'friendship': 2, 'blues': 2, 'tie': 2, 'corporate': 2, 'golf': 2, 'lazy': 2, \"ladies'\": 2, 'towed': 2, 'aged_moe:': 2, \"countin'\": 2, 'louie:': 2, 'joke': 2, 'coins': 2, 'deliberate': 2, 'alfalfa': 2, 'brow': 2, 'bashir': 2, 'sat': 2, 'wondering': 2, \"bar's\": 2, 'grimly': 2, 'lock': 2, 'saint': 2, 'tanked-up': 2, 'multiple': 2, 'louder': 2, 'somehow': 2, 'danish': 2, 'pad': 2, 'shock': 2, 'vote': 2, 'neither': 2, 'certain': 2, 'helen': 2, 'princesses': 2, 'penny': 2, 'surprise': 2, 'windex': 2, 'color': 2, 'genius': 2, \"other's\": 2, 'aggravated': 2, 'suspect': 2, 'celebrity': 2, 'grandiose': 2, 'asking': 2, \"ma'am\": 2, 'dough': 2, 'arab_man:': 2, 'famous': 2, 'oof': 2, 'ayyy': 2, 'rainier_wolfcastle:': 2, 'medicine': 2, 'stealings': 2, 'near': 2, 'village': 2, 'expression': 2, 'motorcycle': 2, 'wang': 2, 'irish': 2, 'duty': 2, 'soap': 2, 'internet': 2, 'peppy': 2, 'tale': 2, 'remembering': 2, 'miles': 2, 'whistles': 2, 'seek': 2, 'alfred': 2, 'seats': 2, 'brave': 2, 'pretending': 2, 'reach': 2, 'outlook': 2, 'detecting': 2, 'apartment': 2, 'achem': 2, \"it'd\": 2, 'bully': 2, 'passion': 2, \"money's\": 2, 'wooden': 2, 'willy': 2, 'harder': 2, 'awwww': 2, 'sissy': 2, 'bash': 2, 'bam': 2, 'bucket': 2, 'placing': 2, \"children's\": 2, 'price': 2, 'honored': 2, 'cheese': 2, 'krabappel': 2, 'comedy': 2, 'refresh': 2, 'steel': 2, 'carl:': 2, 'sinister': 2, 'wishes': 2, 'based': 2, 'civic': 2, 'don': 2, 'calmly': 2, 'beep': 2, 'yourselves': 2, 'discussing': 2, 'smoke': 2, 'routine': 2, 'chum': 2, 'simp-sonnnn': 2, \"waitin'\": 2, 'aging': 2, 'witty': 2, 'action': 2, 'skirt': 2, 'dreamed': 2, 'between': 2, 'helped': 2, 'cake': 2, 'tenor:': 2, 'gifts': 2, 'mmm': 2, 'agree': 2, 'wake': 2, 'acting': 2, 'pulling': 2, 'cookies': 2, 'partly': 2, 'slight': 2, 'dan': 2, 'carve': 2, 'joking': 2, 'cheery': 2, 'mail': 2, 'freak': 2, 'built': 2, 'fixed': 2, 'important': 2, 'available': 2, 'palm': 2, 'rounds': 2, 'ball-sized': 2, 'mention': 2, 'director': 2, 'dessert': 2, 'dryer': 2, 'due': 2, 'candidate': 2, 'sack': 2, 'maman': 2, 'cutie': 2, 'germs': 2, 'stern': 2, 'salt': 2, 'tries': 2, 'knife': 2, 'greedy': 2, 'snap': 2, 'wrestling': 2, 'coward': 2, 'pigs': 2, 'deserve': 2, 'square': 2, 'cueball': 2, 'animals': 2, 'vulnerable': 2, 'conditioner': 2, 'broadway': 2, 'cowboys': 2, 'sabermetrics': 2, 'conversation': 2, 'message': 2, 'planning': 2, 'roz:': 2, 'forehead': 2, 'gun': 2, 'remembered': 2, 'all-star': 2, 'haw': 2, 'recall': 2, 'radio': 2, 'cozy': 2, 'dearest': 2, 'realized': 2, 'smurfs': 2, 'ale': 2, 'bread': 2, 'abandon': 2, 'seemed': 2, 'restroom': 2, 'fudd': 2, 'kyoto': 2, 'suds': 2, 'gum': 2, 'eighty-seven': 2, 'punk': 2, 'ah-ha': 2, 'snorts': 2, 'tang': 2, 'teams': 2, 'bret': 2, 'social': 2, 'nickels': 2, 'prefer': 2, 'cleaner': 2, 'cruel': 2, 'heavyset': 2, 'badges': 2, 'cigarettes': 2, 'remains': 2, 'smugglers': 2, \"tester's\": 2, 'sports_announcer:': 2, 'billion': 2, \"father's\": 2, 'reserve': 2, 'elephants': 2, 'charity': 2, 'belt': 2, 'buried': 2, 'vacuum': 2, 'bible': 2, 'trusted': 2, 'greetings': 2, \"others'\": 2, 'lurleen_lumpkin:': 2, 'playful': 2, 'frog': 2, 'anywhere': 2, 'chicks': 2, 'kindly': 2, 'blend': 2, 'bourbon': 2, 'satisfaction': 2, 'lib': 2, 'grab': 2, 'cola': 2, 'sooner': 2, 'hail': 2, 'politics': 2, 'entirely': 2, 'purse': 2, 'pin': 2, 'complaint': 2, 'sea': 2, 'fevered': 2, 'murmur': 2, 'henry': 2, 'discuss': 2, 'code': 2, 'eyesore': 2, 'neil_gaiman:': 2, 'answers': 2, 'admitting': 2, 'continuing': 2, 'jerky': 2, 'snow': 2, 'boozy': 2, \"game's\": 2, 'tax': 2, 'clinton': 2, 'lloyd': 2, 'lover': 2, 'doll': 2, 'ha-ha': 2, 'beats': 2, 'lighting': 2, 'taps': 2, 'creeps': 2, 'pride': 2, 'd': 2, 'mixed': 2, 'lise:': 2, 'deacon': 2, 'sudden': 2, 'standards': 2, 'tabooger': 2, 'shoots': 2, 'tommy': 2, 'reaching': 2, 'stationery': 2, 'twin': 2, 'products': 2, 'violin': 2, 'lovely': 2, \"showin'\": 2, \"shan't\": 2, 'compliments': 2, \"meanin'\": 2, 'type': 2, 'fabulous': 2, 'highway': 2, 'spied': 2, 'mic': 2, 'managing': 2, 'cream': 2, 'served': 2, 'drank': 2, 'sweetheart': 2, 'european': 2, 'value': 2, 'voice:': 2, 'commission': 2, 'roomy': 2, 'bastard': 2, 'writers': 2, 'smile:': 2, 'plans': 2, 'spent': 2, 'baritone': 2, 'virtual': 2, 'brothers': 2, 'nearly': 2, 'inspired': 2, 'tentative': 2, 'bets': 2, 'record': 2, 'sale': 2, 'hats': 2, 'amount': 2, 'carll': 2, 'crumble': 2, 'blood-thirsty': 2, 'moe-clone:': 2, 'sausage': 2, 'astronaut': 2, 'barely': 2, 'bush': 2, 'atlanta': 2, 'lights': 2, 'laws': 2, 'bird': 2, 'pint': 2, 'ironed': 2, \"hangin'\": 2, 'vampires': 2, 'feast': 2, 'nudge': 2, 'borrow': 2, 'level': 2, 'prohibit': 2, 'pointless': 2, 'decide': 2, 'recently': 2, 'young_moe:': 2, 'naked': 2, 'teacher': 2, 'freedom': 2, 'rap': 2, 'porn': 2, 'reynolds': 2, 'clock': 2, 'courage': 2, 'sleeps': 2, 'syrup': 2, 'investor': 2, 'contest': 2, 'actors': 2, 'effigy': 2, 'skin': 2, 'museum': 2, 'appear': 2, 'scrape': 2, 'cent': 2, 'spread': 2, 'putting': 2, 'strategy': 2, 'weary': 2, 'effervescent': 2, 'mess': 2, 'mm': 2, 'white': 2, 'cat': 2, 'handle': 2, 'b': 2, 'schnapps': 2, \"town's\": 2, 'priest': 2, 'appealing': 2, 'poker': 2, 'neighbor': 2, 'slightly': 2, 'exchange': 2, 'confident': 2, 'fragile': 2, 'formico': 2, \"'tis\": 2, 'thanksgiving': 2, 'studio': 2, 'trolls': 2, \"hadn't\": 2, 'compared': 2, 'industry': 2, 'completing': 2, 'freeze': 2, 'fold': 2, 'prepared': 2, 'safer': 2, 'troy': 2, \"payin'\": 2, 'doreen:': 2, 'queen': 2, 'rolling': 2, 'tv_announcer:': 2, 'doreen': 2, 'bridge': 2, 'wangs': 2, 'fictional': 2, 'stranger:': 2, 'closes': 2, 'cotton': 2, 'underbridge': 2, 'eyeball': 2, 'poem': 2, 'thru': 2, 'decency': 2, 'someday': 2, 'stuck': 2, 'pouring': 2, 'sitar': 2, 'fanciest': 2, 'joining': 2, 'handing': 2, 'laney_fontaine:': 2, 'refund': 2, 'puts': 2, 'media': 2, 'advance': 2, 'maya': 2, 'straining': 2, 'bold': 2, 'loss': 2, 'realize': 2, 'complaining': 2, 'bartenders': 2, 'rock': 2, 'belong': 2, 'professor': 2, 'acquaintance': 2, 'awe': 2, 'mop': 2, \"bartender's\": 2, \"someone's\": 2, 'margarita': 2, 'punches': 2, 'gang': 2, 'pitch': 2, 'ahhh': 2, 'disgrace': 2, 'reviews': 2, 'crew': 2, 'degradation': 2, \"crawlin'\": 2, 'bartending': 2, 'pleading': 2, 'padre': 2, 'impatient': 2, 'pleasant': 2, 'corporation': 2, 'jumps': 2, 'knees': 2, 'watered-down': 2, 'calculate': 2, \"beer's\": 2, 'falcons': 2, 'wings': 2, 'liar': 2, 'securities': 2, 'folk': 2, 'railroad': 2, 'charm': 2, 'voice_on_transmitter:': 2, 'reasonable': 2, 'retired': 2, 'manager': 2, 'explain': 2, 'floated': 2, 'morose': 2, 'marmaduke': 2, 'delivery_boy:': 2, 'written': 2, 'bear': 2, 'magazine': 2, '250': 2, 'benefits': 2, 'trick': 2, 'wayne': 2, 'nasa': 2, 'rules': 2, 'heading': 2, 'trapped': 2, 'gentleman:': 2, 'present': 2, 'guide': 2, 'mortgage': 2, 'mcbain': 2, \"maggie's\": 2, 'goods': 2, 'mate': 2, 'candy': 2, 'grienke': 2, 'ripcord': 2, 'victory': 2, '6': 2, 'lurleen': 2, 'honor': 2, 'is:': 2, 'charlie': 2, 'hollywood': 2, 'weirder': 2, 'interested': 2, 'gosh': 2, 'rule': 2, 'measurements': 2, 'ziff': 2, 'prayer': 2, 'missed': 2, 'product': 2, \"what'sa\": 2, 'swill': 2, 'themselves': 2, 'grandmother': 2, 'decent': 2, 'firmly': 2, 'neat': 2, 'tofu': 2, 'row': 2, 'excellent': 2, 'excitement': 2, 'disappeared': 2, 'gums': 2, 'project': 2, 'banquo': 2, 'whenever': 2, 'whether': 2, 'marguerite:': 2, 'dating': 2, 'ollie': 2, 'jobs': 2, 'corkscrew': 2, 'santa': 2, '100': 2, 'nauseous': 1, 'slogan': 1, 'happiness': 1, 'johnny_carson:': 1, 'terrace': 1, 'rotten': 1, 'show-off': 1, 'menace': 1, 'businessman_#2:': 1, 'poetry': 1, 'stored': 1, 'elizabeth': 1, 'düffenbraus': 1, 'noose': 1, 'sacrifice': 1, 'presidents': 1, \"shootin'\": 1, 'easily': 1, 'warranty': 1, \"cont'd:\": 1, 'fad': 1, 'apulina': 1, 'stretch': 1, 'awareness': 1, 'chosen': 1, 'kl5-4796': 1, 'hostile': 1, 'stu': 1, 'fustigate': 1, 'slop': 1, 'sam:': 1, 'amber_dempsey:': 1, 'fireworks': 1, 'huhza': 1, 'irrelevant': 1, 'attracted': 1, 'hiding': 1, 'disguise': 1, 'unrelated': 1, 'generally': 1, 'laid': 1, 'additional-seating-capacity': 1, 'howya': 1, 'proves': 1, 'extreme': 1, 'trucks': 1, 'catholic': 1, 'leprechaun': 1, 'fighter': 1, 'skins': 1, 'marched': 1, 'yammering': 1, 'ehhhhhhhh': 1, 'overturned': 1, 'craft': 1, 'homer_': 1, 'bulked': 1, 'whoopi': 1, 'lard': 1, 'wobble': 1, 'tabs': 1, 'boisterous': 1, 'automobiles': 1, 'gabriel:': 1, 'shores': 1, 'perch': 1, 'purveyor': 1, \"time's\": 1, 'a-a-b-b-a': 1, 'spacey': 1, 'thorough': 1, 'partially': 1, 'jewelry': 1, 'contractors': 1, 'gator': 1, \"tv's\": 1, \"thinkin'\": 1, 'selection': 1, 'pee': 1, 'skinheads': 1, 'grammys': 1, 'drunkenly': 1, 'soul-crushing': 1, 'bury': 1, 'seminar': 1, 'lorre': 1, 'shaky': 1, 'shoe': 1, 'casting': 1, 'fortress': 1, 'newly-published': 1, \"thing's\": 1, 'cousin': 1, 'ninth': 1, 'switched': 1, 'x-men': 1, 'crappy': 1, 'whining': 1, 'pas': 1, 'index': 1, 'sweaty': 1, 'unbelievably': 1, 'harm': 1, 'eighty-three': 1, \"coaster's\": 1, 'hems': 1, 'rods': 1, 'launch': 1, 'finish': 1, 'everywhere': 1, 'sat-is-fac-tion': 1, 'grin': 1, 'faces': 1, 'temper': 1, 'dressing': 1, 'brief': 1, 'spectacular': 1, 'bleak': 1, 'pets': 1, 'wrestle': 1, 'pepper': 1, 'kinderhook': 1, \"fun's\": 1, 'whale': 1, 'firm': 1, 'zoomed': 1, 'ralph_wiggum:': 1, 'flew': 1, 'shame': 1, 'drawer': 1, 'tapping': 1, \"blowin'\": 1, \"beggin'\": 1, 'evils': 1, 'hunky': 1, 'disturbing': 1, 'heroism': 1, 'bumbling': 1, 'sieben-gruben': 1, \"boy's\": 1, 'notably': 1, 'dracula': 1, 'musta': 1, 'guttural': 1, 'yee-ha': 1, \"dog's\": 1, 'crony': 1, 'life-partner': 1, 'spellbinding': 1, \"leavin'\": 1, 'forty-two': 1, 'focused': 1, 'jackpot-thief': 1, 'appropriate': 1, 'composite': 1, 'geysir': 1, \"drexel's\": 1, 'mimes': 1, \"challengin'\": 1, 'indifference': 1, \"football's\": 1, 'beligerent': 1, 'syndicate': 1, 'sponge:': 1, 'si-lent': 1, 'period': 1, 'knock-up': 1, 'hike': 1, \"mtv's\": 1, 'liser': 1, 'raging': 1, 'fulla': 1, \"santa's\": 1, 'el': 1, 'watched': 1, 'versus': 1, 'milks': 1, 'insist': 1, 'knocks': 1, 'audience': 1, 'guiltily': 1, 'remain': 1, 'traditions': 1, 'sees/': 1, 'digging': 1, 'minus': 1, 'heh-heh': 1, 'abolish': 1, 'clipped': 1, 'agents': 1, 'drapes': 1, 'blurbs': 1, 'bum:': 1, 'asks': 1, 'vicious': 1, 'starla': 1, 'fires': 1, 'donut-shaped': 1, 'telemarketing': 1, 'counter': 1, 'compels': 1, 'uninhibited': 1, 'sunglasses': 1, 'fatso': 1, 'pine': 1, 'trashed': 1, 'grub': 1, 'celebrate': 1, 'ton': 1, 'killjoy': 1, 'psst': 1, 'kay': 1, 'rafter': 1, 'gulps': 1, 'ancestors': 1, 'mason': 1, 'kicks': 1, 'susie-q': 1, 'bid': 1, 'rosey': 1, 'innocuous': 1, 'sequel': 1, 'rationalizing': 1, 'approval': 1, 'referee': 1, 'dinks': 1, 'society_matron:': 1, 'hunka': 1, 'recorded': 1, 'nonsense': 1, 'language': 1, 'koji': 1, 'rapidly': 1, \"secret's\": 1, 'understood': 1, 'pushing': 1, 'sistine': 1, 'frat': 1, 'unattended': 1, 'scatter': 1, 'dumpster': 1, 'sap': 1, 'bridges': 1, \"wallet's\": 1, 'misconstrue': 1, 'culkin': 1, 'legal': 1, 'leaving': 1, 'owns': 1, 'socratic': 1, 'brusque': 1, 'groans': 1, 'sitcom': 1, 'unintelligent': 1, 'fletcherism': 1, 'cherry': 1, 'malabar': 1, 'graves': 1, 'sugar-me-do': 1, 'pridesters:': 1, 'lady-free': 1, 'gloop': 1, 'slobbo': 1, 'waist': 1, '10:15': 1, 'doooown': 1, 'ails': 1, 'furniture': 1, 'drives': 1, 'hare-brained': 1, 'donut': 1, 'simultaneous': 1, 'trees': 1, 'lobster': 1, 'whoa-ho': 1, 'factor': 1, 'crestfallen': 1, 'cadillac': 1, 'test-': 1, 'scarf': 1, 'shades': 1, 'idiots': 1, 'hibachi': 1, \"swishifyin'\": 1, 'andrew': 1, \"bladder's\": 1, 'capitol': 1, 'phasing': 1, \"man's\": 1, 'babar': 1, 'barkeeps': 1, 'stagehand:': 1, 'ninety-seven': 1, 'sunny': 1, 'champion': 1, 'funniest': 1, 'pilsner-pusher': 1, 'pennies': 1, 'booking': 1, 'cruise': 1, 'annual': 1, 'enjoys': 1, 'scanning': 1, 'falsetto': 1, 'drummer': 1, 'mystery': 1, 'rainier': 1, 'diaper': 1, 'rife': 1, 'delicate': 1, \"poisonin'\": 1, 'chumbawamba': 1, 'noggin': 1, 'television': 1, 'position': 1, 'script': 1, 'lump': 1, 'whispers': 1, 'aged': 1, 'muslim': 1, 'cesss': 1, 'cheerleaders:': 1, 'blinds': 1, 'nucular': 1, 'negative': 1, 'bidet': 1, 'preparation': 1, 'reentering': 1, 'cloudy': 1, 'poke': 1, 'geyser': 1, 'fleabag': 1, 'entering': 1, 'ingrates': 1, 'cage': 1, 'dreary': 1, 'overhearing': 1, \"ya'\": 1, 'stars': 1, 'further': 1, 'beeps': 1, 'barbed': 1, 'e': 1, 'contemplated': 1, 'wolverines': 1, 'yello': 1, 'progress': 1, 'eaters': 1, 'beverage': 1, 'grind': 1, 'religious': 1, 'norway': 1, '/mr': 1, 'cab_driver:': 1, 'hemoglobin': 1, 'absentminded': 1, 'selfish': 1, 'jubilation': 1, 'administration': 1, 'connection': 1, 'enjoyed': 1, 'publish': 1, 'mexicans': 1, 'employment': 1, 'in-ground': 1, 'infor': 1, '1973': 1, 'fast-food': 1, 'rainbows': 1, 'eternity': 1, 'pudgy': 1, 'exchanged': 1, 'boxcars': 1, 'faiths': 1, 'absolut': 1, \"narratin'\": 1, 'darjeeling': 1, 'y': 1, \"g'ahead\": 1, 'eliminate': 1, 'forty-nine': 1, 'plotz': 1, 'cooking': 1, 'soft': 1, 'hearing': 1, 'beaumarchais': 1, 'triumphantly': 1, 'superdad': 1, 'heliotrope': 1, 'evergreen': 1, 'grenky': 1, 'flophouse': 1, 'sheriff': 1, 'flash-fry': 1, 'wieners': 1, 'duffed': 1, 'virility': 1, 'detective': 1, 'bunion': 1, 'shells': 1, 'jay_leno:': 1, 'nos': 1, 'sangre': 1, 'homer_doubles:': 1, 'whaaa': 1, 'audience:': 1, 'mommy': 1, 'creme': 1, 'wore': 1, 'majority': 1, 'squad': 1, 'charlie:': 1, 'replace': 1, 'mexican_duffman:': 1, 'gunk': 1, 'portuguese': 1, 'ferry': 1, 'schedule': 1, 'terminated': 1, 'danny': 1, 'practice': 1, 'series': 1, 'cell': 1, 'jigger': 1, 'horribilis': 1, 'officials': 1, 'newsies': 1, 'bonfire': 1, 'fayed': 1, 'installed': 1, 'christian': 1, 'poulet': 1, 'slugger': 1, 'donation': 1, 'pulitzer': 1, 'britannia': 1, 'nectar': 1, 'canyoner-oooo': 1, 'halvsies': 1, 'robot': 1, 'forget-me-drinks': 1, 'hmmmm': 1, 'scornfully': 1, 'jovial': 1, 'plants': 1, 'fifth': 1, 'vanities': 1, 'email': 1, 'stinger': 1, 'ears': 1, 'wound': 1, 'whirlybird': 1, 'catch-phrase': 1, 'reading:': 1, \"'cept\": 1, 'neon': 1, 'conditioning': 1, 'ripped': 1, \"people's\": 1, 'lily-pond': 1, 'disillusioned': 1, 'courteous': 1, 'dreamy': 1, 'sickens': 1, 'pugilist': 1, 'windelle': 1, 'vincent': 1, 'semi-imported': 1, 'wh': 1, 'bill_james:': 1, 'democracy': 1, 'safely': 1, 'icy': 1, 'harvey': 1, 'para': 1, 'eighty-six': 1, 'oughta': 1, 'grammar': 1, 'spite': 1, 'exception:': 1, \"starla's\": 1, 'head-gunk': 1, \"yieldin'\": 1, 'coms': 1, 'hosting': 1, 'chauffeur': 1, 'moxie': 1, 'promise': 1, 'omit': 1, 'reciting': 1, 'pantry': 1, 'column': 1, 'bachelorhood': 1, 'rice': 1, 'mugs': 1, 'moon': 1, 'nameless': 1, 'conversations': 1, 'chapstick': 1, 'perverse': 1, 'swine': 1, 'showered': 1, 'afloat': 1, 'destroyed': 1, 'offshoot': 1, 'knowledge': 1, 'fuhgetaboutit': 1, 'thrown': 1, 'thirty-three': 1, 'bono:': 1, 'legs:': 1, 'rom': 1, 'fell': 1, 'squabbled': 1, 'scrutinizes': 1, 'idealistic': 1, 'premise': 1, 'jukebox_record:': 1, 'certificate': 1, 'chipped': 1, 'wheeeee': 1, 'fonzie': 1, 'pure': 1, 'decadent': 1, 'eighteen': 1, 'chapter': 1, 'hate-hugs': 1, 'senators:': 1, 'resist': 1, 'lurks': 1, 'shack': 1, 'pillows': 1, 'someplace': 1, 'grieving': 1, 'marvelous': 1, 'legend': 1, \"depressin'\": 1, \"what'd\": 1, 'menlo': 1, 'achebe': 1, 'planted': 1, 'nahasapeemapetilon': 1, 'grubby': 1, 'homesick': 1, 'drollery': 1, \"g'night\": 1, 'ultimate': 1, 'amiable': 1, 'meanwhile': 1, 'upgrade': 1, 'contact': 1, 'murderously': 1, \"kearney's_dad:\": 1, 'st': 1, 'stagey': 1, 'lance': 1, 'figures': 1, 'control': 1, 'janette': 1, 'recruiter': 1, 'conditioners': 1, 'fbi_agent:': 1, 'tribute': 1, 'store-bought': 1, \"can'tcha\": 1, 'boxer:': 1, 'popped': 1, 'candles': 1, 'federal': 1, 'moesy': 1, 'pep': 1, 'grrrreetings': 1, 'flat': 1, 'ditched': 1, 'twelve-step': 1, 'whoo': 1, 'bartholomé:': 1, \"betsy'll\": 1, 'ought': 1, \"renovatin'\": 1, 'horrors': 1, 'verticality': 1, 'cattle': 1, 'badmouth': 1, 'supermarket': 1, 'não': 1, 'gruff': 1, 'homunculus': 1, 'gotcha': 1, 'k-zug': 1, 'tomatoes': 1, 'italian': 1, 'proper': 1, 'notorious': 1, 'created': 1, 'dull': 1, 'perplexed': 1, 'compadre': 1, 'stalking': 1, 'grocery': 1, 'blade': 1, 'gangrene': 1, 'owned': 1, 'wussy': 1, 'contemplates': 1, 'indigenous': 1, 'filth': 1, 'item': 1, 'edelbrock': 1, 'cletus_spuckler:': 1, 'stirrers': 1, \"s'pose\": 1, 'inclination': 1, 're-al': 1, 'happens': 1, 'desire': 1, 'racially-diverse': 1, 'gamble': 1, 'germany': 1, 'trivia': 1, 'promotion': 1, 'mickey': 1, 'appalled': 1, 'weapon': 1, 'unavailable': 1, 'alibi': 1, 'haikus': 1, 'players': 1, 'fat_in_the_hat:': 1, 'throws': 1, 'holy': 1, 'friend:': 1, 'mistakes': 1, 'weekend': 1, 'consciousness': 1, 'depressant': 1, \"games'd\": 1, 'schabadoo': 1, 'ambrose': 1, 'tsking': 1, 'fuzzlepitch': 1, 'clenched': 1, 'libraries': 1, 'arrested:': 1, 'accidents': 1, 'cooker': 1, 'shifty': 1, 'process': 1, 'cap': 1, 'delivery_man:': 1, 'pepsi': 1, 'jeers': 1, 'recorder': 1, 'nash': 1, 'hubub': 1, 'philip': 1, 'behavior': 1, \"lefty's\": 1, 'kegs': 1, 'undated': 1, 'brainiac': 1, 'kadlubowski': 1, 'napkins': 1, 'wounds': 1, 'gunter:': 1, 'ate': 1, 'wiping': 1, 'longest': 1, 'scratching': 1, 'talkers': 1, 'driveability': 1, \"getting'\": 1, 'sickened': 1, 'landfill': 1, 'trail': 1, 'blubberino': 1, 'mccarthy': 1, 'toledo': 1, 'dean': 1, 'all-all-all': 1, 'hooked': 1, 'stalwart': 1, 'delightful': 1, 'wednesday': 1, 'thirty-nine': 1, 'beast': 1, 'dealer': 1, 'aquafresh': 1, 'penmanship': 1, 'nurse': 1, 'bull': 1, 'fury': 1, 'site': 1, 'booger': 1, 'coy': 1, 'exact': 1, 'bad-mouth': 1, 'sturdy': 1, 'maximum': 1, 'poison': 1, 'massachusetts': 1, 'pages': 1, 'access': 1, 'dealt': 1, 'prince': 1, 'growing': 1, 'little_hibbert_girl:': 1, 'junkyard': 1, 'rekindle': 1, 'fit': 1, 'friday': 1, 'rubs': 1, 'williams': 1, 'here-here-here': 1, 'bleeding': 1, '7g': 1, 'creature': 1, 'zeal': 1, 'exquisite': 1, 'white_rabbit:': 1, 'ding-a-ding-ding-a-ding-ding': 1, 'punkin': 1, 'suru': 1, 'cheapskates': 1, 'flashbacks': 1, 'noooooooooo': 1, 'tenuous': 1, 'kansas': 1, 'encouraging': 1, 'earth': 1, 'thanking': 1, 'declan': 1, 'du': 1, 'reopen': 1, 'flanders:': 1, 'weight': 1, 'result': 1, 'sticking-place': 1, 'carb': 1, 'unhappy': 1, 'repressed': 1, 'olive': 1, 'macbeth': 1, 'farthest': 1, 'phase': 1, 'handshake': 1, 'luckily': 1, 'hostages': 1, 'conclusions': 1, 'pursue': 1, 'backgammon': 1, 'faded': 1, 'confidential': 1, 'coined': 1, 'improv': 1, \"choosin'\": 1, 'conclude': 1, 'meatpies': 1, 'tubman': 1, 'streetlights': 1, 'heather': 1, 'fixes': 1, 'cheated': 1, 'cutest': 1, 'intoxicants': 1, 'take-back': 1, 'otherwise': 1, 'imported-sounding': 1, 'terrifying': 1, 'easter': 1, 'nachos': 1, 'mindless': 1, 'winner': 1, \"don'tcha\": 1, 'avenue': 1, 'backward': 1, 'right-handed': 1, 'go-near-': 1, 'microphone': 1, 'supervising': 1, 'swatch': 1, 'nap': 1, 'coupon': 1, 'sideshow_mel:': 1, 'occurs': 1, 'attraction': 1, 'powered': 1, 'arts': 1, 'tickets': 1, 'invulnerable': 1, 'movement': 1, 'flaking': 1, 'kucinich': 1, 'compromise:': 1, 'specials': 1, 'dutch': 1, 'pus-bucket': 1, 'connor': 1, 'faith': 1, 'snotball': 1, 'taxi': 1, 'count': 1, 'wok': 1, 'salvation': 1, 'flush': 1, \"poundin'\": 1, 'panties': 1, 'friction': 1, 'foam': 1, 'full-bodied': 1, 'reserved': 1, 'delays': 1, 'tender': 1, 'obese': 1, 'extended': 1, 'grammy': 1, \"costume's\": 1, 'freshened': 1, 'smokes': 1, 'urine': 1, \"sippin'\": 1, 'tempting': 1, 'shag': 1, 'wells': 1, \"cuckold's\": 1, 'impeach': 1, 'turlet': 1, 'trenchant': 1, 'lighter': 1, 'dishonor': 1, 'harrowing': 1, 'bathed': 1, 'confidentially': 1, 'newspaper': 1, 'masks': 1, 'gasoline': 1, 'worldview': 1, 'burglary': 1, 'associate': 1, 'drove': 1, \"who'da\": 1, 'failure': 1, 'bushes': 1, 'germans': 1, \"mother's\": 1, 'reluctant': 1, \"bo's\": 1, 'nagurski': 1, 'steely-eyed': 1, 'habit': 1, 'low-life': 1, 'painless': 1, 'layer': 1, 'rafters': 1, 'priceless': 1, 'orders': 1, 'enforced': 1, 'harvesting': 1, 'bupkus': 1, 'payday': 1, \"doctor's\": 1, 'rumor': 1, \"donatin'\": 1, 'arm-pittish': 1, 'wreck': 1, 'blowfish': 1, 'demand': 1, 'breathtaking': 1, 'thousand-year': 1, 'fortensky': 1, 'rude': 1, 'mid-conversation': 1, 'paramedic:': 1, 'caricature': 1, 'helps': 1, 'view': 1, 'dignified': 1, 'photographer': 1, 'ballclub': 1, 'wenceslas': 1, 'mm-hmm': 1, 'extract': 1, 'offense': 1, 'ding-a-ding-ding-ding-ding-ding-ding': 1, 'vestigial': 1, 'hidden': 1, 'county': 1, 'spoon': 1, 'looser': 1, \"'evening\": 1, 'calendars': 1, 'this:': 1, 'cheering': 1, 'miss_lois_pennycandy:': 1, 'captain:': 1, 'wealthy': 1, 'wrap': 1, 'befriend': 1, 'richard:': 1, 'distinct': 1, 'fat-free': 1, 'jay:': 1, \"smokin'\": 1, 'in-in-in': 1, 'classy': 1, 'chair': 1, 'anti-crime': 1, 'lend': 1, 'literary': 1, 'pernt': 1, 'sincerely': 1, 'presses': 1, 'abcs': 1, 'settled': 1, 'permitting': 1, 'executive': 1, 'dana_scully:': 1, 'moe-heads': 1, 'hygienically': 1, 'waitress': 1, 'enabling': 1, 'putty': 1, 'neanderthal': 1, 'dime': 1, 'sleeping': 1, 'sexton': 1, 'drag': 1, 'carefully': 1, 'hooch': 1, 'rig': 1, 'los': 1, 'drawn': 1, 'shoes': 1, 'nervously': 1, 'shipment': 1, 'wolfcastle': 1, 'naively': 1, 'malfeasance': 1, 'kisses': 1, 'barstools': 1, 'forgiven': 1, 'application': 1, 'circus': 1, 'mortal': 1, 'examples': 1, 'mustard': 1, 'statues': 1, 'waters': 1, 'shortcomings': 1, 'wagering': 1, 'booth': 1, 'gumbo': 1, 'alter': 1, 'misfire': 1, 'goblins': 1, 'voters': 1, 'specific': 1, 'astrid': 1, \"clancy's\": 1, 'bauer': 1, 'protecting': 1, 'cheered': 1, 'breaks': 1, 'pasta': 1, 'incognito': 1, 'shard': 1, 'stickers': 1, 'rookie': 1, 'girl-bart': 1, 'boozebag': 1, 'insensitive': 1, 'chill': 1, 'citizens': 1, 'blessing': 1, 'proposition': 1, 'brawled': 1, 'sticker': 1, 'perfume': 1, 'oooo': 1, 'squirrel': 1, 'walther': 1, 'elocution': 1, 'midge:': 1, 'unkempt': 1, 'accusing': 1, 'sheet': 1, 'mcclure': 1, 'competing': 1, 'normals': 1, 'convinced': 1, 'diapers': 1, 'cheaped': 1, 'tar-paper': 1, 'cheesecake': 1, 'sticking': 1, 'dashes': 1, 'zinged': 1, 'rebuilt': 1, 'sedaris': 1, 'utensils': 1, 'reporter': 1, 'eager': 1, 'collapse': 1, 'fledgling': 1, 'wrapped': 1, 'guff': 1, 'flack': 1, \"burnin'\": 1, \"ball's\": 1, 'strongly': 1, 'ruuuule': 1, 'housing': 1, 'arguing': 1, 'loyal': 1, 'frogs': 1, 'strategizing': 1, 'detail': 1, 'barney-type': 1, 'woooooo': 1, 'cuz': 1, 'stupidest': 1, 'swallowed': 1, 'kneeling': 1, 'fast-paced': 1, 'stacey': 1, 'aid': 1, 'kissingher': 1, 'squadron': 1, 'unexplained': 1, 'underwear': 1, 'las': 1, 'muscle': 1, 'england': 1, 'tank': 1, 'pussycat': 1, 'parrot': 1, 'f-l-a-n-r-d-s': 1, 'lugs': 1, 'coast': 1, 'doll-baby': 1, 'rent': 1, 'stolen': 1, 'stepped': 1, 'characteristic': 1, 'nightmare': 1, 'sampler': 1, 'inserts': 1, 'investment': 1, 'snatch': 1, 'stained-glass': 1, 'tones': 1, 'honeys': 1, 'wife-swapping': 1, 'three-man': 1, 'gambler': 1, 'jerk-ass': 1, 'gossipy': 1, 'wrecking': 1, 'chicken': 1, \"somethin':\": 1, '2': 1, 'bills': 1, 'hugh': 1, 'pre-game': 1, 'neighborhood': 1, 'woe:': 1, 'older': 1, 'squirrels': 1, 'pharmaceutical': 1, 'sucker': 1, 'a-lug': 1, 'listened': 1, 'delicately': 1, 'space-time': 1, 'mill': 1, 'bits': 1, 'sideshow': 1, 'crooks': 1, 'doof': 1, 'glitz': 1, 'hitchhike': 1, 'lear': 1, 'statue': 1, 'grinch': 1, 'quimbys:': 1, 'elaborate': 1, \"y'money's\": 1, 'microwave': 1, 'hafta': 1, \"jackpot's\": 1, 'cauliflower': 1, 'stares': 1, 'kazoo': 1, 'doctor': 1, 'newsletter': 1, 'lainie:': 1, 'pronto': 1, \"brady's\": 1, 'mediterranean': 1, 'hiring': 1, 'derisive': 1, 'brag': 1, 'kirk': 1, 'domed': 1, 'clams': 1, \"stallin'\": 1, 'hmf': 1, \"tootin'\": 1, 'moonnnnnnnn': 1, 'official': 1, 'mind-numbing': 1, \"fendin'\": 1, \"tab's\": 1, 'splash': 1, 'blamed': 1, 'cab': 1, 'slurred': 1, 'cupid': 1, 'produce': 1, 'scout': 1, 'solely': 1, 'ebullient': 1, 'self-satisfied': 1, 'encouraged': 1, 'shriners': 1, 'reaction': 1, 'b-day': 1, 'fluoroscope': 1, 'bullet-proof': 1, 'elmer': 1, 'contented': 1, 'disappear': 1, 'slab': 1, 'nibble': 1, 'invisible': 1, 'quimby_#2:': 1, 'upn': 1, \"floatin'\": 1, 'laughter': 1, 'wholeheartedly': 1, 'lipo': 1, 'skydiving': 1, 'polishing': 1, 'hangover': 1, \"spaghetti-o's\": 1, 'apron': 1, 'landlord': 1, 'without:': 1, \"neighbor's\": 1, 'startup': 1, 'old_jewish_man:': 1, 'wish-meat': 1, 'synthesize': 1, \"stealin'\": 1, 'ripping': 1, 'kim_basinger:': 1, 'betrayed': 1, 'kitchen': 1, \"washin'\": 1, 'kings': 1, \"nixon's\": 1, 'followed': 1, 'single-mindedness': 1, 'nuked': 1, 'spreads': 1, 'united': 1, 'colonel:': 1, 'thunder': 1, 'bones': 1, 'kills': 1, 'padres': 1, 'drains': 1, 'getup': 1, 'veteran': 1, 'groveling': 1, 'grudgingly': 1, 'ninety-six': 1, 'protesters': 1, 'unfair': 1, 'hootie': 1, \"tinklin'\": 1, 'fake': 1, 'sneeze': 1, 'bloodball': 1, 'squashing': 1, \"lovers'\": 1, 'cyrano': 1, 'curiosity': 1, 'urban': 1, \"round's\": 1, 'dexterous': 1, 'jam': 1, 'gees': 1, 'zack': 1, 'producers': 1, 'robbers': 1, 'bake': 1, 'dory': 1, 'luckiest': 1, 'five-fifteen': 1, \"hawkin'\": 1, 'brother-in-law': 1, 'done:': 1, 'speed': 1, 'mamma': 1, 'spirit': 1, 'gayer': 1, 'strolled': 1, 'clap': 1, 'terror': 1, 'considers': 1, 'fatty': 1, 'edgy': 1, 'reminded': 1, 'guilt': 1, 'haircuts': 1, 'liability': 1, 'ear': 1, 'remodel': 1, 'squeeze': 1, \"writin'\": 1, 'groan': 1, 'sinkhole': 1, 'eva': 1, 'other_player:': 1, 'louse': 1, 'hoped': 1, 'theatah': 1, 'sanitation': 1, 'reactions': 1, 'ron_howard:': 1, 'boggs': 1, 'indeed': 1, 'direction': 1, 'nail': 1, 'emergency': 1, 'shred': 1, 'getaway': 1, 'lovejoy': 1, 'pretzels': 1, 'handoff': 1, 'parked': 1, 'ronstadt': 1, 'wakede': 1, \"aristotle's\": 1, 'triangle': 1, 'ticks': 1, 'kearney_zzyzwicz:': 1, 'cats': 1, 'bothered': 1, 'average-looking': 1, 'e-z': 1, 'yourse': 1, 'payback': 1, 'richard': 1, 'trash': 1, 'suspiciously': 1, 'healthier': 1, 'wildfever': 1, 'butter': 1, 'bronco': 1, 'apply': 1, 'distaste': 1, 'month': 1, 'whoops': 1, 'halloween': 1, \"professor's\": 1, \"tv'll\": 1, 'repay': 1, 'villanova': 1, 'enveloped': 1, 'shhh': 1, 'absentmindedly': 1, 'defected': 1, 'recent': 1, 'dentist': 1, 'marquee': 1, \"homer'll\": 1, 'musketeers': 1, 'developed': 1, 'runaway': 1, 'blinded': 1, 'ideas': 1, 'expense': 1, \"family's\": 1, 'sells': 1, 'alcoholism': 1, 'ron': 1, 'eighty-five': 1, 'amends': 1, \"wino's\": 1, 'shop': 1, 'eyeing': 1, 'proof': 1, 'indicates': 1, 'generosity': 1, 'relative': 1, 'jokes': 1, 'dna': 1, 'doppler': 1, 'grey': 1, \"nothin's\": 1, 'assume': 1, 'snapping': 1, 'awkwardly': 1, 'evasive': 1, 'winks': 1, 'finance': 1, 'sumatran': 1, 'divorced': 1, 'settlement': 1, 'ballot': 1, 'man_at_bar:': 1, 'wiggle-frowns': 1, 'gargoyles': 1, 'fiction': 1, 'moustache': 1, 'ease': 1, 'breakdown': 1, 'nicer': 1, 'nightmares': 1, 'noosey': 1, 'title:': 1, 'mines': 1, 'unfresh': 1, 'flashing': 1, 'swan': 1, 'hot-rod': 1, 'reconsidering': 1, 'municipal': 1, 'voted': 1, 'soir': 1, 'contemporary': 1, 'sky': 1, 'sharing': 1, 'ignorance': 1, 'sanitary': 1, 'cappuccino': 1, 'unlocked': 1, 'hourly': 1, 'kisser': 1, 'strains': 1, 'birth': 1, 'correction': 1, 'complicated': 1, 'runners': 1, 'cronies': 1, 'awake': 1, 'briefly': 1, 'faceful': 1, 'living': 1, 'mirthless': 1, 'ehhh': 1, 'dropping': 1, 'chow': 1, 'maiden': 1, 'improved': 1, 'limericks': 1, 'atari': 1, 'pink': 1, 'dumbass': 1, 'limits': 1, 'troubles': 1, 'voodoo': 1, \"mo'\": 1, 'youngsters': 1, 'lecture': 1, 'hanh': 1, 'stones': 1, 'itself': 1, 'tokens': 1, 'funeral': 1, 'intelligent': 1, 'cobbling': 1, 'lookalike:': 1, 'jernt': 1, \"somebody's\": 1, 'arrived': 1, 'robin': 1, 'wally': 1, \"ma's\": 1, 'crystal': 1, 'carnival': 1, 'faint': 1, 'dumptruck': 1, 'leftover': 1, 'mater': 1, 'treehouse': 1, 'brown': 1, 'tolerable': 1, 'undermine': 1, \"spyin'\": 1, 'full-blooded': 1, 'radioactive': 1, 'taught': 1, 'indecipherable': 1, 'hardwood': 1, 'prep': 1, 'plums': 1, \"puttin'\": 1, 'peeping': 1, 'wiggle': 1, 'ads': 1, 'waking-up': 1, 'protesting': 1, 'gruesome': 1, 'toxins': 1, 'muhammad': 1, 'chunky': 1, 'lifters': 1, 'runt': 1, 'sagacity': 1, 'ing': 1, 'felony': 1, 'pregnancy': 1, 'chunk': 1, 'states': 1, 'murdoch': 1, 'dads': 1, 'herself': 1, 'sprawl': 1, 'ref': 1, 'expensive': 1, 'surgeonnn': 1, 'crippling': 1, 'gunter': 1, 'jacks': 1, 'len-ny': 1, 'environment': 1, 'cozies': 1, 'anonymous': 1, 'adequate': 1, 'bon': 1, 'barney-guarding': 1, 'hexa-': 1, 'disposal': 1, 'poster': 1, 'hardhat': 1, \"this'll\": 1, 'fustigation': 1, 'beans': 1, 'fist': 1, 'cock': 1, 'option': 1, 'gordon': 1, 'resenting': 1, 'beached': 1, 'kennedy': 1, 'sassy': 1, 'grants': 1, 'repeated': 1, 'mike_mills:': 1, \"changin'\": 1, 'car:': 1, 'ducked': 1, 'amused': 1, 'octa-': 1, 'massive': 1, 'donated': 1, 'booze-bags': 1, 'crowned': 1, 'wage': 1, 'steam': 1, 'choked-up': 1, 'snotty': 1, 'law-abiding': 1, 'cure': 1, 'xx': 1, 'advertising': 1, 'press': 1, 'pretzel': 1, 'rash': 1, 'savvy': 1, 'ceremony': 1, 'sacrilicious': 1, 'lemonade': 1, 'dirge-like': 1, 'nominated': 1, 'fumigated': 1, 'adjust': 1, 'something:': 1, 'cracked': 1, 'supreme': 1, \"brockman's\": 1, 'coyly': 1, 'ho-ly': 1, 'mole': 1, 'journey': 1, 'declared': 1, 'rabbits': 1, \"rasputin's\": 1, 'compressions': 1, 'snail': 1, 'plain': 1, 'tigers': 1, 'heaving': 1, 'burnside': 1, 'savings': 1, 'helpful': 1, \"wearin'\": 1, 'cricket': 1, 'gentle': 1, 'court': 1, 'aristotle:': 1, 'ling': 1, 'homeland': 1, \"something's\": 1, 'dammit': 1, 'rugged': 1, 'onto': 1, 'easygoing': 1, 'venture': 1, 'elite': 1, 'beer-dorf': 1, 'pair': 1, 'presumir': 1, 'souped': 1, 'repairman': 1, 'crotch': 1, 'cavern': 1, 'play/': 1, 'chuck': 1, 'sternly': 1, 'courthouse': 1, '50-60': 1, 'regretted': 1, 'chinese_restaurateur:': 1, 'simple': 1, 'coincidentally': 1, 'chili': 1, 'mckinley': 1, 'overstressed': 1, 'duff_announcer:': 1, 'ab': 1, 'sanctuary': 1, 'butterball': 1, 'mission': 1, 'tourist': 1, 'celeste': 1, '91': 1, 'skoal': 1, 'exits': 1, 'polish': 1, 'manuel': 1, 'bachelor': 1, 'killer': 1, 'captain': 1, 'imitating': 1, 'part-time': 1, 'militia': 1, 'taunting': 1, 'moonshine': 1, 'supermodel': 1, 'poisoning': 1, 'ahhhh': 1, 'phlegm': 1, '-ry': 1, 'whatchacallit': 1, 'gardens': 1, 'filed': 1, 'sponsor': 1, 'hydrant': 1, 'rewound': 1, 'dum-dum': 1, 'intoxicated': 1, 'headhunters': 1, 'impress': 1, 'chin': 1, 'swimming': 1, 'jaegermeister': 1, 'warmth': 1, 'obama': 1, \"pickin'\": 1, 'hyper-credits': 1, 'crowds': 1, 'jobless': 1, \"must've\": 1, 'attach': 1, 'thought_bubble_lenny:': 1, 'watt': 1, 'whim': 1, 'hears': 1, 'continued': 1, \"tap-pullin'\": 1, 'touch': 1, 'prompting': 1, 'helping': 1, 'blimp': 1, 'earlier': 1, 'exclusive:': 1, 'adrift': 1, 'kahlua': 1, 'peaked': 1, 'load': 1, 'chic': 1, 'groin': 1, 'stinky': 1, 'shaved': 1, 'getcha': 1, 'slurps': 1, 'daniel': 1, 'premiering': 1, 'football': 1, 'mocking': 1, \"cleanin'\": 1, 'side:': 1, 'talkative': 1, 'wazoo': 1, 'writer:': 1, 'lowest': 1, 'glowers': 1, 'options': 1, 'blossoming': 1, \"high-falutin'\": 1, 'whoever': 1, 'inherent': 1, 'hearts': 1, 'replaced': 1, 'temples': 1, 'windshield': 1, \"she'll\": 1, \"friend's\": 1, 'bubbles-in-my-nose-y': 1, 'railroads': 1, 'fools': 1, 'disgraceful': 1, 'reckless': 1, 'thirty-thousand': 1, 'jogging': 1, 'sen': 1, 'thousands': 1, 'manboobs': 1, 'estranged': 1, \"raggin'\": 1, \"bettin'\": 1, 'cakes': 1, 'nitwit': 1, 'argue': 1, 'data': 1, 'shareholder': 1, 'killarney': 1, 'dae': 1, 'tuna': 1, 'loneliness': 1, 'ruled': 1, 'warren': 1, 'espn': 1, 'clothespins': 1, 'jackass': 1, 'tactful': 1, 'ninety-eight': 1, 'sleigh-horses': 1, 'affects': 1, 'bell': 1, 'valuable': 1, 'score': 1, 'holidays': 1, 'jelly': 1, 'pretentious_rat_lover:': 1, 'jimmy': 1, 'alec_baldwin:': 1, 'asses': 1, \"'er\": 1, 'guessing': 1, 'lay': 1, 'eggshell': 1, 'presided': 1, \"messin'\": 1, 'unbelievable': 1, 'design': 1, 'refreshing': 1, 'faulkner': 1, 'gear-head': 1, 'boozer': 1, 'lawyer': 1, 'wild': 1, 'ford': 1, 'rebuttal': 1, \"c'mom\": 1, \"'ere\": 1, 'blackjack': 1, 'combination': 1, 'slipped': 1, 'runs': 1, 'mexican': 1, 'meyerhof': 1, 'stengel': 1, \"show's\": 1, 'locklear': 1, 'acquitted': 1, 'düff': 1, 'aer': 1, 'sniper': 1, 'juan': 1, 'heck': 1, 'socialize': 1, 'shtick': 1, 'mirror': 1, 'spine': 1, \"pullin'\": 1, 'glitterati': 1, 'prejudice': 1, 'forbids': 1, 'world-class': 1, 'cuckoo': 1, 'tremendous': 1, 'term': 1, 'suits': 1, 'rented': 1, 'passports': 1, \"edna's\": 1, \"knockin'\": 1, 'bagged': 1, 'feedbag': 1, 'jer': 1, 'author': 1, 'handed': 1, 'barter': 1, 'corkscrews': 1, 'inanely': 1, 'non-losers': 1, 'dazed': 1, 'up-bup-bup': 1, 'colorado': 1, 'glamour': 1, 'thrust': 1, \"renee's\": 1, 'gheet': 1, 'gulliver_dark:': 1, 'and:': 1, 'idioms': 1, 'spender': 1, 'chastity': 1, 'devils:': 1, 'stretches': 1, 'platinum': 1, 'disco_stu:': 1, 'incapable': 1, 'renew': 1, 'karaoke_machine:': 1, 'shush': 1, 'led': 1, 'motor': 1, 'linda_ronstadt:': 1, 'quero': 1, 'conspiracy': 1, 'oooh': 1, 'liable': 1, 'madison': 1, 'drinker': 1, 'employees': 1, 'solved': 1, \"queen's\": 1, 'banquet': 1, 'aghast': 1, 'vermont': 1, 'considering:': 1, 'toe': 1, 'bottoms': 1, 'kirk_voice_milhouse:': 1, 'beady': 1, 'bouquet': 1, 'acceptance': 1, 'privacy': 1, 'predictable': 1, 'assassination': 1, 'rocks': 1, 'femininity': 1, 'apart': 1, 'mailbox': 1, 'diddilies': 1, \"number's\": 1, 'horses': 1, 'burger': 1, 'doom': 1, \"tony's\": 1, 'blokes': 1, 'moe-lennium': 1, 'half-day': 1, 'macho': 1, 'ahem': 1, \"squeezin'\": 1, 'mac-who': 1, 'simplest': 1, 'outrageous': 1, 'renovations': 1, 'kool': 1, 'van': 1, 'technical': 1, 'causes': 1, 'mabel': 1, 'macaulay': 1, 'multi-purpose': 1, 'recap:': 1, 'straighten': 1, \"fishin'\": 1, 'michael': 1, 'ironic': 1, 'moving': 1, 'oww': 1, 'male_singers:': 1, 'hawaii': 1, 'oughtta': 1, 'w-a-3-q-i-zed': 1, 'barber': 1, 'muertos': 1, 'peppers': 1, 'ape-like': 1, 'unattractive': 1, 'sing-song': 1, 'life-extension': 1, 'diminish': 1, 'billingsley': 1, 'peabody': 1, \"nick's\": 1, 'risqué': 1, 'community': 1, 'sight': 1, 'ga': 1, 'bursts': 1, 'besides': 1, 'telephone': 1, 'so-ng': 1, 'crab': 1, 'clench': 1, 'safety': 1, \"sat's\": 1, 'nature': 1, 'feminine': 1, 'panicked': 1, 'bragging': 1, 'lingus': 1, 'flame': 1, 'handwriting': 1, 'politicians': 1, 'wigs': 1, 'motto': 1, 'xanders': 1, 'eats': 1, 'cockroach': 1, 'vacations': 1, 'jams': 1, 'scrubbing': 1, 'effervescence': 1, \"pressure's\": 1, 'high-definition': 1, 'dozen': 1, 'muscles': 1, 'rueful': 1, 'metal': 1, 'ignorant': 1, 'add': 1, 'th-th-th-the': 1, 'ineffective': 1, 'frankie': 1, 'reluctantly': 1, 'carpet': 1, 'exited': 1, 'difference': 1, 'fontaine': 1, 'pro': 1, 'wishful': 1, 'frink-y': 1, 'cans': 1, 'miracle': 1, 'freely': 1, 'statesmanlike': 1, 'sub-monkeys': 1, 'attractive_woman_#1:': 1, 'grateful': 1, 'praise': 1, 'aggie': 1, 'giant': 1, \"stabbin'\": 1, 'kickoff': 1, 'hounds': 1, 'universe': 1, 'twerpy': 1, 'barbara': 1, 'furry': 1, \"'ceptin'\": 1, 'seamstress': 1, 'relaxed': 1, 'savagely': 1, 'measure': 1, 'frankenstein': 1, 'splendid': 1, 'eight-year-old': 1, 'equivalent': 1, 'sketching': 1, 'lease': 1, 'cushions': 1, 'vengeful': 1, 'chorus:': 1, 'ignoring': 1, 'nbc': 1, 'hah': 1, 'piano': 1, 'pontiff': 1, \"playin'\": 1, 'applesauce': 1, \"fightin'\": 1, 'pointy': 1, 'rug': 1, 'depressed': 1, 'con': 1, \"'s\": 1, 'glyco-load': 1, 'name:': 1, 'mural': 1, 'all-american': 1, 'temple': 1, 'pronounce': 1, 'pantsless': 1, 'overflowing': 1, 'pancakes': 1, 'victim': 1, 'congratulations': 1, 'brace': 1, 'fire_inspector:': 1, 'non-american': 1, 'chubby': 1, 'eu': 1, 'warning': 1, 'hottest': 1, 'blur': 1, 'desperately': 1, 'phrase': 1, 'cup': 1, 'twenty-six': 1, \"tonight's\": 1, 'limber': 1, 'waste': 1, 'consoling': 1, 'incriminating': 1, 'catty': 1, \"department's\": 1, '70': 1, 'numeral': 1, \"disrobin'\": 1, 'full-time': 1, 'anderson': 1, 'schmoe': 1, 'rip-off': 1, 'legoland': 1, 'peeved': 1, 'winning': 1, 'displeased': 1, \"speakin'\": 1, 'bathtub': 1, 'tragedy': 1, 'engraved': 1, 'doy': 1, 'west': 1, 'when-i-get-a-hold-of-you': 1, 'chug-monkeys': 1, 'issues': 1, 'tense': 1, \"s'cuse\": 1, 'fiiiiile': 1, 'congoleum': 1, 'lighten': 1, 'photos': 1, 'published': 1, 'aidens': 1, 'addiction': 1, \"yesterday's\": 1, 'fruit': 1, 'alma': 1, 'souvenir': 1, 'vengeance': 1, \"'roids\": 1, 'exploiter': 1, \"lady's\": 1, 'mull': 1, 'cajun': 1, 'pusillanimous': 1, 'tow-talitarian': 1, 'enter': 1, 'jumping': 1, 'sucks': 1, 'cross-country': 1, 'boston': 1, \"mopin'\": 1, 'samples': 1, 'charter': 1, 'picky': 1, 'cuddling': 1, 'edge': 1, 'nascar': 1, 'vampire': 1, 'treats': 1, 'pushes': 1, 'twenty-nine': 1, 'radical': 1, 'dramatically': 1, \"mecca's\": 1, 'drop-off': 1, 'pretend': 1, 'bedtime': 1, 'novel': 1, 'picked': 1, 'buyer': 1, 'awfully': 1, 'splattered': 1, 'coin': 1, 'pre-columbian': 1, 'wikipedia': 1, 'cushion': 1, 'harmony': 1, 'laney': 1, 'politician': 1, 'eurotrash': 1, 'hose': 1, 'conversion': 1, 'noble': 1, 'applicant': 1, 'kenny': 1, 'stage': 1, 'elves:': 1, 'fonda': 1, 'tyson/secretariat': 1, 'cigars': 1, 'compare': 1, 'sixty-five': 1, 'tapered': 1, 'kick-ass': 1, 'publishers': 1, 'thorn': 1, 'droning': 1, 'eww': 1, 'smuggled': 1, 'offa': 1, 'my-y-y-y-y-y': 1, 'sideshow_bob:': 1, 'figure': 1, 'dumbest': 1, 'opens': 1, 'roz': 1, 'ungrateful': 1, 'slaves': 1, 'prettiest': 1, 'boxcar': 1, 'trainers': 1, 'compete': 1, 'incredible': 1, \"'round\": 1, 'blob': 1, 'exciting': 1, 'tornado': 1, 'strips': 1, 'prayers': 1, 'hat': 1, 'dumbbell': 1, 'shreda': 1, 'banned': 1, 'over-pronouncing': 1, 'hemorrhage-amundo': 1, 'optimistic': 1, 'gil_gunderson:': 1, \"grandmother's\": 1, 'pen': 1, '1-800-555-hugs': 1, 'heave-ho': 1, 'enthusiasm': 1, 'moe-ron': 1, 'thomas': 1, 'dimly': 1, 'iran': 1, 'adjourned': 1, 'illustrates': 1, 'sealed': 1, 'tapestry': 1, 'generously': 1, 'deals': 1, \"can't-believe-how-bald-he-is\": 1, 'criminal': 1, 'weather': 1, 'facebook': 1, 'courts': 1, 'saget': 1, 'yak': 1, 'gimmicks': 1, 'annie': 1, 'silent': 1, 'species': 1, 'patron_#2:': 1, 'rat-like': 1, '35': 1, \"somethin's\": 1, 'ideal': 1, 'novelty': 1, 'tv_daughter:': 1, 'debonair': 1, 'griffith': 1, 'choked': 1, 'introduce': 1, 'singing/pushing': 1, 'johnny': 1, 'flailing': 1, 'marshmallow': 1, 'protestantism': 1, 'physical': 1, 'separator': 1, 'tv-station_announcer:': 1, 'post-suicide': 1, 'worthless': 1, \"bart'd\": 1, 'romance': 1, 'boozehound': 1, 'yew': 1, 'naegle': 1, 'coal': 1, 'thnord': 1, 'stairs': 1, 'killing': 1, 'popping': 1, 'dogs': 1, 'foundation': 1, 'insecure': 1, 'woodchucks': 1, 'restless': 1, 'lager': 1, 'wad': 1, 'depressing': 1, 'contract': 1, 'inexorable': 1, 'oddest': 1, 'judges': 1, 'equal': 1, 'persia': 1, 'lizard': 1, \"soundin'\": 1, '50%': 1, \"school's\": 1, \"cheerin'\": 1, 'forgets': 1, 'youuu': 1, '_marvin_monroe:': 1, 'scrutinizing': 1, 'telegraph': 1, 'lift': 1, 'according': 1, 'various': 1, 'permanent': 1, 'intention': 1, \"president's\": 1, 'montrer': 1, 'activity': 1, 'kako:': 1, \"wouldn't-a\": 1, 'richer': 1, 'playoff': 1, 'sentimonies': 1, 'comedies': 1, 'whispered': 1, 'sobriety': 1, 'twelveball': 1, 'methinks': 1, 'crunch': 1, 'vigilante': 1, 'venom': 1, 'flames': 1, 'eightball': 1, 'jasper_beardly:': 1, 'excuses': 1, 'disgracefully': 1, 'nonchalant': 1, 'charges': 1, 'pall': 1, 'son-of-a': 1, 'please/': 1, 'ripper': 1, 'north': 1, 'busiest': 1, 'puke-holes': 1, 'arrange': 1, 'sympathy': 1, 'infatuation': 1, 'march': 1, 'gallon': 1, 'retain': 1, 'information': 1, 'lindsay': 1, 'assumed': 1, 'admirer': 1, 'innocence': 1, 'anyhow': 1, 'attractive_woman_#2:': 1, \"eatin'\": 1, \"cupid's\": 1, 'theory': 1, 'badly': 1, 'ointment': 1, 'tire': 1, 'raining': 1, 'volunteer': 1, 'soothing': 1, 'stewart': 1, 'schemes': 1, 'patting': 1, 'blank': 1, 'oh-so-sophisticated': 1, 'slays': 1, 'flash': 1, 'trustworthy': 1, 'neighbors': 1, 'takeaway': 1, 'maude': 1, 'endorsement': 1, 'occasional': 1, 'pre-recorded': 1, 'piling': 1, 'togetherness': 1, 'lookalike': 1, 'profiling': 1, 'whatchamacallit': 1, 'computer_voice_2:': 1, 'rump': 1, 'committing': 1, 'unsourced': 1, 'hammock': 1, 'refreshingness': 1, 'allowance': 1, 'bar:': 1, 'yelp': 1, 'humiliation': 1, 'shesh': 1, 'remote': 1, 'corn': 1, 'horror': 1, 'four-drink': 1, 'nonchalantly': 1, 'eminence': 1, 'stumble': 1, 'sucking': 1, 'caveman': 1, 'assert': 1, 'possessions': 1, \"mcstagger's\": 1, 'er': 1, 'fired': 1, 'slapped': 1, 'plucked': 1, 'host': 1, 'bachelorette': 1, 'ireland': 1, 'actress': 1, 'comforting': 1, 'sang': 1, 'yoink': 1, 'cuff': 1, 'hairs': 1, 'stats': 1, 'deli': 1, 'comeback': 1, 'freaky': 1, 'poplar': 1, 'avec': 1, 'begging': 1, 'a-b-': 1, 'aunt': 1, 'newest': 1, 'fistiana': 1, 'western': 1, 'tease': 1, 'fantastic': 1, 'sobo': 1, 'expose': 1, 'lovers': 1, 'smiled': 1, 'tanking': 1, 'seething': 1, 'bugs': 1, 'decision': 1, 'drinking:': 1, 'hoagie': 1, 'meteor': 1, 'sloe': 1, 'microbrew': 1, 'basement': 1, 'lifts': 1, 'fwooof': 1, 'rub-a-dub': 1, 'temp': 1, 'solves': 1, 'maxed': 1, 'chipper': 1, 'reed': 1, 'earpiece': 1, 'wisconsin': 1, 'womb': 1, 'dejected': 1, 'scram': 1, 'combines': 1, 'tracks': 1, 'infiltrate': 1, 'lobster-politans': 1, '14': 1, 'ribbon': 1, \"i'unno\": 1, 'effect': 1, 'moonlight': 1, 'hops': 1, 'haws': 1, 'musical': 1, 'churchy': 1, 'macgregor': 1, 'shoulda': 1, 'startled': 1, 'revenge': 1, 'dingy': 1, 'punching': 1, \"city's\": 1, 'windowshade': 1, 'hotenhoffer': 1, 'hillbillies': 1, 'sagely': 1, 'however': 1, 'sickly': 1, '_burns_heads:': 1, 'spiritual': 1, 'theatrical': 1, \"i-i'll\": 1, 'reflected': 1, 'log': 1, 'klown': 1, 'releasing': 1, 'closet': 1, 'monday': 1, 'boxers': 1, 'sudoku': 1, 'certified': 1, 'sink': 1, 'carlotta:': 1, 'glummy': 1, 'mayan': 1, 'anti-intellectualism': 1, 'clips': 1, 'paintings': 1, 'stupidly': 1, 'it:': 1, 'sperm': 1, 'chew': 1, 'elect': 1, 'lungs': 1, 'edner': 1, 'nelson': 1, '3rd_voice:': 1, 'mmm-hmm': 1, 'hammy': 1, 'shelf': 1, 'malibu': 1, 'insurance': 1, 'prints': 1, \"snappin'\": 1, 'enlightened': 1, 'fondest': 1, 'low-blow': 1, 'brotherhood': 1, 'hotel': 1, 'specialists': 1, \"jimbo's_dad:\": 1, 'adventure': 1, 'blind': 1, 'aerospace': 1, 'cowboy': 1, 'mither': 1, 'tha': 1, 'easy-going': 1, 'blissful': 1, 'east': 1, 'beefs': 1, 'occurred': 1, 'toy': 1, 'micronesian': 1, 'heartily': 1, 'ivanna': 1, 'sustain': 1, 'other_book_club_member:': 1, 'highest': 1, 'aziz': 1, 'appreciated': 1, 'martini': 1, 'farewell': 1, 'mild': 1, 'pawed': 1, 'countryman': 1, 'lead': 1, 'wasted': 1, 'unjustly': 1, 'meditative': 1, 'gregor': 1, 'man_with_crazy_beard:': 1, 'cursed': 1, 'highball': 1, 'regulations': 1, 'knowingly': 1, 'nor': 1, 'super-genius': 1, 'counterfeit': 1, 'washouts': 1, 'slick': 1, 'logos': 1, 'i/you': 1, \"hobo's\": 1, \"aren'tcha\": 1, 'peter_buck:': 1, 'caholic': 1, 'broken:': 1, 'pinball': 1, 'belts': 1, 'flown': 1, 'beer-jerks': 1, 'haiti': 1, 'wise': 1, 'verdict': 1, 'chip': 1, 'planned': 1, 'unable': 1, 'crimes': 1, \"i'd'a\": 1, 'duke': 1, 'rutabaga': 1, 'ends': 1, 'frazier': 1, 'emotion': 1, 'agency': 1, 'priority': 1, 'earrings': 1, 'freed': 1, 'stiffening': 1, 'stripes': 1, 'rascals': 1, 'finale': 1, 'gr-aargh': 1, 'oh-ho': 1, 'dirty': 1, 'traitors': 1, 'bowie': 1, \"rentin'\": 1, 'dregs': 1, 'squeals': 1, 'ne': 1, 'guard': 1, 'abercrombie': 1, 'issuing': 1, 'training': 1, 'slit': 1, 'meals': 1, 'sun': 1, 'marjorie': 1, 'inserted': 1, 'six-barrel': 1, 'americans': 1, 'puke-pail': 1, 'graveyard': 1, 'sooo': 1, 'reward': 1, 'support': 1, 'paper': 1, 'beanbag': 1, 'meaningfully': 1, 'shout': 1, 'notices': 1, 'radiation': 1, 'package': 1, 'phony': 1, '21': 1, 'mitts': 1, 'answered': 1, 'presidential': 1, 'carey': 1, 'polygon': 1, 'ehhhhhhhhh': 1, 'rector': 1, 'curse': 1, 'unearth': 1, 'string': 1, 'luv': 1, \"handwriting's\": 1, 'presents': 1, 'attached': 1, 'poured': 1, 'dealie': 1, 'consulting': 1, 'roy': 1, \"'your\": 1, 'sweetest': 1, 'disappointment': 1, 'spotting': 1, 'monroe': 1, \"soakin's\": 1, 's-a-u-r-c-e': 1, 'intriguing': 1, 'sacajawea': 1, 'intervention': 1, 'brain-switching': 1, 'thoughtless': 1, 'contemptuous': 1, 'strokkur': 1, 'intruding': 1, 'royal': 1, 'blaze': 1, 'quebec': 1, 'jacksons': 1, 'raking': 1, 'singer': 1, 'interesting': 1, 'stan': 1, 'wind': 1, 'experience': 1, 'ghouls': 1, 'stamp': 1, 'beings': 1, '3': 1, '530': 1, 'tin': 1, 'grace': 1, 'ecru': 1, 'patrons': 1, 'undies': 1, 'stomach': 1, 'investigating': 1, 'puffy': 1, 'defiantly': 1, 'authenticity': 1, 'make:': 1, 'diablo': 1, 'nooo': 1, 'common': 1, 'picnic': 1, 'patrons:': 1, 'tomato': 1, 'lushmore': 1, \"wait'll\": 1, 'lists': 1, 'science': 1, 'depending': 1, 'pinchpenny': 1, 'clapping': 1, 'aisle': 1, 'rupert_murdoch:': 1, 'maher': 1, 'whatsit': 1, 'passenger': 1, 'lady_duff:': 1, 'roach': 1, 'female_inspector:': 1, 'neighboreeno': 1, 'rhode': 1, 'golden': 1, 'hillary': 1, \"man'd\": 1, 'goldarnit': 1, 'blooded': 1, 'swooning': 1, 'dislike': 1, 'whup': 1, 'customers-slash-only': 1, 'lessee': 1, 'way:': 1, 'researching': 1, 'twenty-four': 1, 'wittgenstein': 1, 'sponge': 1, 'specified': 1, 'located': 1, 'eco-fraud': 1, 'swigmore': 1, 'hateful': 1, 'read:': 1, 'pizza': 1, 'bites': 1, 'remembers': 1, 'sneak': 1, 'minors': 1, 'encores': 1, 'augustus': 1, 'broncos': 1, 'mobile': 1, 'scratcher': 1, 'alternative': 1, 'looting': 1, 'items': 1, 'heatherton': 1, 'commit': 1, 'buddha': 1, 'sheets': 1, 'carny:': 1, 'madonna': 1, 'salvador': 1, 'sensible': 1, 'transylvania': 1, \"d'ya\": 1, 'hero-phobia': 1, 'errrrrrr': 1, 'squeezed': 1, 'coughs': 1, 'bide': 1, 'lovelorn': 1, \"d'\": 1, 'harvard': 1, 'accelerating': 1, 'swimmers': 1, 'unusually': 1, 'huddle': 1, 'thirty-five': 1, 'painted': 1, 'crisis': 1, 'jeter': 1, 'donate': 1, 'appeals': 1, 'skills': 1, 'chug-a-lug': 1, 'philosophical': 1, 'knuckles': 1, 'simon': 1, 'average': 1, 'occurrence': 1, \"she'd\": 1, 'wienerschnitzel': 1, 'africanized': 1, 'nick': 1, 'sunk': 1, 'magnanimous': 1, 'typed': 1, '1979': 1, 'sounded': 1, 'civil': 1, 'loathe': 1, 'amnesia': 1, 'tasty': 1, 'cobra': 1, 'stores': 1, 'hockey-fight': 1, 'asleep': 1, 'predecessor': 1, 'shark': 1, 'fainted': 1, 'hustle': 1, 'dennis': 1, 'hollowed-out': 1, 'dictator': 1, \"bringin'\": 1, 'multi-national': 1, \"america's\": 1, 'escort': 1, 'including': 1, 'lee': 1, 'subscriptions': 1, 'wistful': 1, \"battin'\": 1, 'showed': 1, 'thrilled': 1, 'discriminate': 1, 'gore': 1, 'ashtray': 1, 'drunkening': 1, 'bedridden': 1, 'shorter': 1, 'badmouths': 1, \"tree's\": 1, 'punishment': 1, 'dea-d-d-dead': 1, \"bashir's\": 1, 'cosmetics': 1, 'perfected': 1, 'angrily': 1, 'frescas': 1, 'leonard': 1, 'rickles': 1, 'foodie': 1, 'relaxing': 1, 'champs': 1, 'gentles': 1, 'stooges': 1, 'flourish': 1, 'naval': 1, 'owes': 1, 'occupied': 1, 'mostly': 1, 'totalitarians': 1, 'roller': 1, \"murphy's\": 1, 'jeff_gordon:': 1, 'affection': 1, 'break-up': 1, 'stripe': 1, 'ninety-nine': 1, 'one-hour': 1, 'manfred': 1, 'frontrunner': 1, 'bulletin': 1, \"hell's\": 1, 'unsafe': 1, 'feminist': 1, 'giggle': 1, 'tow': 1, 'hub': 1, 'hundreds': 1, \"coffee'll\": 1, 'saucy': 1, 'director:': 1, 'plaintive': 1, 'hearse': 1, 'flea:': 1, 'meaningless': 1, 'softer': 1, 'jay': 1, 'espousing': 1, 'pigtown': 1, 'moon-bounce': 1, 'bookie': 1, \"liberty's\": 1, 'fastest': 1, 'dateline': 1, 'disguised': 1, 'leno': 1, 'birthplace': 1, 'southern': 1, 'hardy': 1, 'binoculars': 1, \"foolin'\": 1, 'goo': 1, 'rasputin': 1, 'tied': 1, 'aggravazes': 1, 'shindig': 1, 'brunch': 1, 'experiments': 1, 'helpless': 1, 'surprising': 1, 'irishman': 1, 'yells': 1, 'adult': 1, 'super-tough': 1, 'tummies': 1, 'boyhood': 1, 'jig': 1, 'specializes': 1, 'santeria': 1, 'practically': 1, 'moolah-stealing': 1, 'wowww': 1, 'musses': 1, 'occupation': 1, 'tight': 1, 'presently': 1, 'represents': 1, \"dimwit's\": 1, 'be-stainèd': 1, 'model': 1, 'lime': 1, 'spelling': 1, 'mini-dumpsters': 1, 'celebration': 1, 'sail': 1, 'cocking': 1, 'philosophic': 1, 'guts': 1, 'voicemail': 1, 'burt_reynolds:': 1, 'life-threatening': 1, 'larson': 1, 'sidelines': 1, 'fica': 1, 'playhouse': 1, 'buffet': 1, 'bleacher': 1, 'starve': 1, 'korea': 1, 'usual': 1, 'instrument': 1, \"treatin'\": 1, 'shrieks': 1, 'stein-stengel-': 1, 'soaking': 1, 'good-looking': 1, 'ali': 1, 'smiles': 1, 'aah': 1, 'ruint': 1, 'determined': 1, 'paints': 1, 'rancid': 1, 'poetics': 1, \"larry's\": 1, 'insured': 1, 'sued': 1, 'alva': 1, 'flush-town': 1, 'hook': 1, 'mock-up': 1, 'perfunctory': 1, 'incarcerated': 1, 'sensitivity': 1, 'anti-lock': 1, \"should've\": 1, 'fink': 1, 'brockelstein': 1, 'grandé': 1, 'cheaper': 1, 'choices': 1, 'majesty': 1, \"breakin'\": 1, 'scores': 1, 'thawing': 1, 'labor': 1, 'two-thirds-empty': 1, 'coma': 1, 'disturbance': 1, 'chinua': 1, 'buddies': 1, 'mouths': 1, 'appreciate': 1, 'reaches': 1, 'saving': 1, 'billiard': 1, 'extinguishers': 1, 'gestated': 1, 'refreshment': 1, 'breakfast': 1, 'throats': 1, 'canoodling': 1, 'unsanitary': 1, 'ratio': 1, 'upsetting': 1, 'de': 1, 'nemo': 1, 'apology': 1, 'clincher': 1, 'rem': 1, 'capitalists': 1, 'occasion': 1, 'vehicle': 1, 'eye-gouger': 1, 'ugh': 1, 'youth': 1, 'albert': 1, 'sponsoring': 1, 'pictured': 1, 'drift': 1, 'erasers': 1, 'hangout': 1, 'calvin': 1, 'grains': 1, 'quadruple-sec': 1, \"england's\": 1, 'exultant': 1, 'explanation': 1, 'cocks': 1, 'homeless': 1, 'night-crawlers': 1, 'ram': 1, \"'\": 1, 'quarter': 1, \"that'd\": 1, 'orphan': 1, 'plastered': 1, 'said:': 1, 'mix': 1, 'officer': 1, 'stalin': 1, 'completely': 1, 'alky': 1, 'snide': 1, 'snout': 1, 'half-beer': 1, 'brooklyn': 1, 'poin-dexterous': 1, 'emphasis': 1, 'attend': 1, 'beyond': 1, 'dint': 1, 'orifice': 1, 'pews': 1, 'uglier': 1, 'unforgettable': 1, 'choke': 1, 'coherent': 1, 'distract': 1, 'thirsty': 1, 'ehhhhhh': 1, 'supports': 1, 'gus': 1, 'bon-bons': 1, 'mellow': 1, 'attractive': 1, '_eugene_blatz:': 1, 'ohhhh': 1, 'fights': 1, 'competitive': 1, 'medieval': 1, 'rainforest': 1, \"smackin'\": 1, 'tidy': 1, 'what-for': 1, 'and/or': 1, 'deny': 1, \"scammin'\": 1, 'hampstead-on-cecil-cecil': 1, 'scoffs': 1, 'abe': 1, 'lincoln': 1, \"car's\": 1, 'alien': 1, 'pip': 1, 'housework': 1, 'mice': 1, 'shakes': 1, 'releases': 1, 'frightened': 1, 'ivy-covered': 1, 'wudgy': 1, 'dipping': 1, 'recreate': 1, 'strain': 1, 'hers': 1, 'backing': 1, 'gift:': 1, 'potatoes': 1, 'sloppy': 1, 'marry': 1, 'rush': 1, 'hammer': 1, 'country': 1, 'manatee': 1, 'allegiance': 1, 'begin': 1, 'milhouses': 1, 'scornful': 1, 'floating': 1, 'modest': 1, 'beards': 1, 'badge': 1, 'wacky': 1, 'fry': 1, 'kinds': 1, 'bowled': 1, 'declare': 1, 'designer': 1, 'teriyaki': 1, 'interrupting': 1, 'au': 1, 'jane': 1, 'wars': 1, 'transmission': 1, 'partners': 1, 'hooters': 1, 'lifetime': 1, \"duelin'\": 1, 'button-pusher': 1, 'justify': 1, 'limited': 1, 'murdered': 1, 'cocoa': 1, 'stamps': 1, 'alarm': 1, 'triple-sec': 1, 'odor': 1, 'leak': 1, 'certainly': 1, 'increased': 1, 'languages': 1, 'monkeyshines': 1, 'trunk': 1, 'fourteen:': 1, \"b-52's:\": 1, 'warned': 1, 'reality': 1, 'diets': 1, 'breathless': 1, 'glee': 1, 'tobacky': 1, 'eyeballs': 1, 'immiggants': 1, 'sending': 1, 'smelling': 1, 'benjamin': 1, 'rome': 1, 'recipe': 1, 'cologne': 1, \"hole'\": 1, \"rustlin'\": 1, 'hunger': 1, 'snitch': 1, 'flynt': 1, 'aiden': 1, 'kidnaps': 1, 'tiger': 1, 'liven': 1, 'fence': 1, 'u2:': 1, \"tramp's\": 1, 'uniforms': 1, 'derek': 1, 'tearfully': 1, 'jägermeister': 1, 'swings': 1, 'de-scramble': 1, 'jackson': 1, 'knuckle-dragging': 1, 'manipulation': 1, 'nelson_muntz:': 1, 'j': 1, 'dignity': 1, 'righ': 1, 'sight-unseen': 1, 'plane': 1, 'bindle': 1, 'portfolium': 1, 'furiously': 1, 'test-lady': 1, 'uhhhh': 1, 'tolerance': 1, 'nfl_narrator:': 1, 'starlets': 1, 'thing:': 1, 'lennyy': 1, 'yellow-belly': 1, 'gin-slingers': 1, 'scent': 1, \"fans'll\": 1, 'pumping': 1, 'afterglow': 1, 'y-you': 1, 'ralphie': 1, 'comment': 1, 'lenford': 1, 'crowbar': 1, 'buzz': 1, 'modestly': 1, 'clearing': 1, 'signed': 1, 'guzzles': 1, 'reunion': 1, 'crayon': 1, 'caper': 1, 'remorseful': 1, 'nerd': 1, 'everyday': 1, 'short_man:': 1, 'touches': 1, 'bonding': 1, 'blobbo': 1, 'half-back': 1, 'chained': 1, 'offensive': 1, 'rockers': 1, 'choose': 1, 'intimacy': 1, 'inquiries': 1, 'dash': 1, 'loboto-moth': 1, 'eddie': 1, 'feisty': 1, 'build': 1, 'depression': 1, \"'kay-zugg'\": 1, 'shutup': 1, 'looooooooooooooooooong': 1, 'shyly': 1, 'tasimeter': 1, 'fears': 1, 'ho-la': 1, 'transfer': 1, \"man's_voice:\": 1, 'spamming': 1, 'distance': 1, \"liftin'\": 1, 'online': 1, 'swe-ee-ee-ee-eet': 1, \"when's\": 1, 'collateral': 1, 'key': 1, 'grandkids': 1, 'flustered': 1, 'entertainer': 1, 'prices': 1, 'creepy': 1, 'branding': 1, 'mccall': 1, 'injury': 1, 'uses': 1, 'annus': 1, 'louisiana': 1, 'weep': 1, 'gibson': 1, 'strawberry': 1, 'smelly': 1, 'you-need-man': 1, 'meaning': 1, 'fdic': 1, 'valley': 1, 'voyager': 1, 'darn': 1, 'onassis': 1, 'founded': 1, 'suspended': 1, 'unhook': 1, 'quarterback': 1, \"tatum'll\": 1, 'dejected_barfly:': 1, 'wolveriskey': 1, 'brakes': 1, 'art': 1, 'beef': 1, 'shill': 1, 'glorious': 1, 'browns': 1, 'network': 1, 'mostrar': 1, 'forced': 1, 'mozzarella': 1, 'mint': 1, 'joy': 1, 'jazz': 1, 'sweetie': 1, 'prettied': 1, 'sizes': 1, 'chateau': 1, \"phone's\": 1, 'fringe': 1, 'winces': 1, 'agent_miller:': 1, 'pile': 1, 'disappointing': 1, 'arse': 1, 'virile': 1, 'signal': 1, 'slot': 1, 'divine': 1, 'starving': 1, 'mahatma': 1, 'fortune': 1, 'jury': 1, 'arimasen': 1, 'hilton': 1, 'creates': 1, 'links': 1, 'byrne': 1, 'outs': 1, 'shopping': 1, 'dumb-asses': 1, 'massage': 1, \"usin'\": 1, 'lou': 1, 'spews': 1, 'wham': 1, 'cheryl': 1, 'cecil': 1, 'forecast': 1, 'artist': 1, 'lanes': 1, 'bannister': 1, 'hellhole': 1, 'chauffeur:': 1, 'pretends': 1, 'quitcher': 1, 'dawning': 1, 'slaps': 1, 'tall': 1, 'excavating': 1, 'simpsons': 1, 'horns': 1, 'dies': 1, 'grease': 1, 'inches': 1, 'nailed': 1, 'genuinely': 1, 'bulldozing': 1, 'young_barfly:': 1, 'tropical': 1, 'eyed': 1, 'file': 1, 'ze-ro': 1, 'steinbrenner': 1, 'democrats': 1, 'decided': 1, 'soaps': 1, 'natured': 1, 'updated': 1, 'scientific': 1, 'stops': 1, 'bellyaching': 1, 'libido': 1, 'buds': 1, 'steamed': 1, 'face-macer': 1, 'bumpy-like': 1, 'influence': 1, 'choice:': 1, 'zone': 1, 'brings': 1, 'damage': 1, 'twentieth': 1, 'lis': 1, 'whaaaa': 1, 'personal': 1, 'loafers': 1, 'sketch': 1, 'th': 1, 'michael_stipe:': 1, 'worldly': 1, 'choices:': 1, 'tonic': 1, 'refinanced': 1, 'sweater': 1, '8': 1, 'reader': 1, 'hippies': 1, 'indeedy': 1, 'mulder': 1, 'hideous': 1, 'committee': 1, 'sister-in-law': 1, 'anxious': 1, 'timbuk-tee': 1, 'insults': 1, 'childless': 1, 'cecil_terwilliger:': 1, 'suffering': 1, 'albeit': 1, 'spooky': 1, 'parents': 1, 'exhale': 1, 'pills': 1, 'confession': 1, 'mumble': 1, 'lachrymose': 1, 'mariah': 1, 'schorr': 1, 'trade': 1, 'forty-five': 1, 'well-wisher': 1, \"s'okay\": 1, 'iddilies': 1, 'nordiques': 1, 'most:': 1, 'small_boy:': 1, 'pledge': 1, 'h': 1, 'today/': 1, 'supplying': 1, 'infestation': 1, 'ore': 1, 'trapping': 1, 'tons': 1, 'urge': 1, 'swell': 1, 'damned': 1, \"plaster's\": 1, 'statistician': 1, 'plug': 1, 'event': 1, 'chapel': 1, 'mathis': 1, 'fishing': 1, 'astronauts': 1, 'fills': 1, 'bounced': 1, 'buttocks': 1, 'old-time': 1, 'enthusiastically': 1, 'ummmmmmmmm': 1, 'often': 1, 'tying': 1, 'insulin': 1, 'convenient': 1, 'example': 1, 'resolution': 1, 'rain': 1, 'kentucky': 1, 'silence': 1, 'powers': 1, \"calf's\": 1, 'toms': 1, 'notice': 1, 'travel': 1, 'dictating': 1, 'ivory': 1, 'advertise': 1, 'allow': 1, 'wishing': 1, \"heat's\": 1, 'snackie': 1, 'batmobile': 1, 'donor': 1, \"tomorrow's\": 1, 'initially': 1, 'patron_#1:': 1, 'stay-puft': 1, 'teacup': 1, 'rolls': 1, 'junebug': 1, 'dreamily': 1, 'nickel': 1, 'mags': 1, 'chuckling': 1, 'device': 1, 'suave': 1, 'firing': 1, 'cerebral': 1, \"plank's\": 1, 'app': 1, 'problemo': 1, 'inning': 1, 'pajamas': 1, 'squishee': 1, 'clandestine': 1, 'fund': 1, 'tablecloth': 1, 'yuh-huh': 1, 'suburban': 1, 'imaginary': 1, 'dizer': 1, 'self-centered': 1, 'nantucket': 1, 'dyspeptic': 1, 'beer:': 1, 'jerking': 1, \"g'on\": 1, 'liquor': 1, 'exhibit': 1, 'sixteen': 1, 'iranian': 1, 'theme': 1, 'ees': 1, 'oblivious': 1, 'tear': 1, 'parasol': 1, 'winston': 1, 'sweat': 1, 'co-sign': 1, 'beard': 1, 'entrance': 1, 'forgotten': 1, 'sorts': 1, 'p-k': 1, 'connor-politan': 1, 'carolina': 1, \"fine-lookin'\": 1, \"enjoyin'\": 1, 'spare': 1, 'clown-like': 1, 'ruby-studded': 1, 'oak': 1, 'hooray': 1, 'stocking': 1, 'bobo': 1, 'mis-statement': 1, 'clothespins:': 1, 'stays': 1, 'cleaning': 1, 'crowded': 1, 'total': 1, 'missing': 1, 'rims': 1, 'two-drink': 1, 'spitting': 1, 'op': 1, 'archaeologist': 1, 'legally': 1, 'skunk': 1, 'cause': 1, 'lone': 1, 'symphonies': 1, 'tow-joes': 1, 'champignons': 1, 'and-and': 1, 'expecting': 1, 'error': 1, \"'now\": 1, 'pepto-bismol': 1, 'family-owned': 1, 'assent': 1, 'watashi': 1, 'life-sized': 1, 'moe-near-now': 1, 'rings': 1, 'gig': 1, 'traitor': 1, 'surprised/thrilled': 1, 'man_with_tree_hat:': 1, '$42': 1, 'scientists': 1, 'delts': 1, 'judgments': 1, 'lodge': 1, 'sharity': 1, 'falling': 1, 'lifestyle': 1, 'viva': 1, 'sidekick': 1, 'illegally': 1, 'sixty': 1, 'bluff': 1, 'experienced': 1, '4x4': 1, 'expired': 1, 'rivalry': 1, \"'morning\": 1, 'believer': 1, 'john': 1, 'dateline:': 1, 'material': 1, 'jewish': 1, 'decide:': 1, 'she-pu': 1, 'cliff': 1, 'wondered': 1, 'feld': 1, 'colossal': 1, 'spits': 1, 'mistresses': 1, 'gluten': 1, 'boned': 1, 'irs': 1, 'four-star': 1, 'walked': 1, 'botanical': 1, 'fierce': 1, 'bumped': 1, 'winch': 1, 'open-casket': 1, 'burg': 1, 'quick-like': 1, 'edna-lover-one-seventy-two': 1, 'brine': 1, \"table's\": 1, 'slobs': 1, \"how're\": 1, \"askin'\": 1, 'steampunk': 1, 'cannoli': 1, \"now's\": 1, 'shelbyville': 1, \"life's\": 1, 'emporium': 1, 'demo': 1, 'whistling': 1, 'fountain': 1, 'necessary': 1, 'navy': 1, 'quarry': 1, 'locked': 1, 'wipes': 1, 'pyramid': 1, 'chips': 1, 'muffled': 1, 'victorious': 1, 'bras': 1, 'greatly': 1, 'tree_hoper:': 1, 'obsessive-compulsive': 1, \"stayin'\": 1, 'fail': 1, 'slender': 1, 'presentable': 1, 'blocked': 1, \"o'\": 1, 'michelin': 1, 'halfway': 1, 'guinea': 1, 'ratted': 1, 'instantly': 1, 'puzzle': 1, 'moe_recording:': 1, 'benjamin:': 1, 'soaked': 1, 'tee': 1, 'outlive': 1, 'streetcorner': 1, 'unusual': 1, 'repeating': 1, 'larry': 1, 'cell-ee': 1, 'carmichael': 1, 'accepting': 1, 'darkness': 1, 'concentrate': 1, 'bloodiest': 1, 'backbone': 1, 'fella': 1, 'sweden': 1, 'flayvin': 1, 'sets': 1, 'haplessly': 1, \"feelin's\": 1, 'stingy': 1, 'title': 1, 'orgasmville': 1, 'monorails': 1, 'ew': 1, 'wraps': 1, 'nursemaid': 1, 'saga': 1, 'grumbling': 1, 'disdainful': 1, 'sympathizer': 1, 'brunswick': 1, 'society': 1, 'riveting': 1, 'knives': 1, 'race': 1, \"kid's\": 1, 'ingested': 1, 'hooky': 1, 'gut': 1, 'gol-dangit': 1, 'continuum': 1, 'mushy': 1, 'vin': 1, 'acronyms': 1, 'actor': 1, 'disaster': 1, 'sugar-free': 1, 'oopsie': 1, 'urinal': 1, \"fryer's\": 1, 'arise': 1, 'balloon': 1, 'patriotic': 1, 'patented': 1, 'grain': 1, 'waterfront': 1, 'salary': 1, 'swelling': 1, 'kodos:': 1, 'deliberately': 1, 'hyahh': 1, 'alls': 1, 'freaking': 1, 'melodramatic': 1, 'tooth': 1, 'spilled': 1, 'passes': 1, 'perking': 1, 'territorial': 1, 'superpower': 1, 'country-fried': 1, 'fantasy': 1, 'stonewall': 1, 'daaaaad': 1, 'happily:': 1, 'juke': 1, 'stink': 1, 'handler': 1, 'bono': 1, 'typing': 1, 'background': 1, 'nasty': 1, 'remaining': 1, 'mt': 1, 'wheels': 1, 'dishrag': 1, \"spiffin'\": 1, 'onion': 1, 'gel': 1, 'spouses': 1, 'enterprising': 1, 'polenta': 1, 'wobbly': 1, 'taylor': 1, 'ihop': 1, 'tuborg': 1, 'placed': 1, 'latour': 1, 'portentous': 1, 'temporarily': 1, 'studied': 1, 'crinkly': 1, 'depository': 1, \"y'see\": 1, 'occupancy': 1, 'rubbed': 1, 'itchy': 1, 'anyhoo': 1, 'washer': 1, 'sour': 1, 'cheerier': 1, 'taste': 1, 'cartoons': 1, \"elmo's\": 1, 'brainheaded': 1, 'lofty': 1, 'brandy': 1, 'pickles': 1, 'dice': 1, 'dark': 1, 'witches': 1, 'dispenser': 1, 'abusive': 1, \"dolph's_dad:\": 1, 'vulgar': 1, 'commanding': 1, 'slim': 1, 'madman': 1, 'mid-seventies': 1, 'starla:': 1, 'anger': 1, 'amber': 1, 'shaker': 1, 'crayola': 1, 'pizzicato': 1, 'truck_driver:': 1, 'charming': 1, 'chain': 1, 'beatings': 1, 'affectations': 1, \"cashin'\": 1, 'selective': 1, 'crapmore': 1, 'widow': 1, 'videotaped': 1, 'malted': 1, 'winded': 1, 'suspenders': 1, 'bumblebee_man:': 1, 'screws': 1, 'quimby': 1, 'frenchman': 1, 'avalanche': 1, 'anthony_kiedis:': 1, 'november': 1, 'loudly': 1, 'ugliness': 1, 'william': 1, 'managed': 1, 'cleveland': 1, 'whaddya': 1, \"singin'\": 1, 'sass': 1, \"idea's\": 1, 'dig': 1, 'terrorizing': 1, 'california': 1, 'the_edge:': 1, 'delightfully': 1, 'impending': 1, 'storms': 1, \"neat's-foot\": 1, 'student': 1, 'sue': 1, 'handling': 1, 'prolonged': 1, 'ping-pong': 1, 'adopted': 1, 'dizzy': 1, 'eve': 1, 'pack': 1, 'mountain': 1, 'shuts': 1, 'renders': 1, 'scum-sucking': 1, 'broken': 1, \"o'reilly\": 1, 'examines': 1, 'ventriloquism': 1, 'wuss': 1, 'steaming': 1, 'reptile': 1, 'indifferent': 1, 'almond': 1, 'deeper': 1, 'woulda': 1, 'visas': 1, 'kemi': 1, 'papa': 1, 'tomahto': 1, 'kissed': 1, 'poorer': 1, 'understood:': 1, 'taxes': 1, 'bliss': 1, 'enhance': 1, 'appendectomy': 1, 'perverted': 1, 'aims': 1, 'we-we-we': 1, 'outstanding': 1, 'cummerbund': 1, 'frozen': 1, 'forty-seven': 1, \"'pu\": 1, 'wantcha': 1, 'hoax': 1, 'othello': 1, 'maintenance': 1, \"son's\": 1, 'principles': 1, 'carney': 1, 'watered': 1, 'necklace': 1, 'housewife': 1, \"summer's\": 1, \"linin'\": 1, 'texan': 1, 'swig': 1, 'uncreeped-out': 1, 'supply': 1, 'sledge-hammer': 1, 'lotsa': 1, 'habitrail': 1, \"industry's\": 1, 'arabs': 1, 'teen': 1, 'wood': 1, 'dollface': 1, 'oils': 1, 'belly-aching': 1, 'though:': 1, 'george': 1, 'veux': 1, 'oblongata': 1, 'strictly': 1, 'swamp': 1, 'crow': 1, 'cockroaches': 1, 'heart-broken': 1, 'hispanic_crowd:': 1, 'cranberry': 1, 'mmmmm': 1, 'stab': 1, 'sales': 1, 'leathery': 1, 'astonishment': 1, 'chub': 1, 'manchego': 1, 'strangles': 1, 'ralph': 1, 'lenses': 1, 'smitty:': 1, 'population': 1, 'resigned': 1, 'lame': 1, 'clubs': 1, 'wizard': 1, 'radiator': 1, 'annoying': 1, 'station': 1, 'faced': 1, 'unfamiliar': 1, 'lookalikes': 1, 'starters': 1, 'buzziness': 1, 'dilemma': 1, 'newsweek': 1, 'cases': 1, \"toot's\": 1, 'goodwill': 1, 'rip': 1, 'julep': 1, 'mary': 1, 'knit': 1, 'alpha-crow': 1, 'polls': 1, 'propose': 1, 'fl': 1, 'encore': 1, 'perón': 1, 'beaumont': 1, 'grope': 1, 'sniffing': 1, 'super-nice': 1, 'office': 1, \"daughter's\": 1, 'clammy': 1, 'lumpa': 1, 'rusty': 1, 'intakes': 1, 'bust': 1, 'land': 1, 'lucinda': 1, 'cruiser': 1, 'hushed': 1, 'moe-clone': 1, 'goal': 1, 'listens': 1, 'donuts': 1, 'washed': 1, 'bail': 1, 'icelandic': 1, 'morning-after': 1, 'engine': 1, 'parenting': 1, 'lobster-based': 1, 'ons': 1, 'mansions': 1, 'feat': 1, 'provide': 1, 'schizophrenia': 1, 'julienne': 1, \"collector's\": 1, 'spit-backs': 1, 'packets': 1, 'gabriel': 1, 'stood': 1, 'swishkabobs': 1, 'settles': 1, \"ragin'\": 1, 'gimmick': 1, 'luxury': 1, 'kidneys': 1, 'squeal': 1, 'absorbent': 1, 'sesame': 1, 'capuchin': 1, 'composer': 1, 'safecracker': 1, 'maitre': 1, \"duff's\": 1, 'baloney': 1, 'presto:': 1, 'soot': 1, 'diving': 1, 'hurting': 1, 'brick': 1, 'wildest': 1, 'bolting': 1, 'menacing': 1, 'fresco': 1, 'die-hard': 1, 'chairman': 1, \"startin'\": 1, 'raggie': 1, 'aboard': 1, 'serum': 1, 'shoulders': 1, 'je': 1, 'betcha': 1, 'regretful': 1, 'eaten': 1, 'smoker': 1, '2nd_voice_on_transmitter:': 1, 'refill': 1, 'pointedly': 1, 'gesture': 1, 'prizefighters': 1, 'random': 1, 'charged': 1, 'envy-tations': 1, 'mini-beret': 1, 'agh': 1, 'enthused': 1, 'ura': 1, \"'n'\": 1, 'paparazzo': 1, 'sneering': 1, 'humanity': 1, 'braun:': 1, 'heals': 1, 'flexible': 1, 'hollye': 1, 'wears': 1, 'heavens': 1, 'merchants': 1, 'accounta': 1, 'skinny': 1, 'paste': 1, 'einstein': 1, 'breathalyzer': 1, 'heartless': 1, 'credit': 1, 'notch': 1, 'lied': 1, 'scruffy_blogger:': 1, 'crushed': 1, 'nevada': 1, \"listenin'\": 1, 'willing': 1, 'blows': 1, 'endorsed': 1, 'appearance-altering': 1, 'life:': 1, 'lewis': 1, 'ladder': 1, 'gutenberg': 1, 'gags': 1, 'bottomless': 1, 'refiero': 1, 'seductive': 1})\n"
     ]
    }
   ],
   "source": [
    "\"\"\"\n",
    "DON'T MODIFY ANYTHING IN THIS CELL\n",
    "\"\"\"\n",
    "# Preprocess Training, Validation, and Testing Data\n",
    "helper.preprocess_and_save_data(data_dir, token_lookup, create_lookup_tables)"
   ]
  },
  {
   "cell_type": "markdown",
   "metadata": {
    "deletable": true,
    "editable": true
   },
   "source": [
    "# Check Point\n",
    "This is your first checkpoint. If you ever decide to come back to this notebook or have to restart the notebook, you can start from here. The preprocessed data has been saved to disk."
   ]
  },
  {
   "cell_type": "code",
   "execution_count": 6,
   "metadata": {
    "collapsed": false,
    "deletable": true,
    "editable": true
   },
   "outputs": [],
   "source": [
    "\"\"\"\n",
    "DON'T MODIFY ANYTHING IN THIS CELL\n",
    "\"\"\"\n",
    "import helper\n",
    "import numpy as np\n",
    "import problem_unittests as tests\n",
    "\n",
    "int_text, vocab_to_int, int_to_vocab, token_dict = helper.load_preprocess()"
   ]
  },
  {
   "cell_type": "markdown",
   "metadata": {
    "deletable": true,
    "editable": true
   },
   "source": [
    "## Build the Neural Network\n",
    "You'll build the components necessary to build a RNN by implementing the following functions below:\n",
    "- get_inputs\n",
    "- get_init_cell\n",
    "- get_embed\n",
    "- build_rnn\n",
    "- build_nn\n",
    "- get_batches\n",
    "\n",
    "### Check the Version of TensorFlow and Access to GPU"
   ]
  },
  {
   "cell_type": "code",
   "execution_count": 7,
   "metadata": {
    "collapsed": false
   },
   "outputs": [
    {
     "name": "stdout",
     "output_type": "stream",
     "text": [
      "TensorFlow Version: 1.0.1\n",
      "Default GPU Device: /gpu:0\n"
     ]
    }
   ],
   "source": [
    "\"\"\"\n",
    "DON'T MODIFY ANYTHING IN THIS CELL\n",
    "\"\"\"\n",
    "from distutils.version import LooseVersion\n",
    "import warnings\n",
    "import tensorflow as tf\n",
    "\n",
    "# Check TensorFlow Version\n",
    "assert LooseVersion(tf.__version__) >= LooseVersion('1.0'), 'Please use TensorFlow version 1.0 or newer'\n",
    "print('TensorFlow Version: {}'.format(tf.__version__))\n",
    "\n",
    "# Check for a GPU\n",
    "if not tf.test.gpu_device_name():\n",
    "    warnings.warn('No GPU found. Please use a GPU to train your neural network.')\n",
    "else:\n",
    "    print('Default GPU Device: {}'.format(tf.test.gpu_device_name()))"
   ]
  },
  {
   "cell_type": "markdown",
   "metadata": {},
   "source": [
    "### Input\n",
    "Implement the `get_inputs()` function to create TF Placeholders for the Neural Network.  It should create the following placeholders:\n",
    "- Input text placeholder named \"input\" using the [TF Placeholder](https://www.tensorflow.org/api_docs/python/tf/placeholder) `name` parameter.\n",
    "- Targets placeholder\n",
    "- Learning Rate placeholder\n",
    "\n",
    "Return the placeholders in the following the tuple `(Input, Targets, LearingRate)`"
   ]
  },
  {
   "cell_type": "code",
   "execution_count": 8,
   "metadata": {
    "collapsed": false,
    "deletable": true,
    "editable": true
   },
   "outputs": [
    {
     "name": "stdout",
     "output_type": "stream",
     "text": [
      "Tests Passed\n"
     ]
    }
   ],
   "source": [
    "def get_inputs():\n",
    "    \"\"\"\n",
    "    Create TF Placeholders for input, targets, and learning rate.\n",
    "    :return: Tuple (input, targets, learning rate)\n",
    "    \"\"\"\n",
    "    # TODO: Implement Function\n",
    "    Input = tf.placeholder(tf.int32, shape=(None,None), name=\"input\");\n",
    "    Targets = tf.placeholder(tf.int32, shape=(None, None), name=\"ouput\");\n",
    "    LearingRate = tf.placeholder(tf.float32,name=\"lr\");\n",
    "    \n",
    "    return (Input, Targets, LearingRate)\n",
    "\n",
    "\n",
    "\"\"\"\n",
    "DON'T MODIFY ANYTHING IN THIS CELL THAT IS BELOW THIS LINE\n",
    "\"\"\"\n",
    "tests.test_get_inputs(get_inputs)"
   ]
  },
  {
   "cell_type": "markdown",
   "metadata": {
    "deletable": true,
    "editable": true
   },
   "source": [
    "### Build RNN Cell and Initialize\n",
    "Stack one or more [`BasicLSTMCells`](https://www.tensorflow.org/api_docs/python/tf/contrib/rnn/BasicLSTMCell) in a [`MultiRNNCell`](https://www.tensorflow.org/api_docs/python/tf/contrib/rnn/MultiRNNCell).\n",
    "- The Rnn size should be set using `rnn_size`\n",
    "- Initalize Cell State using the MultiRNNCell's [`zero_state()`](https://www.tensorflow.org/api_docs/python/tf/contrib/rnn/MultiRNNCell#zero_state) function\n",
    "    - Apply the name \"initial_state\" to the initial state using [`tf.identity()`](https://www.tensorflow.org/api_docs/python/tf/identity)\n",
    "\n",
    "Return the cell and initial state in the following tuple `(Cell, InitialState)`"
   ]
  },
  {
   "cell_type": "code",
   "execution_count": 9,
   "metadata": {
    "collapsed": false,
    "deletable": true,
    "editable": true
   },
   "outputs": [
    {
     "name": "stdout",
     "output_type": "stream",
     "text": [
      "Tests Passed\n"
     ]
    }
   ],
   "source": [
    "def get_init_cell(batch_size, rnn_size):\n",
    "    \"\"\"\n",
    "    Create an RNN Cell and initialize it.\n",
    "    :param batch_size: Size of batches\n",
    "    :param rnn_size: Size of RNNs\n",
    "    :return: Tuple (cell, initialize state)\n",
    "    \"\"\"\n",
    "\n",
    "    l = tf.contrib.rnn.BasicLSTMCell(rnn_size)\n",
    "      \n",
    "    # Stack up multiple LSTM layers, for deep learning\n",
    "    cell = tf.contrib.rnn.MultiRNNCell([l,l])\n",
    "    i_s = tf.identity(cell.zero_state(batch_size, tf.float32), name='initial_state')\n",
    "    return cell, i_s\n",
    "\n",
    "\n",
    "\n",
    "\"\"\"\n",
    "DON'T MODIFY ANYTHING IN THIS CELL THAT IS BELOW THIS LINE\n",
    "\"\"\"\n",
    "tests.test_get_init_cell(get_init_cell)"
   ]
  },
  {
   "cell_type": "markdown",
   "metadata": {
    "deletable": true,
    "editable": true
   },
   "source": [
    "### Word Embedding\n",
    "Apply embedding to `input_data` using TensorFlow.  Return the embedded sequence."
   ]
  },
  {
   "cell_type": "code",
   "execution_count": 10,
   "metadata": {
    "collapsed": false,
    "deletable": true,
    "editable": true
   },
   "outputs": [
    {
     "name": "stdout",
     "output_type": "stream",
     "text": [
      "Tests Passed\n"
     ]
    }
   ],
   "source": [
    "def get_embed(input_data, vocab_size, embed_dim):\n",
    "    \"\"\"\n",
    "    Create embedding for <input_data>.\n",
    "    :param input_data: TF placeholder for text input.\n",
    "    :param vocab_size: Number of words in vocabulary.\n",
    "    :param embed_dim: Number of embedding dimensions\n",
    "    :return: Embedded input.\n",
    "    \"\"\"\n",
    "    # TODO: Implement Function\n",
    "    embeddings = tf.Variable(tf.random_uniform([vocab_size, embed_dim]))\n",
    "    return  tf.nn.embedding_lookup(embeddings, input_data)\n",
    "\n",
    "\n",
    "\"\"\"\n",
    "DON'T MODIFY ANYTHING IN THIS CELL THAT IS BELOW THIS LINE\n",
    "\"\"\"\n",
    "tests.test_get_embed(get_embed)"
   ]
  },
  {
   "cell_type": "markdown",
   "metadata": {
    "deletable": true,
    "editable": true
   },
   "source": [
    "### Build RNN\n",
    "You created a RNN Cell in the `get_init_cell()` function.  Time to use the cell to create a RNN.\n",
    "- Build the RNN using the [`tf.nn.dynamic_rnn()`](https://www.tensorflow.org/api_docs/python/tf/nn/dynamic_rnn)\n",
    " - Apply the name \"final_state\" to the final state using [`tf.identity()`](https://www.tensorflow.org/api_docs/python/tf/identity)\n",
    "\n",
    "Return the outputs and final_state state in the following tuple `(Outputs, FinalState)` "
   ]
  },
  {
   "cell_type": "code",
   "execution_count": 11,
   "metadata": {
    "collapsed": false,
    "deletable": true,
    "editable": true
   },
   "outputs": [
    {
     "name": "stdout",
     "output_type": "stream",
     "text": [
      "Tests Passed\n"
     ]
    }
   ],
   "source": [
    "def build_rnn(cell, inputs):\n",
    "    \"\"\"\n",
    "    Create a RNN using a RNN Cell\n",
    "    :param cell: RNN Cell\n",
    "    :param inputs: Input text data\n",
    "    :return: Tuple (Outputs, Final State)\n",
    "    \"\"\"\n",
    "    # TODO: Implement Function\n",
    "    #print (cell)\n",
    "    outputs, final_state = tf.nn.dynamic_rnn(cell, inputs, dtype=tf.float32)\n",
    "    final_state = tf.identity(final_state, \"final_state\")\n",
    "    return outputs, final_state\n",
    "\n",
    "\n",
    "\"\"\"\n",
    "DON'T MODIFY ANYTHING IN THIS CELL THAT IS BELOW THIS LINE\n",
    "\"\"\"\n",
    "tests.test_build_rnn(build_rnn)"
   ]
  },
  {
   "cell_type": "markdown",
   "metadata": {
    "deletable": true,
    "editable": true
   },
   "source": [
    "### Build the Neural Network\n",
    "Apply the functions you implemented above to:\n",
    "- Apply embedding to `input_data` using your `get_embed(input_data, vocab_size, embed_dim)` function.\n",
    "- Build RNN using `cell` and your `build_rnn(cell, inputs)` function.\n",
    "- Apply a fully connected layer with a linear activation and `vocab_size` as the number of outputs.\n",
    "\n",
    "Return the logits and final state in the following tuple (Logits, FinalState) "
   ]
  },
  {
   "cell_type": "code",
   "execution_count": 12,
   "metadata": {
    "collapsed": false,
    "deletable": true,
    "editable": true
   },
   "outputs": [
    {
     "name": "stdout",
     "output_type": "stream",
     "text": [
      "Tests Passed\n"
     ]
    }
   ],
   "source": [
    "def build_nn(cell, rnn_size, input_data, vocab_size):\n",
    "    \"\"\"\n",
    "    Build part of the neural network\n",
    "    :param cell: RNN cell\n",
    "    :param rnn_size: Size of rnns\n",
    "    :param input_data: Input data\n",
    "    :param vocab_size: Vocabulary size\n",
    "    :return: Tuple (Logits, FinalState)\n",
    "    \"\"\"\n",
    "    embed = get_embed(input_data, vocab_size, rnn_size)\n",
    "    outputs, final_state = build_rnn(cell, embed)\n",
    "    logits = tf.contrib.layers.fully_connected(\n",
    "        outputs, vocab_size, \n",
    "        weights_initializer=tf.truncated_normal_initializer(stddev=0.1),\n",
    "        biases_initializer=tf.zeros_initializer(),\n",
    "        activation_fn=None)\n",
    "    return logits, final_state\n",
    "\n",
    "\n",
    "\"\"\"\n",
    "DON'T MODIFY ANYTHING IN THIS CELL THAT IS BELOW THIS LINE\n",
    "\"\"\"\n",
    "tests.test_build_nn(build_nn)"
   ]
  },
  {
   "cell_type": "markdown",
   "metadata": {
    "deletable": true,
    "editable": true
   },
   "source": [
    "### Batches\n",
    "Implement `get_batches` to create batches of input and targets using `int_text`.  The batches should be a Numpy array with the shape `(number of batches, 2, batch size, sequence length)`. Each batch contains two elements:\n",
    "- The first element is a single batch of **input** with the shape `[batch size, sequence length]`\n",
    "- The second element is a single batch of **targets** with the shape `[batch size, sequence length]`\n",
    "\n",
    "If you can't fill the last batch with enough data, drop the last batch.\n",
    "\n",
    "For exmple, `get_batches([1, 2, 3, 4, 5, 6, 7, 8, 9, 10, 11, 12, 13, 14, 15], 2, 3)` would return a Numpy array of the following:\n",
    "```\n",
    "[\n",
    "  # First Batch\n",
    "  [\n",
    "    # Batch of Input\n",
    "    [[ 1  2  3], [ 7  8  9]],\n",
    "    # Batch of targets\n",
    "    [[ 2  3  4], [ 8  9 10]]\n",
    "  ],\n",
    " \n",
    "  # Second Batch\n",
    "  [\n",
    "    # Batch of Input\n",
    "    [[ 4  5  6], [10 11 12]],\n",
    "    # Batch of targets\n",
    "    [[ 5  6  7], [11 12 13]]\n",
    "  ]\n",
    "]\n",
    "```"
   ]
  },
  {
   "cell_type": "code",
   "execution_count": 13,
   "metadata": {
    "collapsed": false,
    "deletable": true,
    "editable": true
   },
   "outputs": [
    {
     "name": "stdout",
     "output_type": "stream",
     "text": [
      "[[[[ 1  2  3]\n",
      "   [ 7  8  9]]\n",
      "\n",
      "  [[ 2  3  4]\n",
      "   [ 8  9 10]]]\n",
      "\n",
      "\n",
      " [[[ 4  5  6]\n",
      "   [10 11 12]]\n",
      "\n",
      "  [[ 5  6  7]\n",
      "   [11 12 13]]]]\n",
      "Tests Passed\n"
     ]
    }
   ],
   "source": [
    "def get_batches(int_text, batch_size, seq_length):\n",
    "    \"\"\"\n",
    "    Return batches of input and target\n",
    "    :param int_text: Text with the words replaced by their ids\n",
    "    :param batch_size: The size of batch\n",
    "    :param seq_length: The length of sequence\n",
    "    :return: Batches as a Numpy array\n",
    "    \"\"\"\n",
    "    # TODO: Implement Function\n",
    "#     bath_count = int (np.floor(len(int_text)/(batch_size*seq_length)))\n",
    "    \n",
    "#     a = np.zeros((bath_count,2,batch_size,seq_length))\n",
    "    \n",
    "#     for k in range (bath_count):\n",
    "#         for i in range (batch_size):\n",
    "#             for j in range (seq_length):\n",
    "#                     a[k][0][i][j]=int_text[k *batch_size * seq_length + i * seq_length + j ]\n",
    "#                     a[k][1][i][j]=int_text[k *batch_size * seq_length + i * seq_length + j + 1 ]\n",
    "                    \n",
    "#                     #a[k][1][i][j]=int_text[k *batch_size * seq_length ]\n",
    "\n",
    "        \n",
    "#     return a\n",
    "\n",
    "    n_batches = int((len(int_text)-1) / (batch_size * seq_length))\n",
    "    # Drop the last few characters to make only full batches\n",
    "    xdata = np.array(int_text[: n_batches * batch_size * seq_length])\n",
    "    ydata = np.array(int_text[1: n_batches * batch_size * seq_length + 1])\n",
    "\n",
    "    x_batches = np.split(xdata.reshape(batch_size, -1), n_batches, 1)\n",
    "    y_batches = np.split(ydata.reshape(batch_size, -1), n_batches, 1)\n",
    "\n",
    "    return np.array(list(zip(x_batches, y_batches)))\n",
    "\n",
    "a = get_batches([1, 2, 3, 4, 5, 6, 7, 8, 9, 10, 11, 12, 13, 14, 15], 2, 3)\n",
    "print (a)\n",
    "\n",
    "\"\"\"\n",
    "DON'T MODIFY ANYTHING IN THIS CELL THAT IS BELOW THIS LINE\n",
    "\"\"\"\n",
    "tests.test_get_batches(get_batches)"
   ]
  },
  {
   "cell_type": "markdown",
   "metadata": {
    "deletable": true,
    "editable": true
   },
   "source": [
    "## Neural Network Training\n",
    "### Hyperparameters\n",
    "Tune the following parameters:\n",
    "\n",
    "- Set `num_epochs` to the number of epochs.\n",
    "- Set `batch_size` to the batch size.\n",
    "- Set `rnn_size` to the size of the RNNs.\n",
    "- Set `seq_length` to the length of sequence.\n",
    "- Set `learning_rate` to the learning rate.\n",
    "- Set `show_every_n_batches` to the number of batches the neural network should print progress."
   ]
  },
  {
   "cell_type": "code",
   "execution_count": 26,
   "metadata": {
    "collapsed": true,
    "deletable": true,
    "editable": true
   },
   "outputs": [],
   "source": [
    "# Number of Epochs\n",
    "num_epochs = 350\n",
    "# Batch Size\n",
    "batch_size = 256\n",
    "# RNN Size\n",
    "rnn_size = 128\n",
    "# Sequence Length\n",
    "seq_length = 16\n",
    "# Learning Rate\n",
    "learning_rate = 0.005\n",
    "# Show stats for every n number of batches\n",
    "show_every_n_batches = 256\n",
    "\n",
    "\"\"\"\n",
    "DON'T MODIFY ANYTHING IN THIS CELL THAT IS BELOW THIS LINE\n",
    "\"\"\"\n",
    "save_dir = './save'"
   ]
  },
  {
   "cell_type": "markdown",
   "metadata": {
    "deletable": true,
    "editable": true
   },
   "source": [
    "### Build the Graph\n",
    "Build the graph using the neural network you implemented."
   ]
  },
  {
   "cell_type": "code",
   "execution_count": 27,
   "metadata": {
    "collapsed": false,
    "deletable": true,
    "editable": true
   },
   "outputs": [],
   "source": [
    "\"\"\"\n",
    "DON'T MODIFY ANYTHING IN THIS CELL\n",
    "\"\"\"\n",
    "from tensorflow.contrib import seq2seq\n",
    "\n",
    "train_graph = tf.Graph()\n",
    "with train_graph.as_default():\n",
    "    vocab_size = len(int_to_vocab)\n",
    "    input_text, targets, lr = get_inputs()\n",
    "    input_data_shape = tf.shape(input_text)\n",
    "    cell, initial_state = get_init_cell(input_data_shape[0], rnn_size)\n",
    "    logits, final_state = build_nn(cell, rnn_size, input_text, vocab_size)\n",
    "\n",
    "    # Probabilities for generating words\n",
    "    probs = tf.nn.softmax(logits, name='probs')\n",
    "\n",
    "    # Loss function\n",
    "    cost = seq2seq.sequence_loss(\n",
    "        logits,\n",
    "        targets,\n",
    "        tf.ones([input_data_shape[0], input_data_shape[1]]))\n",
    "\n",
    "    # Optimizer\n",
    "    optimizer = tf.train.AdamOptimizer(lr)\n",
    "\n",
    "    # Gradient Clipping\n",
    "    gradients = optimizer.compute_gradients(cost)\n",
    "    capped_gradients = [(tf.clip_by_value(grad, -1., 1.), var) for grad, var in gradients]\n",
    "    train_op = optimizer.apply_gradients(capped_gradients)"
   ]
  },
  {
   "cell_type": "markdown",
   "metadata": {
    "deletable": true,
    "editable": true
   },
   "source": [
    "## Train\n",
    "Train the neural network on the preprocessed data.  If you have a hard time getting a good loss, check the [forms](https://discussions.udacity.com/) to see if anyone is having the same problem."
   ]
  },
  {
   "cell_type": "code",
   "execution_count": null,
   "metadata": {
    "collapsed": false,
    "deletable": true,
    "editable": true
   },
   "outputs": [
    {
     "name": "stdout",
     "output_type": "stream",
     "text": [
      "Epoch   0 Batch    0/16   train_loss = 8.824\n"
     ]
    }
   ],
   "source": [
    "\"\"\"\n",
    "DON'T MODIFY ANYTHING IN THIS CELL\n",
    "\"\"\"\n",
    "batches = get_batches(int_text, batch_size, seq_length)\n",
    "\n",
    "with tf.Session(graph=train_graph) as sess:\n",
    "    sess.run(tf.global_variables_initializer())\n",
    "\n",
    "    for epoch_i in range(num_epochs):\n",
    "        state = sess.run(initial_state, {input_text: batches[0][0]})\n",
    "\n",
    "        for batch_i, (x, y) in enumerate(batches):\n",
    "            feed = {\n",
    "                input_text: x,\n",
    "                targets: y,\n",
    "                initial_state: state,\n",
    "                lr: learning_rate}\n",
    "            train_loss, state, _ = sess.run([cost, final_state, train_op], feed)\n",
    "\n",
    "            # Show every <show_every_n_batches> batches\n",
    "            if (epoch_i * len(batches) + batch_i) % show_every_n_batches == 0:\n",
    "                print('Epoch {:>3} Batch {:>4}/{}   train_loss = {:.3f}'.format(\n",
    "                    epoch_i,\n",
    "                    batch_i,\n",
    "                    len(batches),\n",
    "                    train_loss))\n",
    "\n",
    "    # Save Model\n",
    "    saver = tf.train.Saver()\n",
    "    saver.save(sess, save_dir)\n",
    "    print('Model Trained and Saved')"
   ]
  },
  {
   "cell_type": "markdown",
   "metadata": {
    "deletable": true,
    "editable": true
   },
   "source": [
    "## Save Parameters\n",
    "Save `seq_length` and `save_dir` for generating a new TV script."
   ]
  },
  {
   "cell_type": "code",
   "execution_count": null,
   "metadata": {
    "collapsed": false,
    "deletable": true,
    "editable": true
   },
   "outputs": [],
   "source": [
    "\"\"\"\n",
    "DON'T MODIFY ANYTHING IN THIS CELL\n",
    "\"\"\"\n",
    "# Save parameters for checkpoint\n",
    "helper.save_params((seq_length, save_dir))"
   ]
  },
  {
   "cell_type": "markdown",
   "metadata": {
    "deletable": true,
    "editable": true
   },
   "source": [
    "# Checkpoint"
   ]
  },
  {
   "cell_type": "code",
   "execution_count": 31,
   "metadata": {
    "collapsed": false,
    "deletable": true,
    "editable": true
   },
   "outputs": [],
   "source": [
    "\"\"\"\n",
    "DON'T MODIFY ANYTHING IN THIS CELL\n",
    "\"\"\"\n",
    "import tensorflow as tf\n",
    "import numpy as np\n",
    "import helper\n",
    "import problem_unittests as tests\n",
    "\n",
    "_, vocab_to_int, int_to_vocab, token_dict = helper.load_preprocess()\n",
    "seq_length, load_dir = helper.load_params()"
   ]
  },
  {
   "cell_type": "markdown",
   "metadata": {
    "deletable": true,
    "editable": true
   },
   "source": [
    "## Implement Generate Functions\n",
    "### Get Tensors\n",
    "Get tensors from `loaded_graph` using the function [`get_tensor_by_name()`](https://www.tensorflow.org/api_docs/python/tf/Graph#get_tensor_by_name).  Get the tensors using the following names:\n",
    "- \"input:0\"\n",
    "- \"initial_state:0\"\n",
    "- \"final_state:0\"\n",
    "- \"probs:0\"\n",
    "\n",
    "Return the tensors in the following tuple `(InputTensor, InitialStateTensor, FinalStateTensor, ProbsTensor)` "
   ]
  },
  {
   "cell_type": "code",
   "execution_count": 32,
   "metadata": {
    "collapsed": false,
    "deletable": true,
    "editable": true
   },
   "outputs": [
    {
     "name": "stdout",
     "output_type": "stream",
     "text": [
      "Tests Passed\n"
     ]
    }
   ],
   "source": [
    "def get_tensors(loaded_graph):\n",
    "    \"\"\"\n",
    "    Get input, initial state, final state, and probabilities tensor from <loaded_graph>\n",
    "    :param loaded_graph: TensorFlow graph loaded from file\n",
    "    :return: Tuple (InputTensor, InitialStateTensor, FinalStateTensor, ProbsTensor)\n",
    "    \"\"\"\n",
    "    # TODO: Implement Function\n",
    "    return loaded_graph.get_tensor_by_name(\"input:0\"),\\\n",
    "           loaded_graph.get_tensor_by_name(\"initial_state:0\"),\\\n",
    "           loaded_graph.get_tensor_by_name(\"final_state:0\"), \\\n",
    "           loaded_graph.get_tensor_by_name(\"probs:0\")\n",
    "\n",
    "\n",
    "\"\"\"\n",
    "DON'T MODIFY ANYTHING IN THIS CELL THAT IS BELOW THIS LINE\n",
    "\"\"\"\n",
    "tests.test_get_tensors(get_tensors)"
   ]
  },
  {
   "cell_type": "markdown",
   "metadata": {
    "deletable": true,
    "editable": true
   },
   "source": [
    "### Choose Word\n",
    "Implement the `pick_word()` function to select the next word using `probabilities`."
   ]
  },
  {
   "cell_type": "code",
   "execution_count": 33,
   "metadata": {
    "collapsed": false,
    "deletable": true,
    "editable": true
   },
   "outputs": [
    {
     "name": "stdout",
     "output_type": "stream",
     "text": [
      "Tests Passed\n"
     ]
    }
   ],
   "source": [
    "def pick_word(probabilities, int_to_vocab):\n",
    "    \"\"\"\n",
    "    Pick the next word in the generated text\n",
    "    :param probabilities: Probabilites of the next word\n",
    "    :param int_to_vocab: Dictionary of word ids as the keys and words as the values\n",
    "    :return: String of the predicted word\n",
    "    \"\"\"\n",
    "    # TODO: Implement Function\n",
    "    \n",
    "    # from 1st submision\n",
    "    #i=  (np.argmax(probabilities))\n",
    "    #return int_to_vocab[i]\n",
    "    \n",
    "    # second random approach\n",
    "    return np.random.choice(a=list(int_to_vocab.values()), replace=True, p=probabilities)\n",
    "    \n",
    "    \n",
    "\n",
    "\n",
    "\"\"\"\n",
    "DON'T MODIFY ANYTHING IN THIS CELL THAT IS BELOW THIS LINE\n",
    "\"\"\"\n",
    "tests.test_pick_word(pick_word)"
   ]
  },
  {
   "cell_type": "markdown",
   "metadata": {
    "deletable": true,
    "editable": true
   },
   "source": [
    "## Generate TV Script\n",
    "This will generate the TV script for you.  Set `gen_length` to the length of TV script you want to generate."
   ]
  },
  {
   "cell_type": "code",
   "execution_count": 34,
   "metadata": {
    "collapsed": false,
    "deletable": true,
    "editable": true
   },
   "outputs": [
    {
     "name": "stdout",
     "output_type": "stream",
     "text": [
      "moe_szyslak: that comes in kid sizes. i'm in the championship man c.\n",
      "homer_simpson:(cutting him off) but does your gasp!\n",
      "lenny_leonard:(to self) someone's lookin' at a snake in front of the dank, i am off my ol' address by the finest year, and i'm a man sangre de los three\"!\n",
      "homer_simpson:(proudly) that's a little bit, he's the! my favorite soaked two?\"\n",
      "c. o. s. we had thirty greatest here?\n",
      "snake_jailbird:(sings) it's a little person?(points to homer) whoa, like get out less?!\n",
      "lenny_leonard: a thing looking at the springfield.(laughs)\n",
      "homer_simpson: skoal!\n",
      "crowd: such saying hurry his only dangerous paris, big. / uh-huh. you've never eat it to make you when i'd love\".\n",
      "marge_simpson: there's no guys who sleeps to me.\n",
      "homer_simpson:(a little looking door i, moe.\n",
      "homer_simpson: gentlemen, this dog is a loser!\n",
      "marge_simpson:(sings) i, you've\n"
     ]
    }
   ],
   "source": [
    "gen_length = 200\n",
    "# homer_simpson, moe_szyslak, or Barney_Gumble\n",
    "prime_word = 'moe_szyslak'\n",
    "\n",
    "\"\"\"\n",
    "DON'T MODIFY ANYTHING IN THIS CELL THAT IS BELOW THIS LINE\n",
    "\"\"\"\n",
    "loaded_graph = tf.Graph()\n",
    "with tf.Session(graph=loaded_graph) as sess:\n",
    "    # Load saved model\n",
    "    loader = tf.train.import_meta_graph(load_dir + '.meta')\n",
    "    loader.restore(sess, load_dir)\n",
    "\n",
    "    # Get Tensors from loaded model\n",
    "    input_text, initial_state, final_state, probs = get_tensors(loaded_graph)\n",
    "\n",
    "    # Sentences generation setup\n",
    "    gen_sentences = [prime_word + ':']\n",
    "    prev_state = sess.run(initial_state, {input_text: np.array([[1]])})\n",
    "\n",
    "    # Generate sentences\n",
    "    for n in range(gen_length):\n",
    "        # Dynamic Input\n",
    "        dyn_input = [[vocab_to_int[word] for word in gen_sentences[-seq_length:]]]\n",
    "        dyn_seq_length = len(dyn_input[0])\n",
    "\n",
    "        # Get Prediction\n",
    "        probabilities, prev_state = sess.run(\n",
    "            [probs, final_state],\n",
    "            {input_text: dyn_input, initial_state: prev_state})\n",
    "        \n",
    "        pred_word = pick_word(probabilities[dyn_seq_length-1], int_to_vocab)\n",
    "\n",
    "        gen_sentences.append(pred_word)\n",
    "    \n",
    "    # Remove tokens\n",
    "    tv_script = ' '.join(gen_sentences)\n",
    "    for key, token in token_dict.items():\n",
    "        ending = ' ' if key in ['\\n', '(', '\"'] else ''\n",
    "        tv_script = tv_script.replace(' ' + token.lower(), key)\n",
    "    tv_script = tv_script.replace('\\n ', '\\n')\n",
    "    tv_script = tv_script.replace('( ', '(')\n",
    "        \n",
    "    print(tv_script)"
   ]
  },
  {
   "cell_type": "markdown",
   "metadata": {
    "deletable": true,
    "editable": true
   },
   "source": [
    "# The TV Script is Nonsensical\n",
    "It's ok if the TV script doesn't make any sense.  We trained on less than a megabyte of text.  In order to get good results, you'll have to use a smaller vocabulary or get more data.  Luckly there's more data!  As we mentioned in the begging of this project, this is a subset of [another dataset](https://www.kaggle.com/wcukierski/the-simpsons-by-the-data).  We didn't have you train on all the data, because that would take too long.  However, you are free to train your neural network on all the data.  After you complete the project, of course.\n",
    "# Submitting This Project\n",
    "When submitting this project, make sure to run all the cells before saving the notebook. Save the notebook file as \"dlnd_tv_script_generation.ipynb\" and save it as a HTML file under \"File\" -> \"Download as\". Include the \"helper.py\" and \"problem_unittests.py\" files in your submission."
   ]
  },
  {
   "cell_type": "code",
   "execution_count": null,
   "metadata": {
    "collapsed": true
   },
   "outputs": [],
   "source": []
  }
 ],
 "metadata": {
  "kernelspec": {
   "display_name": "usr_bin_PYTHON3",
   "language": "python",
   "name": "usr_bin_python3"
  },
  "language_info": {
   "codemirror_mode": {
    "name": "ipython",
    "version": 3
   },
   "file_extension": ".py",
   "mimetype": "text/x-python",
   "name": "python",
   "nbconvert_exporter": "python",
   "pygments_lexer": "ipython3",
   "version": "3.4.3"
  },
  "widgets": {
   "state": {},
   "version": "1.1.2"
  }
 },
 "nbformat": 4,
 "nbformat_minor": 0
}
