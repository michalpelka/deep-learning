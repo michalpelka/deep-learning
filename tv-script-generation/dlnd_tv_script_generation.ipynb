{
 "cells": [
  {
   "cell_type": "markdown",
   "metadata": {
    "deletable": true,
    "editable": true
   },
   "source": [
    "# TV Script Generation\n",
    "In this project, you'll generate your own [Simpsons](https://en.wikipedia.org/wiki/The_Simpsons) TV scripts using RNNs.  You'll be using part of the [Simpsons dataset](https://www.kaggle.com/wcukierski/the-simpsons-by-the-data) of scripts from 27 seasons.  The Neural Network you'll build will generate a new TV script for a scene at [Moe's Tavern](https://simpsonswiki.com/wiki/Moe's_Tavern).\n",
    "## Get the Data\n",
    "The data is already provided for you.  You'll be using a subset of the original dataset.  It consists of only the scenes in Moe's Tavern.  This doesn't include other versions of the tavern, like \"Moe's Cavern\", \"Flaming Moe's\", \"Uncle Moe's Family Feed-Bag\", etc.."
   ]
  },
  {
   "cell_type": "code",
   "execution_count": 30,
   "metadata": {
    "collapsed": false,
    "deletable": true,
    "editable": true
   },
   "outputs": [],
   "source": [
    "\"\"\"\n",
    "DON'T MODIFY ANYTHING IN THIS CELL\n",
    "\"\"\"\n",
    "import helper\n",
    "\n",
    "data_dir = './data/simpsons/moes_tavern_lines.txt'\n",
    "text = helper.load_data(data_dir)\n",
    "# Ignore notice, since we don't use it for analysing the data\n",
    "text = text[81:]"
   ]
  },
  {
   "cell_type": "markdown",
   "metadata": {
    "deletable": true,
    "editable": true
   },
   "source": [
    "## Explore the Data\n",
    "Play around with `view_sentence_range` to view different parts of the data."
   ]
  },
  {
   "cell_type": "code",
   "execution_count": 31,
   "metadata": {
    "collapsed": false,
    "deletable": true,
    "editable": true
   },
   "outputs": [
    {
     "name": "stdout",
     "output_type": "stream",
     "text": [
      "Dataset Stats\n",
      "Roughly the number of unique words: 11492\n",
      "Number of scenes: 262\n",
      "Average number of sentences in each scene: 15.248091603053435\n",
      "Number of lines: 4257\n",
      "Average number of words in each line: 11.50434578341555\n",
      "\n",
      "The sentences 0 to 10:\n",
      "Moe_Szyslak: (INTO PHONE) Moe's Tavern. Where the elite meet to drink.\n",
      "Bart_Simpson: Eh, yeah, hello, is Mike there? Last name, Rotch.\n",
      "Moe_Szyslak: (INTO PHONE) Hold on, I'll check. (TO BARFLIES) Mike Rotch. Mike Rotch. Hey, has anybody seen Mike Rotch, lately?\n",
      "Moe_Szyslak: (INTO PHONE) Listen you little puke. One of these days I'm gonna catch you, and I'm gonna carve my name on your back with an ice pick.\n",
      "Moe_Szyslak: What's the matter Homer? You're not your normal effervescent self.\n",
      "Homer_Simpson: I got my problems, Moe. Give me another one.\n",
      "Moe_Szyslak: Homer, hey, you should not drink to forget your problems.\n",
      "Barney_Gumble: Yeah, you should only drink to enhance your social skills.\n",
      "\n",
      "\n"
     ]
    }
   ],
   "source": [
    "view_sentence_range = (0, 10)\n",
    "\n",
    "\"\"\"\n",
    "DON'T MODIFY ANYTHING IN THIS CELL\n",
    "\"\"\"\n",
    "import numpy as np\n",
    "\n",
    "print('Dataset Stats')\n",
    "print('Roughly the number of unique words: {}'.format(len({word: None for word in text.split()})))\n",
    "scenes = text.split('\\n\\n')\n",
    "print('Number of scenes: {}'.format(len(scenes)))\n",
    "sentence_count_scene = [scene.count('\\n') for scene in scenes]\n",
    "print('Average number of sentences in each scene: {}'.format(np.average(sentence_count_scene)))\n",
    "\n",
    "sentences = [sentence for scene in scenes for sentence in scene.split('\\n')]\n",
    "print('Number of lines: {}'.format(len(sentences)))\n",
    "word_count_sentence = [len(sentence.split()) for sentence in sentences]\n",
    "print('Average number of words in each line: {}'.format(np.average(word_count_sentence)))\n",
    "\n",
    "print()\n",
    "print('The sentences {} to {}:'.format(*view_sentence_range))\n",
    "print('\\n'.join(text.split('\\n')[view_sentence_range[0]:view_sentence_range[1]]))"
   ]
  },
  {
   "cell_type": "markdown",
   "metadata": {
    "deletable": true,
    "editable": true
   },
   "source": [
    "## Implement Preprocessing Functions\n",
    "The first thing to do to any dataset is preprocessing.  Implement the following preprocessing functions below:\n",
    "- Lookup Table\n",
    "- Tokenize Punctuation\n",
    "\n",
    "### Lookup Table\n",
    "To create a word embedding, you first need to transform the words to ids.  In this function, create two dictionaries:\n",
    "- Dictionary to go from the words to an id, we'll call `vocab_to_int`\n",
    "- Dictionary to go from the id to word, we'll call `int_to_vocab`\n",
    "\n",
    "Return these dictionaries in the following tuple `(vocab_to_int, int_to_vocab)`"
   ]
  },
  {
   "cell_type": "code",
   "execution_count": 32,
   "metadata": {
    "collapsed": false,
    "deletable": true,
    "editable": true
   },
   "outputs": [
    {
     "name": "stdout",
     "output_type": "stream",
     "text": [
      "Counter({'moe_szyslak': 5, 'you': 4, 'rotch': 4, 'your': 4, 'mike': 4, 'drink': 3, 'to': 3, 'should': 2, 'name': 2, 'hey': 2, 'yeah': 2, 'on': 2, 'gonna': 2, 'the': 2, 'one': 2, 'problems': 2, 'not': 2, \"i'm\": 2, 'homer': 2, 'my': 2, 'hold': 1, \"i'll\": 1, 'skills': 1, 'an': 1, 'me': 1, 'listen': 1, 'hello': 1, 'last': 1, 'check': 1, 'these': 1, 'bart_simpson': 1, 'forget': 1, 'normal': 1, 'of': 1, 'another': 1, 'meet': 1, 'lately': 1, 'and': 1, 'has': 1, 'back': 1, 'elite': 1, 'self': 1, 'tavern': 1, 'moe': 1, 'only': 1, 'days': 1, 'enhance': 1, 'catch': 1, 'whats': 1, \"moe's\": 1, 'pick': 1, 'give': 1, 'barney_gumble': 1, 'seen': 1, 'eh': 1, 'i': 1, 'social': 1, 'effervescent': 1, 'got': 1, 'matter': 1, 'little': 1, 'homer_simpson': 1, 'carve': 1, \"you're\": 1, 'ice': 1, 'where': 1, 'with': 1, 'anybody': 1, 'is': 1, 'there': 1, 'puke': 1})\n",
      "Tests Passed\n"
     ]
    }
   ],
   "source": [
    "import numpy as np\n",
    "from collections import Counter\n",
    "import problem_unittests as tests\n",
    "\n",
    "def create_lookup_tables(text):\n",
    "    \"\"\"\n",
    "    Create lookup tables for vocabulary\n",
    "    :param text: The text of tv scripts split into words\n",
    "    :return: A tuple of dicts (vocab_to_int, int_to_vocab)  \n",
    "    \"\"\"\n",
    "    c = Counter (text)\n",
    "    print (c)\n",
    "    vocab_to_int = {}\n",
    "    int_to_vocab = {}\n",
    "    for i, w in enumerate(c):\n",
    "        vocab_to_int[w] = i\n",
    "        int_to_vocab[i] = w\n",
    "    # TODO: Implement Function\n",
    "    return (vocab_to_int, int_to_vocab)\n",
    "\n",
    "\n",
    "\"\"\"\n",
    "DON'T MODIFY ANYTHING IN THIS CELL THAT IS BELOW THIS LINE\n",
    "\"\"\"\n",
    "tests.test_create_lookup_tables(create_lookup_tables)"
   ]
  },
  {
   "cell_type": "markdown",
   "metadata": {
    "deletable": true,
    "editable": true
   },
   "source": [
    "### Tokenize Punctuation\n",
    "We'll be splitting the script into a word array using spaces as delimiters.  However, punctuations like periods and exclamation marks make it hard for the neural network to distinguish between the word \"bye\" and \"bye!\".\n",
    "\n",
    "Implement the function `token_lookup` to return a dict that will be used to tokenize symbols like \"!\" into \"||Exclamation_Mark||\".  Create a dictionary for the following symbols where the symbol is the key and value is the token:\n",
    "- Period ( . )\n",
    "- Comma ( , )\n",
    "- Quotation Mark ( \" )\n",
    "- Semicolon ( ; )\n",
    "- Exclamation mark ( ! )\n",
    "- Question mark ( ? )\n",
    "- Left Parentheses ( ( )\n",
    "- Right Parentheses ( ) )\n",
    "- Dash ( -- )\n",
    "- Return ( \\n )\n",
    "\n",
    "This dictionary will be used to token the symbols and add the delimiter (space) around it.  This separates the symbols as it's own word, making it easier for the neural network to predict on the next word. Make sure you don't use a token that could be confused as a word. Instead of using the token \"dash\", try using something like \"||dash||\"."
   ]
  },
  {
   "cell_type": "code",
   "execution_count": 33,
   "metadata": {
    "collapsed": false,
    "deletable": true,
    "editable": true
   },
   "outputs": [
    {
     "name": "stdout",
     "output_type": "stream",
     "text": [
      "Tests Passed\n"
     ]
    }
   ],
   "source": [
    "def token_lookup():\n",
    "    \"\"\"\n",
    "    Generate a dict to turn punctuation into a token.\n",
    "    :return: Tokenize dictionary where the key is the punctuation and the value is the token\n",
    "    \"\"\"\n",
    "    d = {}\n",
    "    d['.']=\"||Period||\"\n",
    "    d[',']=\"||Comma||\"\n",
    "    d['\"']=\"||QuotationMark||\"\n",
    "    d[';']=\"||Semicolon||\"\n",
    "    d['!']=\"||ExclamationMark||\"\n",
    "    d['(']=\"||LeftParentheses||\"\n",
    "    d[')']=\"||RightParentheses||\"\n",
    "    d['--']=\"||Dash||\"\n",
    "    d['\\n']=\"||Return||\"\n",
    "    d['?']=\"||Questionmark||\"\n",
    "    \n",
    "    \n",
    "    \n",
    "    # TODO: Implement Function\n",
    "    return d\n",
    "\n",
    "\"\"\"\n",
    "DON'T MODIFY ANYTHING IN THIS CELL THAT IS BELOW THIS LINE\n",
    "\"\"\"\n",
    "tests.test_tokenize(token_lookup)"
   ]
  },
  {
   "cell_type": "markdown",
   "metadata": {
    "deletable": true,
    "editable": true
   },
   "source": [
    "## Preprocess all the data and save it\n",
    "Running the code cell below will preprocess all the data and save it to file."
   ]
  },
  {
   "cell_type": "code",
   "execution_count": 34,
   "metadata": {
    "collapsed": false,
    "deletable": true,
    "editable": true
   },
   "outputs": [
    {
     "name": "stdout",
     "output_type": "stream",
     "text": [
      "Counter({'||period||': 6024, '||return||': 4517, '||comma||': 3574, '||leftparentheses||': 1550, '||rightparentheses||': 1549, 'the': 1302, 'i': 1275, 'you': 1251, '||exclamationmark||': 1242, 'moe_szyslak:': 1180, '||questionmark||': 1100, 'a': 1059, 'homer_simpson:': 975, 'to': 938, 'and': 631, 'of': 488, 'my': 474, 'it': 465, 'that': 441, 'in': 432, '||quotationmark||': 418, 'me': 412, 'is': 376, 'this': 373, \"i'm\": 334, 'for': 327, 'your': 324, 'homer': 307, 'on': 289, 'hey': 289, 'moe': 273, 'oh': 272, 'no': 261, 'lenny_leonard:': 247, 'what': 246, 'with': 235, 'yeah': 233, 'all': 231, 'just': 218, 'like': 214, 'but': 213, 'barney_gumble:': 207, 'so': 205, 'be': 204, 'here': 196, 'carl_carlson:': 194, \"don't\": 193, 'have': 192, 'up': 188, \"it's\": 188, 'well': 186, 'out': 185, 'do': 180, 'was': 179, 'got': 176, 'get': 175, 'are': 175, 'we': 172, \"that's\": 168, 'uh': 168, 'one': 164, \"you're\": 158, 'not': 156, 'now': 156, 'know': 155, 'can': 155, '||dash||': 151, 'at': 145, 'right': 144, '/': 135, 'how': 132, 'if': 125, 'back': 119, 'marge_simpson:': 117, 'about': 115, 'he': 112, 'from': 112, 'go': 110, 'gonna': 107, 'there': 105, 'they': 105, 'beer': 100, 'good': 98, 'who': 97, 'an': 94, 'man': 93, 'okay': 91, 'little': 90, 'his': 90, 'as': 89, 'some': 88, \"can't\": 87, 'then': 87, 'never': 85, 'come': 84, 'think': 84, \"i'll\": 84, 'could': 83, \"i've\": 81, 'him': 81, 'look': 80, 'want': 80, 'see': 80, 'really': 80, 'too': 79, 'guys': 78, 'been': 78, 'when': 77, 'make': 77, 'why': 76, 'ya': 75, 'bar': 75, 'her': 74, 'did': 73, 'say': 72, 'time': 72, 'gotta': 71, 'ah': 71, 'or': 71, 'marge': 71, 'take': 70, 'love': 68, 'into': 68, 'down': 68, 'more': 67, 'our': 65, 'am': 64, 'off': 64, 'guy': 63, 'sure': 62, 'barney': 60, 'two': 60, \"there's\": 59, 'thing': 58, 'lisa_simpson:': 57, 'would': 57, \"we're\": 56, 'tell': 55, 'need': 55, 'big': 55, 'had': 55, 'where': 55, \"he's\": 55, 'let': 55, 'money': 54, \"what's\": 53, 'bart_simpson:': 53, 'drink': 53, 'sorry': 53, 'us': 53, 'something': 53, 'over': 53, 'ever': 51, 'only': 51, 'by': 51, 'will': 50, 'day': 50, 'way': 50, 'wait': 49, 'she': 48, 'chief_wiggum:': 48, 'give': 47, 'even': 47, \"i'd\": 46, 'new': 46, 'huh': 46, 'god': 46, 'those': 45, \"ain't\": 45, \"didn't\": 45, 'great': 44, 'people': 44, 'eh': 42, 'much': 42, 'has': 42, 'life': 42, 'were': 42, 'lenny': 42, 'maybe': 42, \"moe's\": 42, 'phone': 42, 'mean': 41, 'going': 41, 'than': 41, 'place': 40, 'mr': 39, 'still': 39, 'should': 39, 'these': 39, 'wanna': 39, \"you've\": 39, 'better': 39, 'around': 39, 'friend': 38, 'old': 38, 'help': 38, \"'em\": 38, 'home': 38, 'please': 37, 'before': 37, 'noise': 37, 'night': 37, 'name': 37, 'seymour_skinner:': 36, 'tv': 36, 'aw': 36, 'last': 36, 'whoa': 36, 'any': 35, 'face': 35, 'boy': 35, 'made': 35, 'duff': 34, 'drunk': 34, 'thanks': 34, 'hello': 34, 'three': 34, 'call': 34, \"'cause\": 34, 'put': 34, 'bad': 33, 'again': 33, 'car': 33, 'looking': 33, 'listen': 33, 'their': 33, \"let's\": 32, 'first': 32, 'best': 32, 'very': 32, 'does': 31, 'yes': 31, 'wow': 31, 'ooh': 30, 'every': 30, 'looks': 30, 'them': 30, 'another': 30, 'said': 30, 'while': 30, 'kent_brockman:': 30, 'guess': 29, 'other': 29, 'work': 29, 'wife': 29, 'apu_nahasapeemapetilon:': 29, 'springfield': 28, 'play': 28, \"won't\": 28, 'sweet': 28, 'feel': 28, 'tonight': 28, 'dad': 28, 'years': 28, 'singing': 28, 'after': 27, 'everybody': 27, 'find': 27, 'dr': 27, 'voice': 27, \"they're\": 27, 'thought': 27, 'sobs': 27, 'kids': 26, 'buy': 26, 'things': 26, 'might': 26, 'head': 25, 'girl': 25, 'shut': 25, 'check': 25, 'since': 25, 'show': 25, 'world': 25, 'nice': 25, 'minute': 25, 'beat': 25, 'because': 25, 'keep': 25, 'happy': 25, \"who's\": 24, 'use': 24, 'sings': 24, 'lisa': 24, 'chuckle': 24, 'always': 24, 'friends': 24, 'sighs': 24, 'bart': 24, 'c': 23, 'someone': 23, 'carl': 23, 'which': 23, \"isn't\": 23, 'stupid': 23, 'ow': 23, 'kid': 23, 'krusty_the_clown:': 23, \"you'll\": 23, 'hundred': 22, 'remember': 22, 'lot': 22, 'talk': 22, 'anything': 22, 'seen': 22, \"here's\": 22, 'laugh': 22, 'simpson': 21, 'through': 21, 'hell': 21, 'glass': 21, 'thank': 21, 'job': 21, 'laughs': 21, 'next': 21, 'chuckles': 21, 'house': 20, 'happened': 20, 'lost': 20, 'long': 20, 'five': 20, 'hear': 20, 'kind': 20, 'pretty': 20, 'woman': 20, 'away': 20, 'hope': 20, 'believe': 20, 'matter': 20, \"nothin'\": 20, 'outta': 20, 'says': 20, 'wish': 19, \"homer's\": 19, 'tavern': 19, 'four': 19, 'family': 19, '_montgomery_burns:': 19, 'comes': 19, 'nervous': 19, \"c'mon\": 19, 'once': 19, 'turn': 19, 'fat': 19, 'waylon_smithers:': 19, 'book': 19, 'ned_flanders:': 19, 'stop': 19, 'real': 19, 'wants': 18, 'ask': 18, 'wrong': 18, 'business': 18, \"doin'\": 18, 'actually': 18, 'myself': 18, 'game': 18, 'idea': 18, 'grampa_simpson:': 18, \"goin'\": 18, \"wouldn't\": 17, 'loud': 17, 'used': 17, \"we've\": 17, 'must': 17, 'done': 17, 'enough': 17, 'party': 17, 'today': 17, 'problem': 17, 'town': 17, 'getting': 17, 'duffman:': 17, \"comin'\": 17, 'nobody': 17, 'burns': 17, 'everything': 17, \"she's\": 17, 'many': 17, 'doing': 16, 'took': 16, 'true': 16, 'try': 16, 'maggie': 16, 'sound': 16, 'free': 16, 'woo': 16, 'reading': 16, 'sounds': 16, 'thinking': 16, 'dollars': 16, 'hold': 16, 'na': 16, 'um': 16, 'nah': 16, 'gee': 16, 'watch': 16, 'bucks': 16, 'under': 15, 'kill': 15, 'chief': 15, 'care': 15, 'gimme': 15, 'beautiful': 15, 'pants': 15, 'makes': 15, 'being': 15, 'secret': 15, 'yourself': 15, 'daughter': 15, 'baby': 15, \"where's\": 15, 'sell': 15, 'edna': 15, 'canyonero': 15, 'wanted': 15, 'kemi:': 15, 'stuff': 15, 'leave': 15, 'pay': 15, 'most': 15, 'excuse': 15, 'everyone': 15, 'hurt': 14, 'worry': 14, 'tough': 14, 'tipsy': 14, 'sad': 14, 'went': 14, 'pal': 14, 'dead': 14, 'points': 14, 'smithers': 14, 'left': 14, 'own': 14, 'knew': 14, 'dinner': 14, 'pick': 14, 'mouth': 14, 'save': 14, \"you'd\": 14, 'quickly': 14, 'hoo': 13, 'told': 13, 'skinner': 13, 'break': 13, 'funny': 13, 'booze': 13, 'sign': 13, 'dog': 13, 'hi': 13, 'feeling': 13, 'gave': 13, 'saw': 13, 'school': 13, 'heard': 13, 'excited': 13, 'quit': 13, 'till': 13, 'tomorrow': 13, 'fine': 13, 'drinking': 13, 'came': 13, 'eyes': 13, 'ladies': 13, 'hate': 13, 'gets': 13, 'camera': 13, 'win': 13, 'die': 13, 'eat': 12, 'flaming': 12, 'calling': 12, 'forget': 12, 'bring': 12, 'fight': 12, 'noises': 12, 'date': 12, 'mad': 12, 'drive': 12, 'nuts': 12, \"aren't\": 12, 'million': 12, 'kinda': 12, 'jacques:': 12, 'super': 12, 'read': 12, 'burn': 12, 'artie_ziff:': 12, 'small': 12, 'alcohol': 12, 'gasp': 12, 'sir': 12, 'fire': 12, 'kirk_van_houten:': 12, 'easy': 12, 'clean': 12, 'loves': 12, 'cash': 12, 'krusty': 12, 'barflies:': 12, 'hands': 12, 'seven': 12, 'room': 12, 'loser': 12, 'anyone': 12, 'surprised': 12, 'gone': 12, 'hand': 12, 'twenty': 12, \"couldn't\": 12, 'mom': 12, 'without': 12, 'cut': 11, 'trouble': 11, 'chance': 11, 'course': 11, \"drinkin'\": 11, 'already': 11, \"haven't\": 11, \"talkin'\": 11, 'turns': 11, 'geez': 11, 'called': 11, 'tape': 11, 'high': 11, \"somethin'\": 11, 'low': 11, 'gentlemen': 11, 'problems': 11, 'meet': 11, 'seymour': 11, 'sadly': 11, 'each': 11, 'upset': 11, \"y'know\": 11, \"doesn't\": 11, \"wasn't\": 11, 'happen': 11, 'bartender': 11, \"lookin'\": 11, 'professor_jonathan_frink:': 11, 'behind': 11, 'coming': 11, 'door': 11, 'dear': 11, 'anyway': 11, 'six': 11, \"we'll\": 11, 'heart': 10, 'live': 10, 'trying': 10, 'spend': 10, 'change': 10, 'whatever': 10, 'crazy': 10, 'moan': 10, 'lady': 10, 'song': 10, 'm': 10, 'straight': 10, 'the_rich_texan:': 10, 'stay': 10, 'outside': 10, 'watching': 10, 'wiggum': 10, 'stand': 10, 'dump': 10, 'sing': 10, 'steal': 10, 'throat': 10, 'whole': 10, 'learn': 10, 'realizing': 10, 'uh-oh': 10, 'least': 10, 'machine': 10, 'disgusted': 10, \"it'll\": 10, 'blame': 10, 'self': 10, 'worried': 10, 'sigh': 10, 'close': 10, 'bar_rag:': 10, \"gettin'\": 10, 'war': 10, 'quiet': 10, 'talking': 10, 'snake_jailbird:': 10, 'worse': 10, 'works': 10, ':': 10, 'mmmm': 10, 'eye': 10, 'keys': 10, 'hours': 10, 'hot': 10, 'bottle': 10, 'start': 10, 'fun': 10, 'ugly': 10, 'larry:': 10, 'end': 10, 'far': 9, 'morning': 9, 'girls': 9, 'poor': 9, 'heh': 9, 'barflies': 9, 'greatest': 9, 'ten': 9, 'joe': 9, 'private': 9, 'delete': 9, 'marriage': 9, 'person': 9, 'pull': 9, 'learned': 9, 'playing': 9, 'light': 9, 'such': 9, 'point': 9, 'else': 9, 'soon': 9, 'thousand': 9, 'married': 9, 'alive': 9, 'stick': 9, 'drinks': 9, 'goodbye': 9, 'either': 9, 'less': 9, 'may': 9, 'anymore': 9, 'front': 9, 'special': 9, \"shouldn't\": 9, 'times': 9, \"'bout\": 9, 'air': 9, 'turned': 9, 'late': 9, 'annoyed': 9, 'probably': 9, 'second': 9, 'blue': 9, 'police': 9, 'shocked': 9, 'gasps': 9, 'ma': 9, 'year': 9, 'lousy': 9, 'whip': 9, 'bowl': 9, 'young': 9, 'apu': 9, 'crowd:': 9, 'mother': 9, 'butt': 9, 'thinks': 9, 'bit': 9, 'perfect': 9, 'tsk': 9, 'shot': 8, 'mayor_joe_quimby:': 8, 'barn': 8, 'fifty': 8, \"how'd\": 8, 'miss': 8, 'moron': 8, 'lemme': 8, 'cool': 8, 'lucky': 8, 'boys': 8, 'agnes_skinner:': 8, 'nothing': 8, 'ticket': 8, 'yet': 8, 'minutes': 8, 'letter': 8, 'picture': 8, 'boxing': 8, 'open': 8, 'angry': 8, 'anybody': 8, 'christmas': 8, 'found': 8, 'exactly': 8, 'duffman': 8, 'goodnight': 8, 'card': 8, 'beers': 8, 'king': 8, 'alone': 8, 'blood': 8, 'knows': 8, 'serious': 8, 'instead': 8, 'uh-huh': 8, 'jacques': 8, 'arm': 8, 'buddy': 8, 'ass': 8, 'american': 8, 'kick': 8, 'throw': 8, 'goes': 8, 'turning': 8, 'store': 8, 'feet': 8, 'eight': 8, 'tab': 8, 'walk': 8, 'smell': 8, 'patty_bouvier:': 8, 'taking': 8, 'couple': 8, 'mind': 8, 'shotgun': 8, 'box': 8, 'both': 8, 'president': 8, 'rev': 8, 'pig': 8, 'nods': 8, 'later': 8, 'youse': 8, 'join': 8, 'story': 7, 'saying': 7, 'table': 7, 'glove': 7, 'homie': 7, 'plant': 7, 'proudly': 7, 'walking': 7, 'fast': 7, 'return': 7, 'renee:': 7, 'wire': 7, 'making': 7, 'channel': 7, 'black': 7, 'cold': 7, 'damn': 7, 'japanese': 7, 'butts': 7, 'full': 7, 'news': 7, 'run': 7, 'ha': 7, 'son': 7, 'english': 7, 'ahh': 7, 'though': 7, 'ned': 7, 'intrigued': 7, 'telling': 7, 'dry': 7, 'eggs': 7, 'paint': 7, \"kiddin'\": 7, 'narrator:': 7, 'o': 7, 'smile': 7, 'tap': 7, 'plus': 7, 'finally': 7, 'weird': 7, 'dance': 7, 'young_marge:': 7, 'moans': 7, 'peanuts': 7, 'favorite': 7, 'mrs': 7, 'ready': 7, 'using': 7, 'horrible': 7, 'fellas': 7, 'rummy': 7, 'sitting': 7, 'collette:': 7, 'hide': 7, 'forever': 7, 'terrible': 7, 'selma_bouvier:': 7, 'deal': 7, 'seems': 7, 'street': 7, 'inside': 7, 'glad': 7, 'somebody': 7, 'words': 7, 'huge': 7, 'losers': 7, 'pour': 7, 'accident': 7, 'welcome': 7, 'move': 7, 'hmm': 7, \"makin'\": 7, 'la': 7, 'top': 7, 'alright': 7, 'advice': 7, 'nine': 7, 'afraid': 7, 'send': 7, 'hang': 7, 'himself': 7, 'number': 7, 'days': 7, 'happier': 7, 'word': 7, 'screw': 7, 'kiss': 7, 's': 7, 'broke': 7, 'etc': 7, \"he'll\": 7, 'together': 7, 'warm_female_voice:': 7, 'means': 7, 'scared': 7, 'seat': 7, 'human': 7, \"ol'\": 7, 'sotto': 7, 'amazed': 7, 'food': 7, 'round': 7, 'ball': 7, 'lucius:': 7, '||semicolon||': 7, 'friendly': 7, 'warmly': 7, 'comic_book_guy:': 7, 'city': 7, 'grampa': 7, 'crap': 7, 'early': 6, 'tinkle': 6, 'smells': 6, 'same': 6, 'health_inspector:': 6, 'along': 6, 'ones': 6, 'gumbel': 6, 'loved': 6, 'maya:': 6, 'belch': 6, 'group': 6, 'princess': 6, 'desperate': 6, 'tune': 6, 'walther_hotenhoffer:': 6, 'crack': 6, 'impressed': 6, 'company': 6, 'dunno': 6, 'omigod': 6, 'baseball': 6, 'hank_williams_jr': 6, 'bitter': 6, 'football_announcer:': 6, 'truth': 6, 'power': 6, 'became': 6, 'seconds': 6, 'denver': 6, 'thirty': 6, 'szyslak': 6, 'brought': 6, 'birthday': 6, 'flanders': 6, 'fill': 6, 'uncle': 6, 'rat': 6, 'giving': 6, 'tip': 6, 'plastic': 6, 'charge': 6, 'fall': 6, 'admit': 6, 'across': 6, '_julius_hibbert:': 6, 'gold': 6, 'strong': 6, 'lou:': 6, 'holds': 6, 'music': 6, 'stool': 6, 'bow': 6, 'sick': 6, 'dumb': 6, 'gives': 6, \"sayin'\": 6, 'lying': 6, 'write': 6, 'shall': 6, 'principal': 6, 'bet': 6, 'star': 6, 'fat_tony:': 6, 'set': 6, 'joey': 6, 'eating': 6, 'holding': 6, 'young_homer:': 6, 'quick': 6, 'kent': 6, 'dangerous': 6, 'worst': 6, \"that'll\": 6, 'except': 6, 'supposed': 6, 'half': 6, 'lowers': 6, 'milk': 6, 'normal': 6, 'sex': 6, 'ice': 6, 'invented': 6, 'al': 6, 'sips': 6, 'lives': 6, 'water': 6, 'manjula_nahasapeemapetilon:': 6, 'bag': 6, 'safe': 6, 'plan': 6, 'men': 6, 'numbers': 6, 'laughing': 6, 'won': 6, 'harv:': 6, 'hair': 6, 'week': 6, 'sent': 6, 'hard': 6, 'honest': 6, 'tony': 6, 'heaven': 6, 'pass': 6, \"we'd\": 6, 'nigel_bakerbutcher:': 6, 'mister': 6, 'hit': 6, 'honey': 6, 'treasure': 6, 'slap': 6, 'touched': 6, 'jukebox': 6, 'romantic': 6, 'class': 6, 'health': 6, 'slow': 6, 'takes': 6, 'state': 6, 'forgot': 6, 'customers': 5, 'broad': 5, 'needs': 5, 'pity': 5, 'also': 5, 'troll': 5, 'offended': 5, 'daddy': 5, 'women': 5, 'disappointed': 5, 'part': 5, 'local': 5, 'designated': 5, 'p': 5, 'wonder': 5, 'bed': 5, 'wine': 5, 'lose': 5, 'brockman': 5, 'government': 5, 'favor': 5, 'testing': 5, 'few': 5, 'rest': 5, 'jeez': 5, 'quietly': 5, 'rope': 5, 'tv_wife:': 5, 'selma': 5, 'empty': 5, 'speaking': 5, 'yea': 5, 'invited': 5, 'third': 5, 'thumb': 5, 'totally': 5, \"guy's\": 5, 'lord': 5, 'billy_the_kid:': 5, 'calm': 5, 'short': 5, 'soul': 5, 'shirt': 5, 'bee': 5, 'named': 5, 'center': 5, 'exasperated': 5, 'puzzled': 5, '_zander:': 5, 'cow': 5, 'club': 5, 'given': 5, 'service': 5, 'jack': 5, 'man:': 5, 'mike': 5, 'mouse': 5, 'changing': 5, \"callin'\": 5, 'wrote': 5, 'i-i': 5, 'suddenly': 5, 'felt': 5, 'chug': 5, 'driving': 5, 'park': 5, 'evening': 5, 'ago': 5, 'wheel': 5, 'children': 5, 'caught': 5, 'treat': 5, \"how's\": 5, 'writing': 5, 'african': 5, 'tv_husband:': 5, 'cutting': 5, 'stunned': 5, 'clear': 5, 'wha': 5, 'gay': 5, 'hated': 5, 'wall': 5, \"sittin'\": 5, 'lessons': 5, 'all:': 5, 'glasses': 5, 'drederick': 5, 'none': 5, 'speak': 5, 'running': 5, 'shaking': 5, \"world's\": 5, 'piece': 5, 'dame': 5, 'wallet': 5, 'speech': 5, 'fingers': 5, 'suicide': 5, 'little_man:': 5, 'luck': 5, 'pool': 5, 'pipe': 5, 'clears': 5, 'until': 5, 'swear': 5, \"smokin'_joe_frazier:\": 5, 'fellow': 5, 'coaster': 5, 'boring': 5, 'filthy': 5, 'chanting': 5, 'hanging': 5, 'duh': 5, 'bender:': 5, 'closed': 5, 'pop': 5, 'edna_krabappel-flanders:': 5, 'cost': 5, 'owe': 5, 'biggest': 5, 'x': 5, \"i'm-so-stupid\": 5, 'bank': 5, 'confused': 5, 'sharps': 5, 'brilliant': 5, 'cleaned': 5, 'against': 5, 'accent': 5, 'absolutely': 5, 'isotopes': 5, 'grand': 5, \"lisa's\": 5, 'beloved': 5, 'detective_homer_simpson:': 5, 'during': 5, 'games': 5, 'sober': 5, 'sauce': 5, \"tellin'\": 5, 'hospital': 5, \"one's\": 5, 'red': 5, 'horrified': 5, 'tongue': 5, 'mayor': 5, 'glen:': 5, 'dying': 5, 'window': 5, 'saved': 5, 'wonderful': 5, 'tree': 5, 'ashamed': 5, 'movie': 5, 'sob': 5, 'jar': 5, 'tired': 5, 'unless': 5, 'act': 5, 'having': 5, 'counting': 5, 'names': 5, 'longer': 5, 'clown': 5, 'french': 5, 'deer': 5, 'joint': 5, 'truck': 5, 'catch': 5, 'fish': 5, 'dude': 5, 'yep': 5, 'represent': 5, 'proud': 5, 'stories': 5, 'ad': 5, \"tryin'\": 5, 'nuclear': 5, '_hooper:': 5, 'cop': 5, 'nein': 5, 'announcer:': 5, 'adult_bart:': 5, 'beach': 5, 'dallas': 5, 'asked': 5, \"he'd\": 5, 'lloyd:': 5, 'nineteen': 5, \"drivin'\": 5, 'suit': 5, 'cheer': 5, 'survive': 5, 'handsome': 5, 'doubt': 5, 'side': 5, 'artie': 5, 'surgery': 5, \"workin'\": 5, 'hopeful': 5, 'dank': 5, 'mine': 5, 'sunday': 5, 'america': 5, 'college': 5, 'strap': 5, 'jerks': 5, 'punch': 5, 'started': 4, 'clearly': 4, 'neck': 4, 'dennis_conroy:': 4, 'knock': 4, 'figured': 4, 'awkward': 4, 'brain': 4, 'bald': 4, 'yesterday': 4, \"o'clock\": 4, 'island': 4, 'whiny': 4, 'loaded': 4, 'senators': 4, 'babies': 4, 'betty:': 4, 'ken:': 4, 'fix': 4, 'pipes': 4, 'vance': 4, 'drug': 4, 'pickle': 4, 'burps': 4, 'woman:': 4, 'breath': 4, 'tail': 4, 'understand': 4, 'question': 4, 'plow': 4, 'scream': 4, 'legs': 4, 'flowers': 4, 'months': 4, 'billboard': 4, \"they've\": 4, 'hurry': 4, 'meeting': 4, 'keeps': 4, \"who'll\": 4, \"today's\": 4, 'moment': 4, 'finding': 4, 'adeleine': 4, 'hans:': 4, 'ivana': 4, 'pointed': 4, 'teenage_bart:': 4, 'agent': 4, 'whaddaya': 4, 'mug': 4, 'twins': 4, 'flower': 4, 'championship': 4, 'therapy': 4, 'snake': 4, 'original': 4, 'choice': 4, 'dramatic': 4, 'blow': 4, 'castle': 4, 'renee': 4, 'senator': 4, 'movies': 4, 'eddie:': 4, 'explaining': 4, 'sexy': 4, \"watchin'\": 4, 'twelve': 4, 'belches': 4, 'sit': 4, 'wear': 4, 'huggenkiss': 4, 'lotta': 4, 'pleased': 4, 'closing': 4, 'sports': 4, 'bars': 4, 'eleven': 4, 'domestic': 4, 'forty': 4, 'lips': 4, 'flips': 4, 'thoughtful': 4, 'egg': 4, 'couch': 4, 'video': 4, 'fan': 4, 'bye': 4, 'secrets': 4, 'arms': 4, 'hm': 4, \"what'll\": 4, \"livin'\": 4, 'cares': 4, 'folks': 4, 'trip': 4, 'sobbing': 4, 'yard': 4, 'test': 4, 'ingredient': 4, 'france': 4, 'liver': 4, 'rob': 4, 'offer': 4, 'dan_gillick:': 4, 'fbi': 4, 'guns': 4, 'hero': 4, 'husband': 4, 'sees': 4, 'forget-me-shot': 4, 'girlfriend': 4, 'boat': 4, 'teenage_barney:': 4, 'pulled': 4, 'frustrated': 4, 'buffalo': 4, 'amid': 4, \"carl's\": 4, 'chick': 4, 'polite': 4, 'cries': 4, 'sarcastic': 4, 'calls': 4, 'working': 4, 'character': 4, 'embarrassed': 4, 'stillwater:': 4, 'pulls': 4, 'pit': 4, 'address': 4, 'bill': 4, 'follow': 4, 'feels': 4, 'smooth': 4, 'spot': 4, 'precious': 4, 'situation': 4, 'hungry': 4, 'heavyweight': 4, 'busy': 4, 'smiling': 4, 'whisper': 4, 'market': 4, 'respect': 4, 'books': 4, 'body': 4, 'teach': 4, 'gin': 4, 'bees': 4, 'david_byrne:': 4, 'bottom': 4, 'new_health_inspector:': 4, 'pain': 4, 'deep': 4, 'career': 4, 'rather': 4, \"buyin'\": 4, 'chocolate': 4, 'pub': 4, 'answer': 4, 'usually': 4, 'amazing': 4, 'yellow': 4, 'wally:': 4, 'opportunity': 4, 'rotch': 4, 'lie': 4, 'pitcher': 4, 'sold': 4, 'seem': 4, 'pickled': 4, 'tatum': 4, 'dollar': 4, 'coat': 4, 'ominous': 4, 'weekly': 4, 'gas': 4, 'amanda': 4, 'hugh:': 4, 'sly': 4, 'distraught': 4, 'drivers': 4, 'shows': 4, 'almost': 4, 'sister': 4, 'case': 4, 'different': 4, 'illegal': 4, 'starts': 4, 'enjoy': 4, 'cover': 4, 'hoping': 4, 're:': 4, 'sincere': 4, 'jerk': 4, 'computer': 4, 'stirring': 4, 'declan_desmond:': 4, 'ourselves': 4, \"bein'\": 4, 'milhouse_van_houten:': 4, 'ooo': 4, 'ahead': 4, 'field': 4, 'ruined': 4, 'rag': 4, 'magic': 4, 'yap': 4, \"moe's_thoughts:\": 4, 'minimum': 4, 'professional': 4, 'died': 4, 'burp': 4, 'beauty': 4, 'partner': 4, 'quite': 4, 'furious': 4, 'monster': 4, 'meaningful': 4, 'radishes': 4, 'fifteen': 4, 'line': 4, 'south': 4, 'selling': 4, 'father': 4, \"o'problem\": 4, 'gotten': 4, 'match': 4, 'restaurant': 4, 'stagy': 4, \"everyone's\": 4, 'upbeat': 4, \"valentine's\": 4, 'kidding': 4, 'train': 4, 'clothes': 4, 'raises': 4, 'whee': 4, 'garbage': 4, 'procedure': 4, 'sits': 4, 'rich': 4, 'correct': 4, 'arrest': 4, 'burt': 4, 'stock': 4, 'fridge': 4, 'buttons': 4, 'foibles': 4, 'road': 4, 'threw': 4, 'cable': 4, 'finger': 4, 'needed': 4, 'à': 4, 'grim': 4, 'dang': 4, 'especially': 4, 'ride': 4, 'u': 4, 'tom': 4, 'hits': 4, \"dad's\": 4, 'band': 4, 'sense': 4, 'able': 4, 'nose': 4, 'sheepish': 4, 'serve': 3, 'single': 3, 'awful': 3, 'belly': 3, \"bart's\": 3, 'sec_agent_#1:': 3, \"where'd\": 3, 'boo': 3, 'diet': 3, 'staying': 3, 'child': 3, 'death': 3, 'text': 3, 'upon': 3, 'trust': 3, 'tradition': 3, 'fourth': 3, 'root': 3, 'directions': 3, 'consider': 3, '&': 3, 'expect': 3, 'higher': 3, 'pause': 3, 'kermit': 3, 'shares': 3, 'despite': 3, 'gag': 3, 'searching': 3, 'aww': 3, 'weeks': 3, 'oil': 3, 'hug': 3, 'anguished': 3, 'wasting': 3, 'feelings': 3, 'law': 3, 'backwards': 3, \"they'll\": 3, 'age': 3, 'reads': 3, 'born': 3, 'enemies': 3, 'r': 3, 'future': 3, 'paying': 3, 'army': 3, 'met': 3, 'cannot': 3, 'likes': 3, 'idiot': 3, 'played': 3, 'beginning': 3, 'label': 3, 'scene': 3, 'wiener': 3, 'cocktail': 3, 'driver': 3, 'drop': 3, \"i-i'm\": 3, 'ring': 3, 'workers': 3, 'tried': 3, 'jump': 3, 'wooooo': 3, 'vegas': 3, 'buying': 3, 'extra': 3, 'per': 3, 'fritz:': 3, 'prank': 3, 'scam': 3, 'casual': 3, 'campaign': 3, 'cough': 3, 'challenge': 3, 'teeth': 3, 'puke': 3, 'bright': 3, 'theater': 3, 'tips': 3, \"wife's\": 3, 'twenty-five': 3, 'coffee': 3, 'stayed': 3, 'international': 3, 'hour': 3, 'touchdown': 3, 'bob': 3, 'public': 3, 'bunch': 3, 'leg': 3, 'military': 3, 'natural': 3, 'rid': 3, 'invite': 3, 'l': 3, 'whatcha': 3, 'fair': 3, 'lonely': 3, 'stools': 3, 'lately': 3, 'fans': 3, 'seeing': 3, 'heads': 3, 'image': 3, 'delighted': 3, 'starting': 3, 'powerful': 3, 'burning': 3, 'toilet': 3, 'celebrities': 3, 'midge': 3, 'sometime': 3, 'become': 3, 'pardon': 3, 'threatening': 3, 'gary_chalmers:': 3, 'paris': 3, 'spending': 3, 'attention': 3, 'milhouse': 3, \"kids'\": 3, 'crawl': 3, 'indignant': 3, 'recommend': 3, 'complete': 3, 'slip': 3, 'comfortable': 3, 'al_gore:': 3, 'defensive': 3, 'darts': 3, 'lots': 3, 'gary:': 3, 'hunter': 3, 'fact': 3, 'peach': 3, 'salad': 3, 'walks': 3, 'mechanical': 3, 'shove': 3, 'endorse': 3, 'flatly': 3, 'fraud': 3, 'afford': 3, 'bar-boy': 3, 'palmerston': 3, 'pissed': 3, 'coach:': 3, 'grabs': 3, 'opening': 3, 'embarrassing': 3, 'dive': 3, 'bret:': 3, 'bowling': 3, 'button': 3, 'gently': 3, 'twenty-two': 3, 'wipe': 3, \"year's\": 3, \"stinkin'\": 3, 'ran': 3, 'tells': 3, 'hurts': 3, 'who-o-oa': 3, 'crummy': 3, 'perhaps': 3, 'exhaust': 3, 'history': 3, 'rub': 3, 'sleep': 3, 'book_club_member:': 3, 'knowing': 3, 'ohmygod': 3, 'stadium': 3, 'cheers': 3, 'team': 3, 'jolly': 3, 'church': 3, 'corner': 3, 'der': 3, 'customer': 3, 'men:': 3, 'greystash': 3, 'suppose': 3, 'nation': 3, 'source': 3, \"robbin'\": 3, 'alley': 3, 'saturday': 3, 'pathetic': 3, 'enemy': 3, 'sec': 3, 'panicky': 3, 'struggling': 3, 'junior': 3, 'peter': 3, 'andy': 3, 'middle': 3, 'sniffles': 3, 'share': 3, 'barney-shaped_form:': 3, 'roll': 3, 'above': 3, 'fever': 3, 'peace': 3, '_babcock:': 3, 'grunts': 3, 'ridiculous': 3, 'subject': 3, 'sniffs': 3, 'ruin': 3, 'sadder': 3, 'closer': 3, 'pats': 3, 'drunks': 3, 'ancient': 3, 'ordered': 3, 'midnight': 3, \"c'mere\": 3, 'shoot': 3, 'sisters': 3, 'brother': 3, 'election': 3, 'floor': 3, 'system': 3, 'chest': 3, 'kept': 3, 'toys': 3, 'bitterly': 3, 'ground': 3, 'aside': 3, 'reason': 3, 'program': 3, 'focus': 3, 'pocket': 3, 'tears': 3, 'reminds': 3, 'moments': 3, 'hilarious': 3, 'entire': 3, 'woo-hoo': 3, 'traffic': 3, 'turkey': 3, 'register': 3, \"gentleman's\": 3, 'miserable': 3, 'fool': 3, 'k': 3, 'anniversary': 3, 'dressed': 3, 'switch': 3, 'showing': 3, 'feed': 3, 'fork': 3, 'accept': 3, 'order': 3, 'spoken': 3, 'bought': 3, 'bite': 3, 'whose': 3, 'corpses': 3, 'film': 3, 'finest': 3, 'worked': 3, 'step': 3, 'literature': 3, 'fumes': 3, 'meant': 3, 'gift': 3, 'clientele': 3, 'nobel': 3, 'form': 3, 'harv': 3, 'pageant': 3, 'talk-sings': 3, 'list': 3, 'cute': 3, \"they'd\": 3, 'scum': 3, 'inspector': 3, 'brains': 3, 'hole': 3, 'grow': 3, 'scotch': 3, 'mistake': 3, 'har': 3, 'cameras': 3, 'bus': 3, 'sixty-nine': 3, 'toasting': 3, 'pockets': 3, 'concerned': 3, 'vomit': 3, 'kwik-e-mart': 3, 'noticing': 3, 'foot': 3, \"ridin'\": 3, 'troy:': 3, 'frink': 3, 'edison': 3, \"men's\": 3, 'sweetly': 3, 'cheap': 3, 'changed': 3, 'bless': 3, 'spinning': 3, 'wearing': 3, 'mel': 3, \"could've\": 3, 'british': 3, 'hiya': 3, 'odd': 3, 'fault': 3, 'religion': 3, 'gal': 3, 'toward': 3, 'following': 3, 'operation': 3, 'banks': 3, 'nards': 3, 'tv_father:': 3, 'imagine': 3, 'coney': 3, 'checks': 3, 'stopped': 3, 'glum': 3, 'weak': 3, 'prime': 3, 'spanish': 3, 'crowd': 3, 'sadistic_barfly:': 3, 'unison': 3, 'double': 3, 'fancy': 3, 'understanding': 3, 'jesus': 3, 'wide': 3, 'helicopter': 3, 'lindsay_naegle:': 3, 'compliment': 3, \"havin'\": 3, 'snort': 3, 'guest': 3, 'crime': 3, 'grunt': 3, 'checking': 3, 'covering': 3, 'license': 3, 'moved': 3, 'chinese': 3, 'wayne:': 3, 'unlike': 3, 'delicious': 3, 'elder': 3, 'popular': 3, '_kissingher:': 3, 'bike': 3, 'season': 3, 'size': 3, 'dynamite': 3, 'kissing': 3, 'puff': 3, 'jamaican': 3, 'f': 3, 'screams': 3, 'jack_larson:': 3, 'general': 3, 'uneasy': 3, 'relax': 3, 'modern': 3, 'grabbing': 3, 'losing': 3, 'marvin': 3, 'taken': 3, 'dirt': 3, 'letters': 3, 'raising': 3, 'innocent': 3, '_timothy_lovejoy:': 3, 'rough': 3, 'incredulous': 3, 'frankly': 3, 'suck': 3, 'pointing': 3, 'jail': 3, 'toss': 3, 'texas': 3, 'cards': 3, 'evil': 3, 'mock': 3, 'summer': 3, 'uncomfortable': 3, 'loan': 3, 'careful': 3, 'james': 3, 'parking': 3, 'snaps': 3, 'looked': 3, 'finished': 3, 'exit': 3, 'killed': 3, 'breaking': 3, 'ziffcorp': 3, 'accurate': 3, \"barney's\": 3, 'shape': 3, 'hall': 3, 'holiday': 3, 'hmmm': 3, 'yo': 3, 'leans': 3, 'afternoon': 3, 'cigarette': 3, 'unlucky': 3, 'teenage': 3, 'clone': 3, 'push': 3, 'terrified': 3, 'pained': 3, 'doors': 3, 'happily': 3, 'stole': 3, 'german': 3, 'mafia': 3, 'covers': 3, 'singers:': 3, 'sexual': 3, 'glen': 3, 'lottery': 3, 'mudflap': 3, 'fly': 3, 'crank': 3, 'motel': 3, 'spit': 3, 'sucked': 3, \"'til\": 3, 'knocked': 3, 'thoughts': 3, 'kang:': 3, 'yee-haw': 3, 'rats': 3, 'ho': 3, 'inspection': 3, \"seein'\": 3, 'dancing': 3, 'hates': 3, 'somewhere': 3, 'fireball': 3, 'then:': 3, 'thankful': 3, 'pfft': 3, 'tastes': 3, 'its': 3, 'keeping': 3, 'pays': 3, 'severe': 3, \"lenny's\": 3, 'past': 3, 'cents': 3, 'candy': 2, 'smugglers': 2, 'suspect': 2, 'hired': 2, 'roof': 2, 'shower': 2, 'bread': 2, 'corporation': 2, 'charity': 2, 'authorized': 2, 'heading': 2, 'costume': 2, 'large': 2, 'certain': 2, 'realized': 2, 'brewed': 2, 'laney_fontaine:': 2, 'belong': 2, 'mmm': 2, 'whistles': 2, 'expert': 2, 'scrape': 2, 'karaoke': 2, 'bedbugs': 2, 'latin': 2, 'although': 2, 'bourbon': 2, 'meal': 2, 'punk': 2, 'margarita': 2, 'crumble': 2, 'lights': 2, 'skeptical': 2, 'academy': 2, 'tiny': 2, \"'tis\": 2, 'cozy': 2, 'held': 2, 'wishes': 2, 'poet': 2, 'express': 2, 'santa': 2, 'recently': 2, 'tenor:': 2, \"marge's\": 2, 'tofu': 2, 'ollie': 2, 'vacuum': 2, 'lucius': 2, 'ripcord': 2, 'space': 2, 'effervescent': 2, 'porn': 2, 'airport': 2, 'vacation': 2, 'compliments': 2, 'young_moe:': 2, 'answers': 2, 'mm': 2, 'kindly': 2, 'dating': 2, 'sec_agent_#2:': 2, \"hangin'\": 2, 'lover': 2, 'boneheaded': 2, 'pope': 2, 'animals': 2, 'vampires': 2, 'therefore': 2, 'snap': 2, 'monkey': 2, 'voice:': 2, 'warn': 2, 'brassiest': 2, 'aerosmith': 2, 'gang': 2, 'smug': 2, 'lurleen_lumpkin:': 2, 'isle': 2, 'price': 2, 'stern': 2, 'white': 2, 'actors': 2, 'ohh': 2, 'nerve': 2, 'poem': 2, 'lazy': 2, 'weary': 2, 'inspire': 2, 'rule': 2, 'managing': 2, 'obvious': 2, 'yourselves': 2, 'completing': 2, 'nigerian': 2, 'remembered': 2, 'patty': 2, 'talked': 2, 'cookies': 2, 'pigs': 2, 'needy': 2, 'dessert': 2, 'freeze': 2, 'vulnerable': 2, 'bush': 2, 'flag': 2, 'reach': 2, 'tang': 2, 'attempting': 2, 'cotton': 2, 'sugar': 2, 'towed': 2, 'potato': 2, 'bret': 2, 'frog': 2, 'punches': 2, 'jerry': 2, 'mop': 2, 'babe': 2, 'ha-ha': 2, 'tentative': 2, 'moe-clone:': 2, 'sea': 2, 'lloyd': 2, 'slight': 2, 'foil': 2, 'joining': 2, 'blend': 2, \"monroe's\": 2, 'genius': 2, 'apartment': 2, 'male_inspector:': 2, '_powers:': 2, 'charm': 2, 'labels': 2, 'patient': 2, 'plenty': 2, 'chum': 2, 'barely': 2, 'listening': 2, 'bastard': 2, 'superhero': 2, 'remains': 2, \"other's\": 2, '6': 2, 'conference': 2, 'bums': 2, 'dungeon': 2, 'lib': 2, 'contest': 2, 'steak': 2, \"team's\": 2, 'princesses': 2, 'gosh': 2, 'conspiratorial': 2, 'answering': 2, '1895': 2, 'forward': 2, 'watered-down': 2, 'refresh': 2, 'naked': 2, 'dearest': 2, 'assistant': 2, 'conditioner': 2, 'themselves': 2, 'failed': 2, 'possibly': 2, 'rainier_wolfcastle:': 2, 'appointment': 2, 'asking': 2, 'whether': 2, 'agree': 2, 'morlocks': 2, 'doug:': 2, 'safer': 2, 'fresh': 2, 'alfalfa': 2, 'realize': 2, 'linda': 2, 'pride': 2, 'vote': 2, 'victory': 2, 'eighty-seven': 2, 'prohibit': 2, 'boozy': 2, 'cat': 2, 'formico:': 2, 'beep': 2, 'cheery': 2, 'filled': 2, 'sooner': 2, 'sodas': 2, 'fausto': 2, 'reaching': 2, 'pulling': 2, 'raccoons': 2, 'drank': 2, 'andalay': 2, 'hail': 2, 'shoots': 2, 'color': 2, 'ball-sized': 2, 'candidate': 2, \"others'\": 2, 'memories': 2, 'wang': 2, 'forbidden': 2, 'pitch': 2, 'gentleman:': 2, 'wa': 2, 'buried': 2, 'witty': 2, 'stranger:': 2, 'wave': 2, 'thru': 2, 'helllp': 2, 'pond': 2, 'anywhere': 2, 'corporate': 2, 'boyfriend': 2, 'clinton': 2, 'carll': 2, 'fudd': 2, 'billion': 2, \"hadn't\": 2, 'belt': 2, 'museum': 2, 'slightly': 2, 'joke': 2, 'bartenders': 2, 'duty': 2, 'retired': 2, \"countin'\": 2, 'boxer': 2, 'shutting': 2, 'value': 2, 'easier': 2, 'medicine': 2, 'troy_mcclure:': 2, 'mumbling': 2, 'based': 2, 'sat': 2, 'stir': 2, 'carve': 2, 'snorts': 2, 'murmur': 2, 'confidence': 2, 'grandiose': 2, 'wings': 2, 'self-made': 2, 'guide': 2, 'detecting': 2, \"children's\": 2, 'jerky': 2, 'smile:': 2, 'maya': 2, 'deliberate': 2, 'snake-handler': 2, 'falcons': 2, 'hibbert': 2, 'tanked-up': 2, 'product': 2, \"what'sa\": 2, \"someone's\": 2, 'sometimes': 2, 'paid': 2, \"chewin'\": 2, 'chicks': 2, 'rage': 2, 'awwww': 2, 'quality': 2, 'pian-ee': 2, 'lenny:': 2, 'reached': 2, 'wrestling': 2, 'mess': 2, 'brow': 2, 'shooting': 2, 'mount': 2, 'stevie': 2, 'hobo': 2, 'painting': 2, 'greetings': 2, 'smoke': 2, 'slice': 2, 'vodka': 2, 'deacon': 2, 'sweetheart': 2, 'standards': 2, 'astronaut': 2, 'suds': 2, 'denser': 2, 'discuss': 2, 'peppy': 2, 'voice_on_transmitter:': 2, 'satisfaction': 2, 'rumaki': 2, 'gorgeous': 2, 'muttering': 2, 'granted': 2, 'worth': 2, 'broom': 2, 'nearly': 2, 'whenever': 2, 'yell': 2, 'explain': 2, 'manager': 2, 'salt': 2, 'beats': 2, 'informant': 2, \"father's\": 2, 'cars': 2, 'scooter': 2, 'neat': 2, 'department': 2, 'served': 2, 'zero': 2, 'umm': 2, 'jubilant': 2, 'grumpy': 2, 'disappeared': 2, 'awe': 2, 'attitude': 2, 'all-star': 2, 'shrugs': 2, 'saint': 2, 'sudden': 2, 'cheese': 2, 'difficult': 2, 'bubbles': 2, 'pint': 2, 'rules': 2, 'wooden': 2, 'solid': 2, 'self-esteem': 2, 'dress': 2, 'balls': 2, 'laws': 2, 'sabermetrics': 2, 'koi': 2, 'dismissive': 2, 'plum': 2, 'prepared': 2, 'conversation': 2, 'cream': 2, 'blew': 2, 'so-called': 2, 'banquo': 2, 'sausage': 2, 'carl:': 2, 'borrow': 2, 'bigger': 2, 'fictional': 2, 'village': 2, 'multiple': 2, 'thesaurus': 2, 'action': 2, 'naturally': 2, 'relationship': 2, 'sweeter': 2, 'bam': 2, 'ah-ha': 2, 'camp': 2, 'standing': 2, 'delivery_boy:': 2, 'reasonable': 2, 'ginger': 2, \"pope's\": 2, 'skirt': 2, 'comedy': 2, 'missed': 2, 'folk': 2, 'media': 2, 'schnapps': 2, 'bible': 2, 'grab': 2, 'doreen:': 2, 'recall': 2, 'mate': 2, 'cent': 2, 'advantage': 2, 'cowardly': 2, 'ye': 2, 'considering': 2, 'relieved': 2, 'inspiring': 2, 'cops': 2, 'oof': 2, 'devastated': 2, 'jeff': 2, 'remembering': 2, 'joined': 2, 'windex': 2, 'homers': 2, 'handle': 2, 'ocean': 2, 'smoothly': 2, 'surprise': 2, 'miles': 2, 'bear': 2, 'simp-sonnnn': 2, 'love-matic': 2, 'smurfs': 2, 'scary': 2, 'corkscrew': 2, 'famous': 2, 'tie': 2, 'sympathetic': 2, 'teams': 2, 'duel': 2, 'laramie': 2, 'dan': 2, 'dreams': 2, 'someday': 2, 'admiring': 2, \"showin'\": 2, 'prayer': 2, 'tick': 2, 'mic': 2, 'joking': 2, 'weirded-out': 2, 'b': 2, 'release': 2, 'fuss': 2, 'cheat': 2, 'passed': 2, 'stationery': 2, 'christopher': 2, 'blues': 2, 'gator:': 2, 'chase': 2, 'drown': 2, 'unfortunately': 2, \"payin'\": 2, 'ironed': 2, 'festival': 2, 'suspicious': 2, 'restaurants': 2, 'straining': 2, 'caused': 2, \"ma'am\": 2, 'yogurt': 2, 'sleeps': 2, 'wordloaf': 2, 'klingon': 2, 'impatient': 2, 'alfred': 2, 'gifts': 2, 'ale': 2, 'businessman_#1:': 2, 'comic': 2, 'regret': 2, 'lise:': 2, 'shaggy': 2, 'owner': 2, 'rounds': 2, 'louder': 2, 'louie:': 2, 'hop': 2, 'intense': 2, 'mention': 2, 'level': 2, 'bears': 2, 'begins': 2, 'nasa': 2, 'harder': 2, \"beer's\": 2, 'carlson': 2, 'century': 2, 'magazine': 2, 'w': 2, 'steel': 2, 'choking': 2, 'violin': 2, 'record': 2, 'attack': 2, \"bartender's\": 2, 'ugliest': 2, 'combine': 2, 'koholic': 2, 'broadway': 2, 'mcstagger': 2, 'proposing': 2, 'shrugging': 2, 'planning': 2, 'yours': 2, 'bridge': 2, 'dennis_kucinich:': 2, 'queer': 2, 'bathroom': 2, 'funds': 2, 'wins': 2, 'appealing': 2, 'bucket': 2, 'degradation': 2, 'smallest': 2, 'cooler': 2, 'electronic': 2, 'rolled': 2, 'hats': 2, 'dreamed': 2, 'judge': 2, 'lurleen': 2, 'wedding': 2, 'rhyme': 2, 'smart': 2, 'lovely': 2, 'passion': 2, 'medical': 2, 'quotes': 2, 'kidney': 2, 'fighting': 2, 'riding': 2, 'pointless': 2, 'bets': 2, 'entirely': 2, 'awww': 2, 'rap': 2, 'reynolds': 2, 'discussing': 2, 'fondly': 2, 'virtual': 2, 'yawns': 2, 'jumps': 2, 'excellent': 2, 'eyeball': 2, 'complaining': 2, 'freak': 2, 'trolls': 2, 'roses': 2, 'nope': 2, 'shoulder': 2, 'defeated': 2, 'seek': 2, 'lush': 2, 'mail': 2, 'wangs': 2, 'admitting': 2, 'bash': 2, 'due': 2, 'heavyset': 2, 'positive': 2, 'feast': 2, 'admiration': 2, 'yelling': 2, 'securities': 2, 'neither': 2, 'thought_bubble_homer:': 2, 'swill': 2, 'copy': 2, 'draw': 2, 'code': 2, 'ringing': 2, 'memory': 2, 'strategy': 2, 'liar': 2, \"town's\": 2, 'yards': 2, 'sinister': 2, 'wade_boggs:': 2, \"drawin'\": 2, 'lowering': 2, 'lock': 2, 'decent': 2, \"takin'\": 2, 'stuck': 2, 'increasingly': 2, 'therapist': 2, 'curious': 2, 'mcbain': 2, 'waylon': 2, 'juice': 2, 'motorcycle': 2, 'teddy': 2, 'acquaintance': 2, 'brave': 2, 'hollywood': 2, 'giggles': 2, 'befouled': 2, 'gun': 2, 'yup': 2, 'honored': 2, 'elephants': 2, 'freedom': 2, 'agent_johnson:': 2, \"dyin'\": 2, 'advance': 2, 'payments': 2, 'crying': 2, 'woman_bystander:': 2, 'kyoto': 2, 'utility': 2, 't-shirt': 2, 'disco': 2, 'calmly': 2, 'crew': 2, 'director': 2, 'nigeria': 2, 'highway': 2, 'stinks': 2, 'pad': 2, 'don': 2, '250': 2, 'bride': 2, 'chilly': 2, 'pirate': 2, 'twin': 2, 'lap': 2, 'gals': 2, 'charlie': 2, 'forehead': 2, 'hangs': 2, 'trick': 2, 'irish': 2, 'creeps': 2, 'matter-of-fact': 2, 'hotline': 2, 'alphabet': 2, 'nickels': 2, 'spied': 2, 'mob': 2, 'kicked': 2, 'badges': 2, 'commission': 2, 'message': 2, 'sale': 2, 'insulted': 2, 'restroom': 2, 'marmaduke': 2, 'weirder': 2, 'teenage_homer:': 2, 'bump': 2, 'bashir': 2, 'project': 2, 'civic': 2, \"game's\": 2, 'purse': 2, 'professor': 2, 'cigarettes': 2, 'rolling': 2, 'ambrosia': 2, 'coins': 2, 'correcting': 2, 'tester': 2, \"maggie's\": 2, 'knees': 2, 'between': 2, 'celebrity': 2, 'aging': 2, 'sport': 2, 'blood-thirsty': 2, 'politics': 2, 'angel': 2, 'bottles': 2, 'cueball': 2, 'wondering': 2, 'prize': 2, 'aggravated': 2, 'winnings': 2, 'henry': 2, 'page': 2, 'darkest': 2, 'square': 2, 'rock': 2, 'hawking:': 2, 'ziff': 2, 'important': 2, 'compared': 2, \"bar's\": 2, 'reliable': 2, 'gargoyle': 2, 'thirteen': 2, 'distributor': 2, 'thoughtfully': 2, 'underbridge': 2, 'calculate': 2, \"'topes\": 2, 'mixed': 2, 'judge_snyder:': 2, \"tester's\": 2, 'roz:': 2, 'dough': 2, 'planet': 2, 'tabooger': 2, 'honor': 2, 'cola': 2, 'roomy': 2, 'wayne': 2, 'plans': 2, 'delivery': 2, 'seemed': 2, 'dryer': 2, 'bartending': 2, 'row': 2, 'involved': 2, 'spent': 2, 'tries': 2, 'built': 2, 'brothers': 2, 'inflated': 2, 'energy': 2, 'bags': 2, 'organ': 2, 'cutie': 2, 'agreement': 2, 'neighbor': 2, \"hasn't\": 2, 'greedy': 2, 'minister': 2, 'doreen': 2, 'suing': 2, 'aged_moe:': 2, 'priest': 2, 'crossed': 2, 'available': 2, 'measurements': 2, 'satisfied': 2, 'thanksgiving': 2, 'syrup': 2, 'somehow': 2, 'known': 2, 'willy': 2, 'deadly': 2, \"springfield's\": 2, 'playful': 2, \"'im\": 2, 'i-i-i': 2, 'shock': 2, 'lighting': 2, 'ayyy': 2, 'expression': 2, 'pleading': 2, 'cleaner': 2, 'fanciest': 2, 'inspired': 2, 'morose': 2, 'krabappel': 2, 'fevered': 2, 'goods': 2, \"wonderin'\": 2, '100': 2, 'murmurs': 2, 'knife': 2, 'snow': 2, 'near': 2, 'pleasure': 2, 'teacher': 2, 'trench': 2, 'un-sults': 2, 'written': 2, 'stealings': 2, 'manjula': 2, 'seas': 2, 'firmly': 2, 'barf': 2, \"homer's_brain:\": 2, 'hitler': 2, 'regulars': 2, 'poking': 2, 'shoo': 2, 'decency': 2, \"ladies'\": 2, 'boxing_announcer:': 2, 'diamond': 2, 'percent': 2, 'fabulous': 2, 'manage': 2, 'awed': 2, \"it'd\": 2, 'studio': 2, 'civilization': 2, 'violations': 2, 'sports_announcer:': 2, 'stands': 2, 'awesome': 2, 'jailbird': 2, 'disapproving': 2, 'complaint': 2, \"weren't\": 2, 'benefits': 2, 'allowed': 2, 'writers': 2, 'joey_kramer:': 2, 'tax': 2, 'bold': 2, 'forgive': 2, 'blown': 2, 'insightful': 2, 'grade': 2, 'pressure': 2, 'reserve': 2, 'pretending': 2, 'taps': 2, 'padre': 2, 'prefer': 2, 'began': 2, 'bugging': 2, 'sandwich': 2, 'arab_man:': 2, 'continuing': 2, 'catching': 2, 'deeply': 2, \"waitin'\": 2, 'coward': 2, 'fragile': 2, 'curds': 2, 'soap': 2, 'scully': 2, 'sector': 2, 'busted': 2, 'photo': 2, 'european': 2, 'puts': 2, 'formico': 2, 'dames': 2, 'confident': 2, 'website': 2, 'reviews': 2, 'eighty-one': 2, 'bubble': 2, 'tv_announcer:': 2, 'africa': 2, 'helped': 2, 'fold': 2, 'loss': 2, 'baritone': 2, 'germs': 2, \"money's\": 2, 'grienke': 2, 'doll': 2, 'woozy': 2, 'courage': 2, 'handing': 2, 'results': 2, 'wake': 2, 'ways': 2, 'frosty': 2, 'force': 2, 'fox': 2, 'effects': 2, \"buffalo's\": 2, 'beating': 2, 'tommy': 2, 'changes': 2, 'brightening': 2, 'reasons': 2, 'wash': 2, 'troy': 2, 'pouring': 2, 'david': 2, 'abandon': 2, 'beneath': 2, 'penny': 2, 'emotional': 2, \"cat's\": 2, 'wolfe': 2, 'golf': 2, 'trapped': 2, 'prison': 2, 'torn': 2, 'justice': 2, 'jets': 2, \"crawlin'\": 2, 'spy': 2, 'yoo': 2, 'ech': 2, 'deserve': 2, 'ragtime': 2, 'achem': 2, 'underpants': 2, 'mortgage': 2, 'waltz': 2, 'gum': 2, 'shakespeare': 2, 'routine': 2, 'beam': 2, 'superior': 2, 'sneaky': 2, 'bird': 2, 'seats': 2, 'closes': 2, 'fox_mulder:': 2, \"readin'\": 2, 'clock': 2, 'slyly': 2, \"what're\": 2, 'jockey': 2, 'ahhh': 2, 'd': 2, 'familiar': 2, 'raise': 2, 'excitement': 2, 'anarchy': 2, 'decide': 2, \"meanin'\": 2, 'extremely': 2, 'skin': 2, 'internet': 2, 'atlanta': 2, 'exchange': 2, 'jebediah': 2, 'tale': 2, 'plywood': 2, 'solo': 2, 'eventually': 2, 'churchill': 2, 'amount': 2, 'gums': 2, 'involving': 2, 'wing': 2, 'putting': 2, 'cruel': 2, 'bathing': 2, 'trusted': 2, 'prove': 2, 'fixed': 2, 'social': 2, 'flying': 2, 'marguerite:': 2, 'cowboys': 2, 'thighs': 2, 'reporter:': 2, '7-year-old_brockman:': 2, 'floated': 2, 'railroad': 2, 'bully': 2, 'interested': 2, 'disgrace': 2, 'maman': 2, 'neil_gaiman:': 2, 'shaken': 2, 'seriously': 2, 'sissy': 2, 'poker': 2, 'peanut': 2, 'soup': 2, 'cake': 2, 'finishing': 2, 'helen': 2, 'partly': 2, 'type': 2, 'sack': 2, 'kramer': 2, 'radio': 2, \"shan't\": 2, 'grandmother': 2, 'scare': 2, 'successful': 2, 'spread': 2, 'craphole': 2, 'palm': 2, 'hunting': 2, 'nudge': 2, 'patterns': 2, 'mona_simpson:': 2, 'friendship': 2, \"patrick's\": 2, 'fritz': 2, 'grave': 2, 'products': 2, 'effigy': 2, 'haw': 2, 'danish': 2, 'onions': 2, 'placing': 2, 'grimly': 2, 'refund': 2, 'queen': 2, 'throwing': 2, 'warily': 2, 'dropped': 2, 'present': 2, 'sitar': 2, 'jobs': 2, 'promised': 2, 'barkeep': 2, 'pin': 2, 'outlook': 2, \"fallin'\": 2, 'dee-fense': 2, 'is:': 2, 'twice': 2, 'industry': 2, 'eyesore': 2, 'alcoholic': 2, 'pleasant': 2, 'investor': 2, 'drawing': 2, 'champ': 2, 'acting': 2, 'terrific': 2, 'mall': 2, 'generous': 2, 'appear': 2, 'bedroom': 2, 'dials': 2, \"fine-lookin'\": 1, 'voicemail': 1, 'sight': 1, \"city's\": 1, 'diddilies': 1, 'presidential': 1, 'resenting': 1, 'refill': 1, 'polish': 1, 'tubman': 1, 'looooooooooooooooooong': 1, 'whim': 1, 'one-hour': 1, 'pepsi': 1, 'intention': 1, 'appearance-altering': 1, 'arise': 1, 'cloudy': 1, 'plotz': 1, 'liven': 1, 'divorced': 1, 'pack': 1, 'jane': 1, 'dig': 1, 'fired': 1, 'rude': 1, 'woooooo': 1, 'prep': 1, 'agency': 1, 'seductive': 1, 'assume': 1, 'badmouths': 1, 'obsessive-compulsive': 1, 'consulting': 1, 'destroyed': 1, \"summer's\": 1, 'fonzie': 1, 'wiping': 1, 'freed': 1, 'cutest': 1, 'rings': 1, 'introduce': 1, 'figures': 1, 'appendectomy': 1, 'kl5-4796': 1, 'hangover': 1, 'faith': 1, 'occurrence': 1, 'espn': 1, 'quimby': 1, 'oughtta': 1, 'souped': 1, \"beggin'\": 1, \"what'd\": 1, 'groveling': 1, 'hooray': 1, 'jelly': 1, 'oooo': 1, \"plank's\": 1, 'triumphantly': 1, 'confidential': 1, 'grammy': 1, 'ali': 1, 'stars': 1, 'ladder': 1, 'bid': 1, 'specials': 1, 'aims': 1, 'twelveball': 1, 'race': 1, 'mice': 1, 'burt_reynolds:': 1, 'aer': 1, 'wheels': 1, 'nurse': 1, 'coin': 1, 'wolfcastle': 1, 'harmony': 1, 'schmoe': 1, 'maher': 1, 'corkscrews': 1, 'email': 1, 'patrons:': 1, 'outstanding': 1, 'canyoner-oooo': 1, 'glowers': 1, 'depository': 1, 'youth': 1, 'volunteer': 1, 'beyond': 1, 'nominated': 1, 'shoes': 1, 'good-looking': 1, 'busiest': 1, 'sixty-five': 1, 'tyson/secretariat': 1, 'depressant': 1, 'coms': 1, 'ineffective': 1, 'kenny': 1, 'design': 1, 'dracula': 1, 'meals': 1, 'cleveland': 1, 'squashing': 1, 'reaction': 1, 'picnic': 1, 'steam': 1, 'inclination': 1, 'position': 1, 'diaper': 1, 'slaps': 1, 'novel': 1, 'unfamiliar': 1, 'microwave': 1, 'bookie': 1, 'ideas': 1, 'phlegm': 1, 'attach': 1, 'wisconsin': 1, 'country-fried': 1, 'refreshment': 1, 'bulked': 1, 'perch': 1, 'dumpster': 1, 'ate': 1, 'stirrers': 1, 'sledge-hammer': 1, 'wh': 1, 'slab': 1, 'uniforms': 1, 'toledo': 1, 'mac-who': 1, 'scoffs': 1, 'winks': 1, 'onion': 1, 'suave': 1, 'anti-intellectualism': 1, '_burns_heads:': 1, 'funeral': 1, 'brooklyn': 1, 'invulnerable': 1, 'community': 1, 'perón': 1, 'barber': 1, \"thing's\": 1, 'fink': 1, 'mexicans': 1, 'ambrose': 1, 'whale': 1, 'accusing': 1, 'impress': 1, 'bumpy-like': 1, \"bettin'\": 1, 'conclusions': 1, 'population': 1, 'forty-seven': 1, 'ninety-nine': 1, 'distinct': 1, 'thorough': 1, 'evasive': 1, 'fist': 1, 'divine': 1, 'chipper': 1, 'rabbits': 1, 'winston': 1, \"somethin's\": 1, 'helpless': 1, 'shard': 1, 'barter': 1, 'scientific': 1, 'dull': 1, 'recreate': 1, 'reopen': 1, 'disguised': 1, 'add': 1, 'remaining': 1, 'haiti': 1, 'patented': 1, 'choices:': 1, 'experienced': 1, \"poisonin'\": 1, 'friend:': 1, 'muscle': 1, 'chair': 1, 'reconsidering': 1, 'hellhole': 1, 'overflowing': 1, 'intruding': 1, 'larry': 1, \"fightin'\": 1, \"narratin'\": 1, 'chicken': 1, 'hootie': 1, 'oww': 1, 'robbers': 1, \"tootin'\": 1, 'conditioning': 1, 'immiggants': 1, 'charged': 1, 'celeste': 1, 'committing': 1, 'derek': 1, \"soakin's\": 1, \"renovatin'\": 1, 'odor': 1, 'thrown': 1, 'heaving': 1, 'saget': 1, 'equal': 1, 'spelling': 1, 'sexton': 1, 'breathtaking': 1, 'othello': 1, 'sucking': 1, 'a-lug': 1, 'frogs': 1, 'manfred': 1, 'watt': 1, 'tow-talitarian': 1, 'poke': 1, 'sixteen': 1, 'riveting': 1, 'mint': 1, 'low-blow': 1, 'peter_buck:': 1, 'damned': 1, 'jer': 1, 'squeezed': 1, \"fendin'\": 1, \"renee's\": 1, 'dingy': 1, 'dna': 1, 'booking': 1, 'overturned': 1, 'comment': 1, 'cats': 1, 'cell': 1, \"eatin'\": 1, 'strips': 1, 'allow': 1, \"writin'\": 1, 'cheerleaders:': 1, 'sobo': 1, 'attracted': 1, 'distract': 1, 'sunglasses': 1, 'presently': 1, 'earpiece': 1, 'newsweek': 1, 'veteran': 1, 'inherent': 1, 'without:': 1, 'rainier': 1, 'appreciated': 1, 'mountain': 1, 'admirer': 1, 'press': 1, 'smitty:': 1, 'dealt': 1, 'breaks': 1, 'encore': 1, 'stink': 1, 'thing:': 1, 'groans': 1, 'latour': 1, 'walther': 1, \"mcstagger's\": 1, 'bonding': 1, 'handoff': 1, 'temper': 1, 'flack': 1, 'appeals': 1, 'dawning': 1, \"drexel's\": 1, 'everywhere': 1, 'wildest': 1, 'cure': 1, \"queen's\": 1, 'newspaper': 1, 'dae': 1, 'viva': 1, 'control': 1, 'information': 1, 'fulla': 1, 'peabody': 1, \"mo'\": 1, 'leftover': 1, 'luckily': 1, 'shelbyville': 1, 'foundation': 1, 'eighty-five': 1, \"dog's\": 1, 'furiously': 1, 'manipulation': 1, 'kay': 1, \"duff's\": 1, \"burnin'\": 1, 'resolution': 1, 'stolen': 1, 'ferry': 1, 'bushes': 1, 'partially': 1, 'full-time': 1, 'kickoff': 1, 'con': 1, 'other_player:': 1, \"'morning\": 1, 'sacrifice': 1, 'sheets': 1, 'knocks': 1, 'rump': 1, 'safety': 1, 'mither': 1, 'farewell': 1, 'nauseous': 1, 'appropriate': 1, 'toms': 1, 'pennies': 1, \"fun's\": 1, 'tropical': 1, 'advertising': 1, 'wage': 1, 'citizens': 1, 'predecessor': 1, 'tense': 1, 'plaintive': 1, 'kirk_voice_milhouse:': 1, 'ignorance': 1, \"bashir's\": 1, 'delivery_man:': 1, 'wounds': 1, 'suspenders': 1, 'tobacky': 1, 'reflected': 1, 'cage': 1, 'savvy': 1, 'various': 1, 'doy': 1, \"wino's\": 1, 'unlocked': 1, 'chauffeur:': 1, 'zack': 1, 'encouraged': 1, 'face-macer': 1, 'universe': 1, 'breakdown': 1, 'sealed': 1, \"puttin'\": 1, 'fry': 1, 'jerking': 1, 'presents': 1, 'doof': 1, 'hostile': 1, 'dash': 1, 'albeit': 1, 'unavailable': 1, 'strictly': 1, \"nothin's\": 1, 'irrelevant': 1, 'fast-paced': 1, 'gear-head': 1, 'murdered': 1, 'whistling': 1, 'dumbbell': 1, 'pantry': 1, 'scrutinizing': 1, 'mccall': 1, \"hobo's\": 1, 'gulps': 1, 'emergency': 1, 'tourist': 1, 'bugs': 1, 'according': 1, 'stan': 1, \"yieldin'\": 1, 'gags': 1, 'sued': 1, 'stepped': 1, 'dollface': 1, 'legs:': 1, 'patrons': 1, 'dennis': 1, 'flame': 1, 'leprechaun': 1, 'modest': 1, 'choked': 1, 'acquitted': 1, 'polenta': 1, 'deeper': 1, 'julep': 1, 'rice': 1, 'bedridden': 1, 'adrift': 1, 'brunch': 1, 'founded': 1, 'nonchalant': 1, \"rasputin's\": 1, 'she-pu': 1, 'boggs': 1, 'expense': 1, 'expensive': 1, 'muhammad': 1, 'wudgy': 1, 'vin': 1, 'crayola': 1, 'punishment': 1, 'life-sized': 1, 'grammys': 1, 'finale': 1, 'assert': 1, 'eye-gouger': 1, 'verticality': 1, 'premiering': 1, 'leno': 1, 'firm': 1, 'hoagie': 1, 'elizabeth': 1, 'jay:': 1, 'william': 1, 'chew': 1, 'miracle': 1, 'horribilis': 1, 'badly': 1, 'forbids': 1, 'chug-monkeys': 1, 'tablecloth': 1, 'forgets': 1, 'wenceslas': 1, 'soaked': 1, 'plums': 1, 'unexplained': 1, 'perfunctory': 1, 'rom': 1, 'tear': 1, 'competitive': 1, 'robot': 1, 'stooges': 1, 'hurting': 1, 'whoo': 1, 'mimes': 1, 'illegally': 1, 'lungs': 1, 'chapel': 1, 'au': 1, 'moxie': 1, 'fresco': 1, 'whining': 1, 'nordiques': 1, 'scarf': 1, 'screws': 1, 'overstressed': 1, 'improv': 1, 'dignity': 1, 'exception:': 1, 'rug': 1, 'bobo': 1, 'improved': 1, 'sensible': 1, 'hems': 1, 'thomas': 1, 'credit': 1, 'term': 1, 'illustrates': 1, 'cheaper': 1, 'pictured': 1, 'celebration': 1, 'sticker': 1, 'ape-like': 1, 'poorer': 1, 'prolonged': 1, 'villanova': 1, 'open-casket': 1, 'gus': 1, 'notorious': 1, 'surprised/thrilled': 1, 'authenticity': 1, 'sue': 1, 'suburban': 1, 'floating': 1, 'getaway': 1, 'hunka': 1, 'veux': 1, 'devils:': 1, 'tight': 1, 'edge': 1, 'guttural': 1, 'karaoke_machine:': 1, 'sickens': 1, 'heart-broken': 1, 'youuu': 1, 'prices': 1, 'macho': 1, 'closet': 1, 'offense': 1, 'rhode': 1, 'papa': 1, 'starve': 1, 'sanitary': 1, 'applicant': 1, 'kissed': 1, 'congoleum': 1, \"squeezin'\": 1, 'jimmy': 1, 'repeated': 1, 'releases': 1, '3rd_voice:': 1, 'asses': 1, 'diapers': 1, 'disaster': 1, 'dexterous': 1, 'puzzle': 1, 'period': 1, 'scram': 1, 'warning': 1, 'xx': 1, \"edna's\": 1, 'grudgingly': 1, 'rat-like': 1, 'recruiter': 1, \"'cept\": 1, 'botanical': 1, 'blimp': 1, 'county': 1, 'softer': 1, 'angrily': 1, 'please/': 1, 'housework': 1, 'ideal': 1, \"secret's\": 1, 'de': 1, 'background': 1, 'fiction': 1, 'backing': 1, 'worldview': 1, \"kearney's_dad:\": 1, 'alter': 1, 'annie': 1, 'faced': 1, 'referee': 1, 'occupancy': 1, 'oddest': 1, 'brunswick': 1, 'landfill': 1, 'chained': 1, 'vehicle': 1, 'glee': 1, 'device': 1, 'fears': 1, 'publishers': 1, \"s'cuse\": 1, 'foodie': 1, 'fad': 1, 'brusque': 1, 'stu': 1, 'practically': 1, '50%': 1, 'bar:': 1, 'pharmaceutical': 1, 'ruby-studded': 1, '14': 1, 'detail': 1, 'kneeling': 1, 'station': 1, 'lifestyle': 1, 'democracy': 1, 'error': 1, 'entering': 1, 'mini-beret': 1, 'augustus': 1, 'dea-d-d-dead': 1, 'h': 1, 'occasion': 1, 'earlier': 1, 'chinua': 1, 'marvelous': 1, 'feat': 1, 'chubby': 1, 'associate': 1, 'booth': 1, 'forgiven': 1, 'exploiter': 1, \"cleanin'\": 1, 'colossal': 1, 'knit': 1, 'tar-paper': 1, 'depending': 1, 'sizes': 1, 'lance': 1, 'reentering': 1, 'danny': 1, 'journey': 1, 'doooown': 1, 'cecil': 1, 'traditions': 1, 'progress': 1, 'scornfully': 1, 'exultant': 1, 'regulations': 1, 'duke': 1, 'liser': 1, 'aziz': 1, \"fryer's\": 1, 'sobriety': 1, 'rods': 1, 'laughter': 1, 'wiggle-frowns': 1, 'intoxicants': 1, 'steaming': 1, 'scrubbing': 1, 'golden': 1, 'poison': 1, 'kissingher': 1, 'sorts': 1, 'cyrano': 1, 'non-american': 1, 'life-partner': 1, 'grandé': 1, 'grey': 1, 'protecting': 1, 'triple-sec': 1, 'churchy': 1, \"pressure's\": 1, 'shipment': 1, 'brace': 1, 'flash-fry': 1, 'sour': 1, 'bull': 1, 'hugh': 1, 'depressing': 1, 'emporium': 1, 'philosophic': 1, 'depressed': 1, 'pair': 1, \"betsy'll\": 1, 'bills': 1, 'lowest': 1, 'feminine': 1, 'weep': 1, 'victorious': 1, 'valuable': 1, 'creme': 1, 'wife-swapping': 1, \"leavin'\": 1, 'macbeth': 1, 'branding': 1, 'lighter': 1, 'beverage': 1, 'sideshow_mel:': 1, 'mostly': 1, 'numeral': 1, \"collector's\": 1, 'donor': 1, 'worthless': 1, 'madonna': 1, 'bachelor': 1, 'rain': 1, 'asleep': 1, 'crunch': 1, 'resigned': 1, 'series': 1, 'species': 1, 'pronto': 1, 'clams': 1, 'moonshine': 1, 'possessions': 1, 'skinheads': 1, 'ding-a-ding-ding-a-ding-ding': 1, 'breathless': 1, \"spiffin'\": 1, 'venom': 1, 'items': 1, 'bust': 1, 'rife': 1, 'nervously': 1, 'rolls': 1, 'exciting': 1, 'whatsit': 1, 'monkeyshines': 1, \"should've\": 1, 'sponge:': 1, 'anyhow': 1, 'pudgy': 1, 'donated': 1, 'demand': 1, 'horror': 1, 'bleak': 1, 'replace': 1, 'fast-food': 1, 'tow-joes': 1, 'cannoli': 1, 'language': 1, 'versus': 1, 'squad': 1, 'otherwise': 1, 'lone': 1, 'pulitzer': 1, 'steinbrenner': 1, 'indigenous': 1, 'edelbrock': 1, 'imported-sounding': 1, 'wondered': 1, 'micronesian': 1, 'pre-game': 1, 'mustard': 1, 'olive': 1, '70': 1, 'side:': 1, 'broken': 1, 'carmichael': 1, 'caricature': 1, 'stage': 1, 'world-class': 1, 'rafter': 1, 'mcclure': 1, 'cursed': 1, 'dinks': 1, 'notch': 1, 'hilton': 1, 'show-off': 1, 'however': 1, 'kings': 1, 'klown': 1, 'pro': 1, 'aristotle:': 1, 'michael': 1, 'relaxed': 1, 'stein-stengel-': 1, 'lay': 1, \"tap-pullin'\": 1, 'kisser': 1, 'offensive': 1, 'refreshingness': 1, 'tuna': 1, 'polls': 1, 'smiled': 1, 'frankie': 1, 'bowled': 1, 'ping-pong': 1, 'aboard': 1, 'produce': 1, 'thoughtless': 1, 'sweaty': 1, 'decided': 1, 'orifice': 1, 'understood': 1, 'plucked': 1, 'jerk-ass': 1, 'hooters': 1, 'paste': 1, 'eggshell': 1, 'salary': 1, 'billingsley': 1, 'fondest': 1, 'oh-ho': 1, 'firing': 1, 'ungrateful': 1, 'medieval': 1, 'marched': 1, \"number's\": 1, \"choosin'\": 1, 'ronstadt': 1, 'handed': 1, 'doppler': 1, 'settles': 1, 'country': 1, 'hot-rod': 1, \"lefty's\": 1, 'parents': 1, 'winded': 1, 'bidet': 1, 'swan': 1, 'cousin': 1, 'explanation': 1, 'fumigated': 1, 'rip-off': 1, 'mystery': 1, 'slit': 1, 'portuguese': 1, 'anthony_kiedis:': 1, 'bumbling': 1, 'insurance': 1, 'casting': 1, 'trustworthy': 1, 'kinderhook': 1, 'alcoholism': 1, 'maitre': 1, 'moe-ron': 1, 'nature': 1, 'winch': 1, 'reading:': 1, 'hottest': 1, 'certificate': 1, 'fustigation': 1, 'meaningfully': 1, 'calvin': 1, 'tearfully': 1, 'jig': 1, 'gruesome': 1, 'bones': 1, 'runs': 1, 'audience:': 1, 'demo': 1, \"life's\": 1, 'brick': 1, 'visas': 1, 'sink': 1, 'prints': 1, 'swamp': 1, 'rancid': 1, 'premise': 1, 'hammer': 1, 'tapestry': 1, 'terrorizing': 1, 'fustigate': 1, 'promotion': 1, 'rafters': 1, 'wrecking': 1, \"stealin'\": 1, 'pledge': 1, 'cheerier': 1, \"tinklin'\": 1, \"tv's\": 1, 'hotenhoffer': 1, 'butter': 1, 'tasimeter': 1, 'unattractive': 1, 'instrument': 1, 'itself': 1, '_marvin_monroe:': 1, 'hawaii': 1, 'cleaning': 1, 'neighboreeno': 1, 'trapping': 1, 'experience': 1, 'right-handed': 1, 'blubberino': 1, 'horses': 1, 'savagely': 1, 'ehhhhhhhhh': 1, 'recap:': 1, 'martini': 1, 'musses': 1, 'blocked': 1, 'button-pusher': 1, 'mind-numbing': 1, \"singin'\": 1, 'unfresh': 1, 'colonel:': 1, 'bon-bons': 1, 'hateful': 1, 'superdad': 1, 'whispers': 1, 'impeach': 1, 'extinguishers': 1, 'arm-pittish': 1, 'sharity': 1, 'f-l-a-n-r-d-s': 1, \"table's\": 1, 'legend': 1, 'picky': 1, 'attractive': 1, 'seamstress': 1, 'muscles': 1, \"scammin'\": 1, 'moe-clone': 1, 'fdic': 1, 'indeedy': 1, 'die-hard': 1, 'winning': 1, 'white_rabbit:': 1, 'gardens': 1, 'ashtray': 1, 're-al': 1, 'movement': 1, 'monday': 1, 'sweetie': 1, 'california': 1, 'burg': 1, 'killer': 1, 'starlets': 1, 'ahhhh': 1, 'donate': 1, \"sat's\": 1, 'ummmmmmmmm': 1, 'pile': 1, 'bad-mouth': 1, 'repeating': 1, 'ura': 1, 'supermodel': 1, 'slot': 1, 'cuff': 1, \"linin'\": 1, 'williams': 1, 'getcha': 1, 'glorious': 1, 'crimes': 1, 'radical': 1, 'data': 1, 'parenting': 1, 'tv-station_announcer:': 1, 'madman': 1, 'flush-town': 1, 'gheet': 1, 'faded': 1, 'trivia': 1, 'kearney_zzyzwicz:': 1, 'blissful': 1, 'pepper': 1, 'sideshow_bob:': 1, 'arabs': 1, 'wham': 1, 'lindsay': 1, 'sketching': 1, 'takeaway': 1, 'evils': 1, \"games'd\": 1, 'innocuous': 1, 'tenuous': 1, 'hunky': 1, 'prizefighters': 1, 'earth': 1, 'zone': 1, 'tha': 1, 'wiggle': 1, 'effect': 1, 'what-for': 1, 'kim_basinger:': 1, 'score': 1, 'fortune': 1, 'wears': 1, 'fantastic': 1, 'julienne': 1, 'tickets': 1, 'romance': 1, \"how're\": 1, 'meatpies': 1, 'november': 1, 'startled': 1, 'charlie:': 1, 'digging': 1, 'samples': 1, 'whoa-ho': 1, 'feld': 1, 'led': 1, 'hidden': 1, 'widow': 1, 'blamed': 1, 'clearing': 1, 'leak': 1, 'hunger': 1, 'lobster': 1, 'two-thirds-empty': 1, 'a-b-': 1, 'wells': 1, 'shareholder': 1, 'supermarket': 1, 'ton': 1, 'hearing': 1, 'ralph_wiggum:': 1, \"'pu\": 1, 'teen': 1, 'maximum': 1, 'name:': 1, 'raking': 1, 'old-time': 1, 'adult': 1, 'mid-conversation': 1, 'my-y-y-y-y-y': 1, 'microbrew': 1, 'startup': 1, 'inanely': 1, 'platinum': 1, 'whaaa': 1, 'cranberry': 1, 'yello': 1, 'menlo': 1, 'glummy': 1, 'half-day': 1, 'felony': 1, 'steampunk': 1, 'connor': 1, 'kisses': 1, 'statues': 1, 'pajamas': 1, 'proper': 1, 'pawed': 1, 'arguing': 1, 'ding-a-ding-ding-ding-ding-ding-ding': 1, 'maiden': 1, 'lead': 1, 'suffering': 1, 'delicate': 1, 'mary': 1, 'dyspeptic': 1, 'weather': 1, 'spine': 1, 'aghast': 1, 'grain': 1, 'parked': 1, 'quimbys:': 1, 'poured': 1, 'lucinda': 1, 'surgeonnn': 1, 'wazoo': 1, 'heroism': 1, 'chapstick': 1, 'actress': 1, 'overhearing': 1, 'cracked': 1, 'mis-statement': 1, 'swimmers': 1, 'meteor': 1, 'shame': 1, 'fistiana': 1, 'loathe': 1, 'three-man': 1, 'bono': 1, 'stays': 1, 'locklear': 1, 'anderson': 1, 'buddies': 1, 'transylvania': 1, 'drinking:': 1, 'plane': 1, 'all-all-all': 1, 'spews': 1, 'worldly': 1, 'sunk': 1, 'mmmmm': 1, 'stupidest': 1, 'clap': 1, 'dime': 1, 'menace': 1, 'brainheaded': 1, 'stretch': 1, \"larry's\": 1, \"coaster's\": 1, 'chill': 1, 'orders': 1, 'fury': 1, 'chauffeur': 1, 'fat_in_the_hat:': 1, 'quarry': 1, \"jackpot's\": 1, 'forty-five': 1, 'correction': 1, 'vengeance': 1, 'slurred': 1, 'charges': 1, 'grind': 1, \"high-falutin'\": 1, 'bail': 1, 'reactions': 1, 'voyager': 1, 'goo': 1, 'fortress': 1, 'boisterous': 1, \"round's\": 1, 'wreck': 1, 'richard': 1, 'completely': 1, 'gunk': 1, 'beeps': 1, 'milhouses': 1, 'resist': 1, 'getup': 1, 'diets': 1, 'dateline:': 1, 'faulkner': 1, 'strangles': 1, 'fwooof': 1, 'voted': 1, 'injury': 1, 'training': 1, 'loboto-moth': 1, 'fleabag': 1, \"yesterday's\": 1, 'suits': 1, 'snide': 1, \"industry's\": 1, 'daaaaad': 1, 'lifters': 1, 'presided': 1, 'ribbon': 1, 'helpful': 1, 'motto': 1, 'brotherhood': 1, 'conditioners': 1, 'buffet': 1, 'irishman': 1, 'beings': 1, 'sight-unseen': 1, 'de-scramble': 1, 'gut': 1, 'chili': 1, 'elite': 1, 'thought_bubble_lenny:': 1, 'bellyaching': 1, 'renew': 1, 'guff': 1, 'clapping': 1, 'bounced': 1, 'popping': 1, \"elmo's\": 1, 'moolah-stealing': 1, 'huddle': 1, \"ball's\": 1, 'x-men': 1, 'kicks': 1, 'edner': 1, 'infor': 1, 'assent': 1, 'sniper': 1, 'owns': 1, 'lotsa': 1, 'factor': 1, 'amends': 1, 'malibu': 1, 'sensitivity': 1, 'decadent': 1, 'hygienically': 1, 'funniest': 1, 'simpsons': 1, 'backgammon': 1, 'twenty-four': 1, 'pusillanimous': 1, 'infatuation': 1, 'spiritual': 1, 'loafers': 1, 'wolveriskey': 1, 'kako:': 1, 'stomach': 1, \"d'\": 1, 'marshmallow': 1, 'clench': 1, \"aren'tcha\": 1, 'eco-fraud': 1, 'growing': 1, \"'your\": 1, 'spamming': 1, 'noggin': 1, 'chub': 1, 'calendars': 1, 'genuinely': 1, 'counterfeit': 1, 'schizophrenia': 1, 'abcs': 1, 'gel': 1, 'item': 1, 'schabadoo': 1, 'stonewall': 1, 'television': 1, 'script': 1, 'browns': 1, 'catholic': 1, 'harvard': 1, 'hostages': 1, 'wieners': 1, 'anti-crime': 1, 'bupkus': 1, 'indeed': 1, \"askin'\": 1, 'dumbass': 1, 'pantsless': 1, 'slender': 1, 'fayed': 1, 'failure': 1, 'rosey': 1, 'uninhibited': 1, 'yellow-belly': 1, 'christian': 1, 'savings': 1, 'refinanced': 1, 'wacky': 1, 'musical': 1, 'handling': 1, 'pussycat': 1, 'forty-two': 1, 'holy': 1, 'post-suicide': 1, 'vicious': 1, 'parrot': 1, 'domed': 1, 'go-near-': 1, 'behavior': 1, 'poulet': 1, 'pus-bucket': 1, 'liquor': 1, 'guinea': 1, 'insecure': 1, 'cliff': 1, 'bloodiest': 1, 'lewis': 1, 'proves': 1, 'sneering': 1, 'barney-guarding': 1, 'sap': 1, 'throws': 1, 'provide': 1, 'faiths': 1, 'snackie': 1, 'package': 1, 'victim': 1, 'ripper': 1, 'braun:': 1, 'jackpot-thief': 1, 'germany': 1, 'urban': 1, 'tomato': 1, 'squeeze': 1, 'alma': 1, 'silence': 1, 'shop': 1, \"boy's\": 1, 'fica': 1, \"o'reilly\": 1, '530': 1, 'arts': 1, 'broken:': 1, 'pages': 1, 'jackson': 1, 'taxi': 1, 'supply': 1, 'inches': 1, 'physical': 1, \"y'money's\": 1, 'salvador': 1, 'horns': 1, 'harvesting': 1, 'focused': 1, \"c'mom\": 1, 'rainbows': 1, 'tigers': 1, 'mirror': 1, 'phony': 1, 'classy': 1, 'night-crawlers': 1, 'perverse': 1, 'malted': 1, 'gasoline': 1, 'stagehand:': 1, 'atari': 1, 'cadillac': 1, 'sugar-me-do': 1, 'morning-after': 1, 'fools': 1, 'snapping': 1, 'griffith': 1, 'life:': 1, 'slurps': 1, 'len-ny': 1, 'terror': 1, \"toot's\": 1, 'champion': 1, 'daniel': 1, 'lifetime': 1, 'extract': 1, 'including': 1, 'magnanimous': 1, 'wishful': 1, 'mailbox': 1, 'connection': 1, 'be-stainèd': 1, 'signal': 1, 'lofty': 1, 'indicates': 1, 'begin': 1, 'incognito': 1, 'customers-slash-only': 1, 'easily': 1, 'kegs': 1, 'racially-diverse': 1, \"mopin'\": 1, 'typed': 1, 'wish-meat': 1, \"hawkin'\": 1, 'marry': 1, 'goodwill': 1, 'hockey-fight': 1, 'oh-so-sophisticated': 1, 'stalin': 1, 'dazed': 1, 'a-a-b-b-a': 1, 'mole': 1, 'exquisite': 1, 'awkwardly': 1, 'disgraceful': 1, 'drains': 1, 'wobble': 1, '21': 1, 'haplessly': 1, 'st': 1, 'employees': 1, 'grace': 1, 'soft': 1, 'e-z': 1, 'icelandic': 1, 'perfume': 1, \"playin'\": 1, 'splash': 1, 'boxcar': 1, 'methinks': 1, \"liftin'\": 1, 'mariah': 1, 'quero': 1, 'bits': 1, 'bauer': 1, 'and-and': 1, 'u2:': 1, 'gotcha': 1, 'permitting': 1, 'symphonies': 1, 'jaegermeister': 1, 'gees': 1, 'seminar': 1, 'normals': 1, 'er': 1, \"friend's\": 1, 'warmth': 1, 'fontaine': 1, 'rocks': 1, 'safely': 1, 'ford': 1, 'astonishment': 1, 'pointedly': 1, 'quarterback': 1, 'fruit': 1, 'brings': 1, 'full-bodied': 1, 'sternly': 1, 'homeland': 1, 'gargoyles': 1, 'disdainful': 1, 'spirit': 1, 'cruise': 1, 'choke': 1, 'comeback': 1, 'marquee': 1, 'filed': 1, 'awareness': 1, 'murdoch': 1, 'virility': 1, 'paints': 1, 'app': 1, 'el': 1, 'grenky': 1, 'farthest': 1, 'exits': 1, 'babar': 1, 'dentist': 1, 'common': 1, 'pasta': 1, 'rusty': 1, 'manboobs': 1, 'boston': 1, 'burger': 1, 'powered': 1, \"foolin'\": 1, 'examines': 1, 'congratulations': 1, 'liable': 1, 'spite': 1, 'confidentially': 1, 'incapable': 1, 'clown-like': 1, 'strokkur': 1, 'menacing': 1, 'oils': 1, 'orphan': 1, 'trainers': 1, 'cans': 1, 'unhook': 1, \"cupid's\": 1, 'blinded': 1, 'blob': 1, 'reporter': 1, 'swelling': 1, 'bronco': 1, 'notice': 1, 'skins': 1, 'togetherness': 1, 'begging': 1, 'lennyy': 1, 'eyeballs': 1, 'snail': 1, 'soot': 1, 'choose': 1, 'dimly': 1, 'triangle': 1, 'capitalists': 1, 'haikus': 1, 'raging': 1, \"pullin'\": 1, 'circus': 1, 'hispanic_crowd:': 1, 'privacy': 1, 'bleeding': 1, 'intakes': 1, 'theatah': 1, 'smelling': 1, '-ry': 1, 'betcha': 1, 'jägermeister': 1, 'wise': 1, 'broncos': 1, 'luxury': 1, 'pizzicato': 1, 'gloop': 1, 'batmobile': 1, 'beer-dorf': 1, 'aah': 1, \"stallin'\": 1, 'shades': 1, 'eww': 1, 'panties': 1, 'mediterranean': 1, 'horrors': 1, 'conversations': 1, 'lovers': 1, 'counter': 1, 'shred': 1, 'sweat': 1, 'guilt': 1, 'stay-puft': 1, 'designer': 1, 'bindle': 1, 'small_boy:': 1, 'bluff': 1, 'briefly': 1, 'playoff': 1, 'uses': 1, \"enjoyin'\": 1, 'attractive_woman_#2:': 1, 'ho-ly': 1, 'clothespins:': 1, \"bladder's\": 1, 'espousing': 1, 'suspended': 1, 'rubbed': 1, 'elves:': 1, 'gambler': 1, 'happens': 1, 'diminish': 1, 'adequate': 1, 'life-extension': 1, 'spooky': 1, 'mexican_duffman:': 1, 'forced': 1, 'application': 1, \"thinkin'\": 1, 'crisis': 1, 'ripping': 1, 'winner': 1, 'blooded': 1, 'cerebral': 1, 'putty': 1, 'chateau': 1, 'cosmetics': 1, \"america's\": 1, 'gluten': 1, 'beer:': 1, 'fantasy': 1, 'jeers': 1, 'fbi_agent:': 1, 'enthused': 1, 'personal': 1, 'cattle': 1, 'fluoroscope': 1, 'agh': 1, 'paramedic:': 1, 'tsking': 1, 'retain': 1, 'bloodball': 1, 'ew': 1, 'friday': 1, 'disposal': 1, 'plants': 1, 'cross-country': 1, 'supreme': 1, 'fainted': 1, 'shopping': 1, 'contemptuous': 1, 'mm-hmm': 1, 'massage': 1, 'sneak': 1, 'official': 1, 'mistresses': 1, 'apology': 1, 'crowded': 1, \"she'd\": 1, 'beef': 1, 'neighborhood': 1, 'throats': 1, 'equivalent': 1, 'feisty': 1, 'glyco-load': 1, 'expose': 1, 'handshake': 1, 'pursue': 1, 'brief': 1, 'delightfully': 1, 'beady': 1, 'spitting': 1, 'swimming': 1, 'moving': 1, \"wallet's\": 1, \"mother's\": 1, 'oughta': 1, 'flanders:': 1, 'ear': 1, 'concentrate': 1, 'unbelievable': 1, 'aid': 1, \"football's\": 1, 'stinky': 1, 'aged': 1, 'yoink': 1, 'optimistic': 1, 'eight-year-old': 1, 'freaking': 1, 'owned': 1, 'super-tough': 1, 'obese': 1, 'eaten': 1, 'wasted': 1, 'roller': 1, 'lee': 1, 'reserved': 1, \"people's\": 1, 'beached': 1, 'writer:': 1, 'intimacy': 1, 'envy-tations': 1, 'propose': 1, 'pizza': 1, 'glitterati': 1, 'upn': 1, 'lighten': 1, \"knockin'\": 1, 'masks': 1, 'eva': 1, 'painted': 1, 'sidekick': 1, 'scrutinizes': 1, 'shaved': 1, 'gil_gunderson:': 1, 'poetry': 1, 'dutch': 1, 'chinese_restaurateur:': 1, 'march': 1, 'sail': 1, 'easygoing': 1, 'cheaped': 1, 'dizer': 1, 'bouquet': 1, 'abe': 1, 'court': 1, 'balloon': 1, 'hero-phobia': 1, 'mines': 1, 'coined': 1, 'escort': 1, 'sedaris': 1, 'collateral': 1, 'snitch': 1, 'elaborate': 1, 'ees': 1, 'agent_miller:': 1, 'tree_hoper:': 1, 'crestfallen': 1, 'kidnaps': 1, 'dispenser': 1, 'y-you': 1, 'beligerent': 1, 'ivory': 1, 'all-american': 1, 'amber': 1, 'young_barfly:': 1, 'negative': 1, 'fireworks': 1, 'intervention': 1, 'george': 1, 'feedbag': 1, 'old_jewish_man:': 1, 'ireland': 1, 'octa-': 1, 'sperm': 1, 'neighbors': 1, 'infestation': 1, 'stagey': 1, 'alien': 1, 'non-losers': 1, 'sitcom': 1, 'and/or': 1, 'mindless': 1, 'damage': 1, 'idealistic': 1, 'newest': 1, 'labor': 1, 'encouraging': 1, 'pointy': 1, \"d'ya\": 1, \"this'll\": 1, \"costume's\": 1, 'windowshade': 1, 'gruff': 1, 'municipal': 1, 'investigating': 1, 'discriminate': 1, 'presumir': 1, 'highball': 1, 'oopsie': 1, 'presidents': 1, 'proof': 1, 'heh-heh': 1, 'squirrel': 1, 'attend': 1, 'choices': 1, 'y': 1, 'derisive': 1, 'pepto-bismol': 1, 'blackjack': 1, 'eyeing': 1, 'shakes': 1, 'cuckoo': 1, 'tornado': 1, 'links': 1, 'dreary': 1, 'bake': 1, 'rip': 1, 'frat': 1, 'streetlights': 1, 'rueful': 1, 'snotball': 1, 'virile': 1, 'synthesize': 1, 'key': 1, \"sippin'\": 1, 'donut-shaped': 1, 'amused': 1, 'crotch': 1, 'moesy': 1, 'starters': 1, 'mix': 1, 'eternity': 1, 'unrelated': 1, 'nachos': 1, 'amiable': 1, 'du': 1, 'blossoming': 1, 'goldarnit': 1, 'th': 1, 'asks': 1, 'vestigial': 1, 'online': 1, 'string': 1, 'diablo': 1, 'sucker': 1, 'sickly': 1, 'afloat': 1, 'lager': 1, 'extended': 1, 'sampler': 1, 'sweater': 1, 'stewart': 1, 'consciousness': 1, 'droning': 1, 'fiiiiile': 1, 'totalitarians': 1, \"o'\": 1, 'killarney': 1, 'shesh': 1, \"i'd'a\": 1, 'gayer': 1, 'limber': 1, 'tribute': 1, 'phrase': 1, \"mecca's\": 1, 'dealie': 1, 'larson': 1, 'promise': 1, 'plastered': 1, 'twenty-six': 1, 'wealthy': 1, 'take-back': 1, 'birthplace': 1, 'pills': 1, 'macgregor': 1, 'moonlight': 1, 'telemarketing': 1, 'ratted': 1, 'limits': 1, 'bites': 1, 'mmm-hmm': 1, 'libido': 1, 'mistakes': 1, 'apply': 1, 'legal': 1, 'patriotic': 1, 'sister-in-law': 1, 'thousands': 1, 'unhappy': 1, 'blank': 1, 'determined': 1, 'four-drink': 1, 'eager': 1, 'whoever': 1, 'trail': 1, 'salvation': 1, 'often': 1, 'righ': 1, 'hotel': 1, 'compromise:': 1, 'something:': 1, 'sentimonies': 1, 'raggie': 1, 'loneliness': 1, \"stabbin'\": 1, 'fuhgetaboutit': 1, 'unsanitary': 1, 'para': 1, \"president's\": 1, 'teacup': 1, 'mabel': 1, 'stained-glass': 1, 'carolina': 1, 'badmouth': 1, 'dishrag': 1, 'lookalikes': 1, 'terrace': 1, 'doll-baby': 1, 'radiation': 1, 'western': 1, 'reality': 1, 'hooked': 1, 'tons': 1, 'doom': 1, 'whup': 1, 'portfolium': 1, 'polishing': 1, 'fletcherism': 1, 'wizard': 1, 'rush': 1, 'twerpy': 1, 'dum-dum': 1, 'caveman': 1, \"s'okay\": 1, 'p-k': 1, 'average': 1, 'grub': 1, 'moonnnnnnnn': 1, 'rumor': 1, 'malabar': 1, 'unbelievably': 1, 'owes': 1, 'kentucky': 1, 'woe:': 1, 'radioactive': 1, 'grateful': 1, 'cheesecake': 1, 'literary': 1, 'hushed': 1, 'mumble': 1, 'midge:': 1, 'addiction': 1, 'scum-sucking': 1, 'site': 1, 'backward': 1, \"cheerin'\": 1, 'interrupting': 1, 'drollery': 1, 'author': 1, 'yuh-huh': 1, 'flea:': 1, 'executive': 1, 'gentle': 1, 'watashi': 1, 'tank': 1, 'hoax': 1, 'photographer': 1, 'undermine': 1, 'outs': 1, 'jasper_beardly:': 1, 'beanbag': 1, 'breakfast': 1, 'hardy': 1, 'declan': 1, 'mickey': 1, 'swine': 1, 'wowww': 1, 'squeals': 1, \"tony's\": 1, 'storms': 1, 'talkative': 1, 'dory': 1, 'misfire': 1, 'dashes': 1, 'hillbillies': 1, 'principles': 1, 'problemo': 1, 'when-i-get-a-hold-of-you': 1, 'son-of-a': 1, 'enthusiasm': 1, 'gabriel:': 1, 'quadruple-sec': 1, 'mckinley': 1, 'attraction': 1, 'wakede': 1, 'protesters': 1, 'slogan': 1, 'nascar': 1, 'strawberry': 1, \"tomorrow's\": 1, 'cases': 1, 'stumble': 1, 'kidneys': 1, \"wait'll\": 1, 'signed': 1, 'absorbent': 1, 'stones': 1, 'captain:': 1, 'title:': 1, 'hat': 1, 'misconstrue': 1, 'mitts': 1, \"smokin'\": 1, 'capitol': 1, 'accelerating': 1, 'crinkly': 1, 'football': 1, 'avalanche': 1, 'four-star': 1, 'moon-bounce': 1, 'clincher': 1, 'insured': 1, 'pretzel': 1, 'director:': 1, 'spender': 1, 'bide': 1, 'break-up': 1, 'this:': 1, 'cowboy': 1, 'squabbled': 1, 'besides': 1, 'dateline': 1, 'reed': 1, 'solves': 1, 'continuum': 1, 'lincoln': 1, 'sudoku': 1, 'jay': 1, 'consoling': 1, 'slays': 1, 'effervescence': 1, 'tuborg': 1, 'aidens': 1, 'cappuccino': 1, 'theory': 1, 'refiero': 1, 'cell-ee': 1, 'pee': 1, 'longest': 1, 'strongly': 1, 'gift:': 1, 'stocking': 1, 'sustain': 1, 'cockroach': 1, 'rebuilt': 1, 'unsafe': 1, 'flames': 1, 'inserts': 1, 'bleacher': 1, 'amber_dempsey:': 1, 'tidy': 1, 'lecture': 1, 'family-owned': 1, 'backbone': 1, 'crushed': 1, 'occurs': 1, 'cummerbund': 1, 'defected': 1, 'dipping': 1, 'milks': 1, 'heartily': 1, 'vermont': 1, \"bart'd\": 1, 'mommy': 1, 'sloppy': 1, 'warranty': 1, 'access': 1, 'jacks': 1, 'johnny': 1, 'profiling': 1, 'playhouse': 1, 'fund': 1, \"rustlin'\": 1, 'cock': 1, 'booger': 1, 'conclude': 1, 'showered': 1, 'erasers': 1, 'nibble': 1, \"lady's\": 1, 'heave-ho': 1, 'thirty-thousand': 1, 'beans': 1, 'reptile': 1, 'purveyor': 1, 'polygon': 1, 'simon': 1, 'smelly': 1, 'mt': 1, 'hideous': 1, 'plain': 1, 'rent': 1, 'serum': 1, 'marjorie': 1, 'gig': 1, 'lipo': 1, 'pall': 1, 'shores': 1, 'shout': 1, 'exact': 1, 'sideshow': 1, 'southern': 1, 'hitchhike': 1, 'deliberately': 1, 'kinds': 1, 'gibson': 1, \"blowin'\": 1, 'goal': 1, 'sagely': 1, 'errrrrrr': 1, 'sales': 1, 'darjeeling': 1, 'difference': 1, 'breathalyzer': 1, 'handwriting': 1, 'multi-purpose': 1, 'sweden': 1, 'man_at_bar:': 1, \"man'd\": 1, 'anyhoo': 1, 'leaving': 1, 'male_singers:': 1, 'prince': 1, 'chic': 1, 'chug-a-lug': 1, 'fastest': 1, 'automobiles': 1, 'fl': 1, 'slipped': 1, 'assumed': 1, 'pickles': 1, 'cheering': 1, 'politician': 1, 'scores': 1, 'compels': 1, 'stacey': 1, 'muertos': 1, 'grumbling': 1, 'endorsement': 1, 'canoodling': 1, 'hearts': 1, 'semi-imported': 1, 'headhunters': 1, \"messin'\": 1, 'punkin': 1, 'invisible': 1, 'alpha-crow': 1, 'shoe': 1, 'capuchin': 1, \"starla's\": 1, 'shoulda': 1, 'mild': 1, 'lied': 1, 'sass': 1, 'agents': 1, 'meyerhof': 1, 'whoopi': 1, 'technical': 1, 'rookie': 1, 'hollowed-out': 1, 'surprising': 1, \"car's\": 1, 'elect': 1, 'th-th-th-the': 1, 'telegraph': 1, 'declared': 1, 'tiger': 1, 'blade': 1, 'potatoes': 1, 'ointment': 1, 'lemonade': 1, 'meaning': 1, 'faceful': 1, 'yak': 1, 'enjoys': 1, 'selective': 1, 'waist': 1, 'dilemma': 1, 'peppers': 1, 'conversion': 1, 'play/': 1, 'patron_#1:': 1, 'cab_driver:': 1, 'parasol': 1, 'giant': 1, 'unattended': 1, \"when's\": 1, 'puke-holes': 1, 'flash': 1, 'drove': 1, 'mocking': 1, 'shtick': 1, 'talkers': 1, 'imaginary': 1, \"spaghetti-o's\": 1, 'inserted': 1, 'ron_howard:': 1, 'fishing': 1, 'darn': 1, 'champs': 1, 'skills': 1, 'appalled': 1, 'swings': 1, 'psst': 1, 'federal': 1, 'blurbs': 1, 'bartholomé:': 1, 'allowance': 1, \"don'tcha\": 1, 'outlive': 1, \"coffee'll\": 1, \"idea's\": 1, 'combination': 1, 'flynt': 1, 'korea': 1, 'singer': 1, 'jokes': 1, 'crony': 1, 'alibi': 1, 'carney': 1, 'ehhhhhhhh': 1, 'temporarily': 1, 'lis': 1, 'stares': 1, 'gunter': 1, 'ehhhhhh': 1, 'poetics': 1, 'quimby_#2:': 1, 'woulda': 1, 'saving': 1, 'picked': 1, 'relative': 1, 'ought': 1, 'mathis': 1, 'lists': 1, 'gallon': 1, 'chunk': 1, 'pushes': 1, 'supplying': 1, 'champignons': 1, 'betrayed': 1, 'ugh': 1, 'noosey': 1, 'read:': 1, \"smackin'\": 1, 'drag': 1, 'pronounce': 1, 'mushy': 1, 'perfected': 1, 'packets': 1, 'looting': 1, 'bolting': 1, 'prettied': 1, 'weight': 1, 'single-mindedness': 1, 'declare': 1, 'benjamin:': 1, 'eu': 1, 'howya': 1, 'quebec': 1, 'contented': 1, 'man_with_tree_hat:': 1, '35': 1, 'emotion': 1, 'koji': 1, 'ruint': 1, 'pen': 1, 'fatso': 1, 'remodel': 1, 'fights': 1, \"fans'll\": 1, 'ab': 1, \"can'tcha\": 1, 'east': 1, 'dirge-like': 1, 'crab': 1, 'frontrunner': 1, 'event': 1, 'unable': 1, 'pumping': 1, \"wearin'\": 1, 'month': 1, 'wars': 1, 'mahatma': 1, 'tying': 1, 'ditched': 1, 'truck_driver:': 1, 'beast': 1, 'tempting': 1, 'pine': 1, 'renovations': 1, 'blokes': 1, 'nos': 1, 'increased': 1, 'tall': 1, 'relaxing': 1, 'figure': 1, 'said:': 1, 'super-genius': 1, \"now's\": 1, \"can't-believe-how-bald-he-is\": 1, 'frazier': 1, 'female_inspector:': 1, 'displeased': 1, 'wood': 1, 'icy': 1, 'homer_': 1, 'ralph': 1, 'pigtown': 1, 'pretentious_rat_lover:': 1, 'settled': 1, 'homesick': 1, 'loyal': 1, 'prettiest': 1, 'sassy': 1, 'jumping': 1, 'lobster-politans': 1, 'wikipedia': 1, 'lease': 1, 'oblongata': 1, 'average-looking': 1, 'creepy': 1, 'runners': 1, 'curiosity': 1, 'ails': 1, 'abercrombie': 1, 'caper': 1, \"must've\": 1, 'awake': 1, \"bo's\": 1, 'binoculars': 1, 'crowned': 1, 'buddha': 1, 'ihop': 1, 'flat': 1, 'selection': 1, 'statesmanlike': 1, \"g'ahead\": 1, 'judges': 1, 'certainly': 1, 'sweetest': 1, 'kirk': 1, 'faces': 1, 'childless': 1, 'dozen': 1, 'ruuuule': 1, 'carb': 1, '10:15': 1, 'squirrels': 1, \"cont'd:\": 1, 'i/you': 1, 'chin': 1, \"treatin'\": 1, 'lift': 1, 'kemi': 1, 'nahasapeemapetilon': 1, 'initially': 1, 'easter': 1, 'scruffy_blogger:': 1, \"depressin'\": 1, 'causes': 1, 'astrid': 1, 'jernt': 1, 'thirsty': 1, 'rickles': 1, 'boozer': 1, 'vanities': 1, '3': 1, 'sells': 1, 'reward': 1, 'vampire': 1, 'tapered': 1, 'moustache': 1, 'super-nice': 1, 'disillusioned': 1, 'girl-bart': 1, 'monroe': 1, 'temp': 1, 'homer_doubles:': 1, 'supports': 1, \"duelin'\": 1, \"dimwit's\": 1, 'limited': 1, 'motor': 1, 'temples': 1, 'sinkhole': 1, 'maintenance': 1, 'apulina': 1, 'ninety-six': 1, 'friction': 1, 'experiments': 1, 'chip': 1, 'gimmicks': 1, 'swishkabobs': 1, 'occurred': 1, 'herself': 1, \"kid's\": 1, \"fishin'\": 1, 'brockelstein': 1, 'philosophical': 1, 'thnord': 1, \"'s\": 1, 'junkyard': 1, 'ratio': 1, 'chorus:': 1, 'composite': 1, 'wind': 1, 'bullet-proof': 1, \"tramp's\": 1, 'indifferent': 1, 'rebuttal': 1, 'producers': 1, 'sponge': 1, 'libraries': 1, 'bum:': 1, 'compadre': 1, 'wound': 1, 'barkeeps': 1, \"plaster's\": 1, 'commanding': 1, 'adopted': 1, 'entertainer': 1, 'lobster-based': 1, 'greatly': 1, 'acronyms': 1, 'brine': 1, 'ohhhh': 1, 'radiator': 1, \"'ere\": 1, 'beaumont': 1, 'travel': 1, 'enlightened': 1, 'unsourced': 1, 'elmer': 1, 'ears': 1, 'layer': 1, 'shelf': 1, 'windelle': 1, 'oblivious': 1, 'pip': 1, 'ripped': 1, 'lifts': 1, 'barbed': 1, 'drop-off': 1, 'dishonor': 1, \"b-52's:\": 1, 'rockers': 1, 'socratic': 1, 'oooh': 1, 'lovejoy': 1, 'flush': 1, 'cheryl': 1, 'sing-song': 1, 'hounds': 1, 'j': 1, 'napkins': 1, 'souvenir': 1, 'idioms': 1, \"handwriting's\": 1, 'recent': 1, 'disturbance': 1, 'nailed': 1, \"england's\": 1, '4x4': 1, 'bono:': 1, 'stairs': 1, 'half-beer': 1, 'charming': 1, 'rascals': 1, 'flexible': 1, 'uglier': 1, 'thrust': 1, 'sleeping': 1, 'tomahto': 1, 'dumbest': 1, 'twenty-nine': 1, 'issuing': 1, 'count': 1, 'clenched': 1, 'heals': 1, 'confession': 1, 'placed': 1, 'geyser': 1, 'sounded': 1, 'sun': 1, 'crowds': 1, 'nonsense': 1, 'curse': 1, 'spits': 1, 'exhale': 1, 'guts': 1, 'notably': 1, 'recorder': 1, 'sheriff': 1, 'model': 1, 'kitchen': 1, 'undated': 1, 'spectacular': 1, 'helping': 1, 'windshield': 1, 'metal': 1, 'slop': 1, 'stored': 1, 'si-lent': 1, 'skydiving': 1, 'affection': 1, 'assassination': 1, 'courthouse': 1, 'panicked': 1, 'catch-phrase': 1, '$42': 1, 'bannister': 1, \"department's\": 1, 'hiding': 1, 'splendid': 1, 'paintings': 1, 'contemporary': 1, 'represents': 1, 'proposition': 1, 'believer': 1, 'washer': 1, 'catty': 1, \"spyin'\": 1, 'rector': 1, 'fifth': 1, 'ivy-covered': 1, 'launch': 1, \"floatin'\": 1, 'sanitation': 1, 'starving': 1, 'taunting': 1, 'drawn': 1, 'louisiana': 1, 'examples': 1, 'wienerschnitzel': 1, 'guiltily': 1, 'turlet': 1, \"liberty's\": 1, 'justify': 1, 'grinch': 1, \"'n'\": 1, 'replaced': 1, 'ninth': 1, 'compare': 1, 'fake': 1, 'publish': 1, 'other_book_club_member:': 1, \"speakin'\": 1, 'frink-y': 1, 'shutup': 1, 'remembers': 1, 'corn': 1, 'gulliver_dark:': 1, 'done:': 1, 'treats': 1, 'part-time': 1, 'advertise': 1, 'frescas': 1, 'alternative': 1, 'wrap': 1, 'anxious': 1, \"s'pose\": 1, 'enthusiastically': 1, 'chuckling': 1, 'habitrail': 1, \"wouldn't-a\": 1, 'eaters': 1, 'tragedy': 1, \"tonight's\": 1, 'straighten': 1, 'guzzles': 1, 'schemes': 1, 'prompting': 1, 'connor-politan': 1, 'eats': 1, 'shrieks': 1, 'lame': 1, 'drummer': 1, 'hmmmm': 1, 'runt': 1, 'crapmore': 1, 'celebrate': 1, 'cocoa': 1, 'office': 1, 'bury': 1, 'watched': 1, 'low-life': 1, 'wolverines': 1, 'courts': 1, 'thorn': 1, 'lenford': 1, 'beards': 1, 'goblins': 1, 'short_man:': 1, 'hammy': 1, 'washed': 1, 'lovelorn': 1, 'hundreds': 1, 'moe-lennium': 1, 'hub': 1, 'awfully': 1, 'cup': 1, 'wraps': 1, 'heavens': 1, 'terminated': 1, 'clips': 1, 'simultaneous': 1, 'philip': 1, 'occasional': 1, 'eighty-six': 1, 'contract': 1, \"cuckold's\": 1, 'upgrade': 1, 'mostrar': 1, 'trenchant': 1, 'wok': 1, 'releasing': 1, 'wuss': 1, 'hmf': 1, 'schorr': 1, 'compete': 1, 'mccarthy': 1, 'protestantism': 1, 'furry': 1, 'half-back': 1, 'and:': 1, 'tv_daughter:': 1, 'politicians': 1, 'massive': 1, 'haircuts': 1, 'trade': 1, 'enterprising': 1, 'pushing': 1, 'generosity': 1, 'we-we-we': 1, 'drunkenly': 1, 'troubles': 1, 'rub-a-dub': 1, 'smiles': 1, 'elocution': 1, 'fixes': 1, 'coyly': 1, 'coughs': 1, 'attractive_woman_#1:': 1, \"g'on\": 1, \"ma's\": 1, 'splattered': 1, 'syndicate': 1, 'car:': 1, 'passes': 1, 'support': 1, 'nameless': 1, 'mull': 1, \"usin'\": 1, \"pickin'\": 1, 'fella': 1, \"jimbo's_dad:\": 1, 'bill_james:': 1, 'nickel': 1, 'view': 1, 'cuz': 1, 'businessman_#2:': 1, 'kucinich': 1, 'slugger': 1, 'rationalizing': 1, 'holidays': 1, 'bottomless': 1, 'mike_mills:': 1, 'fat-free': 1, 'unfair': 1, 'pets': 1, \"rentin'\": 1, 'gutenberg': 1, 'nfl_narrator:': 1, 'the_edge:': 1, 'las': 1, 'susie-q': 1, 'plug': 1, 'spoon': 1, 'annoying': 1, 'avenue': 1, \"ragin'\": 1, 'kennedy': 1, 'e': 1, 'wipes': 1, 'hustle': 1, 'xanders': 1, 'peaked': 1, 'piano': 1, 'listens': 1, 'runaway': 1, 'shaker': 1, 'wigs': 1, 'pinball': 1, 'edgy': 1, 'vincent': 1, 'hippies': 1, 'innocence': 1, 'avec': 1, 'lodge': 1, 'mid-seventies': 1, 'basement': 1, 'pyramid': 1, 'clandestine': 1, \"startin'\": 1, 'michelin': 1, 'dads': 1, 'shack': 1, 'albert': 1, 'nightmare': 1, 'affects': 1, 'glamour': 1, 'west': 1, 'additional-seating-capacity': 1, 'scatter': 1, 'burglary': 1, 'forget-me-drinks': 1, 'gossipy': 1, 'sturdy': 1, 'majesty': 1, 'exhibit': 1, 'homunculus': 1, \"'now\": 1, 'cigars': 1, 'manuel': 1, 'hah': 1, 'astronauts': 1, 'lainie:': 1, 'praise': 1, 'rutabaga': 1, 'zoomed': 1, 'shriners': 1, 'sheet': 1, 'naively': 1, 'tracks': 1, 'edna-lover-one-seventy-two': 1, 'terrifying': 1, 'fit': 1, 'host': 1, 'madison': 1, 'stingy': 1, 'manchego': 1, 'pugilist': 1, 'meaningless': 1, 'acceptance': 1, \"'round\": 1, 'listened': 1, 'lime': 1, 'frenchman': 1, 'bedtime': 1, 'mozzarella': 1, 'nevada': 1, 'paparazzo': 1, 'dogs': 1, 'desperately': 1, 'geysir': 1, 'cecil_terwilliger:': 1, 'iranian': 1, 'obama': 1, 'charter': 1, 'fires': 1, 'cocks': 1, 'ram': 1, 'dana_scully:': 1, 'van': 1, 'cruiser': 1, 'bathtub': 1, 'neon': 1, 'fire_inspector:': 1, 'studied': 1, 'swig': 1, 'tummies': 1, 'naval': 1, 'john': 1, 'popped': 1, 'hemoglobin': 1, 'stamp': 1, 'insults': 1, 'buyer': 1, \"phone's\": 1, 'blind': 1, 'officer': 1, 'killing': 1, 'make:': 1, 'choked-up': 1, 'shortcomings': 1, 'developed': 1, 'mamma': 1, 'reluctantly': 1, 'competing': 1, 'graveyard': 1, 'waking-up': 1, \"i'unno\": 1, 'crappy': 1, 'buzz': 1, 'cocking': 1, 'facebook': 1, 'mini-dumpsters': 1, 'touch': 1, 'nuked': 1, 'occupation': 1, 'build': 1, 'life-threatening': 1, 'heartless': 1, 'roz': 1, 'england': 1, 'trucks': 1, 'mayan': 1, \"soundin'\": 1, 'dignified': 1, 'yelp': 1, 'combines': 1, 'sponsoring': 1, 'answered': 1, 'donation': 1, 'sanctuary': 1, 'hose': 1, 'halvsies': 1, 'adventure': 1, 'pillows': 1, 'rasputin': 1, 'humanity': 1, 'majority': 1, 'nelson': 1, 'choice:': 1, 'shill': 1, \"murphy's\": 1, 'grocery': 1, 'scratching': 1, 'valley': 1, 'ingested': 1, \"man's\": 1, 'religious': 1, '1979': 1, 'grammar': 1, 'inquiries': 1, 'juke': 1, 'unkempt': 1, 'eddie': 1, 'complicated': 1, 'unjustly': 1, 'ballclub': 1, 'suspiciously': 1, 'tasty': 1, 'thousand-year': 1, 'saucy': 1, 'cauliflower': 1, 'juan': 1, 'duffed': 1, 'creature': 1, 'haws': 1, 'judgments': 1, 'annual': 1, 'title': 1, 'linda_ronstadt:': 1, 'quitcher': 1, 'andrew': 1, 'gangrene': 1, 'states': 1, 'smokes': 1, 'grrrreetings': 1, 'bumped': 1, 'eminence': 1, \"family's\": 1, 'society': 1, 'aisle': 1, 'brawled': 1, 'whispered': 1, 'lawyer': 1, 'dictator': 1, 'cartoons': 1, 'warren': 1, \"i-i'll\": 1, 'sunny': 1, 'pontiff': 1, 'temple': 1, 'diving': 1, 'muffled': 1, 'nantucket': 1, 'disgracefully': 1, 'committee': 1, 'sympathizer': 1, 'refreshing': 1, 'flourish': 1, \"donatin'\": 1, 'baloney': 1, 'civil': 1, 'sesame': 1, 'fighter': 1, 'chairman': 1, 'conspiracy': 1, 'distaste': 1, 'rivalry': 1, 'united': 1, 'desire': 1, 'wrapped': 1, 'finish': 1, 'scientists': 1, 'selfish': 1, 'burnside': 1, 'zeal': 1, 'mission': 1, 'groin': 1, 'crow': 1, 'sacrilicious': 1, '1973': 1, 'influence': 1, 'photos': 1, 'rewound': 1, \"'ceptin'\": 1, \"heat's\": 1, 'simplest': 1, 'não': 1, 'habit': 1, 'planned': 1, 'lily-pond': 1, 'montrer': 1, 'north': 1, 'hare-brained': 1, 'weapon': 1, 'sympathy': 1, 'unforgettable': 1, 'sniffing': 1, 'test-lady': 1, 'characteristic': 1, \"raggin'\": 1, 'thrilled': 1, 'result': 1, 'boxer:': 1, 'cab': 1, 'oak': 1, 'eighteen': 1, 'harm': 1, 'it:': 1, 'vigilante': 1, 'tin': 1, 'nor': 1, 'flophouse': 1, 'over-pronouncing': 1, 'soaps': 1, 'hairs': 1, 'craft': 1, 'drinker': 1, 'aquafresh': 1, 'stops': 1, 'dropping': 1, 'naegle': 1, 'onassis': 1, 'paper': 1, 'voodoo': 1, 'taxes': 1, 'ignoring': 1, 'bagged': 1, 'nail': 1, 'disco_stu:': 1, 'bubbles-in-my-nose-y': 1, 'disappointing': 1, 'dint': 1, 'sixty': 1, 'interesting': 1, 'dammit': 1, 'ralphie': 1, 'driveability': 1, 'everyday': 1, 'insensitive': 1, \"bringin'\": 1, 'mulder': 1, 'ga': 1, 'traitors': 1, 'shhh': 1, 'material': 1, 'mags': 1, 'clothespins': 1, 'tapping': 1, 'blobbo': 1, 'housing': 1, '50-60': 1, 'further': 1, 'swe-ee-ee-ee-eet': 1, 'countryman': 1, 'stab': 1, 'streetcorner': 1, \"hell's\": 1, 'high-definition': 1, \"'er\": 1, 'kahlua': 1, 'tied': 1, 'dice': 1, 'necessary': 1, 'watered': 1, 'student': 1, 'forty-nine': 1, 'sloe': 1, 'whaddya': 1, 'mill': 1, 'coma': 1, 'repressed': 1, 'germans': 1, 'africanized': 1, 'artist': 1, \"challengin'\": 1, 'pilsner-pusher': 1, 'mater': 1, 'luckiest': 1, 'gol-dangit': 1, 'noose': 1, 'ironic': 1, 'bunion': 1, 'way:': 1, 'yourse': 1, 'railroads': 1, 'modestly': 1, 'witches': 1, 'thunder': 1, 'stood': 1, '7g': 1, 'followed': 1, 'jay_leno:': 1, 'certified': 1, 'recorded': 1, 'hammock': 1, 'reciting': 1, 'soul-crushing': 1, 'duff_announcer:': 1, 'tomatoes': 1, 'op': 1, 'beard': 1, 'sincerely': 1, 'nursemaid': 1, 'regretted': 1, 'pretzels': 1, 'sketch': 1, 'instantly': 1, 'moe_recording:': 1, 'logos': 1, 'wishing': 1, 'flayvin': 1, 'ease': 1, 'brother-in-law': 1, 'sees/': 1, 'cobbling': 1, 'harrowing': 1, 'cushion': 1, \"time's\": 1, 'column': 1, 'ing': 1, 'cozies': 1, 'moe-near-now': 1, 'bulldozing': 1, 'natured': 1, 'newly-published': 1, 'unearth': 1, 'squadron': 1, 'befriend': 1, \"changin'\": 1, 'huhza': 1, 'noble': 1, 'liability': 1, 'knowingly': 1, 'jazz': 1, 'random': 1, 'applesauce': 1, 'environment': 1, 'nerd': 1, 'bliss': 1, 'uncreeped-out': 1, 'bottoms': 1, 'snatch': 1, 'rotten': 1, 'sooo': 1, 'comedies': 1, 'chow': 1, 'intelligent': 1, 'repay': 1, 'lady_duff:': 1, 'tender': 1, 'taste': 1, 'dies': 1, 'lingus': 1, 'wally': 1, 'itchy': 1, 'continued': 1, 'safecracker': 1, 'banned': 1, 'comforting': 1, 'well-wisher': 1, \"hole'\": 1, 'six-barrel': 1, 'ghouls': 1, 'cajun': 1, 'hook': 1, 'lanes': 1, 'cockroaches': 1, 'alarm': 1, 'brain-switching': 1, 'fuzzlepitch': 1, 'fonda': 1, 'abolish': 1, 'argue': 1, 'extreme': 1, 'co-sign': 1, 'pridesters:': 1, 'halfway': 1, 'buds': 1, 'cheapskates': 1, 'ultimate': 1, 'flashbacks': 1, 'quick-like': 1, 'direction': 1, 'aggie': 1, 'undies': 1, 'sieben-gruben': 1, 'moe-heads': 1, 'painless': 1, 'sam:': 1, 'sugar-free': 1, 'nooo': 1, 'deny': 1, 'activity': 1, 'cesss': 1, '/mr': 1, 'science': 1, 'dejected_barfly:': 1, 'raining': 1, 'dejected': 1, 'ventriloquism': 1, 'lorre': 1, 'heather': 1, 'eliminate': 1, 'though:': 1, 'poster': 1, 'gentles': 1, 'snotty': 1, 'recipe': 1, 'decision': 1, 'eightball': 1, 'hyper-credits': 1, 'sprawl': 1, 'norway': 1, 'bursts': 1, 'walked': 1, 'jubilation': 1, 'stinger': 1, 'man_with_crazy_beard:': 1, 'whoops': 1, 'robin': 1, 'passports': 1, 'seething': 1, 'cooking': 1, 'je': 1, 'guard': 1, 'winces': 1, 'hears': 1, 'so-ng': 1, 'swatch': 1, 'nightmares': 1, 'bonfire': 1, 'located': 1, 'grieving': 1, 'hike': 1, 'lachrymose': 1, 'in-ground': 1, 'sidelines': 1, 'düff': 1, 'computer_voice_2:': 1, 'flaking': 1, 'barney-type': 1, 'aerospace': 1, 'beaumarchais': 1, 'creates': 1, 'idiots': 1, 'hibachi': 1, 'sharing': 1, 'freaky': 1, 'theatrical': 1, 'urge': 1, 'honeys': 1, 'badge': 1, 'furniture': 1, 'arrange': 1, 'pernt': 1, 'deli': 1, 'royal': 1, 'shaky': 1, 'merchants': 1, 'düffenbraus': 1, 'colorado': 1, 'socialize': 1, 'permanent': 1, 'eighty-three': 1, 'cronies': 1, 'presentable': 1, 'manatee': 1, 'eurotrash': 1, 'nasty': 1, 'absentmindedly': 1, 'insulin': 1, 'italian': 1, 'rims': 1, 'enjoyed': 1, \"swishifyin'\": 1, 'hops': 1, 'iddilies': 1, 'jewelry': 1, 'pretends': 1, 'skoal': 1, 'padres': 1, 'shuts': 1, 'skunk': 1, 'stripes': 1, 'network': 1, 'scout': 1, 'cavern': 1, 'texan': 1, 'chumbawamba': 1, 'shells': 1, 'supervising': 1, 'arrested:': 1, 'beatings': 1, 'clammy': 1, 'beefs': 1, 'faint': 1, 'miss_lois_pennycandy:': 1, 'bell': 1, 'contemplates': 1, 'self-satisfied': 1, 'graves': 1, 'tolerable': 1, 'fail': 1, 'accepting': 1, 'exchanged': 1, 'wagering': 1, 'peeping': 1, 'pre-recorded': 1, 'lumpa': 1, 'ze-ro': 1, 'predictable': 1, \"getting'\": 1, 'jovial': 1, 'hearse': 1, 'birth': 1, 'highest': 1, 'occupied': 1, 'trunk': 1, \"battin'\": 1, 'michael_stipe:': 1, 'onto': 1, 'feminist': 1, 'alva': 1, 'lump': 1, 'los': 1, \"breakin'\": 1, \"neighbor's\": 1, 'grandkids': 1, 'cricket': 1, 'measure': 1, 'lenses': 1, 'frankenstein': 1, 'cobra': 1, 'meditative': 1, 'ne': 1, 'sending': 1, 'stalwart': 1, 'democrats': 1, 'nagurski': 1, 'strolled': 1, 'zinged': 1, 'buzziness': 1, 'freshened': 1, 'dumb-asses': 1, \"mtv's\": 1, 'wantcha': 1, 'tonic': 1, 'taylor': 1, 'boxcars': 1, 'transfer': 1, 'law-abiding': 1, 'kodos:': 1, 'hooch': 1, 'hangout': 1, 'spilled': 1, 'slobs': 1, \"something's\": 1, 'patron_#2:': 1, 'priceless': 1, '91': 1, 'archaeologist': 1, 'shindig': 1, 'tanking': 1, 'dark': 1, 'lessee': 1, 'quarter': 1, 'annus': 1, 'load': 1, 'gr-aargh': 1, 'gordon': 1, 'fell': 1, 'pews': 1, 'convenient': 1, 'arimasen': 1, 'vacations': 1, 'contemplated': 1, 'bachelorhood': 1, 'aunt': 1, 'carnival': 1, 'hate-hugs': 1, 'excavating': 1, 'wistful': 1, 'reckless': 1, 'penmanship': 1, 'shifty': 1, 'cakes': 1, 'bras': 1, 'drawer': 1, 'ho-la': 1, 'happiness': 1, 'falsetto': 1, 'yells': 1, 'nap': 1, 'brakes': 1, 'older': 1, 'maxed': 1, 'audience': 1, 'ads': 1, 'gin-slingers': 1, 'stickers': 1, \"lovers'\": 1, 'updated': 1, 'taught': 1, 'remain': 1, 'pinchpenny': 1, 'mobile': 1, 'pep': 1, 'noooooooooo': 1, 'yew': 1, 'hollye': 1, 'swooning': 1, 'wrestle': 1, 'puffy': 1, 'art': 1, 'rem': 1, 'actor': 1, 'spellbinding': 1, 'amnesia': 1, 'detective': 1, 'mexican': 1, 'killjoy': 1, 'incriminating': 1, 'skinny': 1, 'sang': 1, 'lookalike:': 1, 'sticking': 1, 'blinds': 1, \"'kay-zugg'\": 1, 'prayers': 1, 'starla': 1, 'sangre': 1, 'options': 1, 'lend': 1, 'iran': 1, \"she'll\": 1, 'toe': 1, '2nd_voice_on_transmitter:': 1, 'gamble': 1, 'sky': 1, 'grease': 1, 'thirty-five': 1, '8': 1, 'specified': 1, 'swallowed': 1, 'trashed': 1, 'hydrant': 1, 'most:': 1, 'reunion': 1, 'scratcher': 1, 'today/': 1, 'mirthless': 1, 'patting': 1, 'sub-monkeys': 1, 'enter': 1, 'tones': 1, 'beer-jerks': 1, 'indecipherable': 1, 'harvey': 1, 'encores': 1, 'mouths': 1, 'intoxicated': 1, 'enabling': 1, 'players': 1, 'lizard': 1, 'option': 1, 'tooth': 1, 'stiffening': 1, 'hardwood': 1, \"listenin'\": 1, 'nonchalantly': 1, 'lugs': 1, 'notices': 1, 'jury': 1, 'frightened': 1, 'boozehound': 1, 'thanking': 1, \"nixon's\": 1, 'outrageous': 1, 'telephone': 1, 'pas': 1, 'barstools': 1, 'sequel': 1, 'coy': 1, 'expired': 1, 'twelve-step': 1, 'anti-lock': 1, 'inexorable': 1, 'administration': 1, 'earrings': 1, 'humiliation': 1, 'fills': 1, 'laid': 1, 'scornful': 1, 'blur': 1, 'stretches': 1, 'disturbing': 1, 'planted': 1, 'waste': 1, 'aiden': 1, 'perplexed': 1, 'punching': 1, 'yammering': 1, 'practice': 1, 'unusually': 1, 'k-zug': 1, 'tabs': 1, 'waterfront': 1, 'theme': 1, 'incarcerated': 1, 'pure': 1, '_eugene_blatz:': 1, \"'roids\": 1, 'rash': 1, 'alec_baldwin:': 1, 'clipped': 1, 'rapidly': 1, 'entrance': 1, 'falling': 1, 'eve': 1, 'teriyaki': 1, 'spare': 1, \"doctor's\": 1, 'starla:': 1, 'hanh': 1, 'reminded': 1, 'gumbo': 1, 'joy': 1, 'woodchucks': 1, 'benjamin': 1, 'orgasmville': 1, 'employment': 1, 'navy': 1, 'phase': 1, 'considers': 1, 'land': 1, 'knuckles': 1, 'regretful': 1, 'boozebag': 1, 'rented': 1, 'hemorrhage-amundo': 1, 'squeal': 1, 'shoulders': 1, 'ninety-eight': 1, 'macaulay': 1, 'underwear': 1, 'offshoot': 1, 'richard:': 1, 'johnny_carson:': 1, 'snout': 1, 'portentous': 1, 'handler': 1, 'carefully': 1, 'frozen': 1, 'engraved': 1, 'whatchacallit': 1, 'compressions': 1, 'malfeasance': 1, 'nectar': 1, 'knock-up': 1, 'stengel': 1, 'mock-up': 1, 'absolut': 1, 'soothing': 1, 'traitor': 1, 'yee-ha': 1, 'stats': 1, 'belly-aching': 1, 'pre-columbian': 1, 'slaves': 1, 'louse': 1, 'kool': 1, 'vengeful': 1, 'tactful': 1, 'sponsor': 1, 'dealer': 1, 'drift': 1, 'peeved': 1, 'microphone': 1, \"grandmother's\": 1, 'tolerance': 1, 'separator': 1, 'aggravazes': 1, 'ling': 1, 'delts': 1, 'test-': 1, 'nemo': 1, 'lady-free': 1, 'estranged': 1, 'scanning': 1, 'commit': 1, 'lard': 1, 'bragging': 1, 'hoped': 1, 'urine': 1, 'impending': 1, 'tire': 1, \"daughter's\": 1, 'intriguing': 1, 'jukebox_record:': 1, 'phasing': 1, 'landlord': 1, 'glitz': 1, 'strategizing': 1, 'timbuk-tee': 1, \"brady's\": 1, 'meanwhile': 1, 'sagacity': 1, 'territorial': 1, 'thirty-three': 1, 'chastity': 1, \"man's_voice:\": 1, \"calf's\": 1, 'full-blooded': 1, 'specializes': 1, 'almond': 1, 'healthier': 1, 'sneeze': 1, 'dregs': 1, 'grin': 1, 'moon': 1, 'rainforest': 1, 'jobless': 1, 'kills': 1, 'gregor': 1, 'dramatically': 1, 'trees': 1, 'stamps': 1, 'toxins': 1, 'example': 1, 'ahem': 1, 'hampstead-on-cecil-cecil': 1, 'womb': 1, \"santa's\": 1, 'reluctant': 1, 'lookalike': 1, 'little_hibbert_girl:': 1, \"feelin's\": 1, 'murderously': 1, 'store-bought': 1, 'wednesday': 1, 'preparation': 1, 'society_matron:': 1, 'bon': 1, 'showed': 1, 'created': 1, 'willing': 1, 'cap': 1, 'crystal': 1, 'reaches': 1, \"neat's-foot\": 1, 'toy': 1, 'ivanna': 1, 'irs': 1, 'thirty-nine': 1, 'evergreen': 1, 'whatchamacallit': 1, 'jams': 1, 'ore': 1, 'issues': 1, 'ancestors': 1, 'hillary': 1, 'doctor': 1, 'apart': 1, 'exclusive:': 1, 'tee': 1, 'generously': 1, 'gabriel': 1, 'melodramatic': 1, 'incredible': 1, 'brown': 1, 'wobbly': 1, 'sumatran': 1, 'spreads': 1, 'ugliness': 1, 'tokens': 1, 'musketeers': 1, 'managed': 1, \"nick's\": 1, 'opens': 1, 'barbara': 1, 'b-day': 1, 'here-here-here': 1, 'pretend': 1, 'newsies': 1, 'flustered': 1, 'disappear': 1, 'collapse': 1, 'youngsters': 1, 'senators:': 1, 'swell': 1, 'multi-national': 1, 'sucks': 1, 'restless': 1, 'vulgar': 1, 'cuddling': 1, 'chapter': 1, 'maude': 1, 'chuck': 1, \"washin'\": 1, 'excuses': 1, \"g'night\": 1, \"ya'\": 1, '1-800-555-hugs': 1, 'statue': 1, 'wild': 1, 'endorsed': 1, 'subscriptions': 1, 'jam': 1, 'convinced': 1, 'treehouse': 1, 'arse': 1, 'hyahh': 1, 'disappointment': 1, 'protesting': 1, 'strain': 1, 'cherry': 1, 'drunkening': 1, 'persia': 1, 'homeless': 1, 's-a-u-r-c-e': 1, 'slapped': 1, 'risqué': 1, 'stores': 1, 'bridges': 1, 'living': 1, 'monorails': 1, 'nitwit': 1, 'head-gunk': 1, 'ducked': 1, 'verdict': 1, 'ingrates': 1, 'giggle': 1, 'rome': 1, 'crowbar': 1, \"cashin'\": 1, 'weekend': 1, 'grope': 1, 'pink': 1, \"poundin'\": 1, 'omit': 1, 'considering:': 1, 'criminal': 1, 'dressing': 1, 'blows': 1, 'voters': 1, 'deals': 1, 'caholic': 1, 'lou': 1, 'necklace': 1, 'flown': 1, 'leonard': 1, 'pancakes': 1, 'revenge': 1, 'coupon': 1, 'hexa-': 1, \"dolph's_dad:\": 1, 'sen': 1, 'swigmore': 1, 'apron': 1, 'booze-bags': 1, 'twentieth': 1, 'five-fifteen': 1, 'candles': 1, 'steamed': 1, 'approval': 1, 'file': 1, 'debonair': 1, 'lurks': 1, 'ecru': 1, 'carey': 1, 'hers': 1, 'limericks': 1, 'absentminded': 1, 'sticking-place': 1, 'alls': 1, 'allegiance': 1, 'jeter': 1, 'fence': 1, 'cheated': 1, 'ignorant': 1, 'anger': 1, 'hardhat': 1, 'exited': 1, 'up-bup-bup': 1, 'nicer': 1, '2': 1, 'appreciate': 1, 'minus': 1, 'militia': 1, 'brag': 1, 'venture': 1, 'understood:': 1, 'settlement': 1, 'drapes': 1, 'speed': 1, 'smuggled': 1, 'spacey': 1, 'leathery': 1, 'afterglow': 1, 'buttocks': 1, 'whirlybird': 1, 'scent': 1, 'simple': 1, \"y'see\": 1, 'specific': 1, 'passenger': 1, 'mansions': 1, 'silent': 1, 'coincidentally': 1, 'investment': 1, \"son's\": 1, 'belts': 1, 'generally': 1, 'shag': 1, 'specialists': 1, 'payback': 1, 'steely-eyed': 1, 'jeff_gordon:': 1, 'remote': 1, 'cupid': 1, 'coherent': 1, \"tatum'll\": 1, 'fountain': 1, 'knuckle-dragging': 1, \"tv'll\": 1, 'locked': 1, 'crooks': 1, 'smoker': 1, 'utensils': 1, 'easy-going': 1, 'arrived': 1, 'junebug': 1, 'delightful': 1, 'ons': 1, 'dizzy': 1, 'singing/pushing': 1, 'massachusetts': 1, 'flashing': 1, 'dirty': 1, 'stripe': 1, 'mason': 1, \"clancy's\": 1, 'self-centered': 1, 'gator': 1, 'jogging': 1, 'laney': 1, 'spit-backs': 1, 'rupert_murdoch:': 1, \"shootin'\": 1, 'muslim': 1, 'researching': 1, 'sat-is-fac-tion': 1, 'filth': 1, 'carpet': 1, 'warned': 1, 'achebe': 1, 'carlotta:': 1, 'jacksons': 1, 'chunky': 1, \"brockman's\": 1, 'guessing': 1, 'rekindle': 1, 'washouts': 1, 'ninety-seven': 1, 'sistine': 1, 'process': 1, 'britannia': 1, 'brandy': 1, 'tow': 1, 'luv': 1, 'donut': 1, 'fierce': 1, 'adjust': 1, 'soir': 1, 'contact': 1, 'stalking': 1, 'shush': 1, \"who'da\": 1, 'installed': 1, 'cheered': 1, 'legoland': 1, \"'evening\": 1, 'neanderthal': 1, 'remorseful': 1, 'strains': 1, 'expecting': 1, 'janette': 1, 'pregnancy': 1, 'perking': 1, 'jewish': 1, 'defiantly': 1, 'fortensky': 1, 'blaze': 1, 'wholeheartedly': 1, 'powers': 1, 'fledgling': 1, 'coast': 1, 'waitress': 1, 'perverted': 1, 'missing': 1, \"aristotle's\": 1, 'mortal': 1, 'anonymous': 1, 'spouses': 1, \"disrobin'\": 1, 'bachelorette': 1, 'you-need-man': 1, 'kick-ass': 1, 'infiltrate': 1, 'reader': 1, 'dreamy': 1, 'emphasis': 1, 'two-drink': 1, 'bowie': 1, 'upsetting': 1, 'touches': 1, 'hosting': 1, 'knowledge': 1, 'carny:': 1, 'superpower': 1, 'slim': 1, 'tease': 1, 'grains': 1, 'mellow': 1, 'poisoning': 1, 'hafta': 1, 'puke-pail': 1, 'happily:': 1, 'cletus_spuckler:': 1, 'ruled': 1, \"tab's\": 1, 'fatty': 1, 'chosen': 1, 'insist': 1, 'loudly': 1, \"somethin':\": 1, 'chipped': 1, 'poin-dexterous': 1, 'published': 1, 'partners': 1, 'rubs': 1, 'dean': 1, 'forecast': 1, 'grants': 1, 'urinal': 1, 'culkin': 1, 'ceremony': 1, 'wad': 1, 'drives': 1, \"professor's\": 1, 'newsletter': 1, 'alky': 1, 'musta': 1, 'squishee': 1, 'sets': 1, 'byrne': 1, \"'\": 1, 'someplace': 1, 'offa': 1, 'ballot': 1, 'mural': 1, 'hooky': 1, 'chips': 1, 'legally': 1, 'wussy': 1, 'nick': 1, 'uhhhh': 1, 'flailing': 1, 'log': 1, 'nelson_muntz:': 1, 'unintelligent': 1, \"tree's\": 1, 'darkness': 1, 'wildfever': 1, 'imitating': 1, \"snappin'\": 1, 'indifference': 1, 'sacajawea': 1, 'boxers': 1, 'heatherton': 1, 'poplar': 1, 'wore': 1, 'cologne': 1, 'courteous': 1, 'cooker': 1, \"that'd\": 1, 'lear': 1, 'dreamily': 1, 'slobbo': 1, 'languages': 1, 'brainiac': 1, 'fringe': 1, 'bathed': 1, 'stupidly': 1, 'clubs': 1, 'mugs': 1, 'enhance': 1, 'ends': 1, 'cushions': 1, 'dictating': 1, 'distance': 1, 'novelty': 1, 'officials': 1, 'typing': 1, 'sleigh-horses': 1, 'ticks': 1, 'unusual': 1, 'priority': 1, 'foam': 1, 'housewife': 1, 'hubub': 1, 'disguise': 1, 'eyed': 1, 'space-time': 1, 'ref': 1, 'dumptruck': 1, 'butterball': 1, 'usual': 1, 'affectations': 1, 'jigger': 1, 'gore': 1, 'crayon': 1, 'looser': 1, 'attached': 1, 'w-a-3-q-i-zed': 1, 'hourly': 1, 'bulletin': 1, 'gesture': 1, 'spotting': 1, 'thawing': 1, 'nucular': 1, 'solved': 1, \"somebody's\": 1, 'dislike': 1, 'transmission': 1, 'abusive': 1, 'coal': 1, 'jackass': 1, 'switched': 1, 'depression': 1, 'richer': 1, 'accounta': 1, 'nash': 1, 'payday': 1, 'ehhh': 1, 'inning': 1, 'wheeeee': 1, 'freely': 1, 'presto:': 1, 'bothered': 1, 'heliotrope': 1, 'minors': 1, 'bumblebee_man:': 1, \"school's\": 1, 'delicately': 1, 'rugged': 1, 'banquet': 1, 'fourteen:': 1, 'ebullient': 1, 'wittgenstein': 1, 'kansas': 1, 'engine': 1, 'slick': 1, 'ron': 1, 'shyly': 1, 'videotaped': 1, 'rig': 1, 'decide:': 1, 'in-in-in': 1, 'prejudice': 1, 'hiring': 1, 'piling': 1, 'sickened': 1, 'boyhood': 1, 'femininity': 1, 'lushmore': 1, 'kazoo': 1, 'shorter': 1, 'knives': 1, 'donuts': 1, 'santeria': 1, 'gimmick': 1, 'helps': 1, 'contractors': 1, 'billiard': 1, 'solely': 1, 'saga': 1, 'enveloped': 1, 'roach': 1, 'captain': 1, 'delays': 1, 'tremendous': 1, 'schedule': 1, \"stayin'\": 1, 'finance': 1, 'forgotten': 1, 'shark': 1, 'einstein': 1, 'renders': 1, 'gunter:': 1, 'total': 1, 'enforced': 1, 'crippling': 1, 'waters': 1, 'nbc': 1, 'boned': 1, 'heck': 1, 'adjourned': 1, 'trash': 1, 'composer': 1, 'shreda': 1, 'roy': 1, 'blessing': 1, \"show's\": 1, 'statistician': 1, 'accidents': 1, 'halloween': 1, 'americans': 1, 'presses': 1, \"homer'll\": 1, 'gestated': 1, 'suru': 1, 'whaaaa': 1, 'cause': 1, 'index': 1, 'grubby': 1, 'groan': 1, 'soaking': 1, 'flew': 1, 'blowfish': 1, 'chain': 1, 'kadlubowski': 1, 'repairman': 1})\n"
     ]
    }
   ],
   "source": [
    "\"\"\"\n",
    "DON'T MODIFY ANYTHING IN THIS CELL\n",
    "\"\"\"\n",
    "# Preprocess Training, Validation, and Testing Data\n",
    "helper.preprocess_and_save_data(data_dir, token_lookup, create_lookup_tables)"
   ]
  },
  {
   "cell_type": "markdown",
   "metadata": {
    "deletable": true,
    "editable": true
   },
   "source": [
    "# Check Point\n",
    "This is your first checkpoint. If you ever decide to come back to this notebook or have to restart the notebook, you can start from here. The preprocessed data has been saved to disk."
   ]
  },
  {
   "cell_type": "code",
   "execution_count": 35,
   "metadata": {
    "collapsed": false,
    "deletable": true,
    "editable": true
   },
   "outputs": [],
   "source": [
    "\"\"\"\n",
    "DON'T MODIFY ANYTHING IN THIS CELL\n",
    "\"\"\"\n",
    "import helper\n",
    "import numpy as np\n",
    "import problem_unittests as tests\n",
    "\n",
    "int_text, vocab_to_int, int_to_vocab, token_dict = helper.load_preprocess()"
   ]
  },
  {
   "cell_type": "markdown",
   "metadata": {
    "deletable": true,
    "editable": true
   },
   "source": [
    "## Build the Neural Network\n",
    "You'll build the components necessary to build a RNN by implementing the following functions below:\n",
    "- get_inputs\n",
    "- get_init_cell\n",
    "- get_embed\n",
    "- build_rnn\n",
    "- build_nn\n",
    "- get_batches\n",
    "\n",
    "### Check the Version of TensorFlow and Access to GPU"
   ]
  },
  {
   "cell_type": "code",
   "execution_count": 36,
   "metadata": {
    "collapsed": false
   },
   "outputs": [
    {
     "name": "stdout",
     "output_type": "stream",
     "text": [
      "TensorFlow Version: 1.0.1\n",
      "Default GPU Device: /gpu:0\n"
     ]
    }
   ],
   "source": [
    "\"\"\"\n",
    "DON'T MODIFY ANYTHING IN THIS CELL\n",
    "\"\"\"\n",
    "from distutils.version import LooseVersion\n",
    "import warnings\n",
    "import tensorflow as tf\n",
    "\n",
    "# Check TensorFlow Version\n",
    "assert LooseVersion(tf.__version__) >= LooseVersion('1.0'), 'Please use TensorFlow version 1.0 or newer'\n",
    "print('TensorFlow Version: {}'.format(tf.__version__))\n",
    "\n",
    "# Check for a GPU\n",
    "if not tf.test.gpu_device_name():\n",
    "    warnings.warn('No GPU found. Please use a GPU to train your neural network.')\n",
    "else:\n",
    "    print('Default GPU Device: {}'.format(tf.test.gpu_device_name()))"
   ]
  },
  {
   "cell_type": "markdown",
   "metadata": {},
   "source": [
    "### Input\n",
    "Implement the `get_inputs()` function to create TF Placeholders for the Neural Network.  It should create the following placeholders:\n",
    "- Input text placeholder named \"input\" using the [TF Placeholder](https://www.tensorflow.org/api_docs/python/tf/placeholder) `name` parameter.\n",
    "- Targets placeholder\n",
    "- Learning Rate placeholder\n",
    "\n",
    "Return the placeholders in the following the tuple `(Input, Targets, LearingRate)`"
   ]
  },
  {
   "cell_type": "code",
   "execution_count": 37,
   "metadata": {
    "collapsed": false,
    "deletable": true,
    "editable": true
   },
   "outputs": [
    {
     "name": "stdout",
     "output_type": "stream",
     "text": [
      "Tests Passed\n"
     ]
    }
   ],
   "source": [
    "def get_inputs():\n",
    "    \"\"\"\n",
    "    Create TF Placeholders for input, targets, and learning rate.\n",
    "    :return: Tuple (input, targets, learning rate)\n",
    "    \"\"\"\n",
    "    # TODO: Implement Function\n",
    "    Input = tf.placeholder(tf.int32, shape=(None, 200), name=\"input\");\n",
    "    Targets = tf.placeholder(tf.int32, shape=(None, 200), name=\"ouput\");\n",
    "    LearingRate = tf.placeholder(tf.float32,name=\"lr\");\n",
    "    \n",
    "    return (Input, Targets, LearingRate)\n",
    "\n",
    "\n",
    "\"\"\"\n",
    "DON'T MODIFY ANYTHING IN THIS CELL THAT IS BELOW THIS LINE\n",
    "\"\"\"\n",
    "tests.test_get_inputs(get_inputs)"
   ]
  },
  {
   "cell_type": "markdown",
   "metadata": {
    "deletable": true,
    "editable": true
   },
   "source": [
    "### Build RNN Cell and Initialize\n",
    "Stack one or more [`BasicLSTMCells`](https://www.tensorflow.org/api_docs/python/tf/contrib/rnn/BasicLSTMCell) in a [`MultiRNNCell`](https://www.tensorflow.org/api_docs/python/tf/contrib/rnn/MultiRNNCell).\n",
    "- The Rnn size should be set using `rnn_size`\n",
    "- Initalize Cell State using the MultiRNNCell's [`zero_state()`](https://www.tensorflow.org/api_docs/python/tf/contrib/rnn/MultiRNNCell#zero_state) function\n",
    "    - Apply the name \"initial_state\" to the initial state using [`tf.identity()`](https://www.tensorflow.org/api_docs/python/tf/identity)\n",
    "\n",
    "Return the cell and initial state in the following tuple `(Cell, InitialState)`"
   ]
  },
  {
   "cell_type": "code",
   "execution_count": 40,
   "metadata": {
    "collapsed": false,
    "deletable": true,
    "editable": true
   },
   "outputs": [
    {
     "name": "stdout",
     "output_type": "stream",
     "text": [
      "Tests Passed\n"
     ]
    }
   ],
   "source": [
    "def get_init_cell(batch_size, rnn_size):\n",
    "    \"\"\"\n",
    "    Create an RNN Cell and initialize it.\n",
    "    :param batch_size: Size of batches\n",
    "    :param rnn_size: Size of RNNs\n",
    "    :return: Tuple (cell, initialize state)\n",
    "    \"\"\"\n",
    "#     lstm = tf.contrib.rnn.BasicLSTMCell(rnn_size)\n",
    "#     m = tf.contrib.rnn.MultiRNNCell([lstm])\n",
    "#     m.zero_state(batch_size, tf.int32)\n",
    "#     initial_state = tf.identity(batch_size, \"initial_state\")\n",
    "    \n",
    "    lstm = tf.contrib.rnn.BasicLSTMCell(rnn_size)\n",
    "    num_layers  = 3\n",
    "   \n",
    "    # Stack up multiple LSTM layers, for deep learning\n",
    "    cell = tf.contrib.rnn.MultiRNNCell([lstm]*num_layers)\n",
    "    initial_state = cell.zero_state(batch_size, tf.float32)\n",
    "    initial_state = tf.identity(initial_state, name='initial_state')\n",
    "    return cell, initial_state\n",
    "\n",
    "\n",
    "    # TODO: Implement Function\n",
    "    #return m, initial_state\n",
    "\n",
    "\n",
    "\"\"\"\n",
    "DON'T MODIFY ANYTHING IN THIS CELL THAT IS BELOW THIS LINE\n",
    "\"\"\"\n",
    "tests.test_get_init_cell(get_init_cell)"
   ]
  },
  {
   "cell_type": "markdown",
   "metadata": {
    "deletable": true,
    "editable": true
   },
   "source": [
    "### Word Embedding\n",
    "Apply embedding to `input_data` using TensorFlow.  Return the embedded sequence."
   ]
  },
  {
   "cell_type": "code",
   "execution_count": 41,
   "metadata": {
    "collapsed": false,
    "deletable": true,
    "editable": true
   },
   "outputs": [
    {
     "name": "stdout",
     "output_type": "stream",
     "text": [
      "Tests Passed\n"
     ]
    }
   ],
   "source": [
    "def get_embed(input_data, vocab_size, embed_dim):\n",
    "    \"\"\"\n",
    "    Create embedding for <input_data>.\n",
    "    :param input_data: TF placeholder for text input.\n",
    "    :param vocab_size: Number of words in vocabulary.\n",
    "    :param embed_dim: Number of embedding dimensions\n",
    "    :return: Embedded input.\n",
    "    \"\"\"\n",
    "    # TODO: Implement Function\n",
    "    embeddings = tf.Variable(tf.random_uniform([vocab_size, embed_dim]))\n",
    "    embed = tf.nn.embedding_lookup(embeddings, input_data)\n",
    "    return embed\n",
    "\n",
    "\n",
    "\"\"\"\n",
    "DON'T MODIFY ANYTHING IN THIS CELL THAT IS BELOW THIS LINE\n",
    "\"\"\"\n",
    "tests.test_get_embed(get_embed)"
   ]
  },
  {
   "cell_type": "markdown",
   "metadata": {
    "deletable": true,
    "editable": true
   },
   "source": [
    "### Build RNN\n",
    "You created a RNN Cell in the `get_init_cell()` function.  Time to use the cell to create a RNN.\n",
    "- Build the RNN using the [`tf.nn.dynamic_rnn()`](https://www.tensorflow.org/api_docs/python/tf/nn/dynamic_rnn)\n",
    " - Apply the name \"final_state\" to the final state using [`tf.identity()`](https://www.tensorflow.org/api_docs/python/tf/identity)\n",
    "\n",
    "Return the outputs and final_state state in the following tuple `(Outputs, FinalState)` "
   ]
  },
  {
   "cell_type": "code",
   "execution_count": 42,
   "metadata": {
    "collapsed": false,
    "deletable": true,
    "editable": true
   },
   "outputs": [
    {
     "name": "stdout",
     "output_type": "stream",
     "text": [
      "Tests Passed\n"
     ]
    }
   ],
   "source": [
    "def build_rnn(cell, inputs):\n",
    "    \"\"\"\n",
    "    Create a RNN using a RNN Cell\n",
    "    :param cell: RNN Cell\n",
    "    :param inputs: Input text data\n",
    "    :return: Tuple (Outputs, Final State)\n",
    "    \"\"\"\n",
    "    # TODO: Implement Function\n",
    "    #print (cell)\n",
    "    outputs, final_state = tf.nn.dynamic_rnn(cell, inputs, dtype=tf.float32)\n",
    "    final_state = tf.identity(final_state, \"final_state\")\n",
    "    return outputs, final_state\n",
    "\n",
    "\n",
    "\"\"\"\n",
    "DON'T MODIFY ANYTHING IN THIS CELL THAT IS BELOW THIS LINE\n",
    "\"\"\"\n",
    "tests.test_build_rnn(build_rnn)"
   ]
  },
  {
   "cell_type": "markdown",
   "metadata": {
    "deletable": true,
    "editable": true
   },
   "source": [
    "### Build the Neural Network\n",
    "Apply the functions you implemented above to:\n",
    "- Apply embedding to `input_data` using your `get_embed(input_data, vocab_size, embed_dim)` function.\n",
    "- Build RNN using `cell` and your `build_rnn(cell, inputs)` function.\n",
    "- Apply a fully connected layer with a linear activation and `vocab_size` as the number of outputs.\n",
    "\n",
    "Return the logits and final state in the following tuple (Logits, FinalState) "
   ]
  },
  {
   "cell_type": "code",
   "execution_count": 43,
   "metadata": {
    "collapsed": false,
    "deletable": true,
    "editable": true
   },
   "outputs": [
    {
     "name": "stdout",
     "output_type": "stream",
     "text": [
      "Tests Passed\n"
     ]
    }
   ],
   "source": [
    "def build_nn(cell, rnn_size, input_data, vocab_size):\n",
    "    \"\"\"\n",
    "    Build part of the neural network\n",
    "    :param cell: RNN cell\n",
    "    :param rnn_size: Size of rnns\n",
    "    :param input_data: Input data\n",
    "    :param vocab_size: Vocabulary size\n",
    "    :return: Tuple (Logits, FinalState)\n",
    "    \"\"\"\n",
    "    embed = get_embed(input_data, vocab_size, rnn_size)\n",
    "    outputs, final_state = build_rnn(cell, embed)\n",
    "    logits = tf.contrib.layers.fully_connected(outputs, vocab_size, \n",
    "    weights_initializer=tf.truncated_normal_initializer(stddev=0.01),biases_initializer=tf.zeros_initializer(),activation_fn=None)\n",
    "    return logits, final_state\n",
    "\n",
    "\n",
    "\"\"\"\n",
    "DON'T MODIFY ANYTHING IN THIS CELL THAT IS BELOW THIS LINE\n",
    "\"\"\"\n",
    "tests.test_build_nn(build_nn)"
   ]
  },
  {
   "cell_type": "markdown",
   "metadata": {
    "deletable": true,
    "editable": true
   },
   "source": [
    "### Batches\n",
    "Implement `get_batches` to create batches of input and targets using `int_text`.  The batches should be a Numpy array with the shape `(number of batches, 2, batch size, sequence length)`. Each batch contains two elements:\n",
    "- The first element is a single batch of **input** with the shape `[batch size, sequence length]`\n",
    "- The second element is a single batch of **targets** with the shape `[batch size, sequence length]`\n",
    "\n",
    "If you can't fill the last batch with enough data, drop the last batch.\n",
    "\n",
    "For exmple, `get_batches([1, 2, 3, 4, 5, 6, 7, 8, 9, 10, 11, 12, 13, 14, 15], 2, 3)` would return a Numpy array of the following:\n",
    "```\n",
    "[\n",
    "  # First Batch\n",
    "  [\n",
    "    # Batch of Input\n",
    "    [[ 1  2  3], [ 7  8  9]],\n",
    "    # Batch of targets\n",
    "    [[ 2  3  4], [ 8  9 10]]\n",
    "  ],\n",
    " \n",
    "  # Second Batch\n",
    "  [\n",
    "    # Batch of Input\n",
    "    [[ 4  5  6], [10 11 12]],\n",
    "    # Batch of targets\n",
    "    [[ 5  6  7], [11 12 13]]\n",
    "  ]\n",
    "]\n",
    "```"
   ]
  },
  {
   "cell_type": "code",
   "execution_count": 55,
   "metadata": {
    "collapsed": false,
    "deletable": true,
    "editable": true
   },
   "outputs": [
    {
     "name": "stdout",
     "output_type": "stream",
     "text": [
      "Tests Passed\n"
     ]
    }
   ],
   "source": [
    "def get_batches(int_text, batch_size, seq_length):\n",
    "    \"\"\"\n",
    "    Return batches of input and target\n",
    "    :param int_text: Text with the words replaced by their ids\n",
    "    :param batch_size: The size of batch\n",
    "    :param seq_length: The length of sequence\n",
    "    :return: Batches as a Numpy array\n",
    "    \"\"\"\n",
    "    # TODO: Implement Function\n",
    "    bath_count = int (np.floor(len(int_text)/(batch_size*seq_length)))\n",
    "    \n",
    "    a = np.zeros((bath_count,2,batch_size,seq_length))\n",
    "    \n",
    "    for k in range (bath_count):\n",
    "        for i in range (batch_size):\n",
    "            for j in range (seq_length):\n",
    "                    a[k][0][i][j]=int_text[k *batch_size * seq_length + i * seq_length + j ]\n",
    "                    a[k][1][i][j]=int_text[k *batch_size * seq_length + i * seq_length + j + 1 ]\n",
    "                    \n",
    "                    #a[k][1][i][j]=int_text[k *batch_size * seq_length ]\n",
    "\n",
    "        \n",
    "    return a\n",
    "#a = get_batches([1, 2, 3, 4, 5, 6, 7, 8, 9, 10, 11, 12, 13, 14, 15], 2, 3)\n",
    "#print (a)\n",
    "\n",
    "\"\"\"\n",
    "DON'T MODIFY ANYTHING IN THIS CELL THAT IS BELOW THIS LINE\n",
    "\"\"\"\n",
    "tests.test_get_batches(get_batches)"
   ]
  },
  {
   "cell_type": "markdown",
   "metadata": {
    "deletable": true,
    "editable": true
   },
   "source": [
    "## Neural Network Training\n",
    "### Hyperparameters\n",
    "Tune the following parameters:\n",
    "\n",
    "- Set `num_epochs` to the number of epochs.\n",
    "- Set `batch_size` to the batch size.\n",
    "- Set `rnn_size` to the size of the RNNs.\n",
    "- Set `seq_length` to the length of sequence.\n",
    "- Set `learning_rate` to the learning rate.\n",
    "- Set `show_every_n_batches` to the number of batches the neural network should print progress."
   ]
  },
  {
   "cell_type": "code",
   "execution_count": 56,
   "metadata": {
    "collapsed": true,
    "deletable": true,
    "editable": true
   },
   "outputs": [],
   "source": [
    "# Number of Epochs\n",
    "num_epochs = 100\n",
    "# Batch Size\n",
    "batch_size = 30\n",
    "# RNN Size\n",
    "rnn_size = 512\n",
    "# Sequence Length\n",
    "seq_length = 25\n",
    "# Learning Rate\n",
    "learning_rate = 0.01\n",
    "# Show stats for every n number of batches\n",
    "show_every_n_batches = 5\n",
    "\n",
    "\"\"\"\n",
    "DON'T MODIFY ANYTHING IN THIS CELL THAT IS BELOW THIS LINE\n",
    "\"\"\"\n",
    "save_dir = './save'"
   ]
  },
  {
   "cell_type": "markdown",
   "metadata": {
    "deletable": true,
    "editable": true
   },
   "source": [
    "### Build the Graph\n",
    "Build the graph using the neural network you implemented."
   ]
  },
  {
   "cell_type": "code",
   "execution_count": 57,
   "metadata": {
    "collapsed": false,
    "deletable": true,
    "editable": true
   },
   "outputs": [],
   "source": [
    "\"\"\"\n",
    "DON'T MODIFY ANYTHING IN THIS CELL\n",
    "\"\"\"\n",
    "from tensorflow.contrib import seq2seq\n",
    "\n",
    "train_graph = tf.Graph()\n",
    "with train_graph.as_default():\n",
    "    vocab_size = len(int_to_vocab)\n",
    "    input_text, targets, lr = get_inputs()\n",
    "    input_data_shape = tf.shape(input_text)\n",
    "    cell, initial_state = get_init_cell(input_data_shape[0], rnn_size)\n",
    "    logits, final_state = build_nn(cell, rnn_size, input_text, vocab_size)\n",
    "\n",
    "    # Probabilities for generating words\n",
    "    probs = tf.nn.softmax(logits, name='probs')\n",
    "\n",
    "    # Loss function\n",
    "    cost = seq2seq.sequence_loss(\n",
    "        logits,\n",
    "        targets,\n",
    "        tf.ones([input_data_shape[0], input_data_shape[1]]))\n",
    "\n",
    "    # Optimizer\n",
    "    optimizer = tf.train.AdamOptimizer(lr)\n",
    "\n",
    "    # Gradient Clipping\n",
    "    gradients = optimizer.compute_gradients(cost)\n",
    "    capped_gradients = [(tf.clip_by_value(grad, -1., 1.), var) for grad, var in gradients]\n",
    "    train_op = optimizer.apply_gradients(capped_gradients)"
   ]
  },
  {
   "cell_type": "markdown",
   "metadata": {
    "deletable": true,
    "editable": true
   },
   "source": [
    "## Train\n",
    "Train the neural network on the preprocessed data.  If you have a hard time getting a good loss, check the [forms](https://discussions.udacity.com/) to see if anyone is having the same problem."
   ]
  },
  {
   "cell_type": "code",
   "execution_count": 58,
   "metadata": {
    "collapsed": false,
    "deletable": true,
    "editable": true
   },
   "outputs": [
    {
     "ename": "ValueError",
     "evalue": "Cannot feed value of shape (30, 25) for Tensor 'input:0', which has shape '(?, 200)'",
     "output_type": "error",
     "traceback": [
      "\u001b[0;31m---------------------------------------------------------------------------\u001b[0m",
      "\u001b[0;31mValueError\u001b[0m                                Traceback (most recent call last)",
      "\u001b[0;32m<ipython-input-58-396c263e7e73>\u001b[0m in \u001b[0;36m<module>\u001b[0;34m()\u001b[0m\n\u001b[1;32m      8\u001b[0m \u001b[0;34m\u001b[0m\u001b[0m\n\u001b[1;32m      9\u001b[0m     \u001b[0;32mfor\u001b[0m \u001b[0mepoch_i\u001b[0m \u001b[0;32min\u001b[0m \u001b[0mrange\u001b[0m\u001b[0;34m(\u001b[0m\u001b[0mnum_epochs\u001b[0m\u001b[0;34m)\u001b[0m\u001b[0;34m:\u001b[0m\u001b[0;34m\u001b[0m\u001b[0m\n\u001b[0;32m---> 10\u001b[0;31m         \u001b[0mstate\u001b[0m \u001b[0;34m=\u001b[0m \u001b[0msess\u001b[0m\u001b[0;34m.\u001b[0m\u001b[0mrun\u001b[0m\u001b[0;34m(\u001b[0m\u001b[0minitial_state\u001b[0m\u001b[0;34m,\u001b[0m \u001b[0;34m{\u001b[0m\u001b[0minput_text\u001b[0m\u001b[0;34m:\u001b[0m \u001b[0mbatches\u001b[0m\u001b[0;34m[\u001b[0m\u001b[0;36m0\u001b[0m\u001b[0;34m]\u001b[0m\u001b[0;34m[\u001b[0m\u001b[0;36m0\u001b[0m\u001b[0;34m]\u001b[0m\u001b[0;34m}\u001b[0m\u001b[0;34m)\u001b[0m\u001b[0;34m\u001b[0m\u001b[0m\n\u001b[0m\u001b[1;32m     11\u001b[0m \u001b[0;34m\u001b[0m\u001b[0m\n\u001b[1;32m     12\u001b[0m         \u001b[0;32mfor\u001b[0m \u001b[0mbatch_i\u001b[0m\u001b[0;34m,\u001b[0m \u001b[0;34m(\u001b[0m\u001b[0mx\u001b[0m\u001b[0;34m,\u001b[0m \u001b[0my\u001b[0m\u001b[0;34m)\u001b[0m \u001b[0;32min\u001b[0m \u001b[0menumerate\u001b[0m\u001b[0;34m(\u001b[0m\u001b[0mbatches\u001b[0m\u001b[0;34m)\u001b[0m\u001b[0;34m:\u001b[0m\u001b[0;34m\u001b[0m\u001b[0m\n",
      "\u001b[0;32m/usr/local/lib/python3.4/dist-packages/tensorflow/python/client/session.py\u001b[0m in \u001b[0;36mrun\u001b[0;34m(self, fetches, feed_dict, options, run_metadata)\u001b[0m\n\u001b[1;32m    765\u001b[0m     \u001b[0;32mtry\u001b[0m\u001b[0;34m:\u001b[0m\u001b[0;34m\u001b[0m\u001b[0m\n\u001b[1;32m    766\u001b[0m       result = self._run(None, fetches, feed_dict, options_ptr,\n\u001b[0;32m--> 767\u001b[0;31m                          run_metadata_ptr)\n\u001b[0m\u001b[1;32m    768\u001b[0m       \u001b[0;32mif\u001b[0m \u001b[0mrun_metadata\u001b[0m\u001b[0;34m:\u001b[0m\u001b[0;34m\u001b[0m\u001b[0m\n\u001b[1;32m    769\u001b[0m         \u001b[0mproto_data\u001b[0m \u001b[0;34m=\u001b[0m \u001b[0mtf_session\u001b[0m\u001b[0;34m.\u001b[0m\u001b[0mTF_GetBuffer\u001b[0m\u001b[0;34m(\u001b[0m\u001b[0mrun_metadata_ptr\u001b[0m\u001b[0;34m)\u001b[0m\u001b[0;34m\u001b[0m\u001b[0m\n",
      "\u001b[0;32m/usr/local/lib/python3.4/dist-packages/tensorflow/python/client/session.py\u001b[0m in \u001b[0;36m_run\u001b[0;34m(self, handle, fetches, feed_dict, options, run_metadata)\u001b[0m\n\u001b[1;32m    942\u001b[0m                 \u001b[0;34m'Cannot feed value of shape %r for Tensor %r, '\u001b[0m\u001b[0;34m\u001b[0m\u001b[0m\n\u001b[1;32m    943\u001b[0m                 \u001b[0;34m'which has shape %r'\u001b[0m\u001b[0;34m\u001b[0m\u001b[0m\n\u001b[0;32m--> 944\u001b[0;31m                 % (np_val.shape, subfeed_t.name, str(subfeed_t.get_shape())))\n\u001b[0m\u001b[1;32m    945\u001b[0m           \u001b[0;32mif\u001b[0m \u001b[0;32mnot\u001b[0m \u001b[0mself\u001b[0m\u001b[0;34m.\u001b[0m\u001b[0mgraph\u001b[0m\u001b[0;34m.\u001b[0m\u001b[0mis_feedable\u001b[0m\u001b[0;34m(\u001b[0m\u001b[0msubfeed_t\u001b[0m\u001b[0;34m)\u001b[0m\u001b[0;34m:\u001b[0m\u001b[0;34m\u001b[0m\u001b[0m\n\u001b[1;32m    946\u001b[0m             \u001b[0;32mraise\u001b[0m \u001b[0mValueError\u001b[0m\u001b[0;34m(\u001b[0m\u001b[0;34m'Tensor %s may not be fed.'\u001b[0m \u001b[0;34m%\u001b[0m \u001b[0msubfeed_t\u001b[0m\u001b[0;34m)\u001b[0m\u001b[0;34m\u001b[0m\u001b[0m\n",
      "\u001b[0;31mValueError\u001b[0m: Cannot feed value of shape (30, 25) for Tensor 'input:0', which has shape '(?, 200)'"
     ]
    }
   ],
   "source": [
    "\"\"\"\n",
    "DON'T MODIFY ANYTHING IN THIS CELL\n",
    "\"\"\"\n",
    "batches = get_batches(int_text, batch_size, seq_length)\n",
    "\n",
    "with tf.Session(graph=train_graph) as sess:\n",
    "    sess.run(tf.global_variables_initializer())\n",
    "\n",
    "    for epoch_i in range(num_epochs):\n",
    "        state = sess.run(initial_state, {input_text: batches[0][0]})\n",
    "\n",
    "        for batch_i, (x, y) in enumerate(batches):\n",
    "            feed = {\n",
    "                input_text: x,\n",
    "                targets: y,\n",
    "                initial_state: state,\n",
    "                lr: learning_rate}\n",
    "            train_loss, state, _ = sess.run([cost, final_state, train_op], feed)\n",
    "\n",
    "            # Show every <show_every_n_batches> batches\n",
    "            if (epoch_i * len(batches) + batch_i) % show_every_n_batches == 0:\n",
    "                print('Epoch {:>3} Batch {:>4}/{}   train_loss = {:.3f}'.format(\n",
    "                    epoch_i,\n",
    "                    batch_i,\n",
    "                    len(batches),\n",
    "                    train_loss))\n",
    "\n",
    "    # Save Model\n",
    "    saver = tf.train.Saver()\n",
    "    saver.save(sess, save_dir)\n",
    "    print('Model Trained and Saved')"
   ]
  },
  {
   "cell_type": "markdown",
   "metadata": {
    "deletable": true,
    "editable": true
   },
   "source": [
    "## Save Parameters\n",
    "Save `seq_length` and `save_dir` for generating a new TV script."
   ]
  },
  {
   "cell_type": "code",
   "execution_count": 50,
   "metadata": {
    "collapsed": false,
    "deletable": true,
    "editable": true
   },
   "outputs": [],
   "source": [
    "\"\"\"\n",
    "DON'T MODIFY ANYTHING IN THIS CELL\n",
    "\"\"\"\n",
    "# Save parameters for checkpoint\n",
    "helper.save_params((seq_length, save_dir))"
   ]
  },
  {
   "cell_type": "markdown",
   "metadata": {
    "deletable": true,
    "editable": true
   },
   "source": [
    "# Checkpoint"
   ]
  },
  {
   "cell_type": "code",
   "execution_count": 51,
   "metadata": {
    "collapsed": false,
    "deletable": true,
    "editable": true
   },
   "outputs": [],
   "source": [
    "\"\"\"\n",
    "DON'T MODIFY ANYTHING IN THIS CELL\n",
    "\"\"\"\n",
    "import tensorflow as tf\n",
    "import numpy as np\n",
    "import helper\n",
    "import problem_unittests as tests\n",
    "\n",
    "_, vocab_to_int, int_to_vocab, token_dict = helper.load_preprocess()\n",
    "seq_length, load_dir = helper.load_params()"
   ]
  },
  {
   "cell_type": "markdown",
   "metadata": {
    "deletable": true,
    "editable": true
   },
   "source": [
    "## Implement Generate Functions\n",
    "### Get Tensors\n",
    "Get tensors from `loaded_graph` using the function [`get_tensor_by_name()`](https://www.tensorflow.org/api_docs/python/tf/Graph#get_tensor_by_name).  Get the tensors using the following names:\n",
    "- \"input:0\"\n",
    "- \"initial_state:0\"\n",
    "- \"final_state:0\"\n",
    "- \"probs:0\"\n",
    "\n",
    "Return the tensors in the following tuple `(InputTensor, InitialStateTensor, FinalStateTensor, ProbsTensor)` "
   ]
  },
  {
   "cell_type": "code",
   "execution_count": 52,
   "metadata": {
    "collapsed": false,
    "deletable": true,
    "editable": true
   },
   "outputs": [
    {
     "name": "stdout",
     "output_type": "stream",
     "text": [
      "Tests Passed\n"
     ]
    }
   ],
   "source": [
    "def get_tensors(loaded_graph):\n",
    "    \"\"\"\n",
    "    Get input, initial state, final state, and probabilities tensor from <loaded_graph>\n",
    "    :param loaded_graph: TensorFlow graph loaded from file\n",
    "    :return: Tuple (InputTensor, InitialStateTensor, FinalStateTensor, ProbsTensor)\n",
    "    \"\"\"\n",
    "    # TODO: Implement Function\n",
    "    return loaded_graph.get_tensor_by_name(\"input:0\"),\\\n",
    "           loaded_graph.get_tensor_by_name(\"initial_state:0\"),\\\n",
    "           loaded_graph.get_tensor_by_name(\"final_state:0\"), \\\n",
    "           loaded_graph.get_tensor_by_name(\"probs:0\")\n",
    "\n",
    "\n",
    "\"\"\"\n",
    "DON'T MODIFY ANYTHING IN THIS CELL THAT IS BELOW THIS LINE\n",
    "\"\"\"\n",
    "tests.test_get_tensors(get_tensors)"
   ]
  },
  {
   "cell_type": "markdown",
   "metadata": {
    "deletable": true,
    "editable": true
   },
   "source": [
    "### Choose Word\n",
    "Implement the `pick_word()` function to select the next word using `probabilities`."
   ]
  },
  {
   "cell_type": "code",
   "execution_count": 53,
   "metadata": {
    "collapsed": false,
    "deletable": true,
    "editable": true
   },
   "outputs": [
    {
     "name": "stdout",
     "output_type": "stream",
     "text": [
      "Tests Passed\n"
     ]
    }
   ],
   "source": [
    "def pick_word(probabilities, int_to_vocab):\n",
    "    \"\"\"\n",
    "    Pick the next word in the generated text\n",
    "    :param probabilities: Probabilites of the next word\n",
    "    :param int_to_vocab: Dictionary of word ids as the keys and words as the values\n",
    "    :return: String of the predicted word\n",
    "    \"\"\"\n",
    "    # TODO: Implement Function\n",
    " \n",
    "    i=  (np.argmax(probabilities))\n",
    "    return int_to_vocab[i]\n",
    "\n",
    "\n",
    "\"\"\"\n",
    "DON'T MODIFY ANYTHING IN THIS CELL THAT IS BELOW THIS LINE\n",
    "\"\"\"\n",
    "tests.test_pick_word(pick_word)"
   ]
  },
  {
   "cell_type": "markdown",
   "metadata": {
    "deletable": true,
    "editable": true
   },
   "source": [
    "## Generate TV Script\n",
    "This will generate the TV script for you.  Set `gen_length` to the length of TV script you want to generate."
   ]
  },
  {
   "cell_type": "code",
   "execution_count": 54,
   "metadata": {
    "collapsed": false,
    "deletable": true,
    "editable": true
   },
   "outputs": [
    {
     "ename": "ValueError",
     "evalue": "Cannot feed value of shape (1, 1) for Tensor 'input:0', which has shape '(?, 200)'",
     "output_type": "error",
     "traceback": [
      "\u001b[0;31m---------------------------------------------------------------------------\u001b[0m",
      "\u001b[0;31mValueError\u001b[0m                                Traceback (most recent call last)",
      "\u001b[0;32m<ipython-input-54-1db8abe06e71>\u001b[0m in \u001b[0;36m<module>\u001b[0;34m()\u001b[0m\n\u001b[1;32m     17\u001b[0m     \u001b[0;31m# Sentences generation setup\u001b[0m\u001b[0;34m\u001b[0m\u001b[0;34m\u001b[0m\u001b[0m\n\u001b[1;32m     18\u001b[0m     \u001b[0mgen_sentences\u001b[0m \u001b[0;34m=\u001b[0m \u001b[0;34m[\u001b[0m\u001b[0mprime_word\u001b[0m \u001b[0;34m+\u001b[0m \u001b[0;34m':'\u001b[0m\u001b[0;34m]\u001b[0m\u001b[0;34m\u001b[0m\u001b[0m\n\u001b[0;32m---> 19\u001b[0;31m     \u001b[0mprev_state\u001b[0m \u001b[0;34m=\u001b[0m \u001b[0msess\u001b[0m\u001b[0;34m.\u001b[0m\u001b[0mrun\u001b[0m\u001b[0;34m(\u001b[0m\u001b[0minitial_state\u001b[0m\u001b[0;34m,\u001b[0m \u001b[0;34m{\u001b[0m\u001b[0minput_text\u001b[0m\u001b[0;34m:\u001b[0m \u001b[0mnp\u001b[0m\u001b[0;34m.\u001b[0m\u001b[0marray\u001b[0m\u001b[0;34m(\u001b[0m\u001b[0;34m[\u001b[0m\u001b[0;34m[\u001b[0m\u001b[0;36m1\u001b[0m\u001b[0;34m]\u001b[0m\u001b[0;34m]\u001b[0m\u001b[0;34m)\u001b[0m\u001b[0;34m}\u001b[0m\u001b[0;34m)\u001b[0m\u001b[0;34m\u001b[0m\u001b[0m\n\u001b[0m\u001b[1;32m     20\u001b[0m \u001b[0;34m\u001b[0m\u001b[0m\n\u001b[1;32m     21\u001b[0m     \u001b[0;31m# Generate sentences\u001b[0m\u001b[0;34m\u001b[0m\u001b[0;34m\u001b[0m\u001b[0m\n",
      "\u001b[0;32m/usr/local/lib/python3.4/dist-packages/tensorflow/python/client/session.py\u001b[0m in \u001b[0;36mrun\u001b[0;34m(self, fetches, feed_dict, options, run_metadata)\u001b[0m\n\u001b[1;32m    765\u001b[0m     \u001b[0;32mtry\u001b[0m\u001b[0;34m:\u001b[0m\u001b[0;34m\u001b[0m\u001b[0m\n\u001b[1;32m    766\u001b[0m       result = self._run(None, fetches, feed_dict, options_ptr,\n\u001b[0;32m--> 767\u001b[0;31m                          run_metadata_ptr)\n\u001b[0m\u001b[1;32m    768\u001b[0m       \u001b[0;32mif\u001b[0m \u001b[0mrun_metadata\u001b[0m\u001b[0;34m:\u001b[0m\u001b[0;34m\u001b[0m\u001b[0m\n\u001b[1;32m    769\u001b[0m         \u001b[0mproto_data\u001b[0m \u001b[0;34m=\u001b[0m \u001b[0mtf_session\u001b[0m\u001b[0;34m.\u001b[0m\u001b[0mTF_GetBuffer\u001b[0m\u001b[0;34m(\u001b[0m\u001b[0mrun_metadata_ptr\u001b[0m\u001b[0;34m)\u001b[0m\u001b[0;34m\u001b[0m\u001b[0m\n",
      "\u001b[0;32m/usr/local/lib/python3.4/dist-packages/tensorflow/python/client/session.py\u001b[0m in \u001b[0;36m_run\u001b[0;34m(self, handle, fetches, feed_dict, options, run_metadata)\u001b[0m\n\u001b[1;32m    942\u001b[0m                 \u001b[0;34m'Cannot feed value of shape %r for Tensor %r, '\u001b[0m\u001b[0;34m\u001b[0m\u001b[0m\n\u001b[1;32m    943\u001b[0m                 \u001b[0;34m'which has shape %r'\u001b[0m\u001b[0;34m\u001b[0m\u001b[0m\n\u001b[0;32m--> 944\u001b[0;31m                 % (np_val.shape, subfeed_t.name, str(subfeed_t.get_shape())))\n\u001b[0m\u001b[1;32m    945\u001b[0m           \u001b[0;32mif\u001b[0m \u001b[0;32mnot\u001b[0m \u001b[0mself\u001b[0m\u001b[0;34m.\u001b[0m\u001b[0mgraph\u001b[0m\u001b[0;34m.\u001b[0m\u001b[0mis_feedable\u001b[0m\u001b[0;34m(\u001b[0m\u001b[0msubfeed_t\u001b[0m\u001b[0;34m)\u001b[0m\u001b[0;34m:\u001b[0m\u001b[0;34m\u001b[0m\u001b[0m\n\u001b[1;32m    946\u001b[0m             \u001b[0;32mraise\u001b[0m \u001b[0mValueError\u001b[0m\u001b[0;34m(\u001b[0m\u001b[0;34m'Tensor %s may not be fed.'\u001b[0m \u001b[0;34m%\u001b[0m \u001b[0msubfeed_t\u001b[0m\u001b[0;34m)\u001b[0m\u001b[0;34m\u001b[0m\u001b[0m\n",
      "\u001b[0;31mValueError\u001b[0m: Cannot feed value of shape (1, 1) for Tensor 'input:0', which has shape '(?, 200)'"
     ]
    }
   ],
   "source": [
    "gen_length = 200\n",
    "# homer_simpson, moe_szyslak, or Barney_Gumble\n",
    "prime_word = 'moe_szyslak'\n",
    "\n",
    "\"\"\"\n",
    "DON'T MODIFY ANYTHING IN THIS CELL THAT IS BELOW THIS LINE\n",
    "\"\"\"\n",
    "loaded_graph = tf.Graph()\n",
    "with tf.Session(graph=loaded_graph) as sess:\n",
    "    # Load saved model\n",
    "    loader = tf.train.import_meta_graph(load_dir + '.meta')\n",
    "    loader.restore(sess, load_dir)\n",
    "\n",
    "    # Get Tensors from loaded model\n",
    "    input_text, initial_state, final_state, probs = get_tensors(loaded_graph)\n",
    "\n",
    "    # Sentences generation setup\n",
    "    gen_sentences = [prime_word + ':']\n",
    "    prev_state = sess.run(initial_state, {input_text: np.array([[1]])})\n",
    "\n",
    "    # Generate sentences\n",
    "    for n in range(gen_length):\n",
    "        # Dynamic Input\n",
    "        dyn_input = [[vocab_to_int[word] for word in gen_sentences[-seq_length:]]]\n",
    "        dyn_seq_length = len(dyn_input[0])\n",
    "\n",
    "        # Get Prediction\n",
    "        probabilities, prev_state = sess.run(\n",
    "            [probs, final_state],\n",
    "            {input_text: dyn_input, initial_state: prev_state})\n",
    "        \n",
    "        pred_word = pick_word(probabilities[dyn_seq_length-1], int_to_vocab)\n",
    "\n",
    "        gen_sentences.append(pred_word)\n",
    "    \n",
    "    # Remove tokens\n",
    "    tv_script = ' '.join(gen_sentences)\n",
    "    for key, token in token_dict.items():\n",
    "        ending = ' ' if key in ['\\n', '(', '\"'] else ''\n",
    "        tv_script = tv_script.replace(' ' + token.lower(), key)\n",
    "    tv_script = tv_script.replace('\\n ', '\\n')\n",
    "    tv_script = tv_script.replace('( ', '(')\n",
    "        \n",
    "    print(tv_script)"
   ]
  },
  {
   "cell_type": "markdown",
   "metadata": {
    "deletable": true,
    "editable": true
   },
   "source": [
    "# The TV Script is Nonsensical\n",
    "It's ok if the TV script doesn't make any sense.  We trained on less than a megabyte of text.  In order to get good results, you'll have to use a smaller vocabulary or get more data.  Luckly there's more data!  As we mentioned in the begging of this project, this is a subset of [another dataset](https://www.kaggle.com/wcukierski/the-simpsons-by-the-data).  We didn't have you train on all the data, because that would take too long.  However, you are free to train your neural network on all the data.  After you complete the project, of course.\n",
    "# Submitting This Project\n",
    "When submitting this project, make sure to run all the cells before saving the notebook. Save the notebook file as \"dlnd_tv_script_generation.ipynb\" and save it as a HTML file under \"File\" -> \"Download as\". Include the \"helper.py\" and \"problem_unittests.py\" files in your submission."
   ]
  },
  {
   "cell_type": "code",
   "execution_count": null,
   "metadata": {
    "collapsed": true
   },
   "outputs": [],
   "source": []
  }
 ],
 "metadata": {
  "kernelspec": {
   "display_name": "usr_bin_PYTHON3",
   "language": "python",
   "name": "usr_bin_python3"
  },
  "language_info": {
   "codemirror_mode": {
    "name": "ipython",
    "version": 3
   },
   "file_extension": ".py",
   "mimetype": "text/x-python",
   "name": "python",
   "nbconvert_exporter": "python",
   "pygments_lexer": "ipython3",
   "version": "3.4.3"
  },
  "widgets": {
   "state": {},
   "version": "1.1.2"
  }
 },
 "nbformat": 4,
 "nbformat_minor": 0
}
