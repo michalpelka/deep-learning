{
 "cells": [
  {
   "cell_type": "markdown",
   "metadata": {
    "deletable": true,
    "editable": true
   },
   "source": [
    "# TV Script Generation\n",
    "In this project, you'll generate your own [Simpsons](https://en.wikipedia.org/wiki/The_Simpsons) TV scripts using RNNs.  You'll be using part of the [Simpsons dataset](https://www.kaggle.com/wcukierski/the-simpsons-by-the-data) of scripts from 27 seasons.  The Neural Network you'll build will generate a new TV script for a scene at [Moe's Tavern](https://simpsonswiki.com/wiki/Moe's_Tavern).\n",
    "## Get the Data\n",
    "The data is already provided for you.  You'll be using a subset of the original dataset.  It consists of only the scenes in Moe's Tavern.  This doesn't include other versions of the tavern, like \"Moe's Cavern\", \"Flaming Moe's\", \"Uncle Moe's Family Feed-Bag\", etc.."
   ]
  },
  {
   "cell_type": "code",
   "execution_count": 50,
   "metadata": {
    "collapsed": false,
    "deletable": true,
    "editable": true
   },
   "outputs": [],
   "source": [
    "\"\"\"\n",
    "DON'T MODIFY ANYTHING IN THIS CELL\n",
    "\"\"\"\n",
    "import helper\n",
    "\n",
    "data_dir = './data/simpsons/moes_tavern_lines.txt'\n",
    "text = helper.load_data(data_dir)\n",
    "# Ignore notice, since we don't use it for analysing the data\n",
    "text = text[81:]"
   ]
  },
  {
   "cell_type": "markdown",
   "metadata": {
    "deletable": true,
    "editable": true
   },
   "source": [
    "## Explore the Data\n",
    "Play around with `view_sentence_range` to view different parts of the data."
   ]
  },
  {
   "cell_type": "code",
   "execution_count": 51,
   "metadata": {
    "collapsed": false,
    "deletable": true,
    "editable": true
   },
   "outputs": [
    {
     "name": "stdout",
     "output_type": "stream",
     "text": [
      "Dataset Stats\n",
      "Roughly the number of unique words: 11492\n",
      "Number of scenes: 262\n",
      "Average number of sentences in each scene: 15.248091603053435\n",
      "Number of lines: 4257\n",
      "Average number of words in each line: 11.50434578341555\n",
      "\n",
      "The sentences 0 to 10:\n",
      "Moe_Szyslak: (INTO PHONE) Moe's Tavern. Where the elite meet to drink.\n",
      "Bart_Simpson: Eh, yeah, hello, is Mike there? Last name, Rotch.\n",
      "Moe_Szyslak: (INTO PHONE) Hold on, I'll check. (TO BARFLIES) Mike Rotch. Mike Rotch. Hey, has anybody seen Mike Rotch, lately?\n",
      "Moe_Szyslak: (INTO PHONE) Listen you little puke. One of these days I'm gonna catch you, and I'm gonna carve my name on your back with an ice pick.\n",
      "Moe_Szyslak: What's the matter Homer? You're not your normal effervescent self.\n",
      "Homer_Simpson: I got my problems, Moe. Give me another one.\n",
      "Moe_Szyslak: Homer, hey, you should not drink to forget your problems.\n",
      "Barney_Gumble: Yeah, you should only drink to enhance your social skills.\n",
      "\n",
      "\n"
     ]
    }
   ],
   "source": [
    "view_sentence_range = (0, 10)\n",
    "\n",
    "\"\"\"\n",
    "DON'T MODIFY ANYTHING IN THIS CELL\n",
    "\"\"\"\n",
    "import numpy as np\n",
    "\n",
    "print('Dataset Stats')\n",
    "print('Roughly the number of unique words: {}'.format(len({word: None for word in text.split()})))\n",
    "scenes = text.split('\\n\\n')\n",
    "print('Number of scenes: {}'.format(len(scenes)))\n",
    "sentence_count_scene = [scene.count('\\n') for scene in scenes]\n",
    "print('Average number of sentences in each scene: {}'.format(np.average(sentence_count_scene)))\n",
    "\n",
    "sentences = [sentence for scene in scenes for sentence in scene.split('\\n')]\n",
    "print('Number of lines: {}'.format(len(sentences)))\n",
    "word_count_sentence = [len(sentence.split()) for sentence in sentences]\n",
    "print('Average number of words in each line: {}'.format(np.average(word_count_sentence)))\n",
    "\n",
    "print()\n",
    "print('The sentences {} to {}:'.format(*view_sentence_range))\n",
    "print('\\n'.join(text.split('\\n')[view_sentence_range[0]:view_sentence_range[1]]))"
   ]
  },
  {
   "cell_type": "markdown",
   "metadata": {
    "deletable": true,
    "editable": true
   },
   "source": [
    "## Implement Preprocessing Functions\n",
    "The first thing to do to any dataset is preprocessing.  Implement the following preprocessing functions below:\n",
    "- Lookup Table\n",
    "- Tokenize Punctuation\n",
    "\n",
    "### Lookup Table\n",
    "To create a word embedding, you first need to transform the words to ids.  In this function, create two dictionaries:\n",
    "- Dictionary to go from the words to an id, we'll call `vocab_to_int`\n",
    "- Dictionary to go from the id to word, we'll call `int_to_vocab`\n",
    "\n",
    "Return these dictionaries in the following tuple `(vocab_to_int, int_to_vocab)`"
   ]
  },
  {
   "cell_type": "code",
   "execution_count": 52,
   "metadata": {
    "collapsed": false,
    "deletable": true,
    "editable": true
   },
   "outputs": [
    {
     "name": "stdout",
     "output_type": "stream",
     "text": [
      "Counter({'moe_szyslak': 5, 'mike': 4, 'your': 4, 'you': 4, 'rotch': 4, 'drink': 3, 'to': 3, 'one': 2, 'yeah': 2, 'on': 2, \"i'm\": 2, 'hey': 2, 'should': 2, 'gonna': 2, 'not': 2, 'homer': 2, 'my': 2, 'name': 2, 'the': 2, 'problems': 2, \"you're\": 1, 'i': 1, 'enhance': 1, 'an': 1, 'where': 1, 'with': 1, 'me': 1, 'bart_simpson': 1, 'and': 1, 'homer_simpson': 1, 'self': 1, 'back': 1, 'skills': 1, 'has': 1, 'there': 1, 'whats': 1, 'got': 1, 'last': 1, 'puke': 1, 'normal': 1, 'hello': 1, 'pick': 1, 'only': 1, 'lately': 1, 'these': 1, \"i'll\": 1, 'of': 1, 'days': 1, 'barney_gumble': 1, 'tavern': 1, 'anybody': 1, 'hold': 1, 'give': 1, 'effervescent': 1, 'is': 1, 'matter': 1, 'social': 1, 'elite': 1, 'ice': 1, 'another': 1, 'eh': 1, 'forget': 1, 'meet': 1, \"moe's\": 1, 'check': 1, 'carve': 1, 'catch': 1, 'little': 1, 'seen': 1, 'moe': 1, 'listen': 1})\n",
      "Tests Passed\n"
     ]
    }
   ],
   "source": [
    "import numpy as np\n",
    "from collections import Counter\n",
    "import problem_unittests as tests\n",
    "\n",
    "def create_lookup_tables(text):\n",
    "    \"\"\"\n",
    "    Create lookup tables for vocabulary\n",
    "    :param text: The text of tv scripts split into words\n",
    "    :return: A tuple of dicts (vocab_to_int, int_to_vocab)  \n",
    "    \"\"\"\n",
    "    c = Counter (text)\n",
    "    print (c)\n",
    "    vocab_to_int = {}\n",
    "    int_to_vocab = {}\n",
    "    for i, w in enumerate(c):\n",
    "        vocab_to_int[w] = i\n",
    "        int_to_vocab[i] = w\n",
    "    # TODO: Implement Function\n",
    "    return (vocab_to_int, int_to_vocab)\n",
    "\n",
    "\n",
    "\"\"\"\n",
    "DON'T MODIFY ANYTHING IN THIS CELL THAT IS BELOW THIS LINE\n",
    "\"\"\"\n",
    "tests.test_create_lookup_tables(create_lookup_tables)"
   ]
  },
  {
   "cell_type": "markdown",
   "metadata": {
    "deletable": true,
    "editable": true
   },
   "source": [
    "### Tokenize Punctuation\n",
    "We'll be splitting the script into a word array using spaces as delimiters.  However, punctuations like periods and exclamation marks make it hard for the neural network to distinguish between the word \"bye\" and \"bye!\".\n",
    "\n",
    "Implement the function `token_lookup` to return a dict that will be used to tokenize symbols like \"!\" into \"||Exclamation_Mark||\".  Create a dictionary for the following symbols where the symbol is the key and value is the token:\n",
    "- Period ( . )\n",
    "- Comma ( , )\n",
    "- Quotation Mark ( \" )\n",
    "- Semicolon ( ; )\n",
    "- Exclamation mark ( ! )\n",
    "- Question mark ( ? )\n",
    "- Left Parentheses ( ( )\n",
    "- Right Parentheses ( ) )\n",
    "- Dash ( -- )\n",
    "- Return ( \\n )\n",
    "\n",
    "This dictionary will be used to token the symbols and add the delimiter (space) around it.  This separates the symbols as it's own word, making it easier for the neural network to predict on the next word. Make sure you don't use a token that could be confused as a word. Instead of using the token \"dash\", try using something like \"||dash||\"."
   ]
  },
  {
   "cell_type": "code",
   "execution_count": 53,
   "metadata": {
    "collapsed": false,
    "deletable": true,
    "editable": true
   },
   "outputs": [
    {
     "name": "stdout",
     "output_type": "stream",
     "text": [
      "Tests Passed\n"
     ]
    }
   ],
   "source": [
    "def token_lookup():\n",
    "    \"\"\"\n",
    "    Generate a dict to turn punctuation into a token.\n",
    "    :return: Tokenize dictionary where the key is the punctuation and the value is the token\n",
    "    \"\"\"\n",
    "    d = {}\n",
    "    d['.']=\"||Period||\"\n",
    "    d[',']=\"||Comma||\"\n",
    "    d['\"']=\"||QuotationMark||\"\n",
    "    d[';']=\"||Semicolon||\"\n",
    "    d['!']=\"||ExclamationMark||\"\n",
    "    d['(']=\"||LeftParentheses||\"\n",
    "    d[')']=\"||RightParentheses||\"\n",
    "    d['--']=\"||Dash||\"\n",
    "    d['\\n']=\"||Return||\"\n",
    "    d['?']=\"||Questionmark||\"\n",
    "    \n",
    "    \n",
    "    \n",
    "    # TODO: Implement Function\n",
    "    return d\n",
    "\n",
    "\"\"\"\n",
    "DON'T MODIFY ANYTHING IN THIS CELL THAT IS BELOW THIS LINE\n",
    "\"\"\"\n",
    "tests.test_tokenize(token_lookup)"
   ]
  },
  {
   "cell_type": "markdown",
   "metadata": {
    "deletable": true,
    "editable": true
   },
   "source": [
    "## Preprocess all the data and save it\n",
    "Running the code cell below will preprocess all the data and save it to file."
   ]
  },
  {
   "cell_type": "code",
   "execution_count": 54,
   "metadata": {
    "collapsed": false,
    "deletable": true,
    "editable": true
   },
   "outputs": [
    {
     "name": "stdout",
     "output_type": "stream",
     "text": [
      "Counter({'||period||': 6024, '||return||': 4517, '||comma||': 3574, '||leftparentheses||': 1550, '||rightparentheses||': 1549, 'the': 1302, 'i': 1275, 'you': 1251, '||exclamationmark||': 1242, 'moe_szyslak:': 1180, '||questionmark||': 1100, 'a': 1059, 'homer_simpson:': 975, 'to': 938, 'and': 631, 'of': 488, 'my': 474, 'it': 465, 'that': 441, 'in': 432, '||quotationmark||': 418, 'me': 412, 'is': 376, 'this': 373, \"i'm\": 334, 'for': 327, 'your': 324, 'homer': 307, 'on': 289, 'hey': 289, 'moe': 273, 'oh': 272, 'no': 261, 'lenny_leonard:': 247, 'what': 246, 'with': 235, 'yeah': 233, 'all': 231, 'just': 218, 'like': 214, 'but': 213, 'barney_gumble:': 207, 'so': 205, 'be': 204, 'here': 196, 'carl_carlson:': 194, \"don't\": 193, 'have': 192, 'up': 188, \"it's\": 188, 'well': 186, 'out': 185, 'do': 180, 'was': 179, 'got': 176, 'get': 175, 'are': 175, 'we': 172, 'uh': 168, \"that's\": 168, 'one': 164, \"you're\": 158, 'now': 156, 'not': 156, 'know': 155, 'can': 155, '||dash||': 151, 'at': 145, 'right': 144, '/': 135, 'how': 132, 'if': 125, 'back': 119, 'marge_simpson:': 117, 'about': 115, 'from': 112, 'he': 112, 'go': 110, 'gonna': 107, 'they': 105, 'there': 105, 'beer': 100, 'good': 98, 'who': 97, 'an': 94, 'man': 93, 'okay': 91, 'little': 90, 'his': 90, 'as': 89, 'some': 88, \"can't\": 87, 'then': 87, 'never': 85, 'come': 84, 'think': 84, \"i'll\": 84, 'could': 83, \"i've\": 81, 'him': 81, 'see': 80, 'really': 80, 'want': 80, 'look': 80, 'too': 79, 'guys': 78, 'been': 78, 'when': 77, 'make': 77, 'why': 76, 'bar': 75, 'ya': 75, 'her': 74, 'did': 73, 'say': 72, 'time': 72, 'gotta': 71, 'or': 71, 'marge': 71, 'ah': 71, 'take': 70, 'into': 68, 'love': 68, 'down': 68, 'more': 67, 'our': 65, 'off': 64, 'am': 64, 'guy': 63, 'sure': 62, 'two': 60, 'barney': 60, \"there's\": 59, 'thing': 58, 'lisa_simpson:': 57, 'would': 57, \"we're\": 56, 'let': 55, 'had': 55, \"he's\": 55, 'where': 55, 'need': 55, 'tell': 55, 'big': 55, 'money': 54, 'sorry': 53, 'us': 53, 'over': 53, 'bart_simpson:': 53, 'drink': 53, \"what's\": 53, 'something': 53, 'only': 51, 'ever': 51, 'by': 51, 'day': 50, 'way': 50, 'will': 50, 'wait': 49, 'she': 48, 'chief_wiggum:': 48, 'give': 47, 'even': 47, 'new': 46, 'huh': 46, \"i'd\": 46, 'god': 46, \"ain't\": 45, 'those': 45, \"didn't\": 45, 'great': 44, 'people': 44, 'were': 42, 'maybe': 42, 'eh': 42, 'has': 42, 'phone': 42, 'lenny': 42, 'much': 42, 'life': 42, \"moe's\": 42, 'going': 41, 'than': 41, 'mean': 41, 'place': 40, 'should': 39, 'these': 39, 'better': 39, 'still': 39, 'around': 39, 'mr': 39, \"you've\": 39, 'wanna': 39, 'home': 38, 'friend': 38, \"'em\": 38, 'help': 38, 'old': 38, 'please': 37, 'name': 37, 'night': 37, 'before': 37, 'noise': 37, 'tv': 36, 'seymour_skinner:': 36, 'whoa': 36, 'last': 36, 'aw': 36, 'face': 35, 'any': 35, 'made': 35, 'boy': 35, 'call': 34, 'thanks': 34, 'hello': 34, 'put': 34, 'duff': 34, \"'cause\": 34, 'three': 34, 'drunk': 34, 'bad': 33, 'listen': 33, 'car': 33, 'their': 33, 'again': 33, 'looking': 33, 'best': 32, \"let's\": 32, 'very': 32, 'first': 32, 'wow': 31, 'yes': 31, 'does': 31, 'kent_brockman:': 30, 'another': 30, 'every': 30, 'while': 30, 'looks': 30, 'ooh': 30, 'them': 30, 'said': 30, 'guess': 29, 'other': 29, 'apu_nahasapeemapetilon:': 29, 'wife': 29, 'work': 29, 'dad': 28, \"won't\": 28, 'springfield': 28, 'tonight': 28, 'years': 28, 'singing': 28, 'sweet': 28, 'feel': 28, 'play': 28, \"they're\": 27, 'after': 27, 'everybody': 27, 'voice': 27, 'dr': 27, 'thought': 27, 'sobs': 27, 'find': 27, 'might': 26, 'kids': 26, 'things': 26, 'buy': 26, 'world': 25, 'nice': 25, 'shut': 25, 'since': 25, 'keep': 25, 'check': 25, 'beat': 25, 'because': 25, 'girl': 25, 'show': 25, 'minute': 25, 'happy': 25, 'head': 25, 'use': 24, 'sighs': 24, \"who's\": 24, 'chuckle': 24, 'bart': 24, 'friends': 24, 'lisa': 24, 'sings': 24, 'always': 24, 'stupid': 23, \"isn't\": 23, 'krusty_the_clown:': 23, 'which': 23, 'carl': 23, 'kid': 23, \"you'll\": 23, 'ow': 23, 'c': 23, 'someone': 23, 'hundred': 22, \"here's\": 22, 'laugh': 22, 'anything': 22, 'remember': 22, 'lot': 22, 'talk': 22, 'seen': 22, 'chuckles': 21, 'simpson': 21, 'laughs': 21, 'thank': 21, 'through': 21, 'hell': 21, 'glass': 21, 'next': 21, 'job': 21, 'long': 20, 'says': 20, 'kind': 20, 'matter': 20, 'hear': 20, \"nothin'\": 20, 'woman': 20, 'house': 20, 'pretty': 20, 'hope': 20, 'lost': 20, 'five': 20, 'happened': 20, 'believe': 20, 'away': 20, 'outta': 20, 'wish': 19, 'four': 19, 'once': 19, \"c'mon\": 19, 'stop': 19, 'family': 19, 'turn': 19, '_montgomery_burns:': 19, 'fat': 19, 'book': 19, \"homer's\": 19, 'nervous': 19, 'tavern': 19, 'waylon_smithers:': 19, 'comes': 19, 'real': 19, 'ned_flanders:': 19, 'business': 18, 'ask': 18, 'wrong': 18, 'wants': 18, 'actually': 18, \"doin'\": 18, 'myself': 18, 'game': 18, 'grampa_simpson:': 18, \"goin'\": 18, 'idea': 18, 'loud': 17, \"wouldn't\": 17, \"comin'\": 17, 'done': 17, 'town': 17, 'enough': 17, 'duffman:': 17, 'today': 17, 'many': 17, \"we've\": 17, \"she's\": 17, 'party': 17, 'must': 17, 'burns': 17, 'nobody': 17, 'getting': 17, 'problem': 17, 'everything': 17, 'used': 17, 'doing': 16, 'thinking': 16, 'watch': 16, 'took': 16, 'maggie': 16, 'woo': 16, 'reading': 16, 'na': 16, 'try': 16, 'sound': 16, 'true': 16, 'nah': 16, 'free': 16, 'dollars': 16, 'um': 16, 'gee': 16, 'hold': 16, 'sounds': 16, 'bucks': 16, \"where's\": 15, 'leave': 15, 'beautiful': 15, 'canyonero': 15, 'baby': 15, 'excuse': 15, 'pay': 15, 'kemi:': 15, 'makes': 15, 'daughter': 15, 'under': 15, 'wanted': 15, 'everyone': 15, 'kill': 15, 'being': 15, 'sell': 15, 'chief': 15, 'most': 15, 'stuff': 15, 'secret': 15, 'edna': 15, 'pants': 15, 'yourself': 15, 'gimme': 15, 'care': 15, 'worry': 14, 'tipsy': 14, 'went': 14, 'left': 14, 'smithers': 14, 'tough': 14, \"you'd\": 14, 'sad': 14, 'hurt': 14, 'pick': 14, 'points': 14, 'dead': 14, 'knew': 14, 'quickly': 14, 'dinner': 14, 'own': 14, 'mouth': 14, 'pal': 14, 'save': 14, 'booze': 13, 'break': 13, 'win': 13, 'eyes': 13, 'dog': 13, 'excited': 13, 'hate': 13, 'ladies': 13, 'school': 13, 'sign': 13, 'quit': 13, 'came': 13, 'funny': 13, 'gets': 13, 'skinner': 13, 'saw': 13, 'tomorrow': 13, 'gave': 13, 'heard': 13, 'die': 13, 'fine': 13, 'drinking': 13, 'camera': 13, 'till': 13, 'hoo': 13, 'feeling': 13, 'told': 13, 'hi': 13, 'barflies:': 12, \"aren't\": 12, 'krusty': 12, 'seven': 12, 'cash': 12, 'twenty': 12, 'jacques:': 12, 'kinda': 12, 'mad': 12, 'read': 12, 'room': 12, 'easy': 12, 'hands': 12, 'sir': 12, 'calling': 12, \"couldn't\": 12, 'loves': 12, 'fight': 12, 'hand': 12, 'small': 12, 'gasp': 12, 'mom': 12, 'anyone': 12, 'loser': 12, 'alcohol': 12, 'flaming': 12, 'fire': 12, 'gone': 12, 'kirk_van_houten:': 12, 'noises': 12, 'super': 12, 'drive': 12, 'forget': 12, 'burn': 12, 'date': 12, 'surprised': 12, 'eat': 12, 'nuts': 12, 'clean': 12, 'million': 12, 'bring': 12, 'artie_ziff:': 12, 'without': 12, 'door': 11, 'bartender': 11, \"lookin'\": 11, \"wasn't\": 11, 'cut': 11, 'happen': 11, 'upset': 11, \"talkin'\": 11, 'low': 11, 'problems': 11, 'gentlemen': 11, 'professor_jonathan_frink:': 11, 'anyway': 11, \"haven't\": 11, \"drinkin'\": 11, 'course': 11, 'geez': 11, \"somethin'\": 11, \"doesn't\": 11, 'already': 11, 'high': 11, 'trouble': 11, 'each': 11, 'sadly': 11, 'seymour': 11, 'called': 11, 'coming': 11, 'turns': 11, 'chance': 11, 'tape': 11, \"we'll\": 11, 'six': 11, \"y'know\": 11, 'behind': 11, 'meet': 11, 'dear': 11, 'blame': 10, 'learn': 10, 'machine': 10, 'snake_jailbird:': 10, 'live': 10, 'keys': 10, 'whole': 10, 'self': 10, 'hours': 10, 'eye': 10, 'talking': 10, 'outside': 10, 'm': 10, 'end': 10, 'trying': 10, 'whatever': 10, 'change': 10, 'quiet': 10, 'close': 10, 'uh-oh': 10, 'bottle': 10, 'the_rich_texan:': 10, 'disgusted': 10, 'larry:': 10, 'watching': 10, 'realizing': 10, 'lady': 10, 'heart': 10, 'throat': 10, 'sigh': 10, 'straight': 10, \"gettin'\": 10, 'war': 10, ':': 10, 'stay': 10, 'works': 10, \"it'll\": 10, 'least': 10, 'stand': 10, 'bar_rag:': 10, 'wiggum': 10, 'spend': 10, 'dump': 10, 'crazy': 10, 'song': 10, 'hot': 10, 'ugly': 10, 'start': 10, 'worried': 10, 'worse': 10, 'fun': 10, 'steal': 10, 'sing': 10, 'mmmm': 10, 'moan': 10, 'turned': 9, 'soon': 9, 'greatest': 9, 'bit': 9, 'young': 9, 'tsk': 9, 'ten': 9, 'goodbye': 9, 'crowd:': 9, 'alive': 9, 'may': 9, 'married': 9, 'times': 9, 'shocked': 9, 'girls': 9, 'morning': 9, 'lousy': 9, 'thinks': 9, 'less': 9, 'second': 9, 'gasps': 9, 'joe': 9, 'point': 9, 'blue': 9, 'year': 9, 'such': 9, 'private': 9, 'barflies': 9, 'butt': 9, 'drinks': 9, 'whip': 9, 'annoyed': 9, \"shouldn't\": 9, 'delete': 9, 'bowl': 9, 'thousand': 9, 'person': 9, 'heh': 9, 'anymore': 9, 'police': 9, 'special': 9, 'learned': 9, 'mother': 9, 'either': 9, 'pull': 9, 'probably': 9, 'marriage': 9, 'ma': 9, 'apu': 9, 'front': 9, \"'bout\": 9, 'late': 9, 'light': 9, 'perfect': 9, 'playing': 9, 'poor': 9, 'else': 9, 'air': 9, 'stick': 9, 'far': 9, 'box': 8, 'alone': 8, 'walk': 8, 'jacques': 8, 'king': 8, 'smell': 8, 'ass': 8, 'fifty': 8, 'miss': 8, \"how'd\": 8, 'moron': 8, 'boxing': 8, 'shotgun': 8, 'agnes_skinner:': 8, 'shot': 8, 'turning': 8, 'taking': 8, 'eight': 8, 'later': 8, 'instead': 8, 'open': 8, 'christmas': 8, 'blood': 8, 'minutes': 8, 'mayor_joe_quimby:': 8, 'letter': 8, 'picture': 8, 'president': 8, 'rev': 8, 'arm': 8, 'buddy': 8, 'youse': 8, 'tab': 8, 'lemme': 8, 'feet': 8, 'yet': 8, 'exactly': 8, 'kick': 8, 'throw': 8, 'ticket': 8, 'both': 8, 'boys': 8, 'angry': 8, 'mind': 8, 'nothing': 8, 'barn': 8, 'patty_bouvier:': 8, 'uh-huh': 8, 'goodnight': 8, 'goes': 8, 'cool': 8, 'join': 8, 'duffman': 8, 'beers': 8, 'serious': 8, 'store': 8, 'lucky': 8, 'found': 8, 'anybody': 8, 'card': 8, 'couple': 8, 'american': 8, 'nods': 8, 'knows': 8, 'pig': 8, 'story': 7, 'scared': 7, 'return': 7, 'city': 7, 'ahh': 7, 'paint': 7, 'afraid': 7, 'plus': 7, 'peanuts': 7, 'seems': 7, 'favorite': 7, 'sitting': 7, 'fellas': 7, 'alright': 7, 'o': 7, 'hang': 7, 'welcome': 7, '||semicolon||': 7, 'weird': 7, 'channel': 7, 'round': 7, 'run': 7, 'words': 7, 'warm_female_voice:': 7, 'eggs': 7, 'ready': 7, 'wire': 7, 'pour': 7, 'accident': 7, 'ball': 7, 'making': 7, 'full': 7, 'homie': 7, 'glad': 7, 'losers': 7, 'telling': 7, 'kiss': 7, 'street': 7, 'plant': 7, 'glove': 7, 'inside': 7, 'news': 7, 'saying': 7, 'nine': 7, 'number': 7, 'ha': 7, 'using': 7, \"kiddin'\": 7, 'moans': 7, 'food': 7, 'proudly': 7, 'somebody': 7, 'broke': 7, 'word': 7, 'dry': 7, 'terrible': 7, 'move': 7, \"he'll\": 7, 'happier': 7, 'though': 7, 'send': 7, 'horrible': 7, 'grampa': 7, 'cold': 7, 'ned': 7, 'crap': 7, 'days': 7, 'etc': 7, 'english': 7, 'amazed': 7, 'rummy': 7, 'renee:': 7, 'intrigued': 7, 'son': 7, 'comic_book_guy:': 7, 'walking': 7, \"makin'\": 7, 'hmm': 7, 'dance': 7, 'together': 7, 'top': 7, 'huge': 7, 'black': 7, 'means': 7, 'friendly': 7, 'lucius:': 7, 'hide': 7, 'tap': 7, 'smile': 7, 'young_marge:': 7, 'la': 7, 'selma_bouvier:': 7, 'fast': 7, 'himself': 7, 'seat': 7, \"ol'\": 7, 'butts': 7, 'screw': 7, 'table': 7, 'mrs': 7, 'damn': 7, 'collette:': 7, 'forever': 7, 'narrator:': 7, 'finally': 7, 'advice': 7, 'human': 7, 'deal': 7, 'japanese': 7, 's': 7, 'sotto': 7, 'warmly': 7, 'bag': 6, 'fat_tony:': 6, 'impressed': 6, 'gives': 6, 'holding': 6, 'young_homer:': 6, 'along': 6, 'same': 6, 'sick': 6, 'mister': 6, 'numbers': 6, 'sips': 6, 'heaven': 6, \"we'd\": 6, 'football_announcer:': 6, \"that'll\": 6, 'brought': 6, 'gumbel': 6, 'romantic': 6, 'hair': 6, 'giving': 6, 'tony': 6, 'principal': 6, 'honest': 6, 'loved': 6, 'lives': 6, 'sent': 6, 'eating': 6, 'truth': 6, 'lying': 6, 'denver': 6, '_julius_hibbert:': 6, 'maya:': 6, 'belch': 6, 'group': 6, 'charge': 6, 'week': 6, \"sayin'\": 6, 'bow': 6, 'health_inspector:': 6, 'tinkle': 6, 'manjula_nahasapeemapetilon:': 6, 'invented': 6, 'admit': 6, 'princess': 6, 'power': 6, 'birthday': 6, 'star': 6, 'ice': 6, 'thirty': 6, 'laughing': 6, 'walther_hotenhoffer:': 6, 'rat': 6, 'pass': 6, 'baseball': 6, 'ones': 6, 'plan': 6, 'holds': 6, 'normal': 6, 'slap': 6, 'omigod': 6, 'kent': 6, 'harv:': 6, 'won': 6, 'fall': 6, 'honey': 6, 'milk': 6, 'music': 6, 'supposed': 6, 'uncle': 6, 'flanders': 6, 'half': 6, 'hard': 6, 'except': 6, 'slow': 6, 'nigel_bakerbutcher:': 6, 'hit': 6, 'desperate': 6, 'class': 6, 'quick': 6, 'crack': 6, 'set': 6, 'bet': 6, 'across': 6, 'takes': 6, 'joey': 6, 'lowers': 6, 'dumb': 6, 'early': 6, 'touched': 6, 'seconds': 6, 'company': 6, 'became': 6, 'shall': 6, 'treasure': 6, 'hank_williams_jr': 6, 'worst': 6, 'forgot': 6, 'stool': 6, 'jukebox': 6, 'safe': 6, 'al': 6, 'tune': 6, 'water': 6, 'dunno': 6, 'lou:': 6, 'health': 6, 'gold': 6, 'smells': 6, 'fill': 6, 'men': 6, 'tip': 6, 'state': 6, 'write': 6, 'bitter': 6, 'sex': 6, 'plastic': 6, 'strong': 6, 'dangerous': 6, 'szyslak': 6, 'favor': 5, 'cop': 5, 'children': 5, 'until': 5, 'center': 5, 'puzzled': 5, 'rope': 5, 'act': 5, 'isotopes': 5, 'horrified': 5, 'empty': 5, 'tv_husband:': 5, 'confused': 5, 'biggest': 5, 'dude': 5, 'testing': 5, 'felt': 5, 'totally': 5, 'strap': 5, 'ago': 5, 'offended': 5, 'yea': 5, 'swear': 5, 'wallet': 5, \"i'm-so-stupid\": 5, 'writing': 5, 'local': 5, 'dame': 5, 'mayor': 5, \"drivin'\": 5, 'doubt': 5, 'hanging': 5, 'customers': 5, 'jar': 5, 'boring': 5, 'stunned': 5, 'also': 5, 'catch': 5, 'daddy': 5, 'third': 5, 'evening': 5, 'chug': 5, 'nein': 5, 'luck': 5, 'mine': 5, 'bed': 5, 'lloyd:': 5, 'quietly': 5, \"smokin'_joe_frazier:\": 5, 'fingers': 5, 'shaking': 5, 'asked': 5, 'all:': 5, 'counting': 5, 'nineteen': 5, 'man:': 5, 'handsome': 5, 'deer': 5, 'movie': 5, 'punch': 5, \"tellin'\": 5, 'designated': 5, 'wrote': 5, 'ashamed': 5, 'survive': 5, 'pop': 5, 'dallas': 5, 'truck': 5, 'brilliant': 5, 'unless': 5, 'clears': 5, 'side': 5, 'i-i': 5, \"guy's\": 5, 'speaking': 5, 'service': 5, 'hopeful': 5, 'none': 5, 'accent': 5, 'government': 5, 'caught': 5, 'cutting': 5, 'grand': 5, 'sharps': 5, \"one's\": 5, 'p': 5, 'calm': 5, 'jack': 5, 'tongue': 5, 'cost': 5, 'yep': 5, 'wine': 5, 'cheer': 5, 'detective_homer_simpson:': 5, 'pity': 5, 'names': 5, \"lisa's\": 5, 'suicide': 5, 'speech': 5, 'during': 5, 'edna_krabappel-flanders:': 5, 'lose': 5, 'red': 5, 'glen:': 5, 'drederick': 5, 'lord': 5, 'ad': 5, 'nuclear': 5, 'pool': 5, \"world's\": 5, 'running': 5, 'piece': 5, \"tryin'\": 5, 'suddenly': 5, 'needs': 5, 'soul': 5, 'wonderful': 5, 'hated': 5, 'french': 5, 'wall': 5, 'rest': 5, 'having': 5, 'wheel': 5, 'chanting': 5, 'duh': 5, 'owe': 5, 'short': 5, 'window': 5, 'clown': 5, 'exasperated': 5, 'tree': 5, \"he'd\": 5, 'announcer:': 5, 'suit': 5, 'brockman': 5, 'cleaned': 5, 'shirt': 5, 'sunday': 5, 'dank': 5, 'changing': 5, '_zander:': 5, 'lessons': 5, 'hospital': 5, 'sober': 5, 'sob': 5, 'closed': 5, 'saved': 5, 'fish': 5, 'selma': 5, 'clear': 5, \"callin'\": 5, 'african': 5, 'dying': 5, 'x': 5, 'beloved': 5, 'adult_bart:': 5, 'cow': 5, 'wonder': 5, 'sauce': 5, 'gay': 5, 'club': 5, 'thumb': 5, 'given': 5, \"workin'\": 5, 'college': 5, 'speak': 5, 'glasses': 5, 'fellow': 5, \"sittin'\": 5, 'driving': 5, 'tired': 5, 'tv_wife:': 5, 'park': 5, 'mouse': 5, 'joint': 5, 'troll': 5, '_hooper:': 5, 'against': 5, 'represent': 5, 'pipe': 5, 'longer': 5, 'few': 5, 'america': 5, 'treat': 5, 'disappointed': 5, 'coaster': 5, 'jerks': 5, 'bank': 5, 'mike': 5, 'stories': 5, 'artie': 5, 'billy_the_kid:': 5, 'jeez': 5, 'filthy': 5, 'little_man:': 5, 'games': 5, 'part': 5, 'surgery': 5, 'bender:': 5, 'wha': 5, 'bee': 5, \"how's\": 5, 'broad': 5, 'proud': 5, 'women': 5, 'named': 5, 'beach': 5, 'absolutely': 5, 'invited': 5, 'deep': 4, 'lips': 4, 'finger': 4, 'new_health_inspector:': 4, 'needed': 4, 'bees': 4, 'plow': 4, 'band': 4, 'bill': 4, 'dollar': 4, 'able': 4, 'twelve': 4, 'starts': 4, 'road': 4, 'huggenkiss': 4, 'correct': 4, 'partner': 4, 'quite': 4, 'question': 4, 'different': 4, 'pit': 4, 'video': 4, 'liver': 4, 'sister': 4, \"livin'\": 4, 'distraught': 4, 'eddie:': 4, 'choice': 4, 'sense': 4, 'cover': 4, 'moment': 4, 'embarrassed': 4, 'rob': 4, 'original': 4, 'sheepish': 4, 'pointed': 4, 'scream': 4, 'garbage': 4, 'fix': 4, 'buffalo': 4, 'train': 4, 'sly': 4, 'pickled': 4, 'folks': 4, \"who'll\": 4, 'arrest': 4, 'ahead': 4, 'situation': 4, 'threw': 4, 'fbi': 4, 'illegal': 4, 'fridge': 4, 'lie': 4, 'yellow': 4, 'eleven': 4, 'sarcastic': 4, 'couch': 4, 'fifteen': 4, 'blow': 4, 'chick': 4, 'awkward': 4, 'breath': 4, 'dang': 4, 'mug': 4, \"watchin'\": 4, 'started': 4, 'whiny': 4, 'ride': 4, 'gas': 4, 'renee': 4, 'boat': 4, 'declan_desmond:': 4, 'forty': 4, 'restaurant': 4, 'beauty': 4, 'usually': 4, \"what'll\": 4, 'dramatic': 4, 'polite': 4, 'island': 4, 'egg': 4, 'forget-me-shot': 4, 'whee': 4, \"today's\": 4, 're:': 4, \"buyin'\": 4, 'knock': 4, 'offer': 4, 'sees': 4, 'dennis_conroy:': 4, 'adeleine': 4, 'jerk': 4, \"valentine's\": 4, 'teenage_bart:': 4, 'loaded': 4, 'hurry': 4, 'vance': 4, 'especially': 4, 'castle': 4, 'wally:': 4, 'rather': 4, 'tatum': 4, 'pickle': 4, 'books': 4, 'pub': 4, 'clearly': 4, 'yesterday': 4, 'movies': 4, 'lotta': 4, \"o'problem\": 4, 'ken:': 4, 'twins': 4, 'meaningful': 4, 'ooo': 4, 'clothes': 4, 'cares': 4, \"o'clock\": 4, 'working': 4, 'ivana': 4, 'foibles': 4, 'upbeat': 4, 'yard': 4, 'ruined': 4, 'finding': 4, 'minimum': 4, 'procedure': 4, 'cries': 4, 'hans:': 4, 'selling': 4, 'spot': 4, 'gotten': 4, 'pain': 4, 'frustrated': 4, 'career': 4, 'radishes': 4, 'brain': 4, 'sexy': 4, 'smooth': 4, 'stock': 4, 'stirring': 4, 'coat': 4, 'smiling': 4, 'arms': 4, 'enjoy': 4, 'ourselves': 4, 'address': 4, 'follow': 4, 'understand': 4, 'heavyweight': 4, 'burp': 4, 'u': 4, 'thoughtful': 4, 'legs': 4, 'character': 4, 'bye': 4, 'sits': 4, 'father': 4, 'france': 4, \"they've\": 4, 'seem': 4, 'amanda': 4, 'teenage_barney:': 4, 'furious': 4, 'buttons': 4, 'stillwater:': 4, 'case': 4, 'à': 4, 'belches': 4, 'sold': 4, 'sobbing': 4, 'field': 4, 'match': 4, 'almost': 4, 'rich': 4, 'guns': 4, 'husband': 4, 'keeps': 4, 'pleased': 4, 'billboard': 4, 'ingredient': 4, 'amazing': 4, 'pitcher': 4, 'trip': 4, 'david_byrne:': 4, 'woman:': 4, 'bald': 4, 'hungry': 4, 'closing': 4, 'figured': 4, 'explaining': 4, 'wear': 4, 'fan': 4, 'bars': 4, 'line': 4, 'rotch': 4, 'grim': 4, 'burt': 4, 'meeting': 4, \"moe's_thoughts:\": 4, 'cable': 4, 'teach': 4, 'agent': 4, 'therapy': 4, 'computer': 4, 'busy': 4, \"everyone's\": 4, 'test': 4, 'amid': 4, 'babies': 4, 'pulls': 4, 'chocolate': 4, 'senators': 4, 'kidding': 4, 'drivers': 4, 'girlfriend': 4, 'months': 4, \"dad's\": 4, 'feels': 4, 'whisper': 4, 'gin': 4, 'stagy': 4, 'drug': 4, 'respect': 4, 'sincere': 4, 'market': 4, 'yap': 4, 'milhouse_van_houten:': 4, 'calls': 4, 'bottom': 4, 'raises': 4, 'south': 4, 'answer': 4, 'neck': 4, 'secrets': 4, 'magic': 4, 'burps': 4, 'dan_gillick:': 4, 'opportunity': 4, 'hm': 4, 'shows': 4, 'hits': 4, \"bein'\": 4, 'whaddaya': 4, 'rag': 4, 'flips': 4, 'senator': 4, \"carl's\": 4, 'sports': 4, 'monster': 4, 'professional': 4, 'tom': 4, 'hugh:': 4, 'nose': 4, 'betty:': 4, 'sit': 4, 'snake': 4, 'ominous': 4, 'tail': 4, 'hero': 4, 'weekly': 4, 'pulled': 4, 'pipes': 4, 'championship': 4, 'flowers': 4, 'died': 4, 'flower': 4, 'hoping': 4, 'precious': 4, 'body': 4, 'domestic': 4, 'bunch': 3, 'edison': 3, 'harv': 3, 'diet': 3, 'root': 3, 'frink': 3, 'fritz:': 3, 'unison': 3, 'struggling': 3, 'hmmm': 3, \"'til\": 3, 'fact': 3, 'finest': 3, 'hole': 3, 'stole': 3, 'shares': 3, 'taken': 3, 'weak': 3, 'crawl': 3, 'staying': 3, 'brains': 3, 'bus': 3, 'kept': 3, 'past': 3, 'losing': 3, 'grabs': 3, 'gal': 3, 'texas': 3, 'consider': 3, 'ridiculous': 3, 'thankful': 3, 'push': 3, 'fork': 3, 'toasting': 3, 'uneasy': 3, 'whatcha': 3, 'hiya': 3, 'tv_father:': 3, 'switch': 3, 'british': 3, 'gently': 3, 'ruin': 3, \"havin'\": 3, 'l': 3, 'mechanical': 3, 'coffee': 3, 'somewhere': 3, 'grunts': 3, 'wasting': 3, 'extra': 3, 'sucked': 3, 'beginning': 3, 'evil': 3, 'sixty-nine': 3, 'fool': 3, 'turkey': 3, 'afternoon': 3, 'sleep': 3, 'complete': 3, \"men's\": 3, 'ancient': 3, 'lonely': 3, 'f': 3, 'frankly': 3, 'junior': 3, 'lots': 3, 'fourth': 3, 'reads': 3, 'glen': 3, 'belly': 3, 'hates': 3, 'glum': 3, 'parking': 3, 'doors': 3, 'international': 3, 'talk-sings': 3, 'fans': 3, 'leans': 3, 'spoken': 3, 'reminds': 3, 'miserable': 3, 'ordered': 3, 'become': 3, 'prank': 3, 'cute': 3, 'afford': 3, 'screams': 3, 'guest': 3, 'tried': 3, 'likes': 3, 'hug': 3, 'letters': 3, 'puff': 3, 'understanding': 3, 'trust': 3, 'dressed': 3, 'ziffcorp': 3, 'unlike': 3, 'backwards': 3, 'finished': 3, 'grabbing': 3, 'jamaican': 3, \"could've\": 3, 'toilet': 3, 'traffic': 3, 'corpses': 3, 'public': 3, 'wide': 3, 'weeks': 3, 'closer': 3, 'hilarious': 3, 'gary:': 3, 'shove': 3, 'peach': 3, 'rub': 3, 'terrified': 3, \"robbin'\": 3, 'pays': 3, 'powerful': 3, 'reason': 3, 'scum': 3, 'anniversary': 3, 'changed': 3, 'relax': 3, 'above': 3, 'order': 3, 'alley': 3, 'share': 3, 'slip': 3, 'sadder': 3, 'comfortable': 3, 'upon': 3, 'pats': 3, 'cocktail': 3, 'military': 3, 'entire': 3, 'despite': 3, \"ridin'\": 3, 'kissing': 3, 'k': 3, 'puke': 3, \"lenny's\": 3, 'cheers': 3, 'cigarette': 3, 'image': 3, 'mock': 3, 'jesus': 3, 'rats': 3, 'rid': 3, 'church': 3, 'shoot': 3, 'pockets': 3, 'bless': 3, 'troy:': 3, \"c'mere\": 3, 'snort': 3, 'toys': 3, \"barney's\": 3, 'walks': 3, 'crummy': 3, 'helicopter': 3, 'stools': 3, 'dancing': 3, 'born': 3, 'kang:': 3, 'german': 3, 'bowling': 3, 'ground': 3, 'crank': 3, 'spanish': 3, 'incredulous': 3, 'men:': 3, 'brother': 3, 'twenty-two': 3, 'touchdown': 3, 'inspector': 3, 'enemies': 3, 'keeping': 3, 'scam': 3, 'paying': 3, 'holiday': 3, 'floor': 3, 'fancy': 3, 'woo-hoo': 3, 'gag': 3, 'pained': 3, 'enemy': 3, 'knocked': 3, 'coney': 3, 'cameras': 3, 'awful': 3, 'greystash': 3, 'popular': 3, 'workers': 3, 'boo': 3, 'army': 3, 'campaign': 3, 'fair': 3, 'uncomfortable': 3, 'ran': 3, 'mudflap': 3, 'system': 3, 'midnight': 3, 'corner': 3, 'jump': 3, 'chest': 3, 'theater': 3, 'kermit': 3, 'toward': 3, 'played': 3, 'tradition': 3, 'sniffles': 3, 'death': 3, 'hall': 3, 'der': 3, 'shape': 3, 'showing': 3, 'delicious': 3, 'breaking': 3, 'compliment': 3, 'toss': 3, 'bob': 3, \"year's\": 3, 'sisters': 3, 'bright': 3, 'yee-haw': 3, 'fraud': 3, 'spending': 3, 'lately': 3, 'anguished': 3, 'pocket': 3, 'thoughts': 3, 'following': 3, 'sexual': 3, 'perhaps': 3, 'salad': 3, 'age': 3, 'drop': 3, 'peace': 3, 'rough': 3, 'careful': 3, 'dive': 3, 'fault': 3, 'exit': 3, 'cents': 3, 'pfft': 3, 'register': 3, 'hour': 3, 'wiener': 3, 'general': 3, 'burning': 3, 'cough': 3, '_babcock:': 3, 'har': 3, 'bret:': 3, 'stopped': 3, 'r': 3, 'step': 3, \"bart's\": 3, 'ohmygod': 3, 'law': 3, 'inspection': 3, 'moments': 3, 'heads': 3, 'sadistic_barfly:': 3, 'defensive': 3, 'delighted': 3, 'mistake': 3, 'whose': 3, 'prime': 3, 'future': 3, 'fumes': 3, 'noticing': 3, 'customer': 3, 'jack_larson:': 3, 'stadium': 3, 'aside': 3, 'invite': 3, 'grow': 3, 'pause': 3, 'starting': 3, 'innocent': 3, 'label': 3, 'vomit': 3, 'summer': 3, 'spit': 3, 'fly': 3, 'bar-boy': 3, 'recommend': 3, 'who-o-oa': 3, 'form': 3, 'indignant': 3, 'its': 3, 'aww': 3, 'wayne:': 3, \"they'd\": 3, '_timothy_lovejoy:': 3, 'sec': 3, '&': 3, 'happily': 3, 'worked': 3, 'size': 3, 'coach:': 3, 'cheap': 3, 'barney-shaped_form:': 3, 'natural': 3, \"gentleman's\": 3, 'kwik-e-mart': 3, 'lottery': 3, 'per': 3, 'milhouse': 3, 'looked': 3, 'andy': 3, 'focus': 3, 'flatly': 3, 'driver': 3, 'suck': 3, 'pissed': 3, 'accurate': 3, 'single': 3, 'fever': 3, \"stinkin'\": 3, 'fireball': 3, 'history': 3, 'concerned': 3, 'sniffs': 3, 'ho': 3, 'challenge': 3, 'vegas': 3, 'bite': 3, 'imagine': 3, 'serve': 3, 'program': 3, 'palmerston': 3, 'leg': 3, 'loan': 3, 'knowing': 3, 'accept': 3, 'threatening': 3, 'jolly': 3, 'pageant': 3, 'season': 3, 'teenage': 3, 'tells': 3, 'religion': 3, 'casual': 3, 'bought': 3, 'dirt': 3, 'scotch': 3, 'opening': 3, 'mafia': 3, 'james': 3, 'grunt': 3, 'checks': 3, 'button': 3, 'panicky': 3, 'child': 3, 'drunks': 3, 'double': 3, 'twenty-five': 3, \"where'd\": 3, 'meant': 3, 'sweetly': 3, 'hunter': 3, 'buying': 3, 'embarrassing': 3, 'wearing': 3, \"they'll\": 3, 'raising': 3, 'hurts': 3, 'singers:': 3, 'wipe': 3, 'yo': 3, 'nobel': 3, 'higher': 3, 'sometime': 3, 'tears': 3, 'nards': 3, 'roll': 3, \"seein'\": 3, 'endorse': 3, 'directions': 3, 'clientele': 3, 'jail': 3, 'snaps': 3, 'text': 3, 'paris': 3, 'feelings': 3, 'oil': 3, 'attention': 3, 'checking': 3, 'moved': 3, 'celebrities': 3, 'stayed': 3, 'crowd': 3, 'nation': 3, 'gift': 3, 'bitterly': 3, \"kids'\": 3, 'suppose': 3, 'cannot': 3, 'chinese': 3, 'foot': 3, 'gary_chalmers:': 3, 'saturday': 3, 'pardon': 3, 'cards': 3, 'tastes': 3, \"wife's\": 3, 'midge': 3, \"i-i'm\": 3, 'covers': 3, 'tips': 3, 'middle': 3, 'dynamite': 3, 'lindsay_naegle:': 3, 'odd': 3, 'pathetic': 3, 'scene': 3, 'met': 3, 'operation': 3, 'subject': 3, 'banks': 3, 'peter': 3, '_kissingher:': 3, 'film': 3, 'mel': 3, 'severe': 3, 'expect': 3, 'feed': 3, 'unlucky': 3, 'darts': 3, 'bike': 3, 'license': 3, 'marvin': 3, 'literature': 3, 'idiot': 3, 'killed': 3, 'crime': 3, 'list': 3, 'pointing': 3, 'ring': 3, 'elder': 3, 'team': 3, 'source': 3, 'sec_agent_#1:': 3, 'then:': 3, 'modern': 3, 'book_club_member:': 3, 'al_gore:': 3, 'covering': 3, 'election': 3, 'exhaust': 3, 'teeth': 3, 'searching': 3, 'motel': 3, 'clone': 3, 'spinning': 3, 'wooooo': 3, 'seeing': 3, 'possibly': 2, 'helped': 2, 'suing': 2, 'troy_mcclure:': 2, 'compliments': 2, 'klingon': 2, 'medicine': 2, 'cops': 2, 'fudd': 2, 'rhyme': 2, 'superhero': 2, 'carl:': 2, 'mixed': 2, 'duel': 2, 'wedding': 2, 'bridge': 2, 'solid': 2, 'rolled': 2, 'spied': 2, 'mic': 2, 'stationery': 2, 'bigger': 2, 'mount': 2, 'department': 2, 'record': 2, 'mcstagger': 2, 'corporation': 2, 'cheese': 2, 'windex': 2, 'crumble': 2, 'blew': 2, 'formico:': 2, 'un-sults': 2, 'airport': 2, 'buried': 2, 'inflated': 2, 'hired': 2, 'ahhh': 2, 'stir': 2, 'awwww': 2, 'relationship': 2, 'heavyset': 2, 'slyly': 2, 'gang': 2, 'results': 2, 'insulted': 2, 'discuss': 2, 'internet': 2, 'laramie': 2, 'ale': 2, 'diamond': 2, 'involving': 2, 'gargoyle': 2, 'increasingly': 2, 'drown': 2, \"someone's\": 2, 'yup': 2, 'terrific': 2, 'mail': 2, 'grimly': 2, 'sea': 2, 'satisfaction': 2, 'shock': 2, 'memory': 2, 'forbidden': 2, 'century': 2, 'awww': 2, 'utility': 2, 'ball-sized': 2, 'mall': 2, 'conspiratorial': 2, 'judge_snyder:': 2, 'don': 2, 'excitement': 2, 'porn': 2, 'pond': 2, 'freak': 2, 'doll': 2, \"cat's\": 2, 'lap': 2, 'cookies': 2, 'seriously': 2, 'billion': 2, 'boxer': 2, 'danish': 2, 'ah-ha': 2, 'recently': 2, 'plans': 2, 'comedy': 2, 'duty': 2, 'swill': 2, 'victory': 2, 'blood-thirsty': 2, 'devastated': 2, 'alcoholic': 2, 'reserve': 2, 'dough': 2, 'sodas': 2, 'ragtime': 2, 'railroad': 2, 'poker': 2, 'shrugs': 2, 'bags': 2, 'reynolds': 2, 'excellent': 2, 'wave': 2, 'fold': 2, 'banquo': 2, 'raccoons': 2, \"what're\": 2, 'yawns': 2, 'paid': 2, 'heading': 2, \"money's\": 2, 'champ': 2, 'outlook': 2, 'steel': 2, 'thoughtfully': 2, 'cruel': 2, 'memories': 2, 'teddy': 2, 'near': 2, 'guide': 2, 'wrestling': 2, 'writers': 2, 'gorgeous': 2, 'exchange': 2, 'somehow': 2, 'advantage': 2, 'passed': 2, 'whenever': 2, 'continuing': 2, 'simp-sonnnn': 2, 'queen': 2, 'pint': 2, 'gator:': 2, 'between': 2, 'sandwich': 2, 'attack': 2, 'teacher': 2, 'sitar': 2, 'w': 2, 'type': 2, 'nasa': 2, 'eighty-seven': 2, 'jebediah': 2, 'crossed': 2, 'yelling': 2, 'bush': 2, 'lise:': 2, 'apartment': 2, 'honored': 2, 'thighs': 2, 'greedy': 2, 'mona_simpson:': 2, 'famous': 2, 'businessman_#1:': 2, 'neither': 2, 'pian-ee': 2, 'peppy': 2, 'owner': 2, 'ech': 2, 'sport': 2, 'ocean': 2, 'assistant': 2, \"town's\": 2, 'placing': 2, 'steak': 2, 'highway': 2, 'brightening': 2, 'koholic': 2, 'freedom': 2, 'shoo': 2, 'shrugging': 2, 'prayer': 2, 'sooner': 2, 'purse': 2, 'discussing': 2, 'homers': 2, 'labels': 2, 'expert': 2, 'morose': 2, 'answers': 2, \"game's\": 2, 'deeply': 2, 'sector': 2, 'vulnerable': 2, 'violations': 2, 'filled': 2, 'themselves': 2, 'roz:': 2, 'plum': 2, 'explain': 2, 'blend': 2, 'appointment': 2, 'tale': 2, 'yoo': 2, 'cola': 2, 'barkeep': 2, \"readin'\": 2, 'nope': 2, 'gun': 2, 'bears': 2, 'louie:': 2, 'interested': 2, 'bam': 2, 'wa': 2, 'rounds': 2, 'recall': 2, 'kindly': 2, 'museum': 2, 'pleading': 2, 'reasons': 2, 'grumpy': 2, 'festival': 2, 'chicks': 2, 'is:': 2, 'listening': 2, 'product': 2, \"springfield's\": 2, 'nearly': 2, 'certain': 2, 'smoke': 2, 'pressure': 2, 'knife': 2, 'skirt': 2, \"wonderin'\": 2, 'golf': 2, 'churchill': 2, 'remains': 2, \"father's\": 2, 'cigarettes': 2, 'sabermetrics': 2, 'woozy': 2, 'disco': 2, 'pleasure': 2, 'wordloaf': 2, 'waylon': 2, 'self-esteem': 2, 'photo': 2, 'attitude': 2, 'bets': 2, 'bucket': 2, 'mm': 2, 'dating': 2, 'due': 2, 'isle': 2, 'ambrosia': 2, 'shower': 2, 'restroom': 2, 'academy': 2, 'tiny': 2, 'shooting': 2, 'twice': 2, 'decency': 2, 'hawking:': 2, 'louder': 2, 'camp': 2, 'nudge': 2, 'changes': 2, 'reviews': 2, 'pleasant': 2, 'underpants': 2, 'violin': 2, 'completing': 2, 'rap': 2, 'aerosmith': 2, 'marguerite:': 2, 'obvious': 2, 'wishes': 2, 'hitler': 2, 'considering': 2, 'brothers': 2, 'effects': 2, 'sweeter': 2, \"tester's\": 2, \"hasn't\": 2, 'suspect': 2, 'sissy': 2, 'routine': 2, 'wooden': 2, 'slice': 2, 'mate': 2, 'social': 2, 'nigerian': 2, 'warn': 2, 'waltz': 2, 'standing': 2, 'smart': 2, 'underbridge': 2, 'cream': 2, 'ironed': 2, 'delivery': 2, 'grandiose': 2, 'stealings': 2, 'choking': 2, 'trick': 2, 'fevered': 2, 'ohh': 2, 'woman_bystander:': 2, 'towed': 2, 'wing': 2, 'snow': 2, 'minister': 2, 'grade': 2, 'hangs': 2, 'shutting': 2, 'lucius': 2, 'throwing': 2, 'planning': 2, 'jerky': 2, 'effigy': 2, 'ayyy': 2, 'multiple': 2, 'hollywood': 2, 'saint': 2, 'shoots': 2, 'fictional': 2, 'badges': 2, 'dryer': 2, 'gentleman:': 2, 'barely': 2, 'murmurs': 2, 'brewed': 2, 'value': 2, 'impatient': 2, 'latin': 2, 'slightly': 2, 'aging': 2, 'handle': 2, 'white': 2, 'bathing': 2, 'kyoto': 2, 'poking': 2, 'restaurants': 2, 'large': 2, 'space': 2, 'refund': 2, 'coward': 2, 'potato': 2, 'joke': 2, 'civilization': 2, 'bash': 2, 'charity': 2, 'confident': 2, 'snorts': 2, 'henry': 2, 'pride': 2, 'celebrity': 2, 'voice_on_transmitter:': 2, 'fox': 2, 'fritz': 2, 'grandmother': 2, 'twin': 2, 'investor': 2, 'energy': 2, 'blues': 2, 'matter-of-fact': 2, 'soap': 2, 'pretending': 2, 'proposing': 2, 'square': 2, 'forgive': 2, 'smug': 2, 'deacon': 2, 'partly': 2, 'reaching': 2, 'lovely': 2, 'sack': 2, 'cutie': 2, \"beer's\": 2, 'freeze': 2, 'attempting': 2, 'available': 2, \"weren't\": 2, 'rumaki': 2, 'manager': 2, 'moe-clone:': 2, 'mumbling': 2, 'tentative': 2, 'liar': 2, 'therefore': 2, 'thanksgiving': 2, 'defeated': 2, 'africa': 2, 'conference': 2, 'message': 2, 'eighty-one': 2, 'trolls': 2, 'motorcycle': 2, 'unfortunately': 2, 'allowed': 2, 'seek': 2, 'agreement': 2, \"ma'am\": 2, 'straining': 2, 'bubbles': 2, 'jubilant': 2, 'anywhere': 2, 'acting': 2, 'superior': 2, 'tie': 2, 'delivery_boy:': 2, \"fallin'\": 2, 'began': 2, 'broadway': 2, 'awe': 2, 'roomy': 2, 'admitting': 2, 'reached': 2, 'yogurt': 2, 'european': 2, 'ugliest': 2, 'fixed': 2, 'helen': 2, 'david': 2, 'stands': 2, 'electronic': 2, 'stevie': 2, 'ziff': 2, 'acquaintance': 2, 'radio': 2, \"pope's\": 2, \"countin'\": 2, 'grienke': 2, \"monroe's\": 2, 'disappeared': 2, 'distributor': 2, 'courage': 2, 'calmly': 2, 'wayne': 2, 'jobs': 2, 'dismissive': 2, 'benefits': 2, 'schnapps': 2, 'village': 2, 'conversation': 2, 'dee-fense': 2, 'bold': 2, 'giggles': 2, 'involved': 2, 'sports_announcer:': 2, 'b': 2, 'self-made': 2, 'shoulder': 2, 'foil': 2, 'bump': 2, 'comic': 2, 'justice': 2, 'insightful': 2, 'bedroom': 2, '7-year-old_brockman:': 2, 'media': 2, 'costume': 2, 'craphole': 2, 'relieved': 2, 'muttering': 2, 'male_inspector:': 2, \"'tis\": 2, 'answering': 2, 'mortgage': 2, 'fragile': 2, 'fresh': 2, 'medical': 2, 'gals': 2, 'folk': 2, 'served': 2, 'bret': 2, 'shaken': 2, 'securities': 2, 'lurleen': 2, 'missed': 2, 'sausage': 2, 'eyesore': 2, 'stuck': 2, 'bugging': 2, 'therapist': 2, '_powers:': 2, 'coins': 2, 'fabulous': 2, 'knees': 2, \"showin'\": 2, 'actors': 2, 'puts': 2, 'clock': 2, 'wade_boggs:': 2, 'bubble': 2, 'atlanta': 2, \"homer's_brain:\": 2, 'baritone': 2, 'scrape': 2, 'thirteen': 2, 'sleeps': 2, 'suspicious': 2, 'smile:': 2, 'forehead': 2, 'expression': 2, 'satisfied': 2, 'meal': 2, 'quality': 2, 'falcons': 2, 'someday': 2, 'denser': 2, 'scare': 2, 'quotes': 2, 'doug:': 2, 'bread': 2, 'flying': 2, 'kidney': 2, 'vote': 2, 'pad': 2, 'rage': 2, 'punk': 2, 'candidate': 2, 'cleaner': 2, 'joined': 2, 'riding': 2, 'bird': 2, \"meanin'\": 2, 'familiar': 2, 'eventually': 2, 'reporter:': 2, 'built': 2, 'alfred': 2, 'dropped': 2, 'onions': 2, 'strategy': 2, 'bashir': 2, 'talked': 2, 'successful': 2, 'rules': 2, 'beam': 2, 'funds': 2, 'joining': 2, 'formico': 2, 'cake': 2, 'extremely': 2, 'seas': 2, 'tries': 2, 'deliberate': 2, 'd': 2, 'doreen:': 2, 'charm': 2, 'balls': 2, 'beneath': 2, 'yours': 2, 'solo': 2, 'tenor:': 2, 'pope': 2, 'kramer': 2, 'wang': 2, 'watered-down': 2, 'reliable': 2, 'regulars': 2, 'known': 2, 'professor': 2, \"children's\": 2, 'row': 2, 'germs': 2, 'thesaurus': 2, 'realize': 2, 'standards': 2, 'plywood': 2, 'vampires': 2, 'curious': 2, 'bible': 2, 'fighting': 2, 'penny': 2, 'mess': 2, 'neil_gaiman:': 2, 'firmly': 2, 'eyeball': 2, 'trapped': 2, 'sugar': 2, 'elephants': 2, 'sat': 2, 'yards': 2, 'patterns': 2, 'director': 2, 'cooler': 2, 'peanut': 2, 'princesses': 2, 'retired': 2, 'genius': 2, 'rolling': 2, \"what'sa\": 2, 'draw': 2, 'compared': 2, 'tax': 2, 'doreen': 2, 'stinks': 2, 'difficult': 2, 'snake-handler': 2, 'thru': 2, 'crying': 2, 'linda': 2, 'dials': 2, 'mmm': 2, 'carve': 2, 'pitch': 2, 'wangs': 2, '6': 2, 'handing': 2, 'poet': 2, 'needy': 2, 'stranger:': 2, 'oof': 2, 'winnings': 2, 'belt': 2, 'boxing_announcer:': 2, 'admiring': 2, 'deadly': 2, 'products': 2, 'gifts': 2, 'lights': 2, 'lib': 2, 'yourselves': 2, 'wins': 2, 'cozy': 2, \"bartender's\": 2, 'patient': 2, 'blown': 2, 'teams': 2, 'reach': 2, 'inspired': 2, 'politics': 2, 'informant': 2, 'effervescent': 2, 'emotional': 2, 'weary': 2, 'punches': 2, \"patrick's\": 2, 'cheery': 2, 'yell': 2, 'chum': 2, 'failed': 2, 'ways': 2, 'dreams': 2, 'lighting': 2, 'poem': 2, '100': 2, 'present': 2, 'sudden': 2, 'boozy': 2, 'vacuum': 2, 'roof': 2, 'plenty': 2, 'lenny:': 2, 'curds': 2, 'copy': 2, 'pirate': 2, 'detecting': 2, 'beating': 2, 'raise': 2, 'stern': 2, 'fausto': 2, 'troy': 2, 'managing': 2, 'sweetheart': 2, 'dessert': 2, 'aggravated': 2, 'intense': 2, 'dennis_kucinich:': 2, 'karaoke': 2, 'hail': 2, 'scooter': 2, 'ollie': 2, 'hobo': 2, 'nerve': 2, 'granted': 2, 'generous': 2, 'civic': 2, 'wash': 2, 'pouring': 2, 'hibbert': 2, 'forward': 2, 'charlie': 2, 'snap': 2, 'industry': 2, 'goods': 2, 'virtual': 2, 'website': 2, 'thought_bubble_homer:': 2, 'voice:': 2, 'tanked-up': 2, \"buffalo's\": 2, 'all-star': 2, 'torn': 2, 'busted': 2, 'positive': 2, 'sneaky': 2, 'angel': 2, \"drawin'\": 2, 'project': 2, 'soup': 2, \"payin'\": 2, 'laws': 2, 'honor': 2, 'calculate': 2, 'befouled': 2, 'trusted': 2, \"chewin'\": 2, 'authorized': 2, 'achem': 2, 'grab': 2, 'cowardly': 2, 'decent': 2, 'syrup': 2, \"waitin'\": 2, 'playful': 2, 'scary': 2, 'gosh': 2, \"dyin'\": 2, 'tofu': 2, 'decide': 2, 'nickels': 2, 'crew': 2, 'anarchy': 2, 'trench': 2, \"shan't\": 2, 'force': 2, 'bathroom': 2, 'written': 2, 'awesome': 2, 'finishing': 2, 'commission': 2, 'astronaut': 2, 'cheat': 2, 'ringing': 2, 'jets': 2, 'smoothly': 2, 'studio': 2, 'dungeon': 2, 'lock': 2, 'frosty': 2, 'tick': 2, 'mob': 2, 'admiration': 2, \"other's\": 2, 'friendship': 2, 'bourbon': 2, 'price': 2, \"takin'\": 2, 'arab_man:': 2, 'animals': 2, 'hats': 2, 'witty': 2, 'beep': 2, 'smurfs': 2, 'clinton': 2, 'confidence': 2, \"'topes\": 2, 'measurements': 2, 'bottles': 2, 'pigs': 2, 'smugglers': 2, \"bar's\": 2, 'correcting': 2, 'frog': 2, 'scully': 2, 'alphabet': 2, 'salt': 2, 'priest': 2, 'realized': 2, 'inspire': 2, 'irish': 2, 'dames': 2, 'maman': 2, 'safer': 2, \"it'd\": 2, 'pulling': 2, 'love-matic': 2, 'deserve': 2, 'alfalfa': 2, 'brow': 2, 'neat': 2, 'conditioner': 2, 'patty': 2, 'warily': 2, 'beats': 2, 'maya': 2, 'tester': 2, 'tabooger': 2, 'boneheaded': 2, 'fuss': 2, 'gums': 2, 'zero': 2, 'feast': 2, 'bear': 2, 'bully': 2, 'complaining': 2, 'bartending': 2, 'caused': 2, 'chilly': 2, 'carlson': 2, 'drank': 2, 'corkscrew': 2, 'morlocks': 2, 'murmur': 2, 'color': 2, 'queer': 2, 'pin': 2, 'pointless': 2, 'cent': 2, 'joking': 2, 'weirded-out': 2, 'ye': 2, 'percent': 2, 'advance': 2, 'prefer': 2, 'amount': 2, 'prize': 2, 'dearest': 2, 'cowboys': 2, 'sympathetic': 2, 'jumps': 2, 'bums': 2, 'spread': 2, 'hop': 2, 'prepared': 2, 'seemed': 2, 'prove': 2, 'lazy': 2, 'tang': 2, 'lloyd': 2, 'fondly': 2, 'slight': 2, 'mcbain': 2, 'begins': 2, 'judge': 2, 'tv_announcer:': 2, 'dreamed': 2, 'awed': 2, \"maggie's\": 2, 'agent_johnson:': 2, 'smallest': 2, 'suds': 2, 'christopher': 2, 'cars': 2, 'complaint': 2, 'ripcord': 2, 'mention': 2, 'krabappel': 2, 'whistles': 2, 'carll': 2, 'ha-ha': 2, 'sinister': 2, 'rock': 2, 'degradation': 2, 'organ': 2, 'regret': 2, 'brave': 2, 'nigeria': 2, 'chase': 2, 'tommy': 2, 'hunting': 2, 'remembered': 2, 'koi': 2, 'jailbird': 2, 'fox_mulder:': 2, '250': 2, 'broom': 2, 'passion': 2, \"hangin'\": 2, 'gum': 2, 'combine': 2, 'based': 2, 'manjula': 2, 'shaggy': 2, 'magazine': 2, 'code': 2, 'weirder': 2, 'dress': 2, 'taps': 2, 'hotline': 2, 'young_moe:': 2, 'naturally': 2, 'lush': 2, 'aged_moe:': 2, 'contest': 2, 'marmaduke': 2, 'action': 2, 'entirely': 2, 'laney_fontaine:': 2, \"ladies'\": 2, 'rule': 2, 'worth': 2, 'monkey': 2, 'corporate': 2, 'ginger': 2, 'easier': 2, 'planet': 2, 'flag': 2, 'promised': 2, 'refresh': 2, 'page': 2, 'vacation': 2, 'abandon': 2, 'seats': 2, 'wake': 2, 'darkest': 2, 'express': 2, 'lurleen_lumpkin:': 2, 'sec_agent_#2:': 2, 'vodka': 2, 'surprise': 2, 'wolfe': 2, 'i-i-i': 2, 'lover': 2, 'inspiring': 2, 'juice': 2, 'skin': 2, 'roses': 2, 'teenage_homer:': 2, 'lowering': 2, 'wondering': 2, 'spy': 2, 'loss': 2, 'appealing': 2, 'prohibit': 2, 'payments': 2, 'boyfriend': 2, 'sometimes': 2, 'remembering': 2, 'willy': 2, 'bartenders': 2, '1895': 2, 'closes': 2, 'cueball': 2, \"team's\": 2, 'mop': 2, 'although': 2, 'umm': 2, 't-shirt': 2, 'wings': 2, 'belong': 2, 'bedbugs': 2, 'release': 2, 'rainier_wolfcastle:': 2, 'disgrace': 2, \"crawlin'\": 2, \"'im\": 2, 'borrow': 2, 'agree': 2, 'bride': 2, 'bastard': 2, 'asking': 2, 'joey_kramer:': 2, 'jerry': 2, 'margarita': 2, 'manage': 2, 'painting': 2, 'reasonable': 2, 'palm': 2, 'floated': 2, 'appear': 2, 'prison': 2, 'shakespeare': 2, 'held': 2, 'important': 2, 'helllp': 2, 'whether': 2, 'padre': 2, 'drawing': 2, 'babe': 2, 'harder': 2, \"marge's\": 2, \"hadn't\": 2, 'dan': 2, 'brassiest': 2, 'kicked': 2, 'miles': 2, 'putting': 2, 'naked': 2, 'creeps': 2, 'candy': 2, 'catching': 2, 'jockey': 2, 'so-called': 2, 'neighbor': 2, 'andalay': 2, 'cotton': 2, \"others'\": 2, 'cat': 2, 'fanciest': 2, 'greetings': 2, 'jeff': 2, 'santa': 2, 'haw': 2, 'level': 2, 'disapproving': 2, 'spent': 2, 'skeptical': 2, 'barf': 2, 'grave': 2, 'sale': 2, 'groveling': 1, 'notably': 1, 'hippies': 1, 'make:': 1, 'espn': 1, 'sweat': 1, 'issues': 1, 'predecessor': 1, 'crappy': 1, 'sampler': 1, 'weather': 1, 'germans': 1, 'knit': 1, 'referee': 1, 'squeezed': 1, 'kitchen': 1, 'rain': 1, 'hollowed-out': 1, 'wraps': 1, 'sagely': 1, 'confession': 1, 'stripes': 1, 'demand': 1, 'liable': 1, 'cure': 1, 'xx': 1, \"somethin's\": 1, 'gestated': 1, 'according': 1, 'rewound': 1, 'shred': 1, 'scrutinizing': 1, \"table's\": 1, 'drollery': 1, 'souvenir': 1, 'society': 1, 'sweetest': 1, 'fatso': 1, 'homeless': 1, 'stab': 1, 'tv_daughter:': 1, 'splash': 1, 'cockroach': 1, 'mines': 1, 'cosmetics': 1, \"queen's\": 1, 'driveability': 1, 'law-abiding': 1, 'presto:': 1, 'remembers': 1, 'earth': 1, 'error': 1, 'shopping': 1, 'technical': 1, 'heaving': 1, 'two-thirds-empty': 1, 'meyerhof': 1, 'uses': 1, 'smiles': 1, 'pair': 1, 'snotty': 1, 'hockey-fight': 1, 'author': 1, 'micronesian': 1, 'wazoo': 1, \"tv's\": 1, 'contented': 1, 'blamed': 1, \"high-falutin'\": 1, 'sorts': 1, 'absolut': 1, 'period': 1, 'alpha-crow': 1, 'dingy': 1, 'wolfcastle': 1, 'bites': 1, 'raging': 1, 'compels': 1, \"scammin'\": 1, 'notice': 1, 'schabadoo': 1, 'entering': 1, 'mild': 1, 'tummies': 1, 'drag': 1, 'mailbox': 1, 'half-back': 1, 'depressant': 1, 'jerk-ass': 1, \"fans'll\": 1, 'cletus_spuckler:': 1, 'mansions': 1, 'endorsement': 1, 'wolverines': 1, 'windowshade': 1, \"england's\": 1, 'chubby': 1, 'rusty': 1, 'thousand-year': 1, 'versus': 1, 'smelly': 1, 'hillary': 1, 'oughta': 1, 'starving': 1, 'terrifying': 1, \"renee's\": 1, 'disappear': 1, 'valuable': 1, 'homeland': 1, 'mmm-hmm': 1, 'sloppy': 1, 'winner': 1, 'madison': 1, 'temples': 1, 'othello': 1, 'wowww': 1, 'month': 1, 'masks': 1, 'scornful': 1, 'fiiiiile': 1, \"this'll\": 1, 'wheeeee': 1, 'weapon': 1, 'murdoch': 1, 'polygon': 1, 'item': 1, 'beings': 1, 'in-ground': 1, 'barkeeps': 1, 'specializes': 1, 'advertising': 1, 'bail': 1, 'griffith': 1, 'nonchalantly': 1, 'court': 1, 'hollye': 1, 'lighter': 1, \"tv'll\": 1, 'tigers': 1, 'para': 1, 'pudgy': 1, 'grub': 1, 'amnesia': 1, 'ehhhhhh': 1, 'faulkner': 1, 'night-crawlers': 1, 'michael': 1, 'bobo': 1, 'site': 1, 'wars': 1, 'sobo': 1, 'tragedy': 1, 'john': 1, 'allow': 1, 'brotherhood': 1, 'fist': 1, 'flack': 1, 'brace': 1, 'kemi': 1, 'intriguing': 1, 'peter_buck:': 1, 'exquisite': 1, 'dressing': 1, 'unjustly': 1, 'plaintive': 1, 'paramedic:': 1, 'perch': 1, 'menlo': 1, 'stamp': 1, 'mini-beret': 1, 'unsourced': 1, 'mobile': 1, 'newsweek': 1, 'legally': 1, 'dana_scully:': 1, 'whoa-ho': 1, 'combines': 1, 'contemptuous': 1, 'f-l-a-n-r-d-s': 1, 'fluoroscope': 1, 'p-k': 1, 'happens': 1, 'surgeonnn': 1, 'caper': 1, 'malibu': 1, 'mice': 1, 'acceptance': 1, 'universe': 1, 'softer': 1, 'index': 1, 'alternative': 1, 'fuzzlepitch': 1, '7g': 1, \"smokin'\": 1, 'whatsit': 1, 'wh': 1, 'coy': 1, 'sniffing': 1, 'confidentially': 1, 'aims': 1, 'hottest': 1, 'hilton': 1, 'crab': 1, 'mid-seventies': 1, 'hardhat': 1, 'blaze': 1, 'occurred': 1, 'problemo': 1, 'spirit': 1, 'dark': 1, 'genuinely': 1, 'vicious': 1, 'squeals': 1, 'mickey': 1, 'forced': 1, 'wagering': 1, 'yoink': 1, 'full-time': 1, 'derek': 1, 'pernt': 1, 'county': 1, 'babar': 1, 'loboto-moth': 1, 'phase': 1, 'chin': 1, 'fuhgetaboutit': 1, 'tanking': 1, 'hearts': 1, 'heartily': 1, 'employment': 1, 'ebullient': 1, 'dazed': 1, 'traitors': 1, 'fiction': 1, \"soakin's\": 1, 'sponge': 1, 'polenta': 1, 'noose': 1, 'clothespins:': 1, 'louisiana': 1, 'rumor': 1, 'intoxicated': 1, 'sesame': 1, 'massive': 1, 'arimasen': 1, 'bowled': 1, 'doll-baby': 1, 'whatchamacallit': 1, 'raggie': 1, 'hears': 1, 'heck': 1, 'wednesday': 1, \"stabbin'\": 1, 'flea:': 1, 'bubbles-in-my-nose-y': 1, 'kl5-4796': 1, 'barter': 1, 'shades': 1, 'addiction': 1, 'wrestle': 1, 'waist': 1, 'figures': 1, 'wistful': 1, 'explanation': 1, 'england': 1, 'donated': 1, 'dum-dum': 1, 'serum': 1, 'absentminded': 1, 'chunky': 1, \"mo'\": 1, 'alva': 1, 'abolish': 1, 'knuckles': 1, 'build': 1, 'stretches': 1, 'digging': 1, 'noggin': 1, 'whirlybird': 1, 'cushions': 1, 'eco-fraud': 1, 'sidekick': 1, 'guzzles': 1, 'cheered': 1, 'voyager': 1, 'links': 1, 'priority': 1, 'freed': 1, 'omit': 1, 'lease': 1, 'maintenance': 1, 'brine': 1, 'muertos': 1, 'hemoglobin': 1, 'tender': 1, 'aisle': 1, 'disco_stu:': 1, 'crimes': 1, 'dammit': 1, 'wears': 1, 'gotcha': 1, 'refinanced': 1, 'kisses': 1, 'ron': 1, 'puke-holes': 1, 'wife-swapping': 1, 'jerking': 1, 'race': 1, 'signal': 1, 'saga': 1, \"ball's\": 1, 'shaky': 1, \"lefty's\": 1, 'atari': 1, 'dashes': 1, 'americans': 1, 'lennyy': 1, 'amiable': 1, 'charlie:': 1, 'dracula': 1, 'inherent': 1, 'arm-pittish': 1, 'aah': 1, 'necklace': 1, 'fantasy': 1, 'smokes': 1, 'cutest': 1, 'glowers': 1, 'appreciate': 1, 'taste': 1, 'bulldozing': 1, \"snappin'\": 1, 'panties': 1, 'moving': 1, 'remote': 1, 'disgracefully': 1, 'bide': 1, 'bloodball': 1, 'canoodling': 1, 'rainier': 1, 'carny:': 1, 'sloe': 1, \"industry's\": 1, 'kahlua': 1, 'unintelligent': 1, 'maximum': 1, 'streetlights': 1, 'liven': 1, 'catholic': 1, 'bury': 1, 'fourteen:': 1, 'clapping': 1, 'whistling': 1, 'cheaper': 1, 'self-satisfied': 1, 'toe': 1, \"who'da\": 1, 'bill_james:': 1, 'illegally': 1, 'flash-fry': 1, 'high-definition': 1, 'windelle': 1, 'swine': 1, 'including': 1, 'supermarket': 1, 'test-': 1, 'event': 1, 'helpful': 1, 'cell': 1, 'vacations': 1, 'schemes': 1, 'apulina': 1, \"pressure's\": 1, 'eww': 1, 'clown-like': 1, 'grope': 1, 'heatherton': 1, 'premise': 1, 'shill': 1, 'waitress': 1, 'ruled': 1, 'sponsoring': 1, 'roach': 1, 'relaxing': 1, 'pretends': 1, 'vehicle': 1, 'hose': 1, 'dealer': 1, 'fantastic': 1, 'farewell': 1, 'shipment': 1, 'anxious': 1, 'tenuous': 1, 'goo': 1, 'moe-near-now': 1, 'student': 1, 'thirty-five': 1, 'bronco': 1, 'provide': 1, 'racially-diverse': 1, 'benjamin': 1, 'aziz': 1, 'saget': 1, 'supports': 1, 'moon': 1, 'patented': 1, 'naively': 1, 'wally': 1, 'compare': 1, 'rods': 1, 'jumping': 1, 'samples': 1, 'orifice': 1, 'stirrers': 1, 'papa': 1, 'rascals': 1, 'pushes': 1, 'proposition': 1, 'expose': 1, 'exhale': 1, 'steampunk': 1, 'speed': 1, 'tha': 1, 'rugged': 1, 'low-life': 1, 'bleacher': 1, 'meaningless': 1, 'pink': 1, 'kissed': 1, 'a-lug': 1, 'certificate': 1, 'clips': 1, 'korea': 1, 'bulked': 1, 'telegraph': 1, 'activity': 1, 'bras': 1, 'delts': 1, 'presumir': 1, \"'s\": 1, 'underwear': 1, 'microphone': 1, 'cecil_terwilliger:': 1, 'chub': 1, 'williams': 1, 'lead': 1, 'gutenberg': 1, 'quimby': 1, 'accidents': 1, \"coaster's\": 1, 'raking': 1, 'hostile': 1, 'caveman': 1, 'thnord': 1, 'officer': 1, 'chew': 1, 'jane': 1, 'lime': 1, 'bushes': 1, 'horribilis': 1, 'ladder': 1, 'easy-going': 1, 'acronyms': 1, 'hateful': 1, 'adult': 1, 'nervously': 1, 'friday': 1, 'alter': 1, 'apart': 1, 'one-hour': 1, 'transmission': 1, 'streetcorner': 1, 'medieval': 1, 'sumatran': 1, 'begin': 1, 'online': 1, 'protestantism': 1, 'grants': 1, 'painted': 1, 'outlive': 1, 'experience': 1, 'creature': 1, \"wait'll\": 1, 'vestigial': 1, 'co-sign': 1, 'chosen': 1, 'kentucky': 1, 'lumpa': 1, 'uhhhh': 1, \"when's\": 1, 'spreads': 1, 'slogan': 1, 'feminine': 1, 'jernt': 1, 'piano': 1, 'kisser': 1, 'temple': 1, 'perfunctory': 1, 'humiliation': 1, 'presents': 1, 'dreamy': 1, \"beggin'\": 1, 'femininity': 1, 'quimbys:': 1, 'sinkhole': 1, 'lenses': 1, \"president's\": 1, 'booger': 1, 'furry': 1, 'crestfallen': 1, 'rat-like': 1, 'mugs': 1, 'majority': 1, 'mags': 1, 'gesture': 1, 'forget-me-drinks': 1, 'ireland': 1, 'trivia': 1, 'slim': 1, 'sweden': 1, 'drummer': 1, 'scornfully': 1, 'common': 1, 'fires': 1, 'cock': 1, 'blurbs': 1, 'carney': 1, 'burglary': 1, 'host': 1, 'fink': 1, 'chain': 1, 'effervescence': 1, 'jasper_beardly:': 1, 'caricature': 1, 'hugh': 1, 'listens': 1, 'parenting': 1, 'quebec': 1, 'vermont': 1, 'buds': 1, 'syndicate': 1, 'brandy': 1, 'charged': 1, 'renew': 1, \"'ere\": 1, 'beer-dorf': 1, 'traditions': 1, 'enthused': 1, 'melodramatic': 1, 'wienerschnitzel': 1, 'multi-purpose': 1, 'living': 1, 'oh-ho': 1, 'teriyaki': 1, 'lawyer': 1, 'talkers': 1, 'offensive': 1, '14': 1, 'junkyard': 1, 'triangle': 1, 'prep': 1, 'gambler': 1, 'mac-who': 1, \"yesterday's\": 1, 'sponge:': 1, 'file': 1, 'faceful': 1, 'abusive': 1, \"nick's\": 1, 'mole': 1, 'load': 1, 'blows': 1, 'musta': 1, 'adequate': 1, 'inning': 1, \"breakin'\": 1, 'decide:': 1, 'hootie': 1, 'ballclub': 1, 'begging': 1, 'cologne': 1, 'sickened': 1, 'hubub': 1, 'incredible': 1, 'vengeance': 1, 'layer': 1, 'attracted': 1, 'starla:': 1, 'score': 1, 'brings': 1, 'penmanship': 1, 'progress': 1, 'occurrence': 1, 'sweetie': 1, 'fl': 1, 'blob': 1, 'head-gunk': 1, 'committee': 1, 'shutup': 1, 'janette': 1, '_burns_heads:': 1, 'i/you': 1, 'mexicans': 1, 'wakede': 1, 'wiggle': 1, 'nightmare': 1, \"leavin'\": 1, 'minors': 1, 'sustain': 1, 'sap': 1, 'düffenbraus': 1, 'quarterback': 1, 'lorre': 1, \"grandmother's\": 1, 'insured': 1, 'perfume': 1, 'shelbyville': 1, 'fortensky': 1, 'everywhere': 1, 'ehhhhhhhh': 1, 'visas': 1, 'strangles': 1, 'thrilled': 1, 'chill': 1, 'dropping': 1, 'suspenders': 1, 'excuses': 1, 'happiness': 1, 'einstein': 1, 'priceless': 1, 'exploiter': 1, 'hispanic_crowd:': 1, 'prints': 1, 'valley': 1, 'cab': 1, 'characteristic': 1, 'robin': 1, 'mid-conversation': 1, 'norway': 1, 'jam': 1, 'anderson': 1, 'locked': 1, 'idioms': 1, 'guts': 1, 'parasol': 1, 'whup': 1, 'luxury': 1, 'wildest': 1, 'life-sized': 1, 'engine': 1, 'paper': 1, 'rome': 1, '1-800-555-hugs': 1, '10:15': 1, 'dea-d-d-dead': 1, 'tolerance': 1, 'apology': 1, 'dentist': 1, 'ninety-seven': 1, 'limber': 1, 'chateau': 1, 'jay': 1, 'carnival': 1, 'spoon': 1, 'causes': 1, 'crinkly': 1, 'assassination': 1, \"o'reilly\": 1, 'stagey': 1, 're-al': 1, 'ze-ro': 1, 'pointy': 1, 'view': 1, 'dumpster': 1, 'womb': 1, 'pictured': 1, 'thorn': 1, 'stooges': 1, 'society_matron:': 1, 'prejudice': 1, 'fighter': 1, 'ditched': 1, 'pushing': 1, 'cozies': 1, 'sneering': 1, 'mortal': 1, 'nameless': 1, 'meals': 1, 'asses': 1, 'flames': 1, 'oughtta': 1, 'practically': 1, 'winks': 1, 'thorough': 1, \"friend's\": 1, \"knockin'\": 1, 'tying': 1, \"larry's\": 1, 'perfected': 1, 'forbids': 1, 'extinguishers': 1, 'cushion': 1, 'presidents': 1, 'blubberino': 1, 'taunting': 1, 'appeals': 1, 'picnic': 1, 'nursemaid': 1, 'dishrag': 1, 'rig': 1, 'craft': 1, 'tuna': 1, 'vin': 1, 'panicked': 1, 'hunky': 1, 'scientific': 1, 'frazier': 1, 'affection': 1, 'neighborhood': 1, 'switched': 1, 'stretch': 1, 'sam:': 1, 'startup': 1, 'wobble': 1, 'safely': 1, 'tyson/secretariat': 1, 'outstanding': 1, 'appearance-altering': 1, 'golden': 1, 'leno': 1, 'domed': 1, 'suave': 1, 'slugger': 1, \"secret's\": 1, 'sanitary': 1, 'woe:': 1, \"changin'\": 1, 'newsies': 1, 'determined': 1, 'rekindle': 1, 'democrats': 1, 'ancestors': 1, 'spender': 1, 'sixteen': 1, 'reluctant': 1, \"getting'\": 1, 'extreme': 1, 'birth': 1, 'rector': 1, 'wholeheartedly': 1, 'funniest': 1, 'morning-after': 1, 'bloodiest': 1, 'factor': 1, 'paints': 1, 'wiping': 1, 'device': 1, 'portfolium': 1, 'beaumarchais': 1, 'hotenhoffer': 1, 'nooo': 1, \"depressin'\": 1, 'linda_ronstadt:': 1, 'klown': 1, 'orphan': 1, 'automobiles': 1, 'inanely': 1, 'richard:': 1, 'correction': 1, 'vigilante': 1, 'youth': 1, 'reopen': 1, 'rented': 1, 'executive': 1, 'show-off': 1, 'drains': 1, 'dna': 1, 'richer': 1, 'life-threatening': 1, \"battin'\": 1, 'ahhhh': 1, 'stops': 1, 'snotball': 1, 'closet': 1, 'sympathy': 1, 'miracle': 1, 'adopted': 1, 'smoker': 1, 'gear-head': 1, 'bullet-proof': 1, 'western': 1, 'selfish': 1, \"handwriting's\": 1, 'frankie': 1, 'excavating': 1, 'believer': 1, 'remorseful': 1, '$42': 1, 'neighbors': 1, 'desire': 1, 'hare-brained': 1, 'winch': 1, 'sticking': 1, 'population': 1, \"people's\": 1, 'ceremony': 1, 'pawed': 1, 'beligerent': 1, 'coin': 1, 'choice:': 1, 'bumbling': 1, 'kills': 1, 'gus': 1, 'encores': 1, \"man'd\": 1, 'sang': 1, 'offa': 1, 'frightened': 1, 'wishful': 1, 'taught': 1, 'newspaper': 1, 'prince': 1, 'ingested': 1, 'villanova': 1, 'shaker': 1, 'art': 1, 'calvin': 1, 'appendectomy': 1, 'carb': 1, 'lame': 1, 'sacrilicious': 1, 'grey': 1, 'crony': 1, 'gasoline': 1, 'dregs': 1, 'strips': 1, 'newly-published': 1, 'cases': 1, 'polishing': 1, 'sieben-gruben': 1, 'getup': 1, 'quitcher': 1, 'flynt': 1, 'undermine': 1, 'len-ny': 1, 'detail': 1, 'good-looking': 1, 'karaoke_machine:': 1, \"g'ahead\": 1, 'press': 1, 'pepsi': 1, 'afterglow': 1, 'die-hard': 1, 'sagacity': 1, 'gregor': 1, 'kicks': 1, 'witches': 1, 'edna-lover-one-seventy-two': 1, 'depression': 1, 'escort': 1, 'non-american': 1, 'extract': 1, 'dictator': 1, 'gossipy': 1, 'officials': 1, 'jackson': 1, 'squirrel': 1, 'gardens': 1, 'plucked': 1, 'affects': 1, 'saucy': 1, 'highball': 1, 'ointment': 1, 'dumbbell': 1, 'praise': 1, 'compressions': 1, 'drift': 1, \"tramp's\": 1, 'coughs': 1, 'lighten': 1, 'k-zug': 1, 'fit': 1, 'swings': 1, \"i-i'll\": 1, '-ry': 1, 'yew': 1, 'most:': 1, 'potatoes': 1, 'platinum': 1, 'glyco-load': 1, 'loyal': 1, 'huhza': 1, 'overturned': 1, \"costume's\": 1, 'conditioning': 1, 'monday': 1, 'flexible': 1, 'alien': 1, 'splendid': 1, 'clubs': 1, 'floating': 1, 'drinking:': 1, 'disguised': 1, 'pack': 1, 'jig': 1, 'emergency': 1, 'eyeballs': 1, 'guilt': 1, 'eminence': 1, 'cleveland': 1, 'phlegm': 1, 'evasive': 1, 'slick': 1, 'tsking': 1, 'pile': 1, 'advertise': 1, 'playhouse': 1, 'onion': 1, 'roller': 1, 'repressed': 1, 'reactions': 1, 'planted': 1, 'totalitarians': 1, 'kidnaps': 1, 'contractors': 1, 'surprising': 1, 'handshake': 1, 'cheaped': 1, 'smitty:': 1, 'malfeasance': 1, 'andrew': 1, 'disturbing': 1, 'diddilies': 1, 'lady-free': 1, 'term': 1, 'slender': 1, 'shtick': 1, 'peeping': 1, 'falsetto': 1, 'lemonade': 1, 'thirty-three': 1, 'wealthy': 1, 'sneeze': 1, 'bartholomé:': 1, 'various': 1, 'rasputin': 1, \"cleanin'\": 1, 'renovations': 1, 'sperm': 1, 'sniper': 1, 'gruesome': 1, 'jovial': 1, 'all-all-all': 1, 'squashing': 1, 'hibachi': 1, \"drexel's\": 1, 'total': 1, 'brawled': 1, 'incarcerated': 1, 'thirsty': 1, \"brady's\": 1, 'ivanna': 1, 'spotting': 1, 'perverse': 1, 'trash': 1, 'starla': 1, 'contact': 1, 'youuu': 1, 'demo': 1, 'mint': 1, 'football': 1, 'robot': 1, \"tony's\": 1, 'guinea': 1, 'damned': 1, 'besides': 1, 'politician': 1, 'mouths': 1, 'chuck': 1, \"city's\": 1, 'howya': 1, 'string': 1, \"santa's\": 1, 'pugilist': 1, 'slaves': 1, 'dinks': 1, 'beards': 1, 'perking': 1, 'led': 1, 'loathe': 1, 'straighten': 1, 'wild': 1, \"sat's\": 1, 'pee': 1, 'crowned': 1, 'scrutinizes': 1, 'flame': 1, 'childless': 1, 'contemplates': 1, 'christian': 1, 'pro': 1, 'backing': 1, 'aboard': 1, 'cheerleaders:': 1, 'unsanitary': 1, 'repairman': 1, 'j': 1, 'privacy': 1, 'bell': 1, 'heh-heh': 1, 'accepting': 1, 'anti-lock': 1, 'william': 1, 'gheet': 1, 'iddilies': 1, 'aristotle:': 1, 'impending': 1, 'peppers': 1, 'ultimate': 1, 'delicate': 1, 'exciting': 1, 'rueful': 1, 'irs': 1, 'squeeze': 1, 'furiously': 1, 'preparation': 1, 'halvsies': 1, 'created': 1, 'dory': 1, 'delightful': 1, 'thrown': 1, \"elmo's\": 1, 'worthless': 1, 'languages': 1, 'whoever': 1, 'frozen': 1, 'and-and': 1, 'collateral': 1, 'sing-song': 1, 'pen': 1, 'competitive': 1, 'reading:': 1, 'jaegermeister': 1, \"starla's\": 1, 'ding-a-ding-ding-ding-ding-ding-ding': 1, 'lists': 1, 'fifth': 1, 'sister-in-law': 1, 'swig': 1, \"spiffin'\": 1, 'coma': 1, 'eliminate': 1, 'intimacy': 1, 'generosity': 1, 'pursue': 1, 'negative': 1, 'lindsay': 1, 'stalking': 1, 'updated': 1, 'looooooooooooooooooong': 1, 'shoes': 1, 'full-bodied': 1, 'shame': 1, 'ninth': 1, 'doy': 1, 'stalwart': 1, 'nelson_muntz:': 1, 'inquiries': 1, 'dull': 1, 'menacing': 1, 'recipe': 1, 'trucks': 1, 'missing': 1, 'nightmares': 1, 'throats': 1, 'yourse': 1, 'pas': 1, 'refreshingness': 1, 'decadent': 1, 'stamps': 1, 'associate': 1, 'ugh': 1, 'consulting': 1, 'clap': 1, 'honeys': 1, 'shorter': 1, 'fury': 1, 'recorded': 1, 'patrons:': 1, 'mater': 1, 'chinese_restaurateur:': 1, 'virile': 1, 'hearing': 1, 'insulin': 1, 'eye-gouger': 1, 'astrid': 1, 'habit': 1, 'disposal': 1, 'kings': 1, 'gluten': 1, 'swamp': 1, 'spellbinding': 1, 'slit': 1, 'refiero': 1, \"blowin'\": 1, \"clancy's\": 1, 'bid': 1, 'lovers': 1, 'transfer': 1, 'moe-clone': 1, 'inserts': 1, 'reciting': 1, \"poisonin'\": 1, 'parrot': 1, 'geyser': 1, 'bono:': 1, \"mecca's\": 1, 'swatch': 1, 'cell-ee': 1, 'stones': 1, 'flown': 1, 'rubs': 1, 'trees': 1, 'stupidest': 1, 'boned': 1, 'repeated': 1, 'alcoholism': 1, 'lovejoy': 1, \"collector's\": 1, 'anthony_kiedis:': 1, 'wrapped': 1, 'examples': 1, 'sturdy': 1, 'muslim': 1, 'ribbon': 1, 'increased': 1, 'squabbled': 1, 'fountain': 1, 'tremendous': 1, 'happily:': 1, 'uncreeped-out': 1, 'hmmmm': 1, 'dumptruck': 1, 'putty': 1, 'fledgling': 1, 'whoops': 1, 'pre-recorded': 1, 'iranian': 1, 'blinded': 1, 'treehouse': 1, 'vampire': 1, '50-60': 1, 'assumed': 1, 'jury': 1, \"rustlin'\": 1, 'sobriety': 1, 'huddle': 1, 'propose': 1, 'cruiser': 1, 'warranty': 1, 'rom': 1, 'federal': 1, 'weight': 1, 'wieners': 1, 'forty-seven': 1, 'ruuuule': 1, 'op': 1, 'unusually': 1, 'toy': 1, 'notch': 1, 'generally': 1, 'cheryl': 1, 'ineffective': 1, '8': 1, 'whoopi': 1, 'revenge': 1, 'mither': 1, 'rubbed': 1, 'stars': 1, 'sooo': 1, 'fastest': 1, 'verticality': 1, 'trainers': 1, 'inexorable': 1, 'conspiracy': 1, 'applicant': 1, 'sequel': 1, \"linin'\": 1, 'harmony': 1, 'my-y-y-y-y-y': 1, 'dutch': 1, 'personal': 1, 'heartless': 1, 'wok': 1, 'swan': 1, '1979': 1, 'taylor': 1, 'committing': 1, 'cause': 1, 'jackass': 1, 'ambrose': 1, 'buzz': 1, 'militia': 1, 'perón': 1, 'commit': 1, 'attraction': 1, 'tall': 1, 'chunk': 1, 'cannoli': 1, 'nuked': 1, 'mayan': 1, 'connection': 1, 'rafter': 1, 'certified': 1, 'choices': 1, 'goldarnit': 1, 'effect': 1, 'swooning': 1, 'sucker': 1, 'macho': 1, 'half-beer': 1, 'lovelorn': 1, 'glamour': 1, 'partially': 1, 'swallowed': 1, 'lurks': 1, 'soir': 1, 'kenny': 1, 'captain:': 1, 'peaked': 1, 'hub': 1, \"narratin'\": 1, 'what-for': 1, 'cranberry': 1, 'shoulders': 1, 'congratulations': 1, 'generously': 1, 'miss_lois_pennycandy:': 1, 'feedbag': 1, 'donor': 1, 'businessman_#2:': 1, 'vincent': 1, 'nbc': 1, 'right-handed': 1, 'angrily': 1, 'completely': 1, 'woulda': 1, 'ignorant': 1, \"tap-pullin'\": 1, 'world-class': 1, 'agents': 1, 'declared': 1, 'wizard': 1, 'firm': 1, 'courts': 1, \"hobo's\": 1, 'thoughtless': 1, 'catty': 1, 'chumbawamba': 1, 'rice': 1, 'supply': 1, 'onassis': 1, 'stagehand:': 1, 'donation': 1, 'poulet': 1, 'gulliver_dark:': 1, 'meanwhile': 1, 'urge': 1, 'spilled': 1, 'booth': 1, 'batmobile': 1, \"pullin'\": 1, 'phasing': 1, 'showered': 1, 'anger': 1, 'forgotten': 1, 'stein-stengel-': 1, 'runt': 1, 'elizabeth': 1, 'feminist': 1, 'ford': 1, 'truck_driver:': 1, 'inserted': 1, 'awkwardly': 1, 'dies': 1, 'ronstadt': 1, 'pretend': 1, 'literary': 1, 'worldly': 1, 'picked': 1, 'sees/': 1, 'consciousness': 1, 'stolen': 1, 'unattended': 1, 'ratted': 1, 'bachelorhood': 1, \"tomorrow's\": 1, \"'evening\": 1, 'mitts': 1, 'tickets': 1, 'cesss': 1, 'uniforms': 1, 'popped': 1, 'quimby_#2:': 1, 'be-stainèd': 1, 'richard': 1, 'jigger': 1, 'haplessly': 1, 'meaningfully': 1, 'oooo': 1, 'politicians': 1, 'cuddling': 1, 'encouraging': 1, 'pall': 1, 'lodge': 1, 'pizza': 1, 'moe-heads': 1, 'eternity': 1, 'approval': 1, 'zeal': 1, 'monorails': 1, 'fondest': 1, 'bust': 1, \"wearin'\": 1, \"ma's\": 1, 'orders': 1, 'wigs': 1, 'tracks': 1, 'beard': 1, 'innocence': 1, 'delivery_man:': 1, 'germany': 1, 'unhook': 1, \"now's\": 1, 'darn': 1, 'nauseous': 1, 'pantry': 1, 'leonard': 1, 'gentles': 1, 'laney': 1, 'bulletin': 1, 'snackie': 1, \"somebody's\": 1, 'dint': 1, 'bad-mouth': 1, 'unsafe': 1, 'landlord': 1, 'stumble': 1, 'soaking': 1, \"'now\": 1, \"squeezin'\": 1, 'hate-hugs': 1, 'gees': 1, 'heroism': 1, 'moe-lennium': 1, 'bon': 1, 'cheapskates': 1, 'here-here-here': 1, 'unexplained': 1, 'steamed': 1, \"rentin'\": 1, 'the_edge:': 1, 'talkative': 1, 'taxes': 1, 'ugliness': 1, 'insurance': 1, 'dateline': 1, 'senators:': 1, 'partners': 1, 'ralphie': 1, 'bragging': 1, \"swishifyin'\": 1, 'squadron': 1, 'spite': 1, 'disgraceful': 1, 'bluff': 1, 'otherwise': 1, 'beaumont': 1, 'wad': 1, 'knowledge': 1, \"challengin'\": 1, 'apron': 1, 'ninety-nine': 1, 'amber': 1, 'poin-dexterous': 1, 'blobbo': 1, 'lincoln': 1, 'yellow-belly': 1, 'muscle': 1, 'derisive': 1, \"c'mom\": 1, 'dealie': 1, 'mexican': 1, 'son-of-a': 1, 'beyond': 1, 'gel': 1, 'duff_announcer:': 1, 'pinchpenny': 1, 'sideshow': 1, 'faiths': 1, 'scanning': 1, 'shifty': 1, 'bowie': 1, 'mustard': 1, \"kid's\": 1, 'possessions': 1, 'leftover': 1, 'combination': 1, 'noosey': 1, 'sacrifice': 1, 'exclusive:': 1, 'we-we-we': 1, 'agh': 1, 'erasers': 1, \"thing's\": 1, 'conversion': 1, 'passes': 1, 'badmouths': 1, 'deny': 1, 'terrorizing': 1, 'sudoku': 1, 'fumigated': 1, 'peeved': 1, 'oh-so-sophisticated': 1, 'kegs': 1, 'killer': 1, 'absentmindedly': 1, 'heave-ho': 1, 'crushed': 1, 'hitchhike': 1, 'flustered': 1, 'blowfish': 1, 'frescas': 1, 'dice': 1, \"she'd\": 1, 'nerd': 1, 'email': 1, 'pizzicato': 1, 'bleeding': 1, 'innocuous': 1, 'accusing': 1, 'ivory': 1, 'kidneys': 1, 'scarf': 1, 'astonishment': 1, 'handoff': 1, 'sales': 1, 'anonymous': 1, 'comment': 1, 'jazz': 1, 'flayvin': 1, 'julienne': 1, 'butter': 1, 'savagely': 1, 'answered': 1, \"stallin'\": 1, 'jams': 1, 'nahasapeemapetilon': 1, 'pillows': 1, 'jewelry': 1, 'twenty-nine': 1, 'disappointment': 1, 'maiden': 1, 'shark': 1, 'de': 1, 'amends': 1, 'obese': 1, 'stu': 1, 'spits': 1, 'sat-is-fac-tion': 1, 'rhode': 1, 'lifts': 1, 'cyrano': 1, 'badly': 1, 'freely': 1, \"g'night\": 1, 'twerpy': 1, 'spamming': 1, 'majesty': 1, 'spitting': 1, 'asks': 1, 'cuckoo': 1, 'fonda': 1, 'onto': 1, 'sideshow_bob:': 1, 'mirthless': 1, 'riveting': 1, 'lipo': 1, 'alma': 1, 'crystal': 1, 'yello': 1, 'cerebral': 1, 'cocking': 1, 'jubilation': 1, 'eightball': 1, 'choose': 1, 'deliberately': 1, 'ling': 1, 'novelty': 1, 'unfair': 1, 'bon-bons': 1, 'gr-aargh': 1, 'guessing': 1, 'apply': 1, 'philosophical': 1, \"writin'\": 1, 'jay_leno:': 1, 'attend': 1, 'wolveriskey': 1, 'hurting': 1, 'abe': 1, 'cliff': 1, 'destroyed': 1, 'insist': 1, \"ya'\": 1, 'brunswick': 1, 'so-ng': 1, 'chip': 1, \"can't-believe-how-bald-he-is\": 1, \"hell's\": 1, 'wisconsin': 1, 'nickel': 1, 'ghouls': 1, 'saving': 1, 'design': 1, \"coffee'll\": 1, 'pre-game': 1, 'poplar': 1, 'nature': 1, 'grateful': 1, 'de-scramble': 1, 'choices:': 1, 'veteran': 1, 'socratic': 1, 'painless': 1, 'grandkids': 1, 'dozen': 1, 'computer_voice_2:': 1, 'harvesting': 1, 'trail': 1, 'strains': 1, 'moe_recording:': 1, 'stepped': 1, 'washer': 1, 'curiosity': 1, 'guiltily': 1, 'twentieth': 1, 'verdict': 1, 'willing': 1, 'homer_': 1, 'doom': 1, 'strictly': 1, 'brainheaded': 1, 'gabriel': 1, 'doooown': 1, 'cheated': 1, 'lofty': 1, 'remodel': 1, 'radioactive': 1, 'fell': 1, 'albert': 1, 'arrived': 1, 'suspiciously': 1, 'funeral': 1, 'reluctantly': 1, \"bo's\": 1, 'arrange': 1, 'unusual': 1, \"usin'\": 1, 'soaps': 1, 'odor': 1, \"feelin's\": 1, 'temper': 1, 'wudgy': 1, \"something's\": 1, 'hunka': 1, 'reentering': 1, 'pronounce': 1, 'counter': 1, 'espousing': 1, 'nonchalant': 1, 'diablo': 1, 'lookalike:': 1, 'lotsa': 1, 'enter': 1, 'compadre': 1, 'nfl_narrator:': 1, 'stacey': 1, 'theme': 1, 'radiator': 1, 'name:': 1, 'enjoyed': 1, 'virility': 1, 'ees': 1, 'twenty-six': 1, 'launch': 1, 'everyday': 1, 'considering:': 1, \"liberty's\": 1, 'wiggle-frowns': 1, 'lookalikes': 1, 'kucinich': 1, 'mt': 1, \"murphy's\": 1, 'options': 1, 'storms': 1, 'legal': 1, 'stored': 1, 'notorious': 1, 'ought': 1, 'justify': 1, 'ripped': 1, 'hah': 1, 'ons': 1, 'crow': 1, 'decision': 1, 'experienced': 1, 'beady': 1, 'prizefighters': 1, 'hiring': 1, 'chug-a-lug': 1, 'moonshine': 1, 'overflowing': 1, 'doppler': 1, 'stained-glass': 1, 'lifestyle': 1, 'normals': 1, 'watt': 1, 'mull': 1, 'knives': 1, 'kirk_voice_milhouse:': 1, '2': 1, 'resist': 1, \"tree's\": 1, 'dogs': 1, 'pusillanimous': 1, 'cans': 1, 'healthier': 1, 'ram': 1, 'annual': 1, 'slapped': 1, 'ails': 1, 'thomas': 1, 'darjeeling': 1, 'sharing': 1, 'reptile': 1, 'patrons': 1, 'mamma': 1, 'runners': 1, 'bedridden': 1, 'bake': 1, 'stats': 1, 'fleabag': 1, 'shoulda': 1, 'radical': 1, 'accelerating': 1, 'navy': 1, 'girl-bart': 1, 'st': 1, 'obama': 1, 'ads': 1, 'strawberry': 1, 'buddies': 1, 'indecipherable': 1, 'upgrade': 1, 'baloney': 1, 'civil': 1, \"fun's\": 1, 'conversations': 1, 'phony': 1, 'newsletter': 1, 'endorsed': 1, 'allowance': 1, 'noooooooooo': 1, 'eighty-six': 1, 'accounta': 1, 'gut': 1, 'boozer': 1, 'diapers': 1, 'michelin': 1, 'th': 1, 'mary': 1, 'decided': 1, 'sail': 1, 'tense': 1, 'trenchant': 1, 'wind': 1, 'manipulation': 1, \"'n'\": 1, 'mozzarella': 1, 'forty-two': 1, 'chapel': 1, 'shush': 1, 'barstools': 1, 'botanical': 1, 'grammy': 1, 'broken': 1, 'maher': 1, 'tasimeter': 1, 'sued': 1, 'olive': 1, 'jimmy': 1, 'loafers': 1, 'improv': 1, \"kearney's_dad:\": 1, 'mm-hmm': 1, \"homer'll\": 1, 'prettiest': 1, 'tomato': 1, \"yieldin'\": 1, 'napkins': 1, 'nor': 1, 'mimes': 1, 'wise': 1, 'capitol': 1, 'pennies': 1, 'rivalry': 1, 'eighty-three': 1, 'adrift': 1, \"lady's\": 1, 'cloudy': 1, 'drop-off': 1, 'beef': 1, 'e-z': 1, 'wipes': 1, 'chuckling': 1, 'shop': 1, 'wore': 1, 'expensive': 1, 'pepper': 1, \"floatin'\": 1, 'cracked': 1, 'breathtaking': 1, 'nos': 1, 'illustrates': 1, \"round's\": 1, 'four-drink': 1, 'junebug': 1, 'something:': 1, 'cartoons': 1, 'crowded': 1, 'stomach': 1, 'horrors': 1, 'seamstress': 1, 'nailed': 1, 'depending': 1, 'microwave': 1, 'lay': 1, 'wasted': 1, 'bills': 1, 'average': 1, 'bolting': 1, 'tabs': 1, 'debonair': 1, 'resenting': 1, 'meatpies': 1, 'presentable': 1, 'triple-sec': 1, 'dipping': 1, 'muhammad': 1, 'pets': 1, 'congoleum': 1, 'barbara': 1, 'dumbass': 1, 'louse': 1, 'walked': 1, 'customers-slash-only': 1, 'bathed': 1, 'lone': 1, \"somethin':\": 1, 'humanity': 1, 'hanh': 1, 'tribute': 1, 'contemplated': 1, 'nectar': 1, 'crotch': 1, 'hushed': 1, 'binoculars': 1, 'parents': 1, 'training': 1, 'tee': 1, 'theatah': 1, 'pickles': 1, 'spooky': 1, 'principles': 1, 'imaginary': 1, 'classy': 1, 'incriminating': 1, 'beast': 1, 'fontaine': 1, 'gil_gunderson:': 1, 'tornado': 1, 'skinny': 1, \"eatin'\": 1, 'transylvania': 1, 'dignified': 1, 'singer': 1, 'bits': 1, 'watered': 1, \"'\": 1, 'bottoms': 1, 'hideous': 1, 'whaddya': 1, 'clipped': 1, 'creates': 1, 'hooters': 1, 'freshened': 1, 'regretful': 1, 'stalin': 1, 'reckless': 1, 'tablecloth': 1, \"treatin'\": 1, 'hounds': 1, 'insecure': 1, 'gol-dangit': 1, 'boxcars': 1, \"sippin'\": 1, 'unlocked': 1, 'larson': 1, \"she'll\": 1, 'entertainer': 1, 'ruint': 1, 'starve': 1, 'application': 1, 'deals': 1, 'pepto-bismol': 1, 'jackpot-thief': 1, 'sprawl': 1, 'souped': 1, \"y'see\": 1, 'herself': 1, 'lobster-politans': 1, 'punching': 1, 'voters': 1, \"d'ya\": 1, 'swelling': 1, 'players': 1, \"playin'\": 1, 'dreamily': 1, 'ratio': 1, 'sticker': 1, 'musketeers': 1, 'ralph': 1, 'eats': 1, 'sassy': 1, 'cocoa': 1, 'scatter': 1, 'test-lady': 1, \"toot's\": 1, 'infestation': 1, 'soot': 1, 'fbi_agent:': 1, 'offense': 1, 'faded': 1, 'fast-food': 1, 'elect': 1, 'beer-jerks': 1, 'without:': 1, 'grocery': 1, 'done:': 1, 'walther': 1, 'donuts': 1, 'steaming': 1, 'arrested:': 1, 'car:': 1, \"professor's\": 1, 'experiments': 1, 'julep': 1, 'manuel': 1, 'wenceslas': 1, '4x4': 1, 'installed': 1, 'mike_mills:': 1, 'old-time': 1, 'cats': 1, 'bupkus': 1, 'post-suicide': 1, 'synthesize': 1, 'oblivious': 1, 'detective': 1, 'undies': 1, 'sunny': 1, 'enthusiasm': 1, '_eugene_blatz:': 1, 'joy': 1, 'shhh': 1, 'haircuts': 1, 'carolina': 1, 'drives': 1, 'teacup': 1, 'dignity': 1, 'flash': 1, 'xanders': 1, 'life-extension': 1, 'branding': 1, 'nurse': 1, 'she-pu': 1, 'menace': 1, 'lachrymose': 1, 'take-back': 1, \"show's\": 1, 'wishing': 1, 'larry': 1, 'housewife': 1, 'conditioners': 1, 'suru': 1, 'warren': 1, 'forty-nine': 1, 'rickles': 1, 'badmouth': 1, 'disguise': 1, 'logos': 1, 'and/or': 1, 'skunk': 1, 'clams': 1, 'repay': 1, 'super-genius': 1, 'loneliness': 1, \"duelin'\": 1, 'bonding': 1, \"football's\": 1, 'heals': 1, 'au': 1, 'control': 1, 'nordiques': 1, 'photos': 1, 'chained': 1, 'fulla': 1, 'ping-pong': 1, 'title': 1, 'often': 1, 'dispenser': 1, 'log': 1, 'immiggants': 1, 'victim': 1, 'dizer': 1, 'behavior': 1, 'intention': 1, 'three-man': 1, 'roz': 1, 'grain': 1, 'distract': 1, 'hawaii': 1, 'barber': 1, 'interrupting': 1, 'eggshell': 1, 'lifters': 1, 'predictable': 1, 'natured': 1, 'complicated': 1, 'strongly': 1, 'eyeing': 1, 'novel': 1, 'drapes': 1, 'slot': 1, 'starlets': 1, 'nelson': 1, 'passports': 1, 'crapmore': 1, 'prices': 1, 'up-bup-bup': 1, 'sledge-hammer': 1, 'examines': 1, 'macgregor': 1, 'balloon': 1, 'handed': 1, 'voicemail': 1, 'statue': 1, 'bunion': 1, 'sight': 1, 'simpsons': 1, 'remaining': 1, 'telemarketing': 1, 'grenky': 1, 'recruiter': 1, 'microbrew': 1, 'poured': 1, 'punkin': 1, 'lend': 1, 'finance': 1, 'nash': 1, 'fustigation': 1, 'simplest': 1, 'shuts': 1, 'lanes': 1, 'washouts': 1, 'squeal': 1, 'gunter': 1, 'depressing': 1, 'dae': 1, \"bart'd\": 1, 'curse': 1, 'sacajawea': 1, 'hot-rod': 1, 'flashbacks': 1, 'crayon': 1, 'carlotta:': 1, 'cheesecake': 1, 'statistician': 1, 'break-up': 1, 'adjourned': 1, 'expecting': 1, 'pajamas': 1, 'today/': 1, 'colossal': 1, 'notices': 1, 'zoomed': 1, 'ecru': 1, 'unfresh': 1, 'jeff_gordon:': 1, \"washin'\": 1, 'gamble': 1, 'puke-pail': 1, 'older': 1, 'unbelievable': 1, 'burnside': 1, 'lis': 1, \"enjoyin'\": 1, 'boisterous': 1, 'dishonor': 1, 'puzzle': 1, 'gruff': 1, 'desperately': 1, 'paparazzo': 1, \"'kay-zugg'\": 1, \"s'pose\": 1, 'hustle': 1, 'disappointing': 1, 'sanitation': 1, 'incognito': 1, 'ingrates': 1, 'monkeyshines': 1, \"'roids\": 1, 'skins': 1, 'releasing': 1, '_marvin_monroe:': 1, 'stingy': 1, 'female_inspector:': 1, 'statues': 1, 'recent': 1, 'jeter': 1, 'forgiven': 1, 'way:': 1, 'hunger': 1, 'puffy': 1, 'hillbillies': 1, '3': 1, \"'your\": 1, 'delicately': 1, 'jacks': 1, '91': 1, 'wounds': 1, 'mmmmm': 1, 'waste': 1, 'tubman': 1, 'urban': 1, 'ohhhh': 1, 'u2:': 1, 'sentimonies': 1, 'irrelevant': 1, 'estranged': 1, 'tree_hoper:': 1, 'si-lent': 1, 'loudly': 1, 'anti-intellectualism': 1, 'shrieks': 1, 'grubby': 1, 'hero-phobia': 1, 'flat': 1, 'ducked': 1, 'silent': 1, 'boyhood': 1, 'emphasis': 1, 'triumphantly': 1, 'arguing': 1, 'cheering': 1, 'cocks': 1, 'charges': 1, 'charming': 1, 'liability': 1, 'martini': 1, \"askin'\": 1, 'boxers': 1, 'archaeologist': 1, 'warned': 1, 'shores': 1, 'hexa-': 1, 'rash': 1, 'rotten': 1, 'hat': 1, 'slab': 1, 'seductive': 1, 'getaway': 1, 'grin': 1, 'twelve-step': 1, 'sneak': 1, 'nasty': 1, 'coast': 1, 'forty-five': 1, 'exultant': 1, 'quadruple-sec': 1, \"fishin'\": 1, 'life:': 1, 'treats': 1, 'scout': 1, \"life's\": 1, 'boston': 1, 'chapter': 1, 'convinced': 1, 'soft': 1, 'misconstrue': 1, 'gloop': 1, 'lobster-based': 1, 'picky': 1, 'hardwood': 1, 'beefs': 1, 'michael_stipe:': 1, 'scratcher': 1, 'grammar': 1, \"idea's\": 1, 'recreate': 1, 'housing': 1, 'looser': 1, 'wussy': 1, 'mural': 1, 'soul-crushing': 1, 'cupid': 1, 'champion': 1, 'comforting': 1, 'optimistic': 1, 'fayed': 1, 'practice': 1, 'owned': 1, 'horses': 1, 'falling': 1, 'betrayed': 1, 'sketching': 1, \"puttin'\": 1, 'burt_reynolds:': 1, 'unattractive': 1, 'naval': 1, 'safety': 1, 'continuum': 1, 'almond': 1, 'competing': 1, 'sugar-me-do': 1, 'throws': 1, 'side:': 1, 'fears': 1, \"must've\": 1, 'lushmore': 1, 'buttocks': 1, 'terror': 1, 'doof': 1, 'aged': 1, 'full-blooded': 1, 'schorr': 1, 'quarry': 1, 'videotaped': 1, \"neat's-foot\": 1, 'jokes': 1, 'retain': 1, 'quarter': 1, 'swe-ee-ee-ee-eet': 1, 'captain': 1, 'ignorance': 1, 'y': 1, 'brainiac': 1, 'killjoy': 1, 'attractive_woman_#1:': 1, \"stealin'\": 1, 'director:': 1, 'influence': 1, 'attractive_woman_#2:': 1, 'y-you': 1, 'crunch': 1, 'diaper': 1, 'bookie': 1, 'payday': 1, 'sincerely': 1, 'oils': 1, 'divorced': 1, 'rookie': 1, 'nick': 1, 'chauffeur:': 1, '2nd_voice_on_transmitter:': 1, 'marshmallow': 1, 'sedaris': 1, 'hairs': 1, 'owes': 1, 'reminded': 1, 'extended': 1, 'grinch': 1, 'gallon': 1, 'viva': 1, 'fatty': 1, 'gunter:': 1, 'specific': 1, 'it:': 1, \"bringin'\": 1, 'thought_bubble_lenny:': 1, 'swimmers': 1, \"fightin'\": 1, 'numeral': 1, 'sugar-free': 1, \"'morning\": 1, 'schmoe': 1, 'plotz': 1, 'commanding': 1, 'nibble': 1, 'exited': 1, 'culkin': 1, 'fence': 1, 'applesauce': 1, 'uninhibited': 1, 'elves:': 1, 'patron_#2:': 1, 'scratching': 1, 'average-looking': 1, 'protecting': 1, 'yak': 1, 'lugs': 1, 'colonel:': 1, 'anti-crime': 1, 'hourly': 1, 'promotion': 1, 'lance': 1, 'mccarthy': 1, 'exact': 1, 'male_singers:': 1, 'elmer': 1, 'aunt': 1, 'rug': 1, 'convenient': 1, 'simple': 1, \"lovers'\": 1, 'tropical': 1, 'birthplace': 1, 'halloween': 1, 'gimmicks': 1, \"neighbor's\": 1, 'jeers': 1, 'labor': 1, 'yammering': 1, 'fake': 1, 'bannister': 1, 'screws': 1, 'land': 1, 'naegle': 1, 'headhunters': 1, 'swimming': 1, 'result': 1, 'hers': 1, 'beached': 1, \"school's\": 1, 'developed': 1, 'initially': 1, 'displeased': 1, 'blooded': 1, 'looting': 1, 'tight': 1, 'whale': 1, \"rasputin's\": 1, 'scent': 1, 'bonfire': 1, 'mostrar': 1, 'tease': 1, 'homesick': 1, 'cobbling': 1, 'hearse': 1, 'protesting': 1, 'divine': 1, 'example': 1, \"y'money's\": 1, \"s'okay\": 1, 'ripper': 1, 'intelligent': 1, 'self-centered': 1, 'super-tough': 1, 'las': 1, 'legend': 1, 'magnanimous': 1, \"spyin'\": 1, 'woodchucks': 1, 'ummmmmmmmm': 1, 'fruit': 1, 'whispers': 1, 'não': 1, 'coupon': 1, 'nominated': 1, 'dateline:': 1, 'safecracker': 1, 'rolls': 1, 'piling': 1, 'thunder': 1, 'tourist': 1, 'regretted': 1, 'sensitivity': 1, 'add': 1, 'moustache': 1, 'rocks': 1, 'tin': 1, 'half-day': 1, 'legs:': 1, 'soaked': 1, 'infor': 1, 'pantsless': 1, 'holidays': 1, 'unearth': 1, 'drawer': 1, 'luv': 1, 'capuchin': 1, 'briefly': 1, 'sistine': 1, 'lobster': 1, 'usual': 1, 'sangre': 1, 'scientists': 1, 'pus-bucket': 1, 'poetics': 1, 'strokkur': 1, 'ignoring': 1, 'gangrene': 1, 'danny': 1, 'tapered': 1, \"should've\": 1, 'jay:': 1, 'patting': 1, \"son's\": 1, 'gordon': 1, 'sizes': 1, 'superdad': 1, 'tidy': 1, 'malted': 1, 'ripping': 1, 'bull': 1, 'stewart': 1, 'blur': 1, 'solves': 1, 'store-bought': 1, 'marvelous': 1, 'afloat': 1, 'bursts': 1, 'non-losers': 1, 'researching': 1, 'exhibit': 1, 'breathalyzer': 1, 'pumping': 1, 'newest': 1, 'declan': 1, 'shreda': 1, 'community': 1, 'brooklyn': 1, 'fainted': 1, 'blank': 1, 'municipal': 1, 'coms': 1, 'musses': 1, 'stupidly': 1, 'tow-talitarian': 1, 'booking': 1, 'data': 1, 'bellyaching': 1, 'key': 1, 'stage': 1, 'pine': 1, 'wittgenstein': 1, 'waking-up': 1, 'mistresses': 1, 'itchy': 1, 'mcclure': 1, 'wound': 1, 'mckinley': 1, 'journey': 1, 'flaking': 1, \"donatin'\": 1, 'grains': 1, 'mock-up': 1, 'man_at_bar:': 1, 'trashed': 1, 'chili': 1, 'mill': 1, 'prettied': 1, 'tones': 1, 'asleep': 1, 'habitrail': 1, 'semi-imported': 1, 'lewis': 1, 'imported-sounding': 1, 'blocked': 1, 'thrust': 1, 'fresco': 1, 'carey': 1, 'office': 1, 'tire': 1, 'bagged': 1, 'pretzel': 1, 'allegiance': 1, 'occupancy': 1, 'wreck': 1, 'nascar': 1, 'macaulay': 1, 'distinct': 1, 'pure': 1, \"phone's\": 1, 'reflected': 1, 'salary': 1, 'sounded': 1, 'fry': 1, \"how're\": 1, 'trunk': 1, 'paste': 1, 'b-day': 1, 'billingsley': 1, 'selective': 1, 'iran': 1, \"cuckold's\": 1, 'brunch': 1, 'states': 1, 'contemporary': 1, 'caholic': 1, 's-a-u-r-c-e': 1, 'proper': 1, 'ironic': 1, 'bumped': 1, 'swishkabobs': 1, 'fustigate': 1, 'clandestine': 1, 'rancid': 1, 'pretzels': 1, \"i'd'a\": 1, 'two-drink': 1, \"cont'd:\": 1, 'creme': 1, '70': 1, 'enabling': 1, 'issuing': 1, 'plums': 1, 'filed': 1, 'aid': 1, 'dollface': 1, 'flanders:': 1, 'premiering': 1, 'kennedy': 1, 'rem': 1, 'hotel': 1, 'west': 1, 'veux': 1, 'bounced': 1, 'nagurski': 1, 'published': 1, 'founded': 1, 'incapable': 1, 'skydiving': 1, 'dumbest': 1, 'sun': 1, 'impeach': 1, 'opens': 1, 'flush-town': 1, 'h': 1, 'located': 1, 'gunk': 1, 'runaway': 1, 'tooth': 1, 'producers': 1, 'rims': 1, 'rabbits': 1, 'app': 1, 'drove': 1, 'slays': 1, 'pasta': 1, 'ura': 1, 'wrecking': 1, 'giant': 1, 'twenty-four': 1, 'dramatically': 1, 'wacky': 1, 'comedies': 1, 'backgammon': 1, 'raining': 1, 'eager': 1, 'easily': 1, 'mumble': 1, 'assent': 1, 'alec_baldwin:': 1, 'sour': 1, 'shout': 1, 'fat-free': 1, \"'er\": 1, 'go-near-': 1, 'smelling': 1, \"what'd\": 1, 'royal': 1, 'george': 1, 'adventure': 1, 'frat': 1, 'w-a-3-q-i-zed': 1, 'salvation': 1, 'faces': 1, 'hammy': 1, 'winning': 1, 'cauliflower': 1, 'chairman': 1, 'nonsense': 1, 'circus': 1, 'scruffy_blogger:': 1, 'theatrical': 1, \"d'\": 1, 'pronto': 1, 'errrrrrr': 1, 'philosophic': 1, \"wouldn't-a\": 1, \"america's\": 1, 'woooooo': 1, 'produce': 1, 'milks': 1, 'insensitive': 1, 'liser': 1, 'intruding': 1, 'sickly': 1, 'brown': 1, 'smiled': 1, 'homer_doubles:': 1, 'north': 1, 'groan': 1, 'hoagie': 1, 'process': 1, 'frogs': 1, 'faint': 1, 'modest': 1, 'savvy': 1, 'yee-ha': 1, 'er': 1, 'booze-bags': 1, 'jacksons': 1, \"pickin'\": 1, 'düff': 1, 'ihop': 1, 'cleaning': 1, 'occupied': 1, 'ne': 1, 'indifferent': 1, 'grease': 1, 'bumpy-like': 1, 'suffering': 1, 'johnny_carson:': 1, 'outrageous': 1, 'hundreds': 1, \"renovatin'\": 1, 'occurs': 1, 'turlet': 1, 'hafta': 1, 'blokes': 1, 'abercrombie': 1, 'spectacular': 1, 'misfire': 1, 'plug': 1, 'champignons': 1, 'sealed': 1, 'salvador': 1, 'helpless': 1, 'deeper': 1, 'fistiana': 1, 'rub-a-dub': 1, 'sweaty': 1, \"jackpot's\": 1, 'mabel': 1, 'heliotrope': 1, 'solved': 1, 'winston': 1, 'uglier': 1, 'wikipedia': 1, 'hosting': 1, 'indeed': 1, 'over-pronouncing': 1, 'please/': 1, 'cattle': 1, 'count': 1, 'alls': 1, 'horror': 1, 'sight-unseen': 1, 'four-star': 1, \"fendin'\": 1, 'knowingly': 1, 'foundation': 1, \"nothin's\": 1, 'mistakes': 1, 'script': 1, 'capitalists': 1, 'hooky': 1, 'gimmick': 1, 'insults': 1, 'jer': 1, \"spaghetti-o's\": 1, 'declare': 1, 'engraved': 1, 'unhappy': 1, 'romance': 1, 'poke': 1, 'hooray': 1, 'voodoo': 1, 'sixty-five': 1, 'barbed': 1, 'dimly': 1, 'kansas': 1, 'quero': 1, 'dirty': 1, 'said:': 1, \"messin'\": 1, 'fella': 1, 'access': 1, 'cappuccino': 1, 'wham': 1, 'whoo': 1, 'passenger': 1, 'cup': 1, 'glummy': 1, '21': 1, 'envy-tations': 1, 'waterfront': 1, 'administration': 1, 'bauer': 1, 'graves': 1, 'carefully': 1, 'short_man:': 1, 'growing': 1, \"summer's\": 1, 'earpiece': 1, 'celebrate': 1, 'tonic': 1, 'indeedy': 1, 'leak': 1, 'space-time': 1, 'kako:': 1, 'eve': 1, 'rife': 1, 'butterball': 1, 'crippling': 1, 'tons': 1, \"calf's\": 1, 'slurps': 1, 'disturbance': 1, 'solely': 1, 'ashtray': 1, 'daaaaad': 1, 'man_with_tree_hat:': 1, \"hawkin'\": 1, 'ungrateful': 1, 'credit': 1, 'liquor': 1, 'small_boy:': 1, 'indifference': 1, 'repeating': 1, 'celeste': 1, 'skoal': 1, 'lucinda': 1, 'environment': 1, 'kay': 1, 'bum:': 1, 'dime': 1, 'tearfully': 1, 'stink': 1, 'face-macer': 1, 'movement': 1, 'cadillac': 1, 'wood': 1, 'fixes': 1, 'mommy': 1, 'pretentious_rat_lover:': 1, 'hangover': 1, 'chow': 1, 'religious': 1, 'ends': 1, 'specialists': 1, 'little_hibbert_girl:': 1, 'snide': 1, 'broken:': 1, 'replace': 1, 'venture': 1, 'meaning': 1, 'conclude': 1, 'radiation': 1, 'kick-ass': 1, 'further': 1, 'intakes': 1, 'thawing': 1, 'snitch': 1, 'united': 1, 'figure': 1, 'wuss': 1, 'bedtime': 1, 'tank': 1, 'well-wisher': 1, 'cooker': 1, 'arise': 1, 'reunion': 1, 'parked': 1, 'promise': 1, 'plants': 1, 'splattered': 1, 'sue': 1, 'startled': 1, 'chipped': 1, 'sweater': 1, 'impress': 1, 'belts': 1, 'chapstick': 1, 'stripe': 1, 'warmth': 1, \"time's\": 1, 'authenticity': 1, 'guff': 1, 'padres': 1, 'donut-shaped': 1, 'housework': 1, 'schedule': 1, 'mini-dumpsters': 1, 'ho-ly': 1, 'proves': 1, 'assume': 1, \"man's_voice:\": 1, 'refreshment': 1, 'clearing': 1, 'amused': 1, 'old_jewish_man:': 1, 'cronies': 1, 'shindig': 1, 'candles': 1, 'chair': 1, \"nixon's\": 1, 'managed': 1, 'maude': 1, 'je': 1, 'information': 1, 'sensible': 1, 'leaving': 1, 'fireworks': 1, 'paintings': 1, 'depressed': 1, 'th-th-th-the': 1, 'savings': 1, 'composite': 1, 'listened': 1, 'pledge': 1, 'donate': 1, 'libido': 1, 'limits': 1, 'stiffening': 1, 'ventriloquism': 1, 'tuborg': 1, 'sitcom': 1, 'sleeping': 1, 'perplexed': 1, 'duffed': 1, 'donut': 1, 'brakes': 1, \"jimbo's_dad:\": 1, 'aidens': 1, 'fills': 1, 'supermodel': 1, 'wish-meat': 1, 'unforgettable': 1, 'bono': 1, 'democracy': 1, 'doctor': 1, 'aggie': 1, 'reaches': 1, 'avalanche': 1, 'pip': 1, 'ruby-studded': 1, 'schizophrenia': 1, 'elaborate': 1, 'stinky': 1, 'blimp': 1, 'gentle': 1, 'getcha': 1, \"s'cuse\": 1, 'trapping': 1, 'disaster': 1, '1973': 1, 'slop': 1, 'mission': 1, \"family's\": 1, 'troubles': 1, \"dolph's_dad:\": 1, 'gin-slingers': 1, 'injury': 1, 'strain': 1, 'hems': 1, 'fired': 1, 'bar:': 1, 'hellhole': 1, \"cheerin'\": 1, 'libraries': 1, 'utensils': 1, 'octa-': 1, 'taxi': 1, 'thirty-nine': 1, 'series': 1, 'delays': 1, 'rosey': 1, 'reserved': 1, 'bottomless': 1, 'eddie': 1, 'cuff': 1, \"boy's\": 1, 'conclusions': 1, 'overhearing': 1, 'symphonies': 1, 'hooked': 1, 'limericks': 1, 'befriend': 1, 'pilsner-pusher': 1, 'vulgar': 1, 'rip': 1, 'ear': 1, 'network': 1, 'ahem': 1, 'gargoyles': 1, 'refreshing': 1, 'species': 1, 'blossoming': 1, 'oak': 1, 'equal': 1, 'poorer': 1, 'wildfever': 1, 'glee': 1, 'nap': 1, 'robbers': 1, 'railroads': 1, 'sink': 1, 'alky': 1, 'coincidentally': 1, 'avenue': 1, 'discriminate': 1, 'mulder': 1, 'kinds': 1, 'groans': 1, 'laid': 1, 'zone': 1, 'filth': 1, 'play/': 1, 'avec': 1, 'basement': 1, 'countryman': 1, 'obsessive-compulsive': 1, 'boozehound': 1, 'toxins': 1, 'temporarily': 1, 'brain-switching': 1, 'rump': 1, \"tatum'll\": 1, 'lard': 1, 'shriners': 1, 'elocution': 1, 'wrap': 1, 'methinks': 1, 'grind': 1, 'rent': 1, 'sending': 1, \"foolin'\": 1, \"tab's\": 1, 'young_barfly:': 1, '530': 1, \"number's\": 1, 'unkempt': 1, 'snail': 1, 'sunglasses': 1, 'reader': 1, 'sexton': 1, 'reward': 1, \"'ceptin'\": 1, 'greatly': 1, 'anyhow': 1, 'mahatma': 1, 'lecture': 1, 'annoying': 1, 'inches': 1, 'bumblebee_man:': 1, \"'round\": 1, 'hygienically': 1, 'stonewall': 1, 'blessing': 1, 'rude': 1, 'cruise': 1, 'cage': 1, 'knuckle-dragging': 1, 'shesh': 1, 'betcha': 1, 'cowboy': 1, 'nucular': 1, 'east': 1, 'mocking': 1, 'temp': 1, 'murderously': 1, 'youngsters': 1, 'takeaway': 1, 'feld': 1, 'giggle': 1, 'jägermeister': 1, 'fortune': 1, 'stocking': 1, 'comeback': 1, 'halfway': 1, 'warning': 1, 'entrance': 1, 'clothespins': 1, 'neanderthal': 1, 'handwriting': 1, 'and:': 1, 'scram': 1, 'gig': 1, \"tinklin'\": 1, 'defiantly': 1, 'forgets': 1, 'beer:': 1, 'helping': 1, 'grieving': 1, 'suburban': 1, 'cousin': 1, 'judges': 1, 'laughter': 1, 'depository': 1, 'manatee': 1, 'shelf': 1, 'in-in-in': 1, 'supplying': 1, 'goodwill': 1, 'forecast': 1, 'bliss': 1, 'buffet': 1, \"games'd\": 1, 'augustus': 1, 'telephone': 1, 'enterprising': 1, 'scrubbing': 1, 'chug-monkeys': 1, 'represents': 1, 'cuz': 1, \"edna's\": 1, 'ballot': 1, \"g'on\": 1, \"aren'tcha\": 1, 'connor': 1, 'followed': 1, 'eu': 1, 'carpet': 1, 'singing/pushing': 1, 'oww': 1, 'maxed': 1, 'ehhhhhhhhh': 1, 'seminar': 1, 'squad': 1, 'weekend': 1, 'lady_duff:': 1, 'multi-national': 1, 'marry': 1, \"thinkin'\": 1, 'champs': 1, 'dash': 1, 'stairs': 1, 'eighteen': 1, 'mexican_duffman:': 1, 'gore': 1, 'attractive': 1, 'regulations': 1, 'hyper-credits': 1, 'sympathizer': 1, 'stan': 1, 'idiots': 1, \"startin'\": 1, 'patron_#1:': 1, 'ralph_wiggum:': 1, 'knock-up': 1, 'dizzy': 1, 'beans': 1, 'gayer': 1, 'poisoning': 1, 'seething': 1, 'duke': 1, 'understood:': 1, 'dennis': 1, 'prompting': 1, 'sleigh-horses': 1, 'attached': 1, 'eaten': 1, 'bidet': 1, 'ears': 1, 'man_with_crazy_beard:': 1, 'enveloped': 1, 'muffled': 1, 'glitz': 1, 'plain': 1, 'sixty': 1, 'jewish': 1, 'felony': 1, 'graveyard': 1, 'heart-broken': 1, \"car's\": 1, 'broncos': 1, 'white_rabbit:': 1, 'sheets': 1, 'yuh-huh': 1, 'wantcha': 1, 'consoling': 1, 'clammy': 1, 'spouses': 1, 'mountain': 1, 'du': 1, 'trade': 1, 'blind': 1, 'march': 1, 'studied': 1, 'scum-sucking': 1, 'compromise:': 1, 'territorial': 1, 'ninety-six': 1, 'marquee': 1, 'fights': 1, 'ideal': 1, 'this:': 1, 'southern': 1, 'zinged': 1, 'suspended': 1, 'brusque': 1, 'occasional': 1, 'strolled': 1, 'ga': 1, \"heat's\": 1, 'distaste': 1, 'simultaneous': 1, 'affectations': 1, 'aer': 1, 'lowest': 1, 'presently': 1, 'alibi': 1, 'italian': 1, 'burger': 1, \"smackin'\": 1, \"duff's\": 1, 'moesy': 1, 'compete': 1, 'lou': 1, 'rainforest': 1, 'tiger': 1, 'jogging': 1, 'prayers': 1, 'breathless': 1, 'lainie:': 1, 'crayola': 1, 'intervention': 1, 'disdainful': 1, 'popping': 1, 'shag': 1, 'stays': 1, 'persia': 1, 'hyahh': 1, 'fringe': 1, 'aghast': 1, 'cockroaches': 1, 'hampstead-on-cecil-cecil': 1, 'fail': 1, 'expense': 1, 'buzziness': 1, 'tomatoes': 1, 'recap:': 1, 'protesters': 1, 'belly-aching': 1, 'shyly': 1, 'santeria': 1, 'separator': 1, \"mopin'\": 1, 'rebuttal': 1, 'fdic': 1, 'con': 1, '50%': 1, 'travel': 1, 'edelbrock': 1, 'ninety-eight': 1, 'whaaa': 1, 'farthest': 1, 'artist': 1, 'winded': 1, 'luckily': 1, 'muscles': 1, 'foodie': 1, 'cursed': 1, 'hops': 1, 'minus': 1, 'kadlubowski': 1, 'bothered': 1, 'acquitted': 1, 'rush': 1, 'option': 1, 'shells': 1, 'harvard': 1, 'background': 1, 'twelveball': 1, \"plank's\": 1, 'fools': 1, 'touch': 1, 'brick': 1, 'bleak': 1, 'malabar': 1, 'watched': 1, 'maitre': 1, 'mariah': 1, 'tear': 1, 'blade': 1, 'wobbly': 1, 'anyhoo': 1, 'worldview': 1, 'shakes': 1, 'silence': 1, 'sharity': 1, 'hiding': 1, 'nail': 1, 'celebration': 1, 'urinal': 1, 'oopsie': 1, \"shootin'\": 1, 'freaking': 1, 'glorious': 1, 'glitterati': 1, 'polls': 1, 'faced': 1, 'continued': 1, 'thirty-thousand': 1, 'theory': 1, 'infatuation': 1, 'albeit': 1, 'aquafresh': 1, 'emporium': 1, 'hooch': 1, 'however': 1, 'drunkenly': 1, 'lenford': 1, 'tar-paper': 1, 'television': 1, 'freaky': 1, 'official': 1, '35': 1, 'brag': 1, 'devils:': 1, 'planned': 1, 'actor': 1, '3rd_voice:': 1, 'payback': 1, 'jobless': 1, 'motto': 1, 'clenched': 1, 'ideas': 1, \"raggin'\": 1, 'tempting': 1, 'hammer': 1, 'blinds': 1, 'dealt': 1, 'kirk': 1, 'attach': 1, 'facebook': 1, '/mr': 1, 'proof': 1, 'supreme': 1, 'feisty': 1, 'annus': 1, 'purveyor': 1, 'chic': 1, 'soothing': 1, 'bachelorette': 1, 'carmichael': 1, 'shoe': 1, 'horns': 1, 'packets': 1, 'resolution': 1, 'deli': 1, 'achebe': 1, 'ore': 1, \"tonight's\": 1, 'grandé': 1, 'interesting': 1, 'poster': 1, 'column': 1, 'photographer': 1, 'grammys': 1, 'kim_basinger:': 1, 'finale': 1, 'handler': 1, 'collapse': 1, 'writer:': 1, 'tomahto': 1, \"fryer's\": 1, 'permitting': 1, 'timbuk-tee': 1, 'gulps': 1, 'all-american': 1, 'focused': 1, 'coal': 1, 'winces': 1, 'composer': 1, 'pancakes': 1, 'handling': 1, 'squishee': 1, 'buyer': 1, 'pews': 1, 'hydrant': 1, \"brockman's\": 1, 'audience': 1, 'understood': 1, 'failure': 1, 'coyly': 1, 'lessee': 1, 'catch-phrase': 1, 'fund': 1, 'banquet': 1, 'judgments': 1, 'selection': 1, 'nemo': 1, 'spews': 1, 'mellow': 1, 'contract': 1, 'massage': 1, 'awareness': 1, 'sass': 1, 'macbeth': 1, 'ding-a-ding-ding-a-ding-ding': 1, 'stares': 1, 'dads': 1, 'cecil': 1, 'teen': 1, 'statesmanlike': 1, 'moe-ron': 1, 'shard': 1, 'knocks': 1, 'hemorrhage-amundo': 1, 'canyoner-oooo': 1, 'resigned': 1, 'modestly': 1, 'enjoys': 1, 'poetry': 1, 'icy': 1, 'california': 1, 'moonlight': 1, 'backward': 1, 'lee': 1, 'snout': 1, 'tapestry': 1, 'barney-guarding': 1, 'improved': 1, 'africanized': 1, 'terminated': 1, 'sponsor': 1, \"doctor's\": 1, 'nantucket': 1, 'when-i-get-a-hold-of-you': 1, 'hike': 1, 'audience:': 1, 'slobbo': 1, 'kneeling': 1, 'kickoff': 1, 'grumbling': 1, 'six-barrel': 1, 'choked-up': 1, 'wheels': 1, 'wage': 1, 'random': 1, \"dog's\": 1, 'cap': 1, 'lift': 1, 'shack': 1, 'hostages': 1, 'surprised/thrilled': 1, 'eaters': 1, 'blissful': 1, 'adjust': 1, 'encore': 1, 'encouraged': 1, 'browns': 1, 'breaks': 1, 'shareholder': 1, 'flailing': 1, 'country-fried': 1, 'whaaaa': 1, 'bridges': 1, 'confidential': 1, 'drunkening': 1, 'eurotrash': 1, 'moxie': 1, 'brother-in-law': 1, 'plane': 1, 'pyramid': 1, 'dreary': 1, 'rip-off': 1, 'absorbent': 1, 'agency': 1, 'settlement': 1, 'chicken': 1, 'designer': 1, 'poison': 1, 'sternly': 1, 'sub-monkeys': 1, 'country': 1, 'distance': 1, 'terrace': 1, 'tv-station_announcer:': 1, 'righ': 1, 'unbelievably': 1, 'hangout': 1, 'tokens': 1, 'mediterranean': 1, 'model': 1, 'guttural': 1, 'droning': 1, 'diminish': 1, 'sideshow_mel:': 1, 'sen': 1, 'haiti': 1, 'massachusetts': 1, 'button-pusher': 1, 'crisis': 1, \"bettin'\": 1, 'stay-puft': 1, 'boggs': 1, 'musical': 1, \"betsy'll\": 1, 'gator': 1, \"ragin'\": 1, 'investigating': 1, 'heather': 1, 'other_player:': 1, 'exception:': 1, 'pregnancy': 1, 'mis-statement': 1, 'family-owned': 1, 'meditative': 1, 'measure': 1, 'abcs': 1, 'x-men': 1, 'monroe': 1, 'lager': 1, 'pussycat': 1, 'indigenous': 1, 'easter': 1, 'swigmore': 1, 'touches': 1, 'publish': 1, 'presided': 1, 'cakes': 1, 'fishing': 1, 'toms': 1, 'eva': 1, 'wells': 1, 'pointedly': 1, 'lizard': 1, 'inclination': 1, 'stinger': 1, 'lily-pond': 1, 'appreciated': 1, 'helps': 1, 'arabs': 1, 'socialize': 1, 'killing': 1, 'choked': 1, 'ho-la': 1, \"that'd\": 1, \"department's\": 1, 'tasty': 1, \"listenin'\": 1, 'flourish': 1, 'lifetime': 1, 'steam': 1, 'oblongata': 1, 'open-casket': 1, 'imitating': 1, 'awake': 1, 'ali': 1, 'lied': 1, \"can'tcha\": 1, 'necessary': 1, \"speakin'\": 1, 'cobra': 1, 'aggravazes': 1, 'charter': 1, 'rockers': 1, 'additional-seating-capacity': 1, 'texan': 1, 'equivalent': 1, 'ivy-covered': 1, 'recorder': 1, 'publishers': 1, 'enforced': 1, 'victorious': 1, 'renders': 1, 'sheet': 1, 'single-mindedness': 1, 'someplace': 1, 'colorado': 1, 'washed': 1, 'holy': 1, \"burnin'\": 1, 'sucking': 1, 'connor-politan': 1, 'psst': 1, 'ferry': 1, 'phrase': 1, 'language': 1, 'badge': 1, 'calendars': 1, 'sucks': 1, 'jukebox_record:': 1, 'pages': 1, 'strategizing': 1, 'brockelstein': 1, 'investment': 1, 'super-nice': 1, 'ing': 1, 'arts': 1, 'unavailable': 1, \"choosin'\": 1, 'moolah-stealing': 1, 'pep': 1, 'e': 1, 'certainly': 1, 'spelling': 1, 'life-partner': 1, 'harm': 1, 'benjamin:': 1, 'argue': 1, 'scoffs': 1, 'remain': 1, 'spine': 1, 'amber_dempsey:': 1, 'dilemma': 1, 'polish': 1, 'concentrate': 1, 'sticking-place': 1, 'spit-backs': 1, 'juan': 1, 'invisible': 1, 'owns': 1, 'firing': 1, 'ton': 1, 'superpower': 1, \"cupid's\": 1, 'cross-country': 1, 'relaxed': 1, 'easygoing': 1, 'hardy': 1, 'sketch': 1, 'flush': 1, 'ape-like': 1, 'annie': 1, 'luckiest': 1, 'guard': 1, 'icelandic': 1, 'venom': 1, 'pulitzer': 1, 'awfully': 1, 'bindle': 1, 'hook': 1, 'quick-like': 1, 'astronauts': 1, 'appropriate': 1, 'items': 1, 'burg': 1, 'profiling': 1, 'reporter': 1, 'diving': 1, 'delightfully': 1, \"don'tcha\": 1, 'skills': 1, 'snatch': 1, 'though:': 1, 'courteous': 1, 'assert': 1, 'rapidly': 1, 'chinua': 1, 'frenchman': 1, 'difference': 1, 'sells': 1, 'sanctuary': 1, \"hole'\": 1, 'fonzie': 1, 'evils': 1, 'stickers': 1, 'johnny': 1, 'outs': 1, 'aerospace': 1, 'frontrunner': 1, 'fierce': 1, 'punishment': 1, 'finish': 1, 'a-a-b-b-a': 1, 'nevada': 1, 'gibson': 1, 'spare': 1, \"poundin'\": 1, 'edge': 1, \"mother's\": 1, 'darkness': 1, 'indicates': 1, 'boozebag': 1, 'meteor': 1, 'friction': 1, 'neighboreeno': 1, 'tied': 1, 'neon': 1, 'edgy': 1, 'groin': 1, 'coined': 1, 'reconsidering': 1, 'togetherness': 1, 'dawning': 1, 'portuguese': 1, 'killarney': 1, 'admirer': 1, 'beatings': 1, 'buddha': 1, 'lear': 1, 'madonna': 1, 'fletcherism': 1, 'lungs': 1, 'rationalizing': 1, 'highest': 1, 'haws': 1, 'science': 1, 'vanities': 1, 'homunculus': 1, 'elite': 1, 'limited': 1, 'tow-joes': 1, 'cherry': 1, 'steely-eyed': 1, 'nitwit': 1, 'hammock': 1, 'infiltrate': 1, 'criminal': 1, 'enhance': 1, 'moon-bounce': 1, 'creepy': 1, 'instantly': 1, 'dumb-asses': 1, 'cheerier': 1, 'rupert_murdoch:': 1, 'intoxicants': 1, 'mushy': 1, 'shaved': 1, 'fire_inspector:': 1, 'supervising': 1, 'counterfeit': 1, 'longest': 1, 'gumbo': 1, 'landfill': 1, 'widow': 1, 'oooh': 1, 'roy': 1, 'foam': 1, 'daniel': 1, 'tactful': 1, 'boxer:': 1, 'spiritual': 1, 'whatchacallit': 1, 'aiden': 1, \"cashin'\": 1, 'runs': 1, 'diets': 1, 'midge:': 1, 'cricket': 1, 'package': 1, 'actress': 1, 'beeps': 1, 'cigars': 1, 'part-time': 1, 'prolonged': 1, 'feat': 1, 'latour': 1, 'gags': 1, 'occasion': 1, 'fast-paced': 1, 'enlightened': 1, 'showed': 1, 'sheriff': 1, 'sickens': 1, \"tootin'\": 1, 'marjorie': 1, 'merchants': 1, 'considers': 1, 'typed': 1, 'fwooof': 1, 'instrument': 1, 'enthusiastically': 1, 'casting': 1, 'mathis': 1, 'fat_in_the_hat:': 1, 'a-b-': 1, 'kissingher': 1, 'leathery': 1, 'boxcar': 1, 'thousands': 1, 'faith': 1, 'mix': 1, 'eight-year-old': 1, 'station': 1, 'lingus': 1, 'restless': 1, 'damage': 1, 'flophouse': 1, 'kool': 1, 'whining': 1, 'kodos:': 1, 'wondered': 1, 'manchego': 1, 'november': 1, 'permanent': 1, 'tow': 1, 'mind-numbing': 1, 'idealistic': 1, 'introduce': 1, 'upn': 1, 'reality': 1, 'sunk': 1, \"liftin'\": 1, 'montrer': 1, 'koji': 1, 'swell': 1, 'defected': 1, 'nachos': 1, 'chorus:': 1, 'pigtown': 1, 'orgasmville': 1, 'relative': 1, \"daughter's\": 1, 'jelly': 1, 'other_book_club_member:': 1, 'coherent': 1, 'chipper': 1, 'dirge-like': 1, 'reed': 1, 'zack': 1, 'exits': 1, 'offshoot': 1, 'byrne': 1, 'ab': 1, 'overstressed': 1, 'slurred': 1, 'citizens': 1, 'suits': 1, \"wino's\": 1, 'cummerbund': 1, 'brief': 1, 'furniture': 1, 'milhouses': 1, 'frankenstein': 1, 'traitor': 1, 'bouquet': 1, 'pinball': 1, 'earrings': 1, 'fica': 1, \"mcstagger's\": 1, 'haikus': 1, 'stores': 1, 'squirrels': 1, 'material': 1, 'invulnerable': 1, 'support': 1, 'thanking': 1, 'manfred': 1, 'braun:': 1, 'goblins': 1, 'tapping': 1, 'friend:': 1, 'patriotic': 1, 'grace': 1, 'skinheads': 1, 'typing': 1, 'waters': 1, 'grudgingly': 1, 'refill': 1, 'sky': 1, 'ref': 1, 'dislike': 1, 'backbone': 1, 'starters': 1, 'spacey': 1, \"o'\": 1, 'rebuilt': 1, 'tolerable': 1, 'smuggled': 1, 'dejected': 1, 'ease': 1, 'slipped': 1, 'plastered': 1, 'agent_miller:': 1, 'pridesters:': 1, \"mtv's\": 1, 'upsetting': 1, 'motor': 1, 'trustworthy': 1, 'disillusioned': 1, 'alarm': 1, 'cavern': 1, 'whispered': 1, 'toledo': 1, \"stayin'\": 1, 'frink-y': 1, 'heavens': 1, 'rainbows': 1, 'unrelated': 1, 'snapping': 1, 'undated': 1, \"i'unno\": 1, 'exchanged': 1, 'powers': 1, 'mccall': 1, 'nicer': 1, 'juke': 1, 'whim': 1, 'releases': 1, 'settled': 1, 'evergreen': 1, 'ate': 1, 'scores': 1, 'unable': 1, 'pre-columbian': 1, 'chastity': 1, 'settles': 1, 'bachelor': 1, 'risqué': 1, 'ew': 1, 'van': 1, 'blackjack': 1, 'corn': 1, 'dean': 1, 'dig': 1, \"man's\": 1, 'arse': 1, 'cooking': 1, 'chauffeur': 1, 'pontiff': 1, 'goal': 1, 'expired': 1, 'noble': 1, 'presses': 1, 'beanbag': 1, 'kearney_zzyzwicz:': 1, 'emotion': 1, 'flashing': 1, 'ticks': 1, 'low-blow': 1, 'dexterous': 1, \"disrobin'\": 1, 'moonnnnnnnn': 1, 'tobacky': 1, 'dejected_barfly:': 1, 'ron_howard:': 1, 'playoff': 1, 'eighty-five': 1, 'peabody': 1, 'courthouse': 1, 'slaps': 1, 'crowbar': 1, 'signed': 1, 'powered': 1, 'metal': 1, 'banned': 1, 'sets': 1, \"soundin'\": 1, 'dyspeptic': 1, 'hoax': 1, 'voted': 1, 'breakdown': 1, 'you-need-man': 1, 'subscriptions': 1, 'steinbrenner': 1, 'bones': 1, 'locklear': 1, 'susie-q': 1, \"plaster's\": 1, 'volunteer': 1, 'mason': 1, 'stood': 1, 'kazoo': 1, \"wallet's\": 1, 'rafters': 1, 'legoland': 1, 'choke': 1, 'mirror': 1, 'perverted': 1, 'clench': 1, 'direction': 1, 'replaced': 1, 'thing:': 1, 'windshield': 1, 'yells': 1, 'rings': 1, 'drinker': 1, 'clincher': 1, 'lookalike': 1, 'corkscrews': 1, 'busiest': 1, 'five-fifteen': 1, 'mindless': 1, 'churchy': 1, 'earlier': 1, 'physical': 1, \"'pu\": 1, 'edner': 1, 'britannia': 1, 'gift:': 1, 'eyed': 1, \"b-52's:\": 1, 'simon': 1, 'bathtub': 1, 'mostly': 1, \"aristotle's\": 1, 'crowds': 1, 'position': 1, \"bladder's\": 1, 'fad': 1, 'crooks': 1, 'weep': 1, 'bugs': 1, 'placed': 1, 'watashi': 1, 'specified': 1, 'hoped': 1, 'manboobs': 1, 'presidential': 1, 'itself': 1, 'dictating': 1, \"singin'\": 1, 'harrowing': 1, 'irishman': 1, 'flew': 1, \"fine-lookin'\": 1, 'yelp': 1, 'appalled': 1, 'urine': 1, 'unfamiliar': 1, 'reaction': 1, 'oddest': 1, 'pills': 1, 'madman': 1, 'portentous': 1, 'chips': 1, \"bashir's\": 1, 'employees': 1, 'barney-type': 1, 'slobs': 1, 'fortress': 1, 'read:': 1, 'marched': 1, 'billiard': 1, 'grrrreetings': 1, 'breakfast': 1, 'cab_driver:': 1, 'lump': 1, 'specials': 1, 'beverage': 1, 'cajun': 1, 'murdered': 1, 'pharmaceutical': 1, 'hmf': 1, 'el': 1, 'ehhh': 1, 'rutabaga': 1, \"dimwit's\": 1, 'shortcomings': 1, 'occupation': 1, 'mystery': 1, 'sidelines': 1, 'philip': 1, 'vengeful': 1, 'hidden': 1, 'title:': 1, 'gabriel:': 1, 'drawn': 1, \"'cept\": 1, 'geysir': 1, 'los': 1, 'harvey': 1, 'kinderhook': 1, 'leprechaun': 1, 'stengel': 1})\n"
     ]
    }
   ],
   "source": [
    "\"\"\"\n",
    "DON'T MODIFY ANYTHING IN THIS CELL\n",
    "\"\"\"\n",
    "# Preprocess Training, Validation, and Testing Data\n",
    "helper.preprocess_and_save_data(data_dir, token_lookup, create_lookup_tables)"
   ]
  },
  {
   "cell_type": "markdown",
   "metadata": {
    "deletable": true,
    "editable": true
   },
   "source": [
    "# Check Point\n",
    "This is your first checkpoint. If you ever decide to come back to this notebook or have to restart the notebook, you can start from here. The preprocessed data has been saved to disk."
   ]
  },
  {
   "cell_type": "code",
   "execution_count": 55,
   "metadata": {
    "collapsed": false,
    "deletable": true,
    "editable": true
   },
   "outputs": [],
   "source": [
    "\"\"\"\n",
    "DON'T MODIFY ANYTHING IN THIS CELL\n",
    "\"\"\"\n",
    "import helper\n",
    "import numpy as np\n",
    "import problem_unittests as tests\n",
    "\n",
    "int_text, vocab_to_int, int_to_vocab, token_dict = helper.load_preprocess()"
   ]
  },
  {
   "cell_type": "markdown",
   "metadata": {
    "deletable": true,
    "editable": true
   },
   "source": [
    "## Build the Neural Network\n",
    "You'll build the components necessary to build a RNN by implementing the following functions below:\n",
    "- get_inputs\n",
    "- get_init_cell\n",
    "- get_embed\n",
    "- build_rnn\n",
    "- build_nn\n",
    "- get_batches\n",
    "\n",
    "### Check the Version of TensorFlow and Access to GPU"
   ]
  },
  {
   "cell_type": "code",
   "execution_count": 56,
   "metadata": {
    "collapsed": false
   },
   "outputs": [
    {
     "name": "stdout",
     "output_type": "stream",
     "text": [
      "TensorFlow Version: 1.0.1\n",
      "Default GPU Device: /gpu:0\n"
     ]
    }
   ],
   "source": [
    "\"\"\"\n",
    "DON'T MODIFY ANYTHING IN THIS CELL\n",
    "\"\"\"\n",
    "from distutils.version import LooseVersion\n",
    "import warnings\n",
    "import tensorflow as tf\n",
    "\n",
    "# Check TensorFlow Version\n",
    "assert LooseVersion(tf.__version__) >= LooseVersion('1.0'), 'Please use TensorFlow version 1.0 or newer'\n",
    "print('TensorFlow Version: {}'.format(tf.__version__))\n",
    "\n",
    "# Check for a GPU\n",
    "if not tf.test.gpu_device_name():\n",
    "    warnings.warn('No GPU found. Please use a GPU to train your neural network.')\n",
    "else:\n",
    "    print('Default GPU Device: {}'.format(tf.test.gpu_device_name()))"
   ]
  },
  {
   "cell_type": "markdown",
   "metadata": {},
   "source": [
    "### Input\n",
    "Implement the `get_inputs()` function to create TF Placeholders for the Neural Network.  It should create the following placeholders:\n",
    "- Input text placeholder named \"input\" using the [TF Placeholder](https://www.tensorflow.org/api_docs/python/tf/placeholder) `name` parameter.\n",
    "- Targets placeholder\n",
    "- Learning Rate placeholder\n",
    "\n",
    "Return the placeholders in the following the tuple `(Input, Targets, LearingRate)`"
   ]
  },
  {
   "cell_type": "code",
   "execution_count": 57,
   "metadata": {
    "collapsed": false,
    "deletable": true,
    "editable": true
   },
   "outputs": [
    {
     "name": "stdout",
     "output_type": "stream",
     "text": [
      "Tests Passed\n"
     ]
    }
   ],
   "source": [
    "def get_inputs():\n",
    "    \"\"\"\n",
    "    Create TF Placeholders for input, targets, and learning rate.\n",
    "    :return: Tuple (input, targets, learning rate)\n",
    "    \"\"\"\n",
    "    # TODO: Implement Function\n",
    "    Input = tf.placeholder(tf.int32, shape=(None,None), name=\"input\");\n",
    "    Targets = tf.placeholder(tf.int32, shape=(None, None), name=\"ouput\");\n",
    "    LearingRate = tf.placeholder(tf.float32,name=\"lr\");\n",
    "    \n",
    "    return (Input, Targets, LearingRate)\n",
    "\n",
    "\n",
    "\"\"\"\n",
    "DON'T MODIFY ANYTHING IN THIS CELL THAT IS BELOW THIS LINE\n",
    "\"\"\"\n",
    "tests.test_get_inputs(get_inputs)"
   ]
  },
  {
   "cell_type": "markdown",
   "metadata": {
    "deletable": true,
    "editable": true
   },
   "source": [
    "### Build RNN Cell and Initialize\n",
    "Stack one or more [`BasicLSTMCells`](https://www.tensorflow.org/api_docs/python/tf/contrib/rnn/BasicLSTMCell) in a [`MultiRNNCell`](https://www.tensorflow.org/api_docs/python/tf/contrib/rnn/MultiRNNCell).\n",
    "- The Rnn size should be set using `rnn_size`\n",
    "- Initalize Cell State using the MultiRNNCell's [`zero_state()`](https://www.tensorflow.org/api_docs/python/tf/contrib/rnn/MultiRNNCell#zero_state) function\n",
    "    - Apply the name \"initial_state\" to the initial state using [`tf.identity()`](https://www.tensorflow.org/api_docs/python/tf/identity)\n",
    "\n",
    "Return the cell and initial state in the following tuple `(Cell, InitialState)`"
   ]
  },
  {
   "cell_type": "code",
   "execution_count": 58,
   "metadata": {
    "collapsed": false,
    "deletable": true,
    "editable": true
   },
   "outputs": [
    {
     "name": "stdout",
     "output_type": "stream",
     "text": [
      "Tests Passed\n"
     ]
    }
   ],
   "source": [
    "def get_init_cell(batch_size, rnn_size):\n",
    "    \"\"\"\n",
    "    Create an RNN Cell and initialize it.\n",
    "    :param batch_size: Size of batches\n",
    "    :param rnn_size: Size of RNNs\n",
    "    :return: Tuple (cell, initialize state)\n",
    "    \"\"\"\n",
    "\n",
    "    l = tf.contrib.rnn.BasicLSTMCell(rnn_size)\n",
    "      \n",
    "    # Stack up multiple LSTM layers, for deep learning\n",
    "    cell = tf.contrib.rnn.MultiRNNCell([l,l])\n",
    "    i_s = tf.identity(cell.zero_state(batch_size, tf.float32), name='initial_state')\n",
    "    return cell, i_s\n",
    "\n",
    "\n",
    "\n",
    "\"\"\"\n",
    "DON'T MODIFY ANYTHING IN THIS CELL THAT IS BELOW THIS LINE\n",
    "\"\"\"\n",
    "tests.test_get_init_cell(get_init_cell)"
   ]
  },
  {
   "cell_type": "markdown",
   "metadata": {
    "deletable": true,
    "editable": true
   },
   "source": [
    "### Word Embedding\n",
    "Apply embedding to `input_data` using TensorFlow.  Return the embedded sequence."
   ]
  },
  {
   "cell_type": "code",
   "execution_count": 59,
   "metadata": {
    "collapsed": false,
    "deletable": true,
    "editable": true
   },
   "outputs": [
    {
     "name": "stdout",
     "output_type": "stream",
     "text": [
      "Tests Passed\n"
     ]
    }
   ],
   "source": [
    "def get_embed(input_data, vocab_size, embed_dim):\n",
    "    \"\"\"\n",
    "    Create embedding for <input_data>.\n",
    "    :param input_data: TF placeholder for text input.\n",
    "    :param vocab_size: Number of words in vocabulary.\n",
    "    :param embed_dim: Number of embedding dimensions\n",
    "    :return: Embedded input.\n",
    "    \"\"\"\n",
    "    # TODO: Implement Function\n",
    "    embeddings = tf.Variable(tf.random_uniform([vocab_size, embed_dim]))\n",
    "    return  tf.nn.embedding_lookup(embeddings, input_data)\n",
    "\n",
    "\n",
    "\"\"\"\n",
    "DON'T MODIFY ANYTHING IN THIS CELL THAT IS BELOW THIS LINE\n",
    "\"\"\"\n",
    "tests.test_get_embed(get_embed)"
   ]
  },
  {
   "cell_type": "markdown",
   "metadata": {
    "deletable": true,
    "editable": true
   },
   "source": [
    "### Build RNN\n",
    "You created a RNN Cell in the `get_init_cell()` function.  Time to use the cell to create a RNN.\n",
    "- Build the RNN using the [`tf.nn.dynamic_rnn()`](https://www.tensorflow.org/api_docs/python/tf/nn/dynamic_rnn)\n",
    " - Apply the name \"final_state\" to the final state using [`tf.identity()`](https://www.tensorflow.org/api_docs/python/tf/identity)\n",
    "\n",
    "Return the outputs and final_state state in the following tuple `(Outputs, FinalState)` "
   ]
  },
  {
   "cell_type": "code",
   "execution_count": 60,
   "metadata": {
    "collapsed": false,
    "deletable": true,
    "editable": true
   },
   "outputs": [
    {
     "name": "stdout",
     "output_type": "stream",
     "text": [
      "Tests Passed\n"
     ]
    }
   ],
   "source": [
    "def build_rnn(cell, inputs):\n",
    "    \"\"\"\n",
    "    Create a RNN using a RNN Cell\n",
    "    :param cell: RNN Cell\n",
    "    :param inputs: Input text data\n",
    "    :return: Tuple (Outputs, Final State)\n",
    "    \"\"\"\n",
    "    # TODO: Implement Function\n",
    "    #print (cell)\n",
    "    outputs, final_state = tf.nn.dynamic_rnn(cell, inputs, dtype=tf.float32)\n",
    "    final_state = tf.identity(final_state, \"final_state\")\n",
    "    return outputs, final_state\n",
    "\n",
    "\n",
    "\"\"\"\n",
    "DON'T MODIFY ANYTHING IN THIS CELL THAT IS BELOW THIS LINE\n",
    "\"\"\"\n",
    "tests.test_build_rnn(build_rnn)"
   ]
  },
  {
   "cell_type": "markdown",
   "metadata": {
    "deletable": true,
    "editable": true
   },
   "source": [
    "### Build the Neural Network\n",
    "Apply the functions you implemented above to:\n",
    "- Apply embedding to `input_data` using your `get_embed(input_data, vocab_size, embed_dim)` function.\n",
    "- Build RNN using `cell` and your `build_rnn(cell, inputs)` function.\n",
    "- Apply a fully connected layer with a linear activation and `vocab_size` as the number of outputs.\n",
    "\n",
    "Return the logits and final state in the following tuple (Logits, FinalState) "
   ]
  },
  {
   "cell_type": "code",
   "execution_count": 61,
   "metadata": {
    "collapsed": false,
    "deletable": true,
    "editable": true
   },
   "outputs": [
    {
     "name": "stdout",
     "output_type": "stream",
     "text": [
      "Tests Passed\n"
     ]
    }
   ],
   "source": [
    "def build_nn(cell, rnn_size, input_data, vocab_size):\n",
    "    \"\"\"\n",
    "    Build part of the neural network\n",
    "    :param cell: RNN cell\n",
    "    :param rnn_size: Size of rnns\n",
    "    :param input_data: Input data\n",
    "    :param vocab_size: Vocabulary size\n",
    "    :return: Tuple (Logits, FinalState)\n",
    "    \"\"\"\n",
    "    embed = get_embed(input_data, vocab_size, rnn_size)\n",
    "    outputs, final_state = build_rnn(cell, embed)\n",
    "    logits = tf.contrib.layers.fully_connected(\n",
    "        outputs, vocab_size, \n",
    "        weights_initializer=tf.truncated_normal_initializer(stddev=0.1),\n",
    "        biases_initializer=tf.zeros_initializer(),\n",
    "        activation_fn=None)\n",
    "    return logits, final_state\n",
    "\n",
    "\n",
    "\"\"\"\n",
    "DON'T MODIFY ANYTHING IN THIS CELL THAT IS BELOW THIS LINE\n",
    "\"\"\"\n",
    "tests.test_build_nn(build_nn)"
   ]
  },
  {
   "cell_type": "markdown",
   "metadata": {
    "deletable": true,
    "editable": true
   },
   "source": [
    "### Batches\n",
    "Implement `get_batches` to create batches of input and targets using `int_text`.  The batches should be a Numpy array with the shape `(number of batches, 2, batch size, sequence length)`. Each batch contains two elements:\n",
    "- The first element is a single batch of **input** with the shape `[batch size, sequence length]`\n",
    "- The second element is a single batch of **targets** with the shape `[batch size, sequence length]`\n",
    "\n",
    "If you can't fill the last batch with enough data, drop the last batch.\n",
    "\n",
    "For exmple, `get_batches([1, 2, 3, 4, 5, 6, 7, 8, 9, 10, 11, 12, 13, 14, 15], 2, 3)` would return a Numpy array of the following:\n",
    "```\n",
    "[\n",
    "  # First Batch\n",
    "  [\n",
    "    # Batch of Input\n",
    "    [[ 1  2  3], [ 7  8  9]],\n",
    "    # Batch of targets\n",
    "    [[ 2  3  4], [ 8  9 10]]\n",
    "  ],\n",
    " \n",
    "  # Second Batch\n",
    "  [\n",
    "    # Batch of Input\n",
    "    [[ 4  5  6], [10 11 12]],\n",
    "    # Batch of targets\n",
    "    [[ 5  6  7], [11 12 13]]\n",
    "  ]\n",
    "]\n",
    "```"
   ]
  },
  {
   "cell_type": "code",
   "execution_count": 62,
   "metadata": {
    "collapsed": false,
    "deletable": true,
    "editable": true
   },
   "outputs": [
    {
     "name": "stdout",
     "output_type": "stream",
     "text": [
      "[[[[  1.   2.   3.]\n",
      "   [  4.   5.   6.]]\n",
      "\n",
      "  [[  2.   3.   4.]\n",
      "   [  5.   6.   7.]]]\n",
      "\n",
      "\n",
      " [[[  7.   8.   9.]\n",
      "   [ 10.  11.  12.]]\n",
      "\n",
      "  [[  8.   9.  10.]\n",
      "   [ 11.  12.  13.]]]]\n",
      "Tests Passed\n"
     ]
    }
   ],
   "source": [
    "def get_batches(int_text, batch_size, seq_length):\n",
    "    \"\"\"\n",
    "    Return batches of input and target\n",
    "    :param int_text: Text with the words replaced by their ids\n",
    "    :param batch_size: The size of batch\n",
    "    :param seq_length: The length of sequence\n",
    "    :return: Batches as a Numpy array\n",
    "    \"\"\"\n",
    "    # TODO: Implement Function\n",
    "    bath_count = int (np.floor(len(int_text)/(batch_size*seq_length)))\n",
    "    \n",
    "    a = np.zeros((bath_count,2,batch_size,seq_length))\n",
    "    \n",
    "    for k in range (bath_count):\n",
    "        for i in range (batch_size):\n",
    "            for j in range (seq_length):\n",
    "                    a[k][0][i][j]=int_text[k *batch_size * seq_length + i * seq_length + j ]\n",
    "                    a[k][1][i][j]=int_text[k *batch_size * seq_length + i * seq_length + j + 1 ]\n",
    "                    \n",
    "                    #a[k][1][i][j]=int_text[k *batch_size * seq_length ]\n",
    "\n",
    "        \n",
    "    return a\n",
    "a = get_batches([1, 2, 3, 4, 5, 6, 7, 8, 9, 10, 11, 12, 13, 14, 15], 2, 3)\n",
    "print (a)\n",
    "\n",
    "\"\"\"\n",
    "DON'T MODIFY ANYTHING IN THIS CELL THAT IS BELOW THIS LINE\n",
    "\"\"\"\n",
    "tests.test_get_batches(get_batches)"
   ]
  },
  {
   "cell_type": "markdown",
   "metadata": {
    "deletable": true,
    "editable": true
   },
   "source": [
    "## Neural Network Training\n",
    "### Hyperparameters\n",
    "Tune the following parameters:\n",
    "\n",
    "- Set `num_epochs` to the number of epochs.\n",
    "- Set `batch_size` to the batch size.\n",
    "- Set `rnn_size` to the size of the RNNs.\n",
    "- Set `seq_length` to the length of sequence.\n",
    "- Set `learning_rate` to the learning rate.\n",
    "- Set `show_every_n_batches` to the number of batches the neural network should print progress."
   ]
  },
  {
   "cell_type": "code",
   "execution_count": 63,
   "metadata": {
    "collapsed": true,
    "deletable": true,
    "editable": true
   },
   "outputs": [],
   "source": [
    "# Number of Epochs\n",
    "num_epochs = 1000\n",
    "# Batch Size\n",
    "batch_size = 100\n",
    "# RNN Size\n",
    "rnn_size = 90\n",
    "# Sequence Length\n",
    "seq_length = 85\n",
    "# Learning Rate\n",
    "learning_rate = 0.01\n",
    "# Show stats for every n number of batches\n",
    "show_every_n_batches = 15\n",
    "\n",
    "\"\"\"\n",
    "DON'T MODIFY ANYTHING IN THIS CELL THAT IS BELOW THIS LINE\n",
    "\"\"\"\n",
    "save_dir = './save'"
   ]
  },
  {
   "cell_type": "markdown",
   "metadata": {
    "deletable": true,
    "editable": true
   },
   "source": [
    "### Build the Graph\n",
    "Build the graph using the neural network you implemented."
   ]
  },
  {
   "cell_type": "code",
   "execution_count": 64,
   "metadata": {
    "collapsed": false,
    "deletable": true,
    "editable": true
   },
   "outputs": [],
   "source": [
    "\"\"\"\n",
    "DON'T MODIFY ANYTHING IN THIS CELL\n",
    "\"\"\"\n",
    "from tensorflow.contrib import seq2seq\n",
    "\n",
    "train_graph = tf.Graph()\n",
    "with train_graph.as_default():\n",
    "    vocab_size = len(int_to_vocab)\n",
    "    input_text, targets, lr = get_inputs()\n",
    "    input_data_shape = tf.shape(input_text)\n",
    "    cell, initial_state = get_init_cell(input_data_shape[0], rnn_size)\n",
    "    logits, final_state = build_nn(cell, rnn_size, input_text, vocab_size)\n",
    "\n",
    "    # Probabilities for generating words\n",
    "    probs = tf.nn.softmax(logits, name='probs')\n",
    "\n",
    "    # Loss function\n",
    "    cost = seq2seq.sequence_loss(\n",
    "        logits,\n",
    "        targets,\n",
    "        tf.ones([input_data_shape[0], input_data_shape[1]]))\n",
    "\n",
    "    # Optimizer\n",
    "    optimizer = tf.train.AdamOptimizer(lr)\n",
    "\n",
    "    # Gradient Clipping\n",
    "    gradients = optimizer.compute_gradients(cost)\n",
    "    capped_gradients = [(tf.clip_by_value(grad, -1., 1.), var) for grad, var in gradients]\n",
    "    train_op = optimizer.apply_gradients(capped_gradients)"
   ]
  },
  {
   "cell_type": "markdown",
   "metadata": {
    "deletable": true,
    "editable": true
   },
   "source": [
    "## Train\n",
    "Train the neural network on the preprocessed data.  If you have a hard time getting a good loss, check the [forms](https://discussions.udacity.com/) to see if anyone is having the same problem."
   ]
  },
  {
   "cell_type": "code",
   "execution_count": 65,
   "metadata": {
    "collapsed": false,
    "deletable": true,
    "editable": true
   },
   "outputs": [
    {
     "name": "stdout",
     "output_type": "stream",
     "text": [
      "Epoch   0 Batch    0/8   train_loss = 8.826\n",
      "Epoch   1 Batch    7/8   train_loss = 6.085\n",
      "Epoch   3 Batch    6/8   train_loss = 6.067\n",
      "Epoch   5 Batch    5/8   train_loss = 6.017\n",
      "Epoch   7 Batch    4/8   train_loss = 5.976\n",
      "Epoch   9 Batch    3/8   train_loss = 5.841\n",
      "Epoch  11 Batch    2/8   train_loss = 5.870\n",
      "Epoch  13 Batch    1/8   train_loss = 5.926\n",
      "Epoch  15 Batch    0/8   train_loss = 5.828\n",
      "Epoch  16 Batch    7/8   train_loss = 5.888\n",
      "Epoch  18 Batch    6/8   train_loss = 5.912\n",
      "Epoch  20 Batch    5/8   train_loss = 5.768\n",
      "Epoch  22 Batch    4/8   train_loss = 5.655\n",
      "Epoch  24 Batch    3/8   train_loss = 5.409\n",
      "Epoch  26 Batch    2/8   train_loss = 5.384\n",
      "Epoch  28 Batch    1/8   train_loss = 5.360\n",
      "Epoch  30 Batch    0/8   train_loss = 5.197\n",
      "Epoch  31 Batch    7/8   train_loss = 5.201\n",
      "Epoch  33 Batch    6/8   train_loss = 5.266\n",
      "Epoch  35 Batch    5/8   train_loss = 5.129\n",
      "Epoch  37 Batch    4/8   train_loss = 5.041\n",
      "Epoch  39 Batch    3/8   train_loss = 4.781\n",
      "Epoch  41 Batch    2/8   train_loss = 4.786\n",
      "Epoch  43 Batch    1/8   train_loss = 4.806\n",
      "Epoch  45 Batch    0/8   train_loss = 4.677\n",
      "Epoch  46 Batch    7/8   train_loss = 4.711\n",
      "Epoch  48 Batch    6/8   train_loss = 4.784\n",
      "Epoch  50 Batch    5/8   train_loss = 4.674\n",
      "Epoch  52 Batch    4/8   train_loss = 4.573\n",
      "Epoch  54 Batch    3/8   train_loss = 4.353\n",
      "Epoch  56 Batch    2/8   train_loss = 4.336\n",
      "Epoch  58 Batch    1/8   train_loss = 4.374\n",
      "Epoch  60 Batch    0/8   train_loss = 4.259\n",
      "Epoch  61 Batch    7/8   train_loss = 4.300\n",
      "Epoch  63 Batch    6/8   train_loss = 4.355\n",
      "Epoch  65 Batch    5/8   train_loss = 4.293\n",
      "Epoch  67 Batch    4/8   train_loss = 4.202\n",
      "Epoch  69 Batch    3/8   train_loss = 3.999\n",
      "Epoch  71 Batch    2/8   train_loss = 3.945\n",
      "Epoch  73 Batch    1/8   train_loss = 3.968\n",
      "Epoch  75 Batch    0/8   train_loss = 3.855\n",
      "Epoch  76 Batch    7/8   train_loss = 3.866\n",
      "Epoch  78 Batch    6/8   train_loss = 3.899\n",
      "Epoch  80 Batch    5/8   train_loss = 3.802\n",
      "Epoch  82 Batch    4/8   train_loss = 3.741\n",
      "Epoch  84 Batch    3/8   train_loss = 3.616\n",
      "Epoch  86 Batch    2/8   train_loss = 3.572\n",
      "Epoch  88 Batch    1/8   train_loss = 3.628\n",
      "Epoch  90 Batch    0/8   train_loss = 3.506\n",
      "Epoch  91 Batch    7/8   train_loss = 3.488\n",
      "Epoch  93 Batch    6/8   train_loss = 3.491\n",
      "Epoch  95 Batch    5/8   train_loss = 3.410\n",
      "Epoch  97 Batch    4/8   train_loss = 3.372\n",
      "Epoch  99 Batch    3/8   train_loss = 3.248\n",
      "Epoch 101 Batch    2/8   train_loss = 3.177\n",
      "Epoch 103 Batch    1/8   train_loss = 3.229\n",
      "Epoch 105 Batch    0/8   train_loss = 3.138\n",
      "Epoch 106 Batch    7/8   train_loss = 3.209\n",
      "Epoch 108 Batch    6/8   train_loss = 3.212\n",
      "Epoch 110 Batch    5/8   train_loss = 3.063\n",
      "Epoch 112 Batch    4/8   train_loss = 3.019\n",
      "Epoch 114 Batch    3/8   train_loss = 2.918\n",
      "Epoch 116 Batch    2/8   train_loss = 2.832\n",
      "Epoch 118 Batch    1/8   train_loss = 2.864\n",
      "Epoch 120 Batch    0/8   train_loss = 2.799\n",
      "Epoch 121 Batch    7/8   train_loss = 2.803\n",
      "Epoch 123 Batch    6/8   train_loss = 2.790\n",
      "Epoch 125 Batch    5/8   train_loss = 2.714\n",
      "Epoch 127 Batch    4/8   train_loss = 2.719\n",
      "Epoch 129 Batch    3/8   train_loss = 2.693\n",
      "Epoch 131 Batch    2/8   train_loss = 2.609\n",
      "Epoch 133 Batch    1/8   train_loss = 2.580\n",
      "Epoch 135 Batch    0/8   train_loss = 2.489\n",
      "Epoch 136 Batch    7/8   train_loss = 2.480\n",
      "Epoch 138 Batch    6/8   train_loss = 2.506\n",
      "Epoch 140 Batch    5/8   train_loss = 2.499\n",
      "Epoch 142 Batch    4/8   train_loss = 2.539\n",
      "Epoch 144 Batch    3/8   train_loss = 2.450\n",
      "Epoch 146 Batch    2/8   train_loss = 2.339\n",
      "Epoch 148 Batch    1/8   train_loss = 2.322\n",
      "Epoch 150 Batch    0/8   train_loss = 2.265\n",
      "Epoch 151 Batch    7/8   train_loss = 2.246\n",
      "Epoch 153 Batch    6/8   train_loss = 2.235\n",
      "Epoch 155 Batch    5/8   train_loss = 2.223\n",
      "Epoch 157 Batch    4/8   train_loss = 2.230\n",
      "Epoch 159 Batch    3/8   train_loss = 2.190\n",
      "Epoch 161 Batch    2/8   train_loss = 2.136\n",
      "Epoch 163 Batch    1/8   train_loss = 2.138\n",
      "Epoch 165 Batch    0/8   train_loss = 2.132\n",
      "Epoch 166 Batch    7/8   train_loss = 2.156\n",
      "Epoch 168 Batch    6/8   train_loss = 2.129\n",
      "Epoch 170 Batch    5/8   train_loss = 2.082\n",
      "Epoch 172 Batch    4/8   train_loss = 2.074\n",
      "Epoch 174 Batch    3/8   train_loss = 2.065\n",
      "Epoch 176 Batch    2/8   train_loss = 1.980\n",
      "Epoch 178 Batch    1/8   train_loss = 1.973\n",
      "Epoch 180 Batch    0/8   train_loss = 1.958\n",
      "Epoch 181 Batch    7/8   train_loss = 1.944\n",
      "Epoch 183 Batch    6/8   train_loss = 1.890\n",
      "Epoch 185 Batch    5/8   train_loss = 1.850\n",
      "Epoch 187 Batch    4/8   train_loss = 1.876\n",
      "Epoch 189 Batch    3/8   train_loss = 1.875\n",
      "Epoch 191 Batch    2/8   train_loss = 1.822\n",
      "Epoch 193 Batch    1/8   train_loss = 1.856\n",
      "Epoch 195 Batch    0/8   train_loss = 1.872\n",
      "Epoch 196 Batch    7/8   train_loss = 1.832\n",
      "Epoch 198 Batch    6/8   train_loss = 1.753\n",
      "Epoch 200 Batch    5/8   train_loss = 1.735\n",
      "Epoch 202 Batch    4/8   train_loss = 1.747\n",
      "Epoch 204 Batch    3/8   train_loss = 1.742\n",
      "Epoch 206 Batch    2/8   train_loss = 1.686\n",
      "Epoch 208 Batch    1/8   train_loss = 1.655\n",
      "Epoch 210 Batch    0/8   train_loss = 1.633\n",
      "Epoch 211 Batch    7/8   train_loss = 1.641\n",
      "Epoch 213 Batch    6/8   train_loss = 1.627\n",
      "Epoch 215 Batch    5/8   train_loss = 1.588\n",
      "Epoch 217 Batch    4/8   train_loss = 1.579\n",
      "Epoch 219 Batch    3/8   train_loss = 1.600\n",
      "Epoch 221 Batch    2/8   train_loss = 1.574\n",
      "Epoch 223 Batch    1/8   train_loss = 1.568\n",
      "Epoch 225 Batch    0/8   train_loss = 1.561\n",
      "Epoch 226 Batch    7/8   train_loss = 1.557\n",
      "Epoch 228 Batch    6/8   train_loss = 1.540\n",
      "Epoch 230 Batch    5/8   train_loss = 1.525\n",
      "Epoch 232 Batch    4/8   train_loss = 1.530\n",
      "Epoch 234 Batch    3/8   train_loss = 1.515\n",
      "Epoch 236 Batch    2/8   train_loss = 1.477\n",
      "Epoch 238 Batch    1/8   train_loss = 1.445\n",
      "Epoch 240 Batch    0/8   train_loss = 1.421\n",
      "Epoch 241 Batch    7/8   train_loss = 1.393\n",
      "Epoch 243 Batch    6/8   train_loss = 1.373\n",
      "Epoch 245 Batch    5/8   train_loss = 1.382\n",
      "Epoch 247 Batch    4/8   train_loss = 1.399\n",
      "Epoch 249 Batch    3/8   train_loss = 1.417\n",
      "Epoch 251 Batch    2/8   train_loss = 1.395\n",
      "Epoch 253 Batch    1/8   train_loss = 1.383\n",
      "Epoch 255 Batch    0/8   train_loss = 1.374\n",
      "Epoch 256 Batch    7/8   train_loss = 1.344\n",
      "Epoch 258 Batch    6/8   train_loss = 1.308\n",
      "Epoch 260 Batch    5/8   train_loss = 1.324\n",
      "Epoch 262 Batch    4/8   train_loss = 1.327\n",
      "Epoch 264 Batch    3/8   train_loss = 1.332\n",
      "Epoch 266 Batch    2/8   train_loss = 1.311\n",
      "Epoch 268 Batch    1/8   train_loss = 1.293\n",
      "Epoch 270 Batch    0/8   train_loss = 1.278\n",
      "Epoch 271 Batch    7/8   train_loss = 1.249\n",
      "Epoch 273 Batch    6/8   train_loss = 1.205\n",
      "Epoch 275 Batch    5/8   train_loss = 1.196\n",
      "Epoch 277 Batch    4/8   train_loss = 1.234\n",
      "Epoch 279 Batch    3/8   train_loss = 1.284\n",
      "Epoch 281 Batch    2/8   train_loss = 1.290\n",
      "Epoch 283 Batch    1/8   train_loss = 1.250\n",
      "Epoch 285 Batch    0/8   train_loss = 1.218\n",
      "Epoch 286 Batch    7/8   train_loss = 1.200\n",
      "Epoch 288 Batch    6/8   train_loss = 1.203\n",
      "Epoch 290 Batch    5/8   train_loss = 1.184\n",
      "Epoch 292 Batch    4/8   train_loss = 1.202\n",
      "Epoch 294 Batch    3/8   train_loss = 1.250\n",
      "Epoch 296 Batch    2/8   train_loss = 1.255\n",
      "Epoch 298 Batch    1/8   train_loss = 1.213\n",
      "Epoch 300 Batch    0/8   train_loss = 1.166\n",
      "Epoch 301 Batch    7/8   train_loss = 1.127\n",
      "Epoch 303 Batch    6/8   train_loss = 1.084\n",
      "Epoch 305 Batch    5/8   train_loss = 1.082\n",
      "Epoch 307 Batch    4/8   train_loss = 1.092\n",
      "Epoch 309 Batch    3/8   train_loss = 1.113\n",
      "Epoch 311 Batch    2/8   train_loss = 1.097\n",
      "Epoch 313 Batch    1/8   train_loss = 1.072\n",
      "Epoch 315 Batch    0/8   train_loss = 1.055\n",
      "Epoch 316 Batch    7/8   train_loss = 1.052\n",
      "Epoch 318 Batch    6/8   train_loss = 1.011\n",
      "Epoch 320 Batch    5/8   train_loss = 1.005\n",
      "Epoch 322 Batch    4/8   train_loss = 1.024\n",
      "Epoch 324 Batch    3/8   train_loss = 1.039\n",
      "Epoch 326 Batch    2/8   train_loss = 1.030\n",
      "Epoch 328 Batch    1/8   train_loss = 1.002\n",
      "Epoch 330 Batch    0/8   train_loss = 0.998\n",
      "Epoch 331 Batch    7/8   train_loss = 0.980\n",
      "Epoch 333 Batch    6/8   train_loss = 0.951\n",
      "Epoch 335 Batch    5/8   train_loss = 0.985\n",
      "Epoch 337 Batch    4/8   train_loss = 1.011\n",
      "Epoch 339 Batch    3/8   train_loss = 1.085\n",
      "Epoch 341 Batch    2/8   train_loss = 1.094\n",
      "Epoch 343 Batch    1/8   train_loss = 1.058\n",
      "Epoch 345 Batch    0/8   train_loss = 1.078\n",
      "Epoch 346 Batch    7/8   train_loss = 1.073\n",
      "Epoch 348 Batch    6/8   train_loss = 0.976\n",
      "Epoch 350 Batch    5/8   train_loss = 0.954\n",
      "Epoch 352 Batch    4/8   train_loss = 0.942\n",
      "Epoch 354 Batch    3/8   train_loss = 0.952\n",
      "Epoch 356 Batch    2/8   train_loss = 0.947\n",
      "Epoch 358 Batch    1/8   train_loss = 0.918\n",
      "Epoch 360 Batch    0/8   train_loss = 0.888\n",
      "Epoch 361 Batch    7/8   train_loss = 0.903\n",
      "Epoch 363 Batch    6/8   train_loss = 0.860\n",
      "Epoch 365 Batch    5/8   train_loss = 0.867\n",
      "Epoch 367 Batch    4/8   train_loss = 0.903\n",
      "Epoch 369 Batch    3/8   train_loss = 0.948\n",
      "Epoch 371 Batch    2/8   train_loss = 0.942\n",
      "Epoch 373 Batch    1/8   train_loss = 0.909\n",
      "Epoch 375 Batch    0/8   train_loss = 0.899\n",
      "Epoch 376 Batch    7/8   train_loss = 0.909\n",
      "Epoch 378 Batch    6/8   train_loss = 0.867\n",
      "Epoch 380 Batch    5/8   train_loss = 0.880\n",
      "Epoch 382 Batch    4/8   train_loss = 0.876\n",
      "Epoch 384 Batch    3/8   train_loss = 0.901\n",
      "Epoch 386 Batch    2/8   train_loss = 0.897\n",
      "Epoch 388 Batch    1/8   train_loss = 0.859\n",
      "Epoch 390 Batch    0/8   train_loss = 0.843\n",
      "Epoch 391 Batch    7/8   train_loss = 0.815\n",
      "Epoch 393 Batch    6/8   train_loss = 0.800\n",
      "Epoch 395 Batch    5/8   train_loss = 0.801\n",
      "Epoch 397 Batch    4/8   train_loss = 0.803\n",
      "Epoch 399 Batch    3/8   train_loss = 0.827\n",
      "Epoch 401 Batch    2/8   train_loss = 0.824\n",
      "Epoch 403 Batch    1/8   train_loss = 0.800\n",
      "Epoch 405 Batch    0/8   train_loss = 0.777\n",
      "Epoch 406 Batch    7/8   train_loss = 0.780\n",
      "Epoch 408 Batch    6/8   train_loss = 0.761\n",
      "Epoch 410 Batch    5/8   train_loss = 0.801\n",
      "Epoch 412 Batch    4/8   train_loss = 0.820\n",
      "Epoch 414 Batch    3/8   train_loss = 0.851\n",
      "Epoch 416 Batch    2/8   train_loss = 0.870\n",
      "Epoch 418 Batch    1/8   train_loss = 0.896\n",
      "Epoch 420 Batch    0/8   train_loss = 0.872\n",
      "Epoch 421 Batch    7/8   train_loss = 0.822\n",
      "Epoch 423 Batch    6/8   train_loss = 0.769\n",
      "Epoch 425 Batch    5/8   train_loss = 0.749\n",
      "Epoch 427 Batch    4/8   train_loss = 0.743\n",
      "Epoch 429 Batch    3/8   train_loss = 0.758\n",
      "Epoch 431 Batch    2/8   train_loss = 0.741\n",
      "Epoch 433 Batch    1/8   train_loss = 0.704\n",
      "Epoch 435 Batch    0/8   train_loss = 0.702\n",
      "Epoch 436 Batch    7/8   train_loss = 0.714\n",
      "Epoch 438 Batch    6/8   train_loss = 0.716\n",
      "Epoch 440 Batch    5/8   train_loss = 0.757\n",
      "Epoch 442 Batch    4/8   train_loss = 0.798\n",
      "Epoch 444 Batch    3/8   train_loss = 0.816\n",
      "Epoch 446 Batch    2/8   train_loss = 0.796\n",
      "Epoch 448 Batch    1/8   train_loss = 0.780\n",
      "Epoch 450 Batch    0/8   train_loss = 0.740\n",
      "Epoch 451 Batch    7/8   train_loss = 0.720\n",
      "Epoch 453 Batch    6/8   train_loss = 0.674\n",
      "Epoch 455 Batch    5/8   train_loss = 0.675\n",
      "Epoch 457 Batch    4/8   train_loss = 0.678\n",
      "Epoch 459 Batch    3/8   train_loss = 0.693\n",
      "Epoch 461 Batch    2/8   train_loss = 0.688\n",
      "Epoch 463 Batch    1/8   train_loss = 0.649\n",
      "Epoch 465 Batch    0/8   train_loss = 0.615\n",
      "Epoch 466 Batch    7/8   train_loss = 0.603\n",
      "Epoch 468 Batch    6/8   train_loss = 0.612\n",
      "Epoch 470 Batch    5/8   train_loss = 0.659\n",
      "Epoch 472 Batch    4/8   train_loss = 0.702\n",
      "Epoch 474 Batch    3/8   train_loss = 0.741\n",
      "Epoch 476 Batch    2/8   train_loss = 0.770\n",
      "Epoch 478 Batch    1/8   train_loss = 0.773\n",
      "Epoch 480 Batch    0/8   train_loss = 0.754\n",
      "Epoch 481 Batch    7/8   train_loss = 0.703\n",
      "Epoch 483 Batch    6/8   train_loss = 0.659\n",
      "Epoch 485 Batch    5/8   train_loss = 0.656\n",
      "Epoch 487 Batch    4/8   train_loss = 0.666\n",
      "Epoch 489 Batch    3/8   train_loss = 0.651\n",
      "Epoch 491 Batch    2/8   train_loss = 0.631\n",
      "Epoch 493 Batch    1/8   train_loss = 0.595\n",
      "Epoch 495 Batch    0/8   train_loss = 0.582\n",
      "Epoch 496 Batch    7/8   train_loss = 0.588\n",
      "Epoch 498 Batch    6/8   train_loss = 0.576\n",
      "Epoch 500 Batch    5/8   train_loss = 0.603\n",
      "Epoch 502 Batch    4/8   train_loss = 0.607\n",
      "Epoch 504 Batch    3/8   train_loss = 0.646\n",
      "Epoch 506 Batch    2/8   train_loss = 0.662\n",
      "Epoch 508 Batch    1/8   train_loss = 0.654\n",
      "Epoch 510 Batch    0/8   train_loss = 0.618\n",
      "Epoch 511 Batch    7/8   train_loss = 0.596\n",
      "Epoch 513 Batch    6/8   train_loss = 0.582\n",
      "Epoch 515 Batch    5/8   train_loss = 0.627\n",
      "Epoch 517 Batch    4/8   train_loss = 0.607\n",
      "Epoch 519 Batch    3/8   train_loss = 0.625\n",
      "Epoch 521 Batch    2/8   train_loss = 0.642\n",
      "Epoch 523 Batch    1/8   train_loss = 0.614\n",
      "Epoch 525 Batch    0/8   train_loss = 0.581\n",
      "Epoch 526 Batch    7/8   train_loss = 0.570\n",
      "Epoch 528 Batch    6/8   train_loss = 0.568\n",
      "Epoch 530 Batch    5/8   train_loss = 0.562\n",
      "Epoch 532 Batch    4/8   train_loss = 0.564\n",
      "Epoch 534 Batch    3/8   train_loss = 0.587\n",
      "Epoch 536 Batch    2/8   train_loss = 0.596\n",
      "Epoch 538 Batch    1/8   train_loss = 0.606\n",
      "Epoch 540 Batch    0/8   train_loss = 0.623\n",
      "Epoch 541 Batch    7/8   train_loss = 0.639\n",
      "Epoch 543 Batch    6/8   train_loss = 0.630\n",
      "Epoch 545 Batch    5/8   train_loss = 0.654\n",
      "Epoch 547 Batch    4/8   train_loss = 0.675\n",
      "Epoch 549 Batch    3/8   train_loss = 0.697\n",
      "Epoch 551 Batch    2/8   train_loss = 0.654\n",
      "Epoch 553 Batch    1/8   train_loss = 0.631\n",
      "Epoch 555 Batch    0/8   train_loss = 0.574\n",
      "Epoch 556 Batch    7/8   train_loss = 0.537\n",
      "Epoch 558 Batch    6/8   train_loss = 0.497\n",
      "Epoch 560 Batch    5/8   train_loss = 0.492\n",
      "Epoch 562 Batch    4/8   train_loss = 0.496\n",
      "Epoch 564 Batch    3/8   train_loss = 0.506\n",
      "Epoch 566 Batch    2/8   train_loss = 0.518\n",
      "Epoch 568 Batch    1/8   train_loss = 0.493\n",
      "Epoch 570 Batch    0/8   train_loss = 0.470\n",
      "Epoch 571 Batch    7/8   train_loss = 0.472\n",
      "Epoch 573 Batch    6/8   train_loss = 0.469\n",
      "Epoch 575 Batch    5/8   train_loss = 0.502\n",
      "Epoch 577 Batch    4/8   train_loss = 0.569\n",
      "Epoch 579 Batch    3/8   train_loss = 0.646\n",
      "Epoch 581 Batch    2/8   train_loss = 0.647\n",
      "Epoch 583 Batch    1/8   train_loss = 0.648\n",
      "Epoch 585 Batch    0/8   train_loss = 0.651\n",
      "Epoch 586 Batch    7/8   train_loss = 0.601\n",
      "Epoch 588 Batch    6/8   train_loss = 0.557\n",
      "Epoch 590 Batch    5/8   train_loss = 0.547\n",
      "Epoch 592 Batch    4/8   train_loss = 0.524\n",
      "Epoch 594 Batch    3/8   train_loss = 0.529\n",
      "Epoch 596 Batch    2/8   train_loss = 0.520\n",
      "Epoch 598 Batch    1/8   train_loss = 0.482\n",
      "Epoch 600 Batch    0/8   train_loss = 0.441\n",
      "Epoch 601 Batch    7/8   train_loss = 0.434\n",
      "Epoch 603 Batch    6/8   train_loss = 0.422\n",
      "Epoch 605 Batch    5/8   train_loss = 0.414\n",
      "Epoch 607 Batch    4/8   train_loss = 0.433\n",
      "Epoch 609 Batch    3/8   train_loss = 0.483\n",
      "Epoch 611 Batch    2/8   train_loss = 0.531\n",
      "Epoch 613 Batch    1/8   train_loss = 0.523\n",
      "Epoch 615 Batch    0/8   train_loss = 0.520\n",
      "Epoch 616 Batch    7/8   train_loss = 0.534\n",
      "Epoch 618 Batch    6/8   train_loss = 0.543\n",
      "Epoch 620 Batch    5/8   train_loss = 0.563\n",
      "Epoch 622 Batch    4/8   train_loss = 0.546\n",
      "Epoch 624 Batch    3/8   train_loss = 0.539\n",
      "Epoch 626 Batch    2/8   train_loss = 0.548\n",
      "Epoch 628 Batch    1/8   train_loss = 0.517\n",
      "Epoch 630 Batch    0/8   train_loss = 0.471\n",
      "Epoch 631 Batch    7/8   train_loss = 0.449\n",
      "Epoch 633 Batch    6/8   train_loss = 0.429\n",
      "Epoch 635 Batch    5/8   train_loss = 0.409\n",
      "Epoch 637 Batch    4/8   train_loss = 0.411\n",
      "Epoch 639 Batch    3/8   train_loss = 0.425\n",
      "Epoch 641 Batch    2/8   train_loss = 0.452\n",
      "Epoch 643 Batch    1/8   train_loss = 0.439\n",
      "Epoch 645 Batch    0/8   train_loss = 0.435\n",
      "Epoch 646 Batch    7/8   train_loss = 0.436\n",
      "Epoch 648 Batch    6/8   train_loss = 0.427\n",
      "Epoch 650 Batch    5/8   train_loss = 0.456\n",
      "Epoch 652 Batch    4/8   train_loss = 0.490\n",
      "Epoch 654 Batch    3/8   train_loss = 0.515\n",
      "Epoch 656 Batch    2/8   train_loss = 0.530\n",
      "Epoch 658 Batch    1/8   train_loss = 0.493\n",
      "Epoch 660 Batch    0/8   train_loss = 0.470\n",
      "Epoch 661 Batch    7/8   train_loss = 0.471\n",
      "Epoch 663 Batch    6/8   train_loss = 0.458\n",
      "Epoch 665 Batch    5/8   train_loss = 0.466\n",
      "Epoch 667 Batch    4/8   train_loss = 0.492\n",
      "Epoch 669 Batch    3/8   train_loss = 0.514\n",
      "Epoch 671 Batch    2/8   train_loss = 0.513\n",
      "Epoch 673 Batch    1/8   train_loss = 0.481\n",
      "Epoch 675 Batch    0/8   train_loss = 0.435\n",
      "Epoch 676 Batch    7/8   train_loss = 0.419\n",
      "Epoch 678 Batch    6/8   train_loss = 0.406\n",
      "Epoch 680 Batch    5/8   train_loss = 0.386\n",
      "Epoch 682 Batch    4/8   train_loss = 0.373\n",
      "Epoch 684 Batch    3/8   train_loss = 0.374\n",
      "Epoch 686 Batch    2/8   train_loss = 0.382\n",
      "Epoch 688 Batch    1/8   train_loss = 0.358\n",
      "Epoch 690 Batch    0/8   train_loss = 0.326\n",
      "Epoch 691 Batch    7/8   train_loss = 0.325\n",
      "Epoch 693 Batch    6/8   train_loss = 0.324\n",
      "Epoch 695 Batch    5/8   train_loss = 0.345\n",
      "Epoch 697 Batch    4/8   train_loss = 0.414\n",
      "Epoch 699 Batch    3/8   train_loss = 0.490\n",
      "Epoch 701 Batch    2/8   train_loss = 0.561\n",
      "Epoch 703 Batch    1/8   train_loss = 0.650\n",
      "Epoch 705 Batch    0/8   train_loss = 0.758\n",
      "Epoch 706 Batch    7/8   train_loss = 0.835\n",
      "Epoch 708 Batch    6/8   train_loss = 0.792\n",
      "Epoch 710 Batch    5/8   train_loss = 0.775\n",
      "Epoch 712 Batch    4/8   train_loss = 0.685\n",
      "Epoch 714 Batch    3/8   train_loss = 0.631\n",
      "Epoch 716 Batch    2/8   train_loss = 0.586\n",
      "Epoch 718 Batch    1/8   train_loss = 0.503\n",
      "Epoch 720 Batch    0/8   train_loss = 0.435\n",
      "Epoch 721 Batch    7/8   train_loss = 0.380\n",
      "Epoch 723 Batch    6/8   train_loss = 0.351\n",
      "Epoch 725 Batch    5/8   train_loss = 0.342\n",
      "Epoch 727 Batch    4/8   train_loss = 0.343\n",
      "Epoch 729 Batch    3/8   train_loss = 0.353\n",
      "Epoch 731 Batch    2/8   train_loss = 0.371\n",
      "Epoch 733 Batch    1/8   train_loss = 0.358\n",
      "Epoch 735 Batch    0/8   train_loss = 0.340\n",
      "Epoch 736 Batch    7/8   train_loss = 0.345\n",
      "Epoch 738 Batch    6/8   train_loss = 0.340\n",
      "Epoch 740 Batch    5/8   train_loss = 0.352\n",
      "Epoch 742 Batch    4/8   train_loss = 0.363\n",
      "Epoch 744 Batch    3/8   train_loss = 0.380\n",
      "Epoch 746 Batch    2/8   train_loss = 0.406\n",
      "Epoch 748 Batch    1/8   train_loss = 0.384\n",
      "Epoch 750 Batch    0/8   train_loss = 0.349\n",
      "Epoch 751 Batch    7/8   train_loss = 0.320\n",
      "Epoch 753 Batch    6/8   train_loss = 0.304\n",
      "Epoch 755 Batch    5/8   train_loss = 0.311\n",
      "Epoch 757 Batch    4/8   train_loss = 0.316\n",
      "Epoch 759 Batch    3/8   train_loss = 0.333\n",
      "Epoch 761 Batch    2/8   train_loss = 0.366\n",
      "Epoch 763 Batch    1/8   train_loss = 0.366\n",
      "Epoch 765 Batch    0/8   train_loss = 0.393\n",
      "Epoch 766 Batch    7/8   train_loss = 0.427\n",
      "Epoch 768 Batch    6/8   train_loss = 0.453\n",
      "Epoch 770 Batch    5/8   train_loss = 0.556\n",
      "Epoch 772 Batch    4/8   train_loss = 0.611\n",
      "Epoch 774 Batch    3/8   train_loss = 0.615\n",
      "Epoch 776 Batch    2/8   train_loss = 0.616\n",
      "Epoch 778 Batch    1/8   train_loss = 0.553\n",
      "Epoch 780 Batch    0/8   train_loss = 0.486\n",
      "Epoch 781 Batch    7/8   train_loss = 0.452\n",
      "Epoch 783 Batch    6/8   train_loss = 0.405\n",
      "Epoch 785 Batch    5/8   train_loss = 0.380\n",
      "Epoch 787 Batch    4/8   train_loss = 0.356\n",
      "Epoch 789 Batch    3/8   train_loss = 0.351\n",
      "Epoch 791 Batch    2/8   train_loss = 0.352\n",
      "Epoch 793 Batch    1/8   train_loss = 0.319\n",
      "Epoch 795 Batch    0/8   train_loss = 0.277\n",
      "Epoch 796 Batch    7/8   train_loss = 0.269\n",
      "Epoch 798 Batch    6/8   train_loss = 0.265\n",
      "Epoch 800 Batch    5/8   train_loss = 0.268\n",
      "Epoch 802 Batch    4/8   train_loss = 0.274\n",
      "Epoch 804 Batch    3/8   train_loss = 0.285\n",
      "Epoch 806 Batch    2/8   train_loss = 0.307\n",
      "Epoch 808 Batch    1/8   train_loss = 0.296\n",
      "Epoch 810 Batch    0/8   train_loss = 0.277\n",
      "Epoch 811 Batch    7/8   train_loss = 0.283\n",
      "Epoch 813 Batch    6/8   train_loss = 0.291\n",
      "Epoch 815 Batch    5/8   train_loss = 0.310\n",
      "Epoch 817 Batch    4/8   train_loss = 0.332\n",
      "Epoch 819 Batch    3/8   train_loss = 0.372\n",
      "Epoch 821 Batch    2/8   train_loss = 0.399\n",
      "Epoch 823 Batch    1/8   train_loss = 0.419\n",
      "Epoch 825 Batch    0/8   train_loss = 0.393\n",
      "Epoch 826 Batch    7/8   train_loss = 0.405\n",
      "Epoch 828 Batch    6/8   train_loss = 0.408\n",
      "Epoch 830 Batch    5/8   train_loss = 0.418\n",
      "Epoch 832 Batch    4/8   train_loss = 0.405\n",
      "Epoch 834 Batch    3/8   train_loss = 0.405\n",
      "Epoch 836 Batch    2/8   train_loss = 0.398\n",
      "Epoch 838 Batch    1/8   train_loss = 0.364\n",
      "Epoch 840 Batch    0/8   train_loss = 0.334\n",
      "Epoch 841 Batch    7/8   train_loss = 0.317\n",
      "Epoch 843 Batch    6/8   train_loss = 0.283\n",
      "Epoch 845 Batch    5/8   train_loss = 0.274\n",
      "Epoch 847 Batch    4/8   train_loss = 0.277\n",
      "Epoch 849 Batch    3/8   train_loss = 0.273\n",
      "Epoch 851 Batch    2/8   train_loss = 0.281\n",
      "Epoch 853 Batch    1/8   train_loss = 0.260\n",
      "Epoch 855 Batch    0/8   train_loss = 0.236\n",
      "Epoch 856 Batch    7/8   train_loss = 0.240\n",
      "Epoch 858 Batch    6/8   train_loss = 0.246\n",
      "Epoch 860 Batch    5/8   train_loss = 0.260\n",
      "Epoch 862 Batch    4/8   train_loss = 0.299\n",
      "Epoch 864 Batch    3/8   train_loss = 0.369\n",
      "Epoch 866 Batch    2/8   train_loss = 0.436\n",
      "Epoch 868 Batch    1/8   train_loss = 0.473\n",
      "Epoch 870 Batch    0/8   train_loss = 0.536\n",
      "Epoch 871 Batch    7/8   train_loss = 0.767\n",
      "Epoch 873 Batch    6/8   train_loss = 0.821\n",
      "Epoch 875 Batch    5/8   train_loss = 0.829\n",
      "Epoch 877 Batch    4/8   train_loss = 0.800\n",
      "Epoch 879 Batch    3/8   train_loss = 0.753\n",
      "Epoch 881 Batch    2/8   train_loss = 0.697\n",
      "Epoch 883 Batch    1/8   train_loss = 0.676\n",
      "Epoch 885 Batch    0/8   train_loss = 0.511\n",
      "Epoch 886 Batch    7/8   train_loss = 0.433\n",
      "Epoch 888 Batch    6/8   train_loss = 0.383\n",
      "Epoch 890 Batch    5/8   train_loss = 0.348\n",
      "Epoch 892 Batch    4/8   train_loss = 0.323\n",
      "Epoch 894 Batch    3/8   train_loss = 0.311\n",
      "Epoch 896 Batch    2/8   train_loss = 0.316\n",
      "Epoch 898 Batch    1/8   train_loss = 0.283\n",
      "Epoch 900 Batch    0/8   train_loss = 0.254\n",
      "Epoch 901 Batch    7/8   train_loss = 0.239\n",
      "Epoch 903 Batch    6/8   train_loss = 0.232\n",
      "Epoch 905 Batch    5/8   train_loss = 0.226\n",
      "Epoch 907 Batch    4/8   train_loss = 0.236\n",
      "Epoch 909 Batch    3/8   train_loss = 0.244\n",
      "Epoch 911 Batch    2/8   train_loss = 0.258\n",
      "Epoch 913 Batch    1/8   train_loss = 0.251\n",
      "Epoch 915 Batch    0/8   train_loss = 0.226\n",
      "Epoch 916 Batch    7/8   train_loss = 0.221\n",
      "Epoch 918 Batch    6/8   train_loss = 0.225\n",
      "Epoch 920 Batch    5/8   train_loss = 0.226\n",
      "Epoch 922 Batch    4/8   train_loss = 0.239\n",
      "Epoch 924 Batch    3/8   train_loss = 0.253\n",
      "Epoch 926 Batch    2/8   train_loss = 0.273\n",
      "Epoch 928 Batch    1/8   train_loss = 0.280\n",
      "Epoch 930 Batch    0/8   train_loss = 0.279\n",
      "Epoch 931 Batch    7/8   train_loss = 0.346\n",
      "Epoch 933 Batch    6/8   train_loss = 0.375\n",
      "Epoch 935 Batch    5/8   train_loss = 0.419\n",
      "Epoch 937 Batch    4/8   train_loss = 0.526\n",
      "Epoch 939 Batch    3/8   train_loss = 0.640\n",
      "Epoch 941 Batch    2/8   train_loss = 0.578\n",
      "Epoch 943 Batch    1/8   train_loss = 0.550\n",
      "Epoch 945 Batch    0/8   train_loss = 0.470\n",
      "Epoch 946 Batch    7/8   train_loss = 0.454\n",
      "Epoch 948 Batch    6/8   train_loss = 0.436\n",
      "Epoch 950 Batch    5/8   train_loss = 0.384\n",
      "Epoch 952 Batch    4/8   train_loss = 0.358\n",
      "Epoch 954 Batch    3/8   train_loss = 0.328\n",
      "Epoch 956 Batch    2/8   train_loss = 0.293\n",
      "Epoch 958 Batch    1/8   train_loss = 0.263\n",
      "Epoch 960 Batch    0/8   train_loss = 0.223\n",
      "Epoch 961 Batch    7/8   train_loss = 0.207\n",
      "Epoch 963 Batch    6/8   train_loss = 0.198\n",
      "Epoch 965 Batch    5/8   train_loss = 0.196\n",
      "Epoch 967 Batch    4/8   train_loss = 0.200\n",
      "Epoch 969 Batch    3/8   train_loss = 0.205\n",
      "Epoch 971 Batch    2/8   train_loss = 0.221\n",
      "Epoch 973 Batch    1/8   train_loss = 0.217\n",
      "Epoch 975 Batch    0/8   train_loss = 0.195\n",
      "Epoch 976 Batch    7/8   train_loss = 0.192\n",
      "Epoch 978 Batch    6/8   train_loss = 0.190\n",
      "Epoch 980 Batch    5/8   train_loss = 0.194\n",
      "Epoch 982 Batch    4/8   train_loss = 0.204\n",
      "Epoch 984 Batch    3/8   train_loss = 0.222\n",
      "Epoch 986 Batch    2/8   train_loss = 0.238\n",
      "Epoch 988 Batch    1/8   train_loss = 0.242\n",
      "Epoch 990 Batch    0/8   train_loss = 0.222\n",
      "Epoch 991 Batch    7/8   train_loss = 0.240\n",
      "Epoch 993 Batch    6/8   train_loss = 0.228\n",
      "Epoch 995 Batch    5/8   train_loss = 0.229\n",
      "Epoch 997 Batch    4/8   train_loss = 0.224\n",
      "Epoch 999 Batch    3/8   train_loss = 0.236\n",
      "Model Trained and Saved\n"
     ]
    }
   ],
   "source": [
    "\"\"\"\n",
    "DON'T MODIFY ANYTHING IN THIS CELL\n",
    "\"\"\"\n",
    "batches = get_batches(int_text, batch_size, seq_length)\n",
    "\n",
    "with tf.Session(graph=train_graph) as sess:\n",
    "    sess.run(tf.global_variables_initializer())\n",
    "\n",
    "    for epoch_i in range(num_epochs):\n",
    "        state = sess.run(initial_state, {input_text: batches[0][0]})\n",
    "\n",
    "        for batch_i, (x, y) in enumerate(batches):\n",
    "            feed = {\n",
    "                input_text: x,\n",
    "                targets: y,\n",
    "                initial_state: state,\n",
    "                lr: learning_rate}\n",
    "            train_loss, state, _ = sess.run([cost, final_state, train_op], feed)\n",
    "\n",
    "            # Show every <show_every_n_batches> batches\n",
    "            if (epoch_i * len(batches) + batch_i) % show_every_n_batches == 0:\n",
    "                print('Epoch {:>3} Batch {:>4}/{}   train_loss = {:.3f}'.format(\n",
    "                    epoch_i,\n",
    "                    batch_i,\n",
    "                    len(batches),\n",
    "                    train_loss))\n",
    "\n",
    "    # Save Model\n",
    "    saver = tf.train.Saver()\n",
    "    saver.save(sess, save_dir)\n",
    "    print('Model Trained and Saved')"
   ]
  },
  {
   "cell_type": "markdown",
   "metadata": {
    "deletable": true,
    "editable": true
   },
   "source": [
    "## Save Parameters\n",
    "Save `seq_length` and `save_dir` for generating a new TV script."
   ]
  },
  {
   "cell_type": "code",
   "execution_count": 66,
   "metadata": {
    "collapsed": false,
    "deletable": true,
    "editable": true
   },
   "outputs": [],
   "source": [
    "\"\"\"\n",
    "DON'T MODIFY ANYTHING IN THIS CELL\n",
    "\"\"\"\n",
    "# Save parameters for checkpoint\n",
    "helper.save_params((seq_length, save_dir))"
   ]
  },
  {
   "cell_type": "markdown",
   "metadata": {
    "deletable": true,
    "editable": true
   },
   "source": [
    "# Checkpoint"
   ]
  },
  {
   "cell_type": "code",
   "execution_count": 67,
   "metadata": {
    "collapsed": false,
    "deletable": true,
    "editable": true
   },
   "outputs": [],
   "source": [
    "\"\"\"\n",
    "DON'T MODIFY ANYTHING IN THIS CELL\n",
    "\"\"\"\n",
    "import tensorflow as tf\n",
    "import numpy as np\n",
    "import helper\n",
    "import problem_unittests as tests\n",
    "\n",
    "_, vocab_to_int, int_to_vocab, token_dict = helper.load_preprocess()\n",
    "seq_length, load_dir = helper.load_params()"
   ]
  },
  {
   "cell_type": "markdown",
   "metadata": {
    "deletable": true,
    "editable": true
   },
   "source": [
    "## Implement Generate Functions\n",
    "### Get Tensors\n",
    "Get tensors from `loaded_graph` using the function [`get_tensor_by_name()`](https://www.tensorflow.org/api_docs/python/tf/Graph#get_tensor_by_name).  Get the tensors using the following names:\n",
    "- \"input:0\"\n",
    "- \"initial_state:0\"\n",
    "- \"final_state:0\"\n",
    "- \"probs:0\"\n",
    "\n",
    "Return the tensors in the following tuple `(InputTensor, InitialStateTensor, FinalStateTensor, ProbsTensor)` "
   ]
  },
  {
   "cell_type": "code",
   "execution_count": 68,
   "metadata": {
    "collapsed": false,
    "deletable": true,
    "editable": true
   },
   "outputs": [
    {
     "name": "stdout",
     "output_type": "stream",
     "text": [
      "Tests Passed\n"
     ]
    }
   ],
   "source": [
    "def get_tensors(loaded_graph):\n",
    "    \"\"\"\n",
    "    Get input, initial state, final state, and probabilities tensor from <loaded_graph>\n",
    "    :param loaded_graph: TensorFlow graph loaded from file\n",
    "    :return: Tuple (InputTensor, InitialStateTensor, FinalStateTensor, ProbsTensor)\n",
    "    \"\"\"\n",
    "    # TODO: Implement Function\n",
    "    return loaded_graph.get_tensor_by_name(\"input:0\"),\\\n",
    "           loaded_graph.get_tensor_by_name(\"initial_state:0\"),\\\n",
    "           loaded_graph.get_tensor_by_name(\"final_state:0\"), \\\n",
    "           loaded_graph.get_tensor_by_name(\"probs:0\")\n",
    "\n",
    "\n",
    "\"\"\"\n",
    "DON'T MODIFY ANYTHING IN THIS CELL THAT IS BELOW THIS LINE\n",
    "\"\"\"\n",
    "tests.test_get_tensors(get_tensors)"
   ]
  },
  {
   "cell_type": "markdown",
   "metadata": {
    "deletable": true,
    "editable": true
   },
   "source": [
    "### Choose Word\n",
    "Implement the `pick_word()` function to select the next word using `probabilities`."
   ]
  },
  {
   "cell_type": "code",
   "execution_count": 69,
   "metadata": {
    "collapsed": false,
    "deletable": true,
    "editable": true
   },
   "outputs": [
    {
     "name": "stdout",
     "output_type": "stream",
     "text": [
      "Tests Passed\n"
     ]
    }
   ],
   "source": [
    "def pick_word(probabilities, int_to_vocab):\n",
    "    \"\"\"\n",
    "    Pick the next word in the generated text\n",
    "    :param probabilities: Probabilites of the next word\n",
    "    :param int_to_vocab: Dictionary of word ids as the keys and words as the values\n",
    "    :return: String of the predicted word\n",
    "    \"\"\"\n",
    "    # TODO: Implement Function\n",
    " \n",
    "    i=  (np.argmax(probabilities))\n",
    "    return int_to_vocab[i]\n",
    "\n",
    "\n",
    "\"\"\"\n",
    "DON'T MODIFY ANYTHING IN THIS CELL THAT IS BELOW THIS LINE\n",
    "\"\"\"\n",
    "tests.test_pick_word(pick_word)"
   ]
  },
  {
   "cell_type": "markdown",
   "metadata": {
    "deletable": true,
    "editable": true
   },
   "source": [
    "## Generate TV Script\n",
    "This will generate the TV script for you.  Set `gen_length` to the length of TV script you want to generate."
   ]
  },
  {
   "cell_type": "code",
   "execution_count": 70,
   "metadata": {
    "collapsed": false,
    "deletable": true,
    "editable": true
   },
   "outputs": [
    {
     "name": "stdout",
     "output_type": "stream",
     "text": [
      "moe_szyslak:(excited) oh, absolutely. my favorite team's in it: the(raises glass in front of mouth) atlanta falcons(lowers glass). yeah, ever since i was a boy, i've always loved the(raises glass in front of mouth again!\n",
      "moe_szyslak: and you still the springfield--(upbeat) the dad's beggin' i just just run kinda out tonight there's go there?\n",
      "lenny_leonard:(frustrated noise) you're the ticket.\n",
      "lenny_leonard: hey, homer, marge. from now on the boxing--\n",
      "moe_szyslak: okay? get back at all.\n",
      "homer_simpson: it's a deal. hey, moe. wanna come with me and wally to the super bowl?\n",
      "moe_szyslak:(sympathetic) sounds like to be something... had my beer in one beer.(beat) is that boy on our beer?\n",
      "moe_szyslak:(lost in thought) yeah. family restaurants. that's where the big bucks are. he is from and save the\" flaming a hundred bucks.(sighs) could like a bit!\n",
      "lenny_leonard:\n"
     ]
    }
   ],
   "source": [
    "gen_length = 200\n",
    "# homer_simpson, moe_szyslak, or Barney_Gumble\n",
    "prime_word = 'moe_szyslak'\n",
    "\n",
    "\"\"\"\n",
    "DON'T MODIFY ANYTHING IN THIS CELL THAT IS BELOW THIS LINE\n",
    "\"\"\"\n",
    "loaded_graph = tf.Graph()\n",
    "with tf.Session(graph=loaded_graph) as sess:\n",
    "    # Load saved model\n",
    "    loader = tf.train.import_meta_graph(load_dir + '.meta')\n",
    "    loader.restore(sess, load_dir)\n",
    "\n",
    "    # Get Tensors from loaded model\n",
    "    input_text, initial_state, final_state, probs = get_tensors(loaded_graph)\n",
    "\n",
    "    # Sentences generation setup\n",
    "    gen_sentences = [prime_word + ':']\n",
    "    prev_state = sess.run(initial_state, {input_text: np.array([[1]])})\n",
    "\n",
    "    # Generate sentences\n",
    "    for n in range(gen_length):\n",
    "        # Dynamic Input\n",
    "        dyn_input = [[vocab_to_int[word] for word in gen_sentences[-seq_length:]]]\n",
    "        dyn_seq_length = len(dyn_input[0])\n",
    "\n",
    "        # Get Prediction\n",
    "        probabilities, prev_state = sess.run(\n",
    "            [probs, final_state],\n",
    "            {input_text: dyn_input, initial_state: prev_state})\n",
    "        \n",
    "        pred_word = pick_word(probabilities[dyn_seq_length-1], int_to_vocab)\n",
    "\n",
    "        gen_sentences.append(pred_word)\n",
    "    \n",
    "    # Remove tokens\n",
    "    tv_script = ' '.join(gen_sentences)\n",
    "    for key, token in token_dict.items():\n",
    "        ending = ' ' if key in ['\\n', '(', '\"'] else ''\n",
    "        tv_script = tv_script.replace(' ' + token.lower(), key)\n",
    "    tv_script = tv_script.replace('\\n ', '\\n')\n",
    "    tv_script = tv_script.replace('( ', '(')\n",
    "        \n",
    "    print(tv_script)"
   ]
  },
  {
   "cell_type": "markdown",
   "metadata": {
    "deletable": true,
    "editable": true
   },
   "source": [
    "# The TV Script is Nonsensical\n",
    "It's ok if the TV script doesn't make any sense.  We trained on less than a megabyte of text.  In order to get good results, you'll have to use a smaller vocabulary or get more data.  Luckly there's more data!  As we mentioned in the begging of this project, this is a subset of [another dataset](https://www.kaggle.com/wcukierski/the-simpsons-by-the-data).  We didn't have you train on all the data, because that would take too long.  However, you are free to train your neural network on all the data.  After you complete the project, of course.\n",
    "# Submitting This Project\n",
    "When submitting this project, make sure to run all the cells before saving the notebook. Save the notebook file as \"dlnd_tv_script_generation.ipynb\" and save it as a HTML file under \"File\" -> \"Download as\". Include the \"helper.py\" and \"problem_unittests.py\" files in your submission."
   ]
  },
  {
   "cell_type": "code",
   "execution_count": null,
   "metadata": {
    "collapsed": true
   },
   "outputs": [],
   "source": []
  }
 ],
 "metadata": {
  "kernelspec": {
   "display_name": "usr_bin_PYTHON3",
   "language": "python",
   "name": "usr_bin_python3"
  },
  "language_info": {
   "codemirror_mode": {
    "name": "ipython",
    "version": 3
   },
   "file_extension": ".py",
   "mimetype": "text/x-python",
   "name": "python",
   "nbconvert_exporter": "python",
   "pygments_lexer": "ipython3",
   "version": "3.4.3"
  },
  "widgets": {
   "state": {},
   "version": "1.1.2"
  }
 },
 "nbformat": 4,
 "nbformat_minor": 0
}
